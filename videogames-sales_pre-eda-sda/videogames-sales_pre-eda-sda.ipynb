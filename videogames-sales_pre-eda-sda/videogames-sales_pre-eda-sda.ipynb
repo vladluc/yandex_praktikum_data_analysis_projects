{
 "cells": [
  {
   "cell_type": "markdown",
   "metadata": {},
   "source": [
    "# Исследования рынка видеоигр до 2017 года"
   ]
  },
  {
   "cell_type": "markdown",
   "metadata": {},
   "source": [
    "### Содержание\n",
    "\n",
    "\n",
    "- [**Шаг 1. Общая информация о данных**](#part_1)\n",
    "    - [1.1. Введение в проект](#101)\n",
    "    - [1.2. Описание данных](#102)\n",
    "    - [1.3. Выводы из общей информации о данных](#103)\n",
    "\n",
    "\n",
    "- [**Шаг 2. Подготовка данных**](#part_2)\n",
    "    - [2.1. Приведение названий столбцов к нижнему регистру](#201)\n",
    "    - [2.2. Преобразование данных в нужные типы](#202)\n",
    "    - [2.3. Обработка пропусков](#203)\n",
    "    - [2.4. Обработка дубликатов](#204)\n",
    "    - [2.5. Выбросы](#205)\n",
    "    - [2.6. Подсчет суммарных продаж во всех регионах](#206)\n",
    "    - [2.7. Выводы из предобработки данных](#207)\n",
    "\n",
    "\n",
    "- [**Шаг 3. Исследовательский анализ данных**](#part_3)\n",
    "    - [3.1. Сколько игр выпускалось в разные годы](#301)\n",
    "    - [3.2. Как менялись продажи по платформам](#302)\n",
    "    - [3.3. Определение актуального периода: какие данные нужны для прогноза на 2017 год](#303)\n",
    "    - [3.4. Какие платформы лидируют по продажам](#304)\n",
    "    - [3.5. График «ящик с усами» по глобальным продажам игр в разбивке по платформам](#305)\n",
    "    - [3.6. Как влияют на продажи отзывы пользователей и критиков](#306)\n",
    "    - [3.7. Общее распределение игр по жанрам](#307)\n",
    "    - [3.8. Выводы из исследовательского анализа данных](#308)\n",
    "\n",
    "\n",
    "- [**Шаг 4. Портрет пользователя каждого региона**](#part_4)\n",
    "    - [4.1. Продажи по платформам в разных регионах](#401)\n",
    "    - [4.2. Самые популярные жанры (топ-5) в разных регионах](#402)\n",
    "    - [4.3. Влияет ли рейтинг ESRB на продажи в отдельном регионе](#403)\n",
    "    - [4.4. Выводы по портрету пользователя каждого региона](#404)\n",
    "\n",
    "\n",
    "- [**Шаг 5. Проверка гипотез**](#part_5)\n",
    "    - [5.1. Средние пользовательские рейтинги платформ Xbox One и PC одинаковые](#501)\n",
    "    - [5.2. Средние пользовательские рейтинги жанров Action и Sports разные](#502)\n",
    "    - [5.3. Выводы из проверки гипотез](#503)\n",
    "\n",
    "\n",
    "- [**Шаг 6. Общий вывод**](#part_6)"
   ]
  },
  {
   "cell_type": "markdown",
   "metadata": {},
   "source": [
    "<a id='part_1'></a>\n",
    "## Шаг 1. Общая информация о данных"
   ]
  },
  {
   "cell_type": "markdown",
   "metadata": {},
   "source": [
    "<a id='101'></a>\n",
    "### Введение в проект"
   ]
  },
  {
   "cell_type": "markdown",
   "metadata": {},
   "source": [
    "Интернет-магазин продаёт по всему миру компьютерные игры. Из базы данных рейтингового сайта Metacritic доступны исторические данные о продажах игр, оценки пользователей и экспертов, жанры и платформы (например, Xbox или PlayStation). Доступны данные до 2016 года, на их основе нужно выявить определяющие успешность игры закономерности, которые позволят сделать прогноз на 2017 год, сделать ставку на потенциально популярный продукт и спланировать рекламные кампании."
   ]
  },
  {
   "cell_type": "markdown",
   "metadata": {},
   "source": [
    "<a id='102'></a>\n",
    "### Описание данных"
   ]
  },
  {
   "cell_type": "markdown",
   "metadata": {},
   "source": [
    "- `Name` — название игры\n",
    "- `Platform` — платформа\n",
    "- `Year_of_Release` — год выпуска\n",
    "- `Genre` — жанр игры\n",
    "- `NA_sales` — продажи в Северной Америке (миллионы долларов)\n",
    "- `EU_sales` — продажи в Европе (миллионы долларов)\n",
    "- `JP_sales` — продажи в Японии (миллионы долларов)\n",
    "- `Other_sales` — продажи в других странах (миллионы долларов)\n",
    "- `Critic_Score` — оценка критиков (максимум 100)\n",
    "- `User_Score` — оценка пользователей (максимум 10)\n",
    "- `Rating` — рейтинг от организации ESRB (англ. Entertainment Software Rating Board). Эта ассоциация определяет рейтинг компьютерных игр и присваивает им подходящую возрастную категорию."
   ]
  },
  {
   "cell_type": "code",
   "execution_count": 1,
   "metadata": {},
   "outputs": [],
   "source": [
    "# вызов нужных библиотек\n",
    "import pandas as pd\n",
    "import numpy as np\n",
    "from matplotlib import pyplot as plt\n",
    "from scipy import stats as st\n",
    "import seaborn as sns"
   ]
  },
  {
   "cell_type": "code",
   "execution_count": 2,
   "metadata": {},
   "outputs": [],
   "source": [
    "# глобальные настройки отображения графиков\n",
    "plt.rcParams['figure.figsize'] = (15, 9)\n",
    "plt.rcParams['axes.grid'] = False\n",
    "plt.rcParams['image.cmap'] = 'Set2'\n",
    "sns.set_palette('Set2')"
   ]
  },
  {
   "cell_type": "code",
   "execution_count": 3,
   "metadata": {},
   "outputs": [],
   "source": [
    "# # чтение датасета из CSV-файла\n",
    "original_games = pd.read_csv('/datasets/games.csv')\n",
    "\n",
    "games = original_games.copy()"
   ]
  },
  {
   "cell_type": "code",
   "execution_count": 4,
   "metadata": {},
   "outputs": [
    {
     "data": {
      "text/html": [
       "<div>\n",
       "<style scoped>\n",
       "    .dataframe tbody tr th:only-of-type {\n",
       "        vertical-align: middle;\n",
       "    }\n",
       "\n",
       "    .dataframe tbody tr th {\n",
       "        vertical-align: top;\n",
       "    }\n",
       "\n",
       "    .dataframe thead th {\n",
       "        text-align: right;\n",
       "    }\n",
       "</style>\n",
       "<table border=\"1\" class=\"dataframe\">\n",
       "  <thead>\n",
       "    <tr style=\"text-align: right;\">\n",
       "      <th></th>\n",
       "      <th>Name</th>\n",
       "      <th>Platform</th>\n",
       "      <th>Year_of_Release</th>\n",
       "      <th>Genre</th>\n",
       "      <th>NA_sales</th>\n",
       "      <th>EU_sales</th>\n",
       "      <th>JP_sales</th>\n",
       "      <th>Other_sales</th>\n",
       "      <th>Critic_Score</th>\n",
       "      <th>User_Score</th>\n",
       "      <th>Rating</th>\n",
       "    </tr>\n",
       "  </thead>\n",
       "  <tbody>\n",
       "    <tr>\n",
       "      <td>0</td>\n",
       "      <td>Wii Sports</td>\n",
       "      <td>Wii</td>\n",
       "      <td>2006.0</td>\n",
       "      <td>Sports</td>\n",
       "      <td>41.36</td>\n",
       "      <td>28.96</td>\n",
       "      <td>3.77</td>\n",
       "      <td>8.45</td>\n",
       "      <td>76.0</td>\n",
       "      <td>8</td>\n",
       "      <td>E</td>\n",
       "    </tr>\n",
       "    <tr>\n",
       "      <td>1</td>\n",
       "      <td>Super Mario Bros.</td>\n",
       "      <td>NES</td>\n",
       "      <td>1985.0</td>\n",
       "      <td>Platform</td>\n",
       "      <td>29.08</td>\n",
       "      <td>3.58</td>\n",
       "      <td>6.81</td>\n",
       "      <td>0.77</td>\n",
       "      <td>NaN</td>\n",
       "      <td>NaN</td>\n",
       "      <td>NaN</td>\n",
       "    </tr>\n",
       "    <tr>\n",
       "      <td>2</td>\n",
       "      <td>Mario Kart Wii</td>\n",
       "      <td>Wii</td>\n",
       "      <td>2008.0</td>\n",
       "      <td>Racing</td>\n",
       "      <td>15.68</td>\n",
       "      <td>12.76</td>\n",
       "      <td>3.79</td>\n",
       "      <td>3.29</td>\n",
       "      <td>82.0</td>\n",
       "      <td>8.3</td>\n",
       "      <td>E</td>\n",
       "    </tr>\n",
       "    <tr>\n",
       "      <td>3</td>\n",
       "      <td>Wii Sports Resort</td>\n",
       "      <td>Wii</td>\n",
       "      <td>2009.0</td>\n",
       "      <td>Sports</td>\n",
       "      <td>15.61</td>\n",
       "      <td>10.93</td>\n",
       "      <td>3.28</td>\n",
       "      <td>2.95</td>\n",
       "      <td>80.0</td>\n",
       "      <td>8</td>\n",
       "      <td>E</td>\n",
       "    </tr>\n",
       "    <tr>\n",
       "      <td>4</td>\n",
       "      <td>Pokemon Red/Pokemon Blue</td>\n",
       "      <td>GB</td>\n",
       "      <td>1996.0</td>\n",
       "      <td>Role-Playing</td>\n",
       "      <td>11.27</td>\n",
       "      <td>8.89</td>\n",
       "      <td>10.22</td>\n",
       "      <td>1.00</td>\n",
       "      <td>NaN</td>\n",
       "      <td>NaN</td>\n",
       "      <td>NaN</td>\n",
       "    </tr>\n",
       "    <tr>\n",
       "      <td>...</td>\n",
       "      <td>...</td>\n",
       "      <td>...</td>\n",
       "      <td>...</td>\n",
       "      <td>...</td>\n",
       "      <td>...</td>\n",
       "      <td>...</td>\n",
       "      <td>...</td>\n",
       "      <td>...</td>\n",
       "      <td>...</td>\n",
       "      <td>...</td>\n",
       "      <td>...</td>\n",
       "    </tr>\n",
       "    <tr>\n",
       "      <td>16710</td>\n",
       "      <td>Samurai Warriors: Sanada Maru</td>\n",
       "      <td>PS3</td>\n",
       "      <td>2016.0</td>\n",
       "      <td>Action</td>\n",
       "      <td>0.00</td>\n",
       "      <td>0.00</td>\n",
       "      <td>0.01</td>\n",
       "      <td>0.00</td>\n",
       "      <td>NaN</td>\n",
       "      <td>NaN</td>\n",
       "      <td>NaN</td>\n",
       "    </tr>\n",
       "    <tr>\n",
       "      <td>16711</td>\n",
       "      <td>LMA Manager 2007</td>\n",
       "      <td>X360</td>\n",
       "      <td>2006.0</td>\n",
       "      <td>Sports</td>\n",
       "      <td>0.00</td>\n",
       "      <td>0.01</td>\n",
       "      <td>0.00</td>\n",
       "      <td>0.00</td>\n",
       "      <td>NaN</td>\n",
       "      <td>NaN</td>\n",
       "      <td>NaN</td>\n",
       "    </tr>\n",
       "    <tr>\n",
       "      <td>16712</td>\n",
       "      <td>Haitaka no Psychedelica</td>\n",
       "      <td>PSV</td>\n",
       "      <td>2016.0</td>\n",
       "      <td>Adventure</td>\n",
       "      <td>0.00</td>\n",
       "      <td>0.00</td>\n",
       "      <td>0.01</td>\n",
       "      <td>0.00</td>\n",
       "      <td>NaN</td>\n",
       "      <td>NaN</td>\n",
       "      <td>NaN</td>\n",
       "    </tr>\n",
       "    <tr>\n",
       "      <td>16713</td>\n",
       "      <td>Spirits &amp; Spells</td>\n",
       "      <td>GBA</td>\n",
       "      <td>2003.0</td>\n",
       "      <td>Platform</td>\n",
       "      <td>0.01</td>\n",
       "      <td>0.00</td>\n",
       "      <td>0.00</td>\n",
       "      <td>0.00</td>\n",
       "      <td>NaN</td>\n",
       "      <td>NaN</td>\n",
       "      <td>NaN</td>\n",
       "    </tr>\n",
       "    <tr>\n",
       "      <td>16714</td>\n",
       "      <td>Winning Post 8 2016</td>\n",
       "      <td>PSV</td>\n",
       "      <td>2016.0</td>\n",
       "      <td>Simulation</td>\n",
       "      <td>0.00</td>\n",
       "      <td>0.00</td>\n",
       "      <td>0.01</td>\n",
       "      <td>0.00</td>\n",
       "      <td>NaN</td>\n",
       "      <td>NaN</td>\n",
       "      <td>NaN</td>\n",
       "    </tr>\n",
       "  </tbody>\n",
       "</table>\n",
       "<p>16715 rows × 11 columns</p>\n",
       "</div>"
      ],
      "text/plain": [
       "                                Name Platform  Year_of_Release         Genre  \\\n",
       "0                         Wii Sports      Wii           2006.0        Sports   \n",
       "1                  Super Mario Bros.      NES           1985.0      Platform   \n",
       "2                     Mario Kart Wii      Wii           2008.0        Racing   \n",
       "3                  Wii Sports Resort      Wii           2009.0        Sports   \n",
       "4           Pokemon Red/Pokemon Blue       GB           1996.0  Role-Playing   \n",
       "...                              ...      ...              ...           ...   \n",
       "16710  Samurai Warriors: Sanada Maru      PS3           2016.0        Action   \n",
       "16711               LMA Manager 2007     X360           2006.0        Sports   \n",
       "16712        Haitaka no Psychedelica      PSV           2016.0     Adventure   \n",
       "16713               Spirits & Spells      GBA           2003.0      Platform   \n",
       "16714            Winning Post 8 2016      PSV           2016.0    Simulation   \n",
       "\n",
       "       NA_sales  EU_sales  JP_sales  Other_sales  Critic_Score User_Score  \\\n",
       "0         41.36     28.96      3.77         8.45          76.0          8   \n",
       "1         29.08      3.58      6.81         0.77           NaN        NaN   \n",
       "2         15.68     12.76      3.79         3.29          82.0        8.3   \n",
       "3         15.61     10.93      3.28         2.95          80.0          8   \n",
       "4         11.27      8.89     10.22         1.00           NaN        NaN   \n",
       "...         ...       ...       ...          ...           ...        ...   \n",
       "16710      0.00      0.00      0.01         0.00           NaN        NaN   \n",
       "16711      0.00      0.01      0.00         0.00           NaN        NaN   \n",
       "16712      0.00      0.00      0.01         0.00           NaN        NaN   \n",
       "16713      0.01      0.00      0.00         0.00           NaN        NaN   \n",
       "16714      0.00      0.00      0.01         0.00           NaN        NaN   \n",
       "\n",
       "      Rating  \n",
       "0          E  \n",
       "1        NaN  \n",
       "2          E  \n",
       "3          E  \n",
       "4        NaN  \n",
       "...      ...  \n",
       "16710    NaN  \n",
       "16711    NaN  \n",
       "16712    NaN  \n",
       "16713    NaN  \n",
       "16714    NaN  \n",
       "\n",
       "[16715 rows x 11 columns]"
      ]
     },
     "execution_count": 4,
     "metadata": {},
     "output_type": "execute_result"
    }
   ],
   "source": [
    "# вывод первых и последних значений в таблице\n",
    "games"
   ]
  },
  {
   "cell_type": "code",
   "execution_count": 5,
   "metadata": {},
   "outputs": [
    {
     "name": "stdout",
     "output_type": "stream",
     "text": [
      "<class 'pandas.core.frame.DataFrame'>\n",
      "RangeIndex: 16715 entries, 0 to 16714\n",
      "Data columns (total 11 columns):\n",
      "Name               16713 non-null object\n",
      "Platform           16715 non-null object\n",
      "Year_of_Release    16446 non-null float64\n",
      "Genre              16713 non-null object\n",
      "NA_sales           16715 non-null float64\n",
      "EU_sales           16715 non-null float64\n",
      "JP_sales           16715 non-null float64\n",
      "Other_sales        16715 non-null float64\n",
      "Critic_Score       8137 non-null float64\n",
      "User_Score         10014 non-null object\n",
      "Rating             9949 non-null object\n",
      "dtypes: float64(6), object(5)\n",
      "memory usage: 1.4+ MB\n"
     ]
    }
   ],
   "source": [
    "games.info()"
   ]
  },
  {
   "cell_type": "markdown",
   "metadata": {},
   "source": [
    "<a id='103'></a>\n",
    "### Выводы из общей информации о данных\n",
    "\n",
    "- Названия столбцов нужно привести к нижнему регистру, чтобы избежать возможных ошибок при их использовании в коде.\n",
    "- В `year_of_release` и `user_score` сейчас указаны некорректные типы данных.\n",
    "- Есть пропуски в `name`, `year_of_release`, `genre`, `critic_score`, `user_score`, `rating`.\n",
    "- Также в данных о продажах встречаются нулевые значения, это может быть ошибкой или пропуском."
   ]
  },
  {
   "cell_type": "markdown",
   "metadata": {},
   "source": [
    "<a id='part_2'></a>\n",
    "## Шаг 2. Подготовка данных"
   ]
  },
  {
   "cell_type": "markdown",
   "metadata": {},
   "source": [
    "<a id='201'></a>\n",
    "### Приведение названий столбцов к нижнему регистру"
   ]
  },
  {
   "cell_type": "code",
   "execution_count": 6,
   "metadata": {},
   "outputs": [
    {
     "data": {
      "text/plain": [
       "Index(['name', 'platform', 'year_of_release', 'genre', 'na_sales', 'eu_sales',\n",
       "       'jp_sales', 'other_sales', 'critic_score', 'user_score', 'rating'],\n",
       "      dtype='object')"
      ]
     },
     "execution_count": 6,
     "metadata": {},
     "output_type": "execute_result"
    }
   ],
   "source": [
    "# сбор названий столбцов в нижний регистр в отдельный лист\n",
    "lower_columns = []\n",
    "for column in games.columns:\n",
    "    lower_columns.append(column.lower())\n",
    "\n",
    "# присвоение измененных названий столбцов\n",
    "games.columns = lower_columns\n",
    "games.columns"
   ]
  },
  {
   "cell_type": "markdown",
   "metadata": {},
   "source": [
    "<a id='202'></a>\n",
    "### Преобразование данных в нужные типы"
   ]
  },
  {
   "cell_type": "markdown",
   "metadata": {},
   "source": [
    "Некорректные типы данных — в двух столбцах: `year_of_release` сейчас в формате десятичной дроби, а должно быть в целочисленном виде; `user_score` нужно перевести из текстового в числовой формат `float`.\n",
    "\n",
    "Рассмотрим значала данные с годом выпуска:"
   ]
  },
  {
   "cell_type": "code",
   "execution_count": 7,
   "metadata": {
    "scrolled": true
   },
   "outputs": [
    {
     "data": {
      "text/plain": [
       "2008.0    1427\n",
       "2009.0    1426\n",
       "2010.0    1255\n",
       "2007.0    1197\n",
       "2011.0    1136\n",
       "2006.0    1006\n",
       "2005.0     939\n",
       "2002.0     829\n",
       "2003.0     775\n",
       "2004.0     762\n",
       "2012.0     653\n",
       "2015.0     606\n",
       "2014.0     581\n",
       "2013.0     544\n",
       "2016.0     502\n",
       "2001.0     482\n",
       "1998.0     379\n",
       "2000.0     350\n",
       "1999.0     338\n",
       "1997.0     289\n",
       "NaN        269\n",
       "1996.0     263\n",
       "1995.0     219\n",
       "1994.0     121\n",
       "1993.0      62\n",
       "1981.0      46\n",
       "1992.0      43\n",
       "1991.0      41\n",
       "1982.0      36\n",
       "1986.0      21\n",
       "1989.0      17\n",
       "1983.0      17\n",
       "1987.0      16\n",
       "1990.0      16\n",
       "1988.0      15\n",
       "1985.0      14\n",
       "1984.0      14\n",
       "1980.0       9\n",
       "Name: year_of_release, dtype: int64"
      ]
     },
     "execution_count": 7,
     "metadata": {},
     "output_type": "execute_result"
    }
   ],
   "source": [
    "# вывод уникальных значений столбца year_of_release\n",
    "games['year_of_release'].value_counts(dropna=False)"
   ]
  },
  {
   "cell_type": "markdown",
   "metadata": {},
   "source": [
    "В этом столбце есть пропуски, которые по умолчанию распознаются как `float`-формат. Обработка пропусков на следующем этапе сможет решить эту проблему.\n",
    "\n",
    "Более странно выглядит тестовый формат столбца с пользовательским рейтингом, внешне в нем содержатся числа. В текущем формате использовать эти данные для анализа будет затруднительно. Такое происходит, когда в столбце кроме чисел содержатся тестовые данные. В данном случае парсер с сайта Metacritic забрал и категорию TBD (to be determined) — она ставится редакторами сайта, когда не хватает пользовательских отзывов для усредненной оценки (сейчас нужно минимум 4 отзыва). Найдем эти пропущенные оценки:"
   ]
  },
  {
   "cell_type": "code",
   "execution_count": 8,
   "metadata": {},
   "outputs": [
    {
     "data": {
      "text/html": [
       "<div>\n",
       "<style scoped>\n",
       "    .dataframe tbody tr th:only-of-type {\n",
       "        vertical-align: middle;\n",
       "    }\n",
       "\n",
       "    .dataframe tbody tr th {\n",
       "        vertical-align: top;\n",
       "    }\n",
       "\n",
       "    .dataframe thead th {\n",
       "        text-align: right;\n",
       "    }\n",
       "</style>\n",
       "<table border=\"1\" class=\"dataframe\">\n",
       "  <thead>\n",
       "    <tr style=\"text-align: right;\">\n",
       "      <th></th>\n",
       "      <th>name</th>\n",
       "      <th>platform</th>\n",
       "      <th>year_of_release</th>\n",
       "      <th>genre</th>\n",
       "      <th>na_sales</th>\n",
       "      <th>eu_sales</th>\n",
       "      <th>jp_sales</th>\n",
       "      <th>other_sales</th>\n",
       "      <th>critic_score</th>\n",
       "      <th>user_score</th>\n",
       "      <th>rating</th>\n",
       "    </tr>\n",
       "  </thead>\n",
       "  <tbody>\n",
       "    <tr>\n",
       "      <td>119</td>\n",
       "      <td>Zumba Fitness</td>\n",
       "      <td>Wii</td>\n",
       "      <td>2010.0</td>\n",
       "      <td>Sports</td>\n",
       "      <td>3.45</td>\n",
       "      <td>2.59</td>\n",
       "      <td>0.0</td>\n",
       "      <td>0.66</td>\n",
       "      <td>NaN</td>\n",
       "      <td>tbd</td>\n",
       "      <td>E</td>\n",
       "    </tr>\n",
       "    <tr>\n",
       "      <td>301</td>\n",
       "      <td>Namco Museum: 50th Anniversary</td>\n",
       "      <td>PS2</td>\n",
       "      <td>2005.0</td>\n",
       "      <td>Misc</td>\n",
       "      <td>2.08</td>\n",
       "      <td>1.35</td>\n",
       "      <td>0.0</td>\n",
       "      <td>0.54</td>\n",
       "      <td>61.0</td>\n",
       "      <td>tbd</td>\n",
       "      <td>E10+</td>\n",
       "    </tr>\n",
       "    <tr>\n",
       "      <td>520</td>\n",
       "      <td>Zumba Fitness 2</td>\n",
       "      <td>Wii</td>\n",
       "      <td>2011.0</td>\n",
       "      <td>Sports</td>\n",
       "      <td>1.51</td>\n",
       "      <td>1.03</td>\n",
       "      <td>0.0</td>\n",
       "      <td>0.27</td>\n",
       "      <td>NaN</td>\n",
       "      <td>tbd</td>\n",
       "      <td>T</td>\n",
       "    </tr>\n",
       "    <tr>\n",
       "      <td>645</td>\n",
       "      <td>uDraw Studio</td>\n",
       "      <td>Wii</td>\n",
       "      <td>2010.0</td>\n",
       "      <td>Misc</td>\n",
       "      <td>1.65</td>\n",
       "      <td>0.57</td>\n",
       "      <td>0.0</td>\n",
       "      <td>0.20</td>\n",
       "      <td>71.0</td>\n",
       "      <td>tbd</td>\n",
       "      <td>E</td>\n",
       "    </tr>\n",
       "    <tr>\n",
       "      <td>657</td>\n",
       "      <td>Frogger's Adventures: Temple of the Frog</td>\n",
       "      <td>GBA</td>\n",
       "      <td>NaN</td>\n",
       "      <td>Adventure</td>\n",
       "      <td>2.15</td>\n",
       "      <td>0.18</td>\n",
       "      <td>0.0</td>\n",
       "      <td>0.07</td>\n",
       "      <td>73.0</td>\n",
       "      <td>tbd</td>\n",
       "      <td>E</td>\n",
       "    </tr>\n",
       "    <tr>\n",
       "      <td>...</td>\n",
       "      <td>...</td>\n",
       "      <td>...</td>\n",
       "      <td>...</td>\n",
       "      <td>...</td>\n",
       "      <td>...</td>\n",
       "      <td>...</td>\n",
       "      <td>...</td>\n",
       "      <td>...</td>\n",
       "      <td>...</td>\n",
       "      <td>...</td>\n",
       "      <td>...</td>\n",
       "    </tr>\n",
       "    <tr>\n",
       "      <td>16695</td>\n",
       "      <td>Planet Monsters</td>\n",
       "      <td>GBA</td>\n",
       "      <td>2001.0</td>\n",
       "      <td>Action</td>\n",
       "      <td>0.01</td>\n",
       "      <td>0.00</td>\n",
       "      <td>0.0</td>\n",
       "      <td>0.00</td>\n",
       "      <td>67.0</td>\n",
       "      <td>tbd</td>\n",
       "      <td>E</td>\n",
       "    </tr>\n",
       "    <tr>\n",
       "      <td>16697</td>\n",
       "      <td>Bust-A-Move 3000</td>\n",
       "      <td>GC</td>\n",
       "      <td>2003.0</td>\n",
       "      <td>Puzzle</td>\n",
       "      <td>0.01</td>\n",
       "      <td>0.00</td>\n",
       "      <td>0.0</td>\n",
       "      <td>0.00</td>\n",
       "      <td>53.0</td>\n",
       "      <td>tbd</td>\n",
       "      <td>E</td>\n",
       "    </tr>\n",
       "    <tr>\n",
       "      <td>16698</td>\n",
       "      <td>Mega Brain Boost</td>\n",
       "      <td>DS</td>\n",
       "      <td>2008.0</td>\n",
       "      <td>Puzzle</td>\n",
       "      <td>0.01</td>\n",
       "      <td>0.00</td>\n",
       "      <td>0.0</td>\n",
       "      <td>0.00</td>\n",
       "      <td>48.0</td>\n",
       "      <td>tbd</td>\n",
       "      <td>E</td>\n",
       "    </tr>\n",
       "    <tr>\n",
       "      <td>16704</td>\n",
       "      <td>Plushees</td>\n",
       "      <td>DS</td>\n",
       "      <td>2008.0</td>\n",
       "      <td>Simulation</td>\n",
       "      <td>0.01</td>\n",
       "      <td>0.00</td>\n",
       "      <td>0.0</td>\n",
       "      <td>0.00</td>\n",
       "      <td>NaN</td>\n",
       "      <td>tbd</td>\n",
       "      <td>E</td>\n",
       "    </tr>\n",
       "    <tr>\n",
       "      <td>16706</td>\n",
       "      <td>Men in Black II: Alien Escape</td>\n",
       "      <td>GC</td>\n",
       "      <td>2003.0</td>\n",
       "      <td>Shooter</td>\n",
       "      <td>0.01</td>\n",
       "      <td>0.00</td>\n",
       "      <td>0.0</td>\n",
       "      <td>0.00</td>\n",
       "      <td>NaN</td>\n",
       "      <td>tbd</td>\n",
       "      <td>T</td>\n",
       "    </tr>\n",
       "  </tbody>\n",
       "</table>\n",
       "<p>2424 rows × 11 columns</p>\n",
       "</div>"
      ],
      "text/plain": [
       "                                           name platform  year_of_release  \\\n",
       "119                               Zumba Fitness      Wii           2010.0   \n",
       "301              Namco Museum: 50th Anniversary      PS2           2005.0   \n",
       "520                             Zumba Fitness 2      Wii           2011.0   \n",
       "645                                uDraw Studio      Wii           2010.0   \n",
       "657    Frogger's Adventures: Temple of the Frog      GBA              NaN   \n",
       "...                                         ...      ...              ...   \n",
       "16695                           Planet Monsters      GBA           2001.0   \n",
       "16697                          Bust-A-Move 3000       GC           2003.0   \n",
       "16698                          Mega Brain Boost       DS           2008.0   \n",
       "16704                                  Plushees       DS           2008.0   \n",
       "16706             Men in Black II: Alien Escape       GC           2003.0   \n",
       "\n",
       "            genre  na_sales  eu_sales  jp_sales  other_sales  critic_score  \\\n",
       "119        Sports      3.45      2.59       0.0         0.66           NaN   \n",
       "301          Misc      2.08      1.35       0.0         0.54          61.0   \n",
       "520        Sports      1.51      1.03       0.0         0.27           NaN   \n",
       "645          Misc      1.65      0.57       0.0         0.20          71.0   \n",
       "657     Adventure      2.15      0.18       0.0         0.07          73.0   \n",
       "...           ...       ...       ...       ...          ...           ...   \n",
       "16695      Action      0.01      0.00       0.0         0.00          67.0   \n",
       "16697      Puzzle      0.01      0.00       0.0         0.00          53.0   \n",
       "16698      Puzzle      0.01      0.00       0.0         0.00          48.0   \n",
       "16704  Simulation      0.01      0.00       0.0         0.00           NaN   \n",
       "16706     Shooter      0.01      0.00       0.0         0.00           NaN   \n",
       "\n",
       "      user_score rating  \n",
       "119          tbd      E  \n",
       "301          tbd   E10+  \n",
       "520          tbd      T  \n",
       "645          tbd      E  \n",
       "657          tbd      E  \n",
       "...          ...    ...  \n",
       "16695        tbd      E  \n",
       "16697        tbd      E  \n",
       "16698        tbd      E  \n",
       "16704        tbd      E  \n",
       "16706        tbd      T  \n",
       "\n",
       "[2424 rows x 11 columns]"
      ]
     },
     "execution_count": 8,
     "metadata": {},
     "output_type": "execute_result"
    }
   ],
   "source": [
    "# вывод информации об играх, которым не был присвоен пользовательский рейтинг из-за нехватки отзывов\n",
    "games[games['user_score'] == 'tbd']"
   ]
  },
  {
   "cell_type": "markdown",
   "metadata": {},
   "source": [
    "Почти 2,5 тысячи игр не получили достаточно отзывов на момент сбора данных. По смыслу TBD означает отсутствие рейтинга, поэтому логично заменить эти значения пропусками:"
   ]
  },
  {
   "cell_type": "code",
   "execution_count": 9,
   "metadata": {},
   "outputs": [],
   "source": [
    "# замена тестовых значений tbd на пропуски\n",
    "games.loc[games['user_score'] == 'tbd', 'user_score'] = np.nan"
   ]
  },
  {
   "cell_type": "markdown",
   "metadata": {},
   "source": [
    "Теперь этот столбец можно перевести в числовой формат `float`:"
   ]
  },
  {
   "cell_type": "code",
   "execution_count": 10,
   "metadata": {},
   "outputs": [],
   "source": [
    "# перевод столбца user_score в тип данных float64\n",
    "games['user_score'] = pd.to_numeric(games['user_score'], downcast='float')\n",
    "games['user_score'] = games['user_score'].astype('float64')"
   ]
  },
  {
   "cell_type": "code",
   "execution_count": 11,
   "metadata": {},
   "outputs": [
    {
     "data": {
      "text/plain": [
       "name                object\n",
       "platform            object\n",
       "year_of_release    float64\n",
       "genre               object\n",
       "na_sales           float64\n",
       "eu_sales           float64\n",
       "jp_sales           float64\n",
       "other_sales        float64\n",
       "critic_score       float64\n",
       "user_score         float64\n",
       "rating              object\n",
       "dtype: object"
      ]
     },
     "execution_count": 11,
     "metadata": {},
     "output_type": "execute_result"
    }
   ],
   "source": [
    "# проверка\n",
    "games.dtypes"
   ]
  },
  {
   "cell_type": "markdown",
   "metadata": {},
   "source": [
    "<a id='203'></a>\n",
    "### Обработка пропусков"
   ]
  },
  {
   "cell_type": "code",
   "execution_count": 12,
   "metadata": {},
   "outputs": [
    {
     "data": {
      "text/plain": [
       "name                  2\n",
       "year_of_release     269\n",
       "genre                 2\n",
       "critic_score       8578\n",
       "user_score         9125\n",
       "rating             6766\n",
       "dtype: int64"
      ]
     },
     "execution_count": 12,
     "metadata": {},
     "output_type": "execute_result"
    }
   ],
   "source": [
    "# вывод столбцов с пропусками\n",
    "games.isna().sum()[games.isna().sum() != 0]"
   ]
  },
  {
   "cell_type": "markdown",
   "metadata": {},
   "source": [
    "По 2 пропуска в столбцах `name` и `genre` — вероятно, это могут быть одни и те же строки."
   ]
  },
  {
   "cell_type": "code",
   "execution_count": 13,
   "metadata": {},
   "outputs": [
    {
     "data": {
      "text/html": [
       "<div>\n",
       "<style scoped>\n",
       "    .dataframe tbody tr th:only-of-type {\n",
       "        vertical-align: middle;\n",
       "    }\n",
       "\n",
       "    .dataframe tbody tr th {\n",
       "        vertical-align: top;\n",
       "    }\n",
       "\n",
       "    .dataframe thead th {\n",
       "        text-align: right;\n",
       "    }\n",
       "</style>\n",
       "<table border=\"1\" class=\"dataframe\">\n",
       "  <thead>\n",
       "    <tr style=\"text-align: right;\">\n",
       "      <th></th>\n",
       "      <th>name</th>\n",
       "      <th>platform</th>\n",
       "      <th>year_of_release</th>\n",
       "      <th>genre</th>\n",
       "      <th>na_sales</th>\n",
       "      <th>eu_sales</th>\n",
       "      <th>jp_sales</th>\n",
       "      <th>other_sales</th>\n",
       "      <th>critic_score</th>\n",
       "      <th>user_score</th>\n",
       "      <th>rating</th>\n",
       "    </tr>\n",
       "  </thead>\n",
       "  <tbody>\n",
       "    <tr>\n",
       "      <td>659</td>\n",
       "      <td>NaN</td>\n",
       "      <td>GEN</td>\n",
       "      <td>1993.0</td>\n",
       "      <td>NaN</td>\n",
       "      <td>1.78</td>\n",
       "      <td>0.53</td>\n",
       "      <td>0.00</td>\n",
       "      <td>0.08</td>\n",
       "      <td>NaN</td>\n",
       "      <td>NaN</td>\n",
       "      <td>NaN</td>\n",
       "    </tr>\n",
       "    <tr>\n",
       "      <td>14244</td>\n",
       "      <td>NaN</td>\n",
       "      <td>GEN</td>\n",
       "      <td>1993.0</td>\n",
       "      <td>NaN</td>\n",
       "      <td>0.00</td>\n",
       "      <td>0.00</td>\n",
       "      <td>0.03</td>\n",
       "      <td>0.00</td>\n",
       "      <td>NaN</td>\n",
       "      <td>NaN</td>\n",
       "      <td>NaN</td>\n",
       "    </tr>\n",
       "  </tbody>\n",
       "</table>\n",
       "</div>"
      ],
      "text/plain": [
       "      name platform  year_of_release genre  na_sales  eu_sales  jp_sales  \\\n",
       "659    NaN      GEN           1993.0   NaN      1.78      0.53      0.00   \n",
       "14244  NaN      GEN           1993.0   NaN      0.00      0.00      0.03   \n",
       "\n",
       "       other_sales  critic_score  user_score rating  \n",
       "659           0.08           NaN         NaN    NaN  \n",
       "14244         0.00           NaN         NaN    NaN  "
      ]
     },
     "execution_count": 13,
     "metadata": {},
     "output_type": "execute_result"
    }
   ],
   "source": [
    "# вывод пропусков в name\n",
    "games[games['name'].isna()]"
   ]
  },
  {
   "cell_type": "markdown",
   "metadata": {},
   "source": [
    "Да, так и есть: у двух игр, выпущенных на Sega Mega Drive / Genesis в 93-м году, нет названия, жанра и рейтингов; одна из этих игр при этом довольно успешная в США и Канаде. Достоверно найти эти названия, основываясь только на годе выпуска и продажах, сейчас не получится — в актуальной версии Metacritic нет данных об этой платформе, а чарты продаж в 93-м выходили в виде журналов, архив тоже не удалось найти. \n",
    "\n",
    "Две строки можно безопасно удалить из таблицы:"
   ]
  },
  {
   "cell_type": "code",
   "execution_count": 14,
   "metadata": {},
   "outputs": [
    {
     "name": "stdout",
     "output_type": "stream",
     "text": [
      "Осталось пропусков в name: 0\n",
      "Осталось пропусков в genre: 0\n"
     ]
    }
   ],
   "source": [
    "# удаление пропущенных строк в name и проверка\n",
    "games.dropna(subset=['name'], inplace=True)\n",
    "print('Осталось пропусков в name:', len(games[games['name'].isna()]))\n",
    "print('Осталось пропусков в genre:', len(games[games['genre'].isna()]))"
   ]
  },
  {
   "cell_type": "markdown",
   "metadata": {},
   "source": [
    "Теперь рассмотрим 269 пропусков в `year_of_release`:"
   ]
  },
  {
   "cell_type": "code",
   "execution_count": 15,
   "metadata": {},
   "outputs": [
    {
     "data": {
      "text/html": [
       "<div>\n",
       "<style scoped>\n",
       "    .dataframe tbody tr th:only-of-type {\n",
       "        vertical-align: middle;\n",
       "    }\n",
       "\n",
       "    .dataframe tbody tr th {\n",
       "        vertical-align: top;\n",
       "    }\n",
       "\n",
       "    .dataframe thead th {\n",
       "        text-align: right;\n",
       "    }\n",
       "</style>\n",
       "<table border=\"1\" class=\"dataframe\">\n",
       "  <thead>\n",
       "    <tr style=\"text-align: right;\">\n",
       "      <th></th>\n",
       "      <th>name</th>\n",
       "      <th>platform</th>\n",
       "      <th>year_of_release</th>\n",
       "      <th>genre</th>\n",
       "      <th>na_sales</th>\n",
       "      <th>eu_sales</th>\n",
       "      <th>jp_sales</th>\n",
       "      <th>other_sales</th>\n",
       "      <th>critic_score</th>\n",
       "      <th>user_score</th>\n",
       "      <th>rating</th>\n",
       "    </tr>\n",
       "  </thead>\n",
       "  <tbody>\n",
       "    <tr>\n",
       "      <td>183</td>\n",
       "      <td>Madden NFL 2004</td>\n",
       "      <td>PS2</td>\n",
       "      <td>NaN</td>\n",
       "      <td>Sports</td>\n",
       "      <td>4.26</td>\n",
       "      <td>0.26</td>\n",
       "      <td>0.01</td>\n",
       "      <td>0.71</td>\n",
       "      <td>94.0</td>\n",
       "      <td>8.5</td>\n",
       "      <td>E</td>\n",
       "    </tr>\n",
       "    <tr>\n",
       "      <td>377</td>\n",
       "      <td>FIFA Soccer 2004</td>\n",
       "      <td>PS2</td>\n",
       "      <td>NaN</td>\n",
       "      <td>Sports</td>\n",
       "      <td>0.59</td>\n",
       "      <td>2.36</td>\n",
       "      <td>0.04</td>\n",
       "      <td>0.51</td>\n",
       "      <td>84.0</td>\n",
       "      <td>6.4</td>\n",
       "      <td>E</td>\n",
       "    </tr>\n",
       "    <tr>\n",
       "      <td>456</td>\n",
       "      <td>LEGO Batman: The Videogame</td>\n",
       "      <td>Wii</td>\n",
       "      <td>NaN</td>\n",
       "      <td>Action</td>\n",
       "      <td>1.80</td>\n",
       "      <td>0.97</td>\n",
       "      <td>0.00</td>\n",
       "      <td>0.29</td>\n",
       "      <td>74.0</td>\n",
       "      <td>7.9</td>\n",
       "      <td>E10+</td>\n",
       "    </tr>\n",
       "    <tr>\n",
       "      <td>475</td>\n",
       "      <td>wwe Smackdown vs. Raw 2006</td>\n",
       "      <td>PS2</td>\n",
       "      <td>NaN</td>\n",
       "      <td>Fighting</td>\n",
       "      <td>1.57</td>\n",
       "      <td>1.02</td>\n",
       "      <td>0.00</td>\n",
       "      <td>0.41</td>\n",
       "      <td>NaN</td>\n",
       "      <td>NaN</td>\n",
       "      <td>NaN</td>\n",
       "    </tr>\n",
       "    <tr>\n",
       "      <td>609</td>\n",
       "      <td>Space Invaders</td>\n",
       "      <td>2600</td>\n",
       "      <td>NaN</td>\n",
       "      <td>Shooter</td>\n",
       "      <td>2.36</td>\n",
       "      <td>0.14</td>\n",
       "      <td>0.00</td>\n",
       "      <td>0.03</td>\n",
       "      <td>NaN</td>\n",
       "      <td>NaN</td>\n",
       "      <td>NaN</td>\n",
       "    </tr>\n",
       "    <tr>\n",
       "      <td>...</td>\n",
       "      <td>...</td>\n",
       "      <td>...</td>\n",
       "      <td>...</td>\n",
       "      <td>...</td>\n",
       "      <td>...</td>\n",
       "      <td>...</td>\n",
       "      <td>...</td>\n",
       "      <td>...</td>\n",
       "      <td>...</td>\n",
       "      <td>...</td>\n",
       "      <td>...</td>\n",
       "    </tr>\n",
       "    <tr>\n",
       "      <td>16373</td>\n",
       "      <td>PDC World Championship Darts 2008</td>\n",
       "      <td>PSP</td>\n",
       "      <td>NaN</td>\n",
       "      <td>Sports</td>\n",
       "      <td>0.01</td>\n",
       "      <td>0.00</td>\n",
       "      <td>0.00</td>\n",
       "      <td>0.00</td>\n",
       "      <td>43.0</td>\n",
       "      <td>NaN</td>\n",
       "      <td>E10+</td>\n",
       "    </tr>\n",
       "    <tr>\n",
       "      <td>16405</td>\n",
       "      <td>Freaky Flyers</td>\n",
       "      <td>GC</td>\n",
       "      <td>NaN</td>\n",
       "      <td>Racing</td>\n",
       "      <td>0.01</td>\n",
       "      <td>0.00</td>\n",
       "      <td>0.00</td>\n",
       "      <td>0.00</td>\n",
       "      <td>69.0</td>\n",
       "      <td>6.5</td>\n",
       "      <td>T</td>\n",
       "    </tr>\n",
       "    <tr>\n",
       "      <td>16448</td>\n",
       "      <td>Inversion</td>\n",
       "      <td>PC</td>\n",
       "      <td>NaN</td>\n",
       "      <td>Shooter</td>\n",
       "      <td>0.01</td>\n",
       "      <td>0.00</td>\n",
       "      <td>0.00</td>\n",
       "      <td>0.00</td>\n",
       "      <td>59.0</td>\n",
       "      <td>6.7</td>\n",
       "      <td>M</td>\n",
       "    </tr>\n",
       "    <tr>\n",
       "      <td>16458</td>\n",
       "      <td>Hakuouki: Shinsengumi Kitan</td>\n",
       "      <td>PS3</td>\n",
       "      <td>NaN</td>\n",
       "      <td>Adventure</td>\n",
       "      <td>0.01</td>\n",
       "      <td>0.00</td>\n",
       "      <td>0.00</td>\n",
       "      <td>0.00</td>\n",
       "      <td>NaN</td>\n",
       "      <td>NaN</td>\n",
       "      <td>NaN</td>\n",
       "    </tr>\n",
       "    <tr>\n",
       "      <td>16522</td>\n",
       "      <td>Virtua Quest</td>\n",
       "      <td>GC</td>\n",
       "      <td>NaN</td>\n",
       "      <td>Role-Playing</td>\n",
       "      <td>0.01</td>\n",
       "      <td>0.00</td>\n",
       "      <td>0.00</td>\n",
       "      <td>0.00</td>\n",
       "      <td>55.0</td>\n",
       "      <td>5.5</td>\n",
       "      <td>T</td>\n",
       "    </tr>\n",
       "  </tbody>\n",
       "</table>\n",
       "<p>269 rows × 11 columns</p>\n",
       "</div>"
      ],
      "text/plain": [
       "                                    name platform  year_of_release  \\\n",
       "183                      Madden NFL 2004      PS2              NaN   \n",
       "377                     FIFA Soccer 2004      PS2              NaN   \n",
       "456           LEGO Batman: The Videogame      Wii              NaN   \n",
       "475           wwe Smackdown vs. Raw 2006      PS2              NaN   \n",
       "609                       Space Invaders     2600              NaN   \n",
       "...                                  ...      ...              ...   \n",
       "16373  PDC World Championship Darts 2008      PSP              NaN   \n",
       "16405                      Freaky Flyers       GC              NaN   \n",
       "16448                          Inversion       PC              NaN   \n",
       "16458        Hakuouki: Shinsengumi Kitan      PS3              NaN   \n",
       "16522                       Virtua Quest       GC              NaN   \n",
       "\n",
       "              genre  na_sales  eu_sales  jp_sales  other_sales  critic_score  \\\n",
       "183          Sports      4.26      0.26      0.01         0.71          94.0   \n",
       "377          Sports      0.59      2.36      0.04         0.51          84.0   \n",
       "456          Action      1.80      0.97      0.00         0.29          74.0   \n",
       "475        Fighting      1.57      1.02      0.00         0.41           NaN   \n",
       "609         Shooter      2.36      0.14      0.00         0.03           NaN   \n",
       "...             ...       ...       ...       ...          ...           ...   \n",
       "16373        Sports      0.01      0.00      0.00         0.00          43.0   \n",
       "16405        Racing      0.01      0.00      0.00         0.00          69.0   \n",
       "16448       Shooter      0.01      0.00      0.00         0.00          59.0   \n",
       "16458     Adventure      0.01      0.00      0.00         0.00           NaN   \n",
       "16522  Role-Playing      0.01      0.00      0.00         0.00          55.0   \n",
       "\n",
       "       user_score rating  \n",
       "183           8.5      E  \n",
       "377           6.4      E  \n",
       "456           7.9   E10+  \n",
       "475           NaN    NaN  \n",
       "609           NaN    NaN  \n",
       "...           ...    ...  \n",
       "16373         NaN   E10+  \n",
       "16405         6.5      T  \n",
       "16448         6.7      M  \n",
       "16458         NaN    NaN  \n",
       "16522         5.5      T  \n",
       "\n",
       "[269 rows x 11 columns]"
      ]
     },
     "execution_count": 15,
     "metadata": {},
     "output_type": "execute_result"
    }
   ],
   "source": [
    "# вывод пропусков в year_of_release\n",
    "games[games['year_of_release'].isna()]"
   ]
  },
  {
   "cell_type": "markdown",
   "metadata": {},
   "source": [
    "По таблице незаметно, что пропуски имеют какую-то зависимость — они встречаются у игр на разных платформах, с разными жанрами и т.д. В то же время 269 пропусков — это относительно немного, поэтому их можно попробовать заполнить типичными значениями или удалить. Годы выпуска зависят от платформ, потому что на них выходили новые игры только в период поддержки платформы."
   ]
  },
  {
   "cell_type": "code",
   "execution_count": 16,
   "metadata": {},
   "outputs": [
    {
     "data": {
      "text/plain": [
       "1982.0    1\n",
       "1986.5    1\n",
       "1992.0    1\n",
       "1993.0    1\n",
       "1994.0    2\n",
       "1994.5    1\n",
       "1995.0    2\n",
       "1996.0    2\n",
       "1997.0    1\n",
       "1998.0    1\n",
       "1999.0    1\n",
       "2000.0    2\n",
       "2003.0    2\n",
       "2004.0    1\n",
       "2005.0    1\n",
       "2008.0    1\n",
       "2009.0    2\n",
       "2010.0    2\n",
       "2011.0    1\n",
       "2013.0    2\n",
       "2014.0    1\n",
       "2015.0    2\n",
       "Name: year_of_release, dtype: int64"
      ]
     },
     "execution_count": 16,
     "metadata": {},
     "output_type": "execute_result"
    }
   ],
   "source": [
    "# вывод медианных значений year_of_release по платформам\n",
    "games.groupby('platform')['year_of_release'].median().value_counts().sort_index()"
   ]
  },
  {
   "cell_type": "code",
   "execution_count": 17,
   "metadata": {},
   "outputs": [
    {
     "data": {
      "text/html": [
       "<div>\n",
       "<style scoped>\n",
       "    .dataframe tbody tr th:only-of-type {\n",
       "        vertical-align: middle;\n",
       "    }\n",
       "\n",
       "    .dataframe tbody tr th {\n",
       "        vertical-align: top;\n",
       "    }\n",
       "\n",
       "    .dataframe thead th {\n",
       "        text-align: right;\n",
       "    }\n",
       "</style>\n",
       "<table border=\"1\" class=\"dataframe\">\n",
       "  <thead>\n",
       "    <tr style=\"text-align: right;\">\n",
       "      <th></th>\n",
       "      <th>before</th>\n",
       "      <th>after</th>\n",
       "    </tr>\n",
       "  </thead>\n",
       "  <tbody>\n",
       "    <tr>\n",
       "      <td>count</td>\n",
       "      <td>16444</td>\n",
       "      <td>16713</td>\n",
       "    </tr>\n",
       "    <tr>\n",
       "      <td>mean</td>\n",
       "      <td>2006</td>\n",
       "      <td>2006</td>\n",
       "    </tr>\n",
       "    <tr>\n",
       "      <td>std</td>\n",
       "      <td>6</td>\n",
       "      <td>6</td>\n",
       "    </tr>\n",
       "    <tr>\n",
       "      <td>min</td>\n",
       "      <td>1980</td>\n",
       "      <td>1980</td>\n",
       "    </tr>\n",
       "    <tr>\n",
       "      <td>25%</td>\n",
       "      <td>2003</td>\n",
       "      <td>2003</td>\n",
       "    </tr>\n",
       "    <tr>\n",
       "      <td>50%</td>\n",
       "      <td>2007</td>\n",
       "      <td>2007</td>\n",
       "    </tr>\n",
       "    <tr>\n",
       "      <td>75%</td>\n",
       "      <td>2010</td>\n",
       "      <td>2010</td>\n",
       "    </tr>\n",
       "    <tr>\n",
       "      <td>max</td>\n",
       "      <td>2016</td>\n",
       "      <td>2016</td>\n",
       "    </tr>\n",
       "  </tbody>\n",
       "</table>\n",
       "</div>"
      ],
      "text/plain": [
       "       before  after\n",
       "count   16444  16713\n",
       "mean     2006   2006\n",
       "std         6      6\n",
       "min      1980   1980\n",
       "25%      2003   2003\n",
       "50%      2007   2007\n",
       "75%      2010   2010\n",
       "max      2016   2016"
      ]
     },
     "metadata": {},
     "output_type": "display_data"
    }
   ],
   "source": [
    "# сохранение описательных статистик до преобразования\n",
    "stats_before = games['year_of_release'].describe()\n",
    "\n",
    "# заполнение пропусков медианами, сгруппированными по платформам, и перевод данных в нужный тип\n",
    "games['year_of_release'] = games.groupby('platform')['year_of_release'].apply(lambda x: x.fillna(x.median()))\n",
    "games['year_of_release'] = games['year_of_release'].astype(int)\n",
    "\n",
    "# проверка описательных статистик после преобразования\n",
    "stats_after = games['year_of_release'].describe()\n",
    "with pd.option_context('display.float_format', '{:.0f}'.format):\n",
    "    display(pd.DataFrame({ 'before': stats_before, 'after': stats_after }))"
   ]
  },
  {
   "cell_type": "markdown",
   "metadata": {},
   "source": [
    "Значения остались те же самые, какого-то перекоса в данных не случилось. Похоже, что здесь можно оставить такую процедуру. Не совсем понятно, почему эти года были пропущены — возможно, была какая-то техническая ошибка."
   ]
  },
  {
   "cell_type": "markdown",
   "metadata": {},
   "source": [
    "Много пропусков содержатся в столбцах с оценками и рейтингами, а в `user_score` пришлось еще и добавить пропусков заместо значений TBD. Изучим эти данные: рассмотрим распределение игр без рейтингов по годам и оценим взаимосвязь между рейтингами и продажами для поиска возможных закономерностей."
   ]
  },
  {
   "cell_type": "code",
   "execution_count": 18,
   "metadata": {},
   "outputs": [
    {
     "data": {
      "image/png": "[encoded data removed]",
      "text/plain": [
       "<Figure size 1080x1080 with 4 Axes>"
      ]
     },
     "metadata": {
      "needs_background": "light"
     },
     "output_type": "display_data"
    }
   ],
   "source": [
    "fig = plt.figure(figsize=(15, 15))\n",
    "\n",
    "ax1 = fig.add_subplot(221)\n",
    "(games['year_of_release'].value_counts().sort_index()\n",
    " .plot(kind='bar', ax=ax1, title='Все игры (по годам)')\n",
    " .set(xlabel='Год выпуска игры', ylabel='Количество выпущенных игр'))\n",
    "\n",
    "ax2 = fig.add_subplot(222)\n",
    "(games.query('rating.isna()')['year_of_release'].value_counts().sort_index()\n",
    " .plot(kind='bar', ax=ax2, title='Игры без рейтинга ESRB (по годам)')\n",
    " .set(xlabel='Год выпуска игры', ylabel='Количество выпущенных игр'))\n",
    "\n",
    "ax3 = fig.add_subplot(223)\n",
    "(games.query('critic_score.isna()')['year_of_release'].value_counts().sort_index()\n",
    " .plot(kind='bar', ax=ax3, title='Игры без рейтинга критиков (по годам)')\n",
    " .set(xlabel='Год выпуска игры', ylabel='Количество выпущенных игр'))\n",
    "\n",
    "ax4 = fig.add_subplot(224)\n",
    "(games.query('user_score.isna()')['year_of_release'].value_counts().sort_index()\n",
    " .plot(kind='bar', ax=ax4, title='Игры без рейтинга пользователей (по годам)')\n",
    " .set(xlabel='Год выпуска игры', ylabel='Количество выпущенных игр'));"
   ]
  },
  {
   "cell_type": "code",
   "execution_count": 19,
   "metadata": {
    "scrolled": false
   },
   "outputs": [
    {
     "data": {
      "text/html": [
       "<div>\n",
       "<style scoped>\n",
       "    .dataframe tbody tr th:only-of-type {\n",
       "        vertical-align: middle;\n",
       "    }\n",
       "\n",
       "    .dataframe tbody tr th {\n",
       "        vertical-align: top;\n",
       "    }\n",
       "\n",
       "    .dataframe thead th {\n",
       "        text-align: right;\n",
       "    }\n",
       "</style>\n",
       "<table border=\"1\" class=\"dataframe\">\n",
       "  <thead>\n",
       "    <tr style=\"text-align: right;\">\n",
       "      <th></th>\n",
       "      <th>years_all</th>\n",
       "      <th>years_critic</th>\n",
       "      <th>years_user</th>\n",
       "      <th>years_rating</th>\n",
       "    </tr>\n",
       "  </thead>\n",
       "  <tbody>\n",
       "    <tr>\n",
       "      <td>1980</td>\n",
       "      <td>9</td>\n",
       "      <td>9</td>\n",
       "      <td>9</td>\n",
       "      <td>9</td>\n",
       "    </tr>\n",
       "    <tr>\n",
       "      <td>1981</td>\n",
       "      <td>46</td>\n",
       "      <td>46</td>\n",
       "      <td>46</td>\n",
       "      <td>46</td>\n",
       "    </tr>\n",
       "    <tr>\n",
       "      <td>1982</td>\n",
       "      <td>53</td>\n",
       "      <td>53</td>\n",
       "      <td>53</td>\n",
       "      <td>53</td>\n",
       "    </tr>\n",
       "    <tr>\n",
       "      <td>1983</td>\n",
       "      <td>17</td>\n",
       "      <td>17</td>\n",
       "      <td>17</td>\n",
       "      <td>17</td>\n",
       "    </tr>\n",
       "    <tr>\n",
       "      <td>1984</td>\n",
       "      <td>14</td>\n",
       "      <td>14</td>\n",
       "      <td>14</td>\n",
       "      <td>14</td>\n",
       "    </tr>\n",
       "    <tr>\n",
       "      <td>1985</td>\n",
       "      <td>14</td>\n",
       "      <td>13</td>\n",
       "      <td>13</td>\n",
       "      <td>13</td>\n",
       "    </tr>\n",
       "    <tr>\n",
       "      <td>1986</td>\n",
       "      <td>21</td>\n",
       "      <td>21</td>\n",
       "      <td>21</td>\n",
       "      <td>21</td>\n",
       "    </tr>\n",
       "    <tr>\n",
       "      <td>1987</td>\n",
       "      <td>16</td>\n",
       "      <td>16</td>\n",
       "      <td>16</td>\n",
       "      <td>16</td>\n",
       "    </tr>\n",
       "    <tr>\n",
       "      <td>1988</td>\n",
       "      <td>15</td>\n",
       "      <td>14</td>\n",
       "      <td>14</td>\n",
       "      <td>14</td>\n",
       "    </tr>\n",
       "    <tr>\n",
       "      <td>1989</td>\n",
       "      <td>17</td>\n",
       "      <td>17</td>\n",
       "      <td>17</td>\n",
       "      <td>17</td>\n",
       "    </tr>\n",
       "    <tr>\n",
       "      <td>1990</td>\n",
       "      <td>16</td>\n",
       "      <td>16</td>\n",
       "      <td>16</td>\n",
       "      <td>16</td>\n",
       "    </tr>\n",
       "    <tr>\n",
       "      <td>1991</td>\n",
       "      <td>41</td>\n",
       "      <td>41</td>\n",
       "      <td>41</td>\n",
       "      <td>41</td>\n",
       "    </tr>\n",
       "    <tr>\n",
       "      <td>1992</td>\n",
       "      <td>43</td>\n",
       "      <td>42</td>\n",
       "      <td>42</td>\n",
       "      <td>41</td>\n",
       "    </tr>\n",
       "    <tr>\n",
       "      <td>1993</td>\n",
       "      <td>60</td>\n",
       "      <td>60</td>\n",
       "      <td>60</td>\n",
       "      <td>60</td>\n",
       "    </tr>\n",
       "    <tr>\n",
       "      <td>1994</td>\n",
       "      <td>121</td>\n",
       "      <td>120</td>\n",
       "      <td>120</td>\n",
       "      <td>120</td>\n",
       "    </tr>\n",
       "    <tr>\n",
       "      <td>1995</td>\n",
       "      <td>219</td>\n",
       "      <td>219</td>\n",
       "      <td>219</td>\n",
       "      <td>219</td>\n",
       "    </tr>\n",
       "    <tr>\n",
       "      <td>1996</td>\n",
       "      <td>263</td>\n",
       "      <td>255</td>\n",
       "      <td>255</td>\n",
       "      <td>256</td>\n",
       "    </tr>\n",
       "    <tr>\n",
       "      <td>1997</td>\n",
       "      <td>290</td>\n",
       "      <td>273</td>\n",
       "      <td>272</td>\n",
       "      <td>271</td>\n",
       "    </tr>\n",
       "    <tr>\n",
       "      <td>1998</td>\n",
       "      <td>386</td>\n",
       "      <td>354</td>\n",
       "      <td>352</td>\n",
       "      <td>350</td>\n",
       "    </tr>\n",
       "    <tr>\n",
       "      <td>1999</td>\n",
       "      <td>341</td>\n",
       "      <td>302</td>\n",
       "      <td>310</td>\n",
       "      <td>299</td>\n",
       "    </tr>\n",
       "    <tr>\n",
       "      <td>2000</td>\n",
       "      <td>350</td>\n",
       "      <td>207</td>\n",
       "      <td>243</td>\n",
       "      <td>202</td>\n",
       "    </tr>\n",
       "    <tr>\n",
       "      <td>2001</td>\n",
       "      <td>482</td>\n",
       "      <td>156</td>\n",
       "      <td>225</td>\n",
       "      <td>143</td>\n",
       "    </tr>\n",
       "    <tr>\n",
       "      <td>2002</td>\n",
       "      <td>829</td>\n",
       "      <td>202</td>\n",
       "      <td>365</td>\n",
       "      <td>174</td>\n",
       "    </tr>\n",
       "    <tr>\n",
       "      <td>2003</td>\n",
       "      <td>800</td>\n",
       "      <td>196</td>\n",
       "      <td>271</td>\n",
       "      <td>167</td>\n",
       "    </tr>\n",
       "    <tr>\n",
       "      <td>2004</td>\n",
       "      <td>783</td>\n",
       "      <td>203</td>\n",
       "      <td>279</td>\n",
       "      <td>166</td>\n",
       "    </tr>\n",
       "    <tr>\n",
       "      <td>2005</td>\n",
       "      <td>973</td>\n",
       "      <td>295</td>\n",
       "      <td>369</td>\n",
       "      <td>242</td>\n",
       "    </tr>\n",
       "    <tr>\n",
       "      <td>2006</td>\n",
       "      <td>1006</td>\n",
       "      <td>386</td>\n",
       "      <td>454</td>\n",
       "      <td>328</td>\n",
       "    </tr>\n",
       "    <tr>\n",
       "      <td>2007</td>\n",
       "      <td>1197</td>\n",
       "      <td>505</td>\n",
       "      <td>568</td>\n",
       "      <td>376</td>\n",
       "    </tr>\n",
       "    <tr>\n",
       "      <td>2008</td>\n",
       "      <td>1457</td>\n",
       "      <td>733</td>\n",
       "      <td>792</td>\n",
       "      <td>458</td>\n",
       "    </tr>\n",
       "    <tr>\n",
       "      <td>2009</td>\n",
       "      <td>1476</td>\n",
       "      <td>802</td>\n",
       "      <td>847</td>\n",
       "      <td>432</td>\n",
       "    </tr>\n",
       "    <tr>\n",
       "      <td>2010</td>\n",
       "      <td>1302</td>\n",
       "      <td>764</td>\n",
       "      <td>799</td>\n",
       "      <td>464</td>\n",
       "    </tr>\n",
       "    <tr>\n",
       "      <td>2011</td>\n",
       "      <td>1161</td>\n",
       "      <td>645</td>\n",
       "      <td>644</td>\n",
       "      <td>441</td>\n",
       "    </tr>\n",
       "    <tr>\n",
       "      <td>2012</td>\n",
       "      <td>653</td>\n",
       "      <td>332</td>\n",
       "      <td>314</td>\n",
       "      <td>298</td>\n",
       "    </tr>\n",
       "    <tr>\n",
       "      <td>2013</td>\n",
       "      <td>552</td>\n",
       "      <td>277</td>\n",
       "      <td>245</td>\n",
       "      <td>231</td>\n",
       "    </tr>\n",
       "    <tr>\n",
       "      <td>2014</td>\n",
       "      <td>582</td>\n",
       "      <td>320</td>\n",
       "      <td>252</td>\n",
       "      <td>236</td>\n",
       "    </tr>\n",
       "    <tr>\n",
       "      <td>2015</td>\n",
       "      <td>606</td>\n",
       "      <td>381</td>\n",
       "      <td>309</td>\n",
       "      <td>291</td>\n",
       "    </tr>\n",
       "    <tr>\n",
       "      <td>2016</td>\n",
       "      <td>502</td>\n",
       "      <td>270</td>\n",
       "      <td>240</td>\n",
       "      <td>222</td>\n",
       "    </tr>\n",
       "  </tbody>\n",
       "</table>\n",
       "</div>"
      ],
      "text/plain": [
       "      years_all  years_critic  years_user  years_rating\n",
       "1980          9             9           9             9\n",
       "1981         46            46          46            46\n",
       "1982         53            53          53            53\n",
       "1983         17            17          17            17\n",
       "1984         14            14          14            14\n",
       "1985         14            13          13            13\n",
       "1986         21            21          21            21\n",
       "1987         16            16          16            16\n",
       "1988         15            14          14            14\n",
       "1989         17            17          17            17\n",
       "1990         16            16          16            16\n",
       "1991         41            41          41            41\n",
       "1992         43            42          42            41\n",
       "1993         60            60          60            60\n",
       "1994        121           120         120           120\n",
       "1995        219           219         219           219\n",
       "1996        263           255         255           256\n",
       "1997        290           273         272           271\n",
       "1998        386           354         352           350\n",
       "1999        341           302         310           299\n",
       "2000        350           207         243           202\n",
       "2001        482           156         225           143\n",
       "2002        829           202         365           174\n",
       "2003        800           196         271           167\n",
       "2004        783           203         279           166\n",
       "2005        973           295         369           242\n",
       "2006       1006           386         454           328\n",
       "2007       1197           505         568           376\n",
       "2008       1457           733         792           458\n",
       "2009       1476           802         847           432\n",
       "2010       1302           764         799           464\n",
       "2011       1161           645         644           441\n",
       "2012        653           332         314           298\n",
       "2013        552           277         245           231\n",
       "2014        582           320         252           236\n",
       "2015        606           381         309           291\n",
       "2016        502           270         240           222"
      ]
     },
     "execution_count": 19,
     "metadata": {},
     "output_type": "execute_result"
    }
   ],
   "source": [
    "# распределение игр с пропусками по годам\n",
    "(games['year_of_release'].value_counts().to_frame(name='years_all')\n",
    " .join(games.query('critic_score.isna()')['year_of_release'].value_counts().rename('years_critic'), \n",
    "       how='outer')\n",
    " .join(games.query('user_score.isna()')['year_of_release'].value_counts().rename('years_user'), \n",
    "       how='outer')\n",
    " .join(games.query('rating.isna()')['year_of_release'].value_counts().rename('years_rating'), \n",
    "       how='outer')\n",
    " .sort_index())"
   ]
  },
  {
   "cell_type": "markdown",
   "metadata": {},
   "source": [
    "Для игр до 1998 года включительно почти нет никаких рейтингов на Metacritic, далее пропуски распределелены менее равномерно. \n",
    "\n",
    "Здесь о причине можно предположить следующее: сайт был запущен в январе 2001 года после двух лет разработки и, вероятно, не включал в себя возможность собирать данные ретроспективно. Возможно, в дальнейшем наименования игр и какую-то общую информацию о них добавляли в базу — ведь названия игр есть — но рейтинги им уже не выставляли (очевидно, непросто найти отзывы критиков об игре 1980 года). На текущей версии сайта, например, не представлены классические игры, даже самые популярные вроде *Super Mario Bros.* Беглым поиском не получилось найти какие-либо игры старше 1999, для которых нет рейтинга.\n",
    "\n",
    "Для более поздних игр пропуски занимают разные доли от общих данных, есть игры, для которых нет никаких пропусков. В их числе тоже встречаются довольно популярные позиции (например, *FIFA 10* или *The Legend of Zelda: Ocarina of Time*), для которых есть рейтинги на сайте Metacritic. Насчет них есть предположение (кроме сбоя работы парсера), что рейтинги пропущены у мультиплатформенных игр — тех, которые выходили одновременно на нескольких платформах. На сайте это разные позиции, в таблице они также представлены в отдельном экземпляре для каждой платформы, на которой они вышли. Очевидно, что платформы неодинаково популярны, а также нередко старые, но успешные игры переиздают спустя несколько лет. Соответственно, оценки могли оставить для самых популярных платформ в период выхода игры, а остальные релизы уже оставить без внимания. Однако если такие случаи есть, неправильно будет просто продублировать рейтинги с одной платформы на другую — они могут быть похожие, но неодинаковые; соответственно, это может привести к искажениям в данных."
   ]
  },
  {
   "cell_type": "code",
   "execution_count": 20,
   "metadata": {},
   "outputs": [
    {
     "name": "stdout",
     "output_type": "stream",
     "text": [
      "Продаж без critic_score в na_sales: 1528.3700000000001\n",
      "Продаж без critic_score в eu_sales: 729.1100000000001\n",
      "Продаж без critic_score в jp_sales: 849.5799999999998\n",
      "Продаж без critic_score в other_sales: 201.84000000000003\n",
      "\n",
      "Продаж без user_score в na_sales: 1548.1300000000003\n",
      "Продаж без user_score в eu_sales: 717.2\n",
      "Продаж без user_score в jp_sales: 848.83\n",
      "Продаж без user_score в other_sales: 188.67999999999998\n",
      "\n",
      "Продаж без rating в na_sales: 1240.68\n",
      "Продаж без rating в eu_sales: 613.3\n",
      "Продаж без rating в jp_sales: 841.9299999999998\n",
      "Продаж без rating в other_sales: 151.0\n",
      "\n"
     ]
    }
   ],
   "source": [
    "for score in ['critic_score', 'user_score', 'rating']:\n",
    "    for sales in ['na_sales', 'eu_sales', 'jp_sales', 'other_sales']:\n",
    "        print('Продаж без '+score+' в '+sales+':', games.query(score+'.isna()')[sales].sum())\n",
    "    print()"
   ]
  },
  {
   "cell_type": "markdown",
   "metadata": {},
   "source": [
    "Можно было бы также предположить, что рейтинги не были выставлены играм, которые меньше продавались в каком-то из регионов — например, если игра была популярна только на японском рынке и вызвала мало интереса в других регионах. Но из подсчетов непохоже, что здесь есть какая-то связь.\n",
    "\n",
    "В итоге мы не видим в датасете тех данных, которые помогут заполнить пропуски какими-либо типичными значениями без искажения; пропуски занимают большую долю в общих данных, чтобы заполнение типичными значениями было разумным. Оставим их как они есть и будем исключать строки с пропущенными значениями в этих столбцах там, где будут использоваться средние значения."
   ]
  },
  {
   "cell_type": "code",
   "execution_count": 21,
   "metadata": {},
   "outputs": [
    {
     "data": {
      "text/plain": [
       "critic_score    8576\n",
       "user_score      9123\n",
       "rating          6764\n",
       "dtype: int64"
      ]
     },
     "execution_count": 21,
     "metadata": {},
     "output_type": "execute_result"
    }
   ],
   "source": [
    "# оставшиеся пропуски после обработки\n",
    "games.isna().sum()[games.isna().sum() != 0]"
   ]
  },
  {
   "cell_type": "markdown",
   "metadata": {},
   "source": [
    "<a id='204'></a>\n",
    "### Обработка дубликатов"
   ]
  },
  {
   "cell_type": "markdown",
   "metadata": {},
   "source": [
    "Подсчитаем количество полных дубликатов в таблице и попробуем найти скрытые дубликаты в тестовых данных."
   ]
  },
  {
   "cell_type": "code",
   "execution_count": 22,
   "metadata": {},
   "outputs": [
    {
     "name": "stdout",
     "output_type": "stream",
     "text": [
      "Полных дубликатов: 0\n"
     ]
    }
   ],
   "source": [
    "print('Полных дубликатов:', len(games[games.duplicated()]))"
   ]
  },
  {
   "cell_type": "markdown",
   "metadata": {},
   "source": [
    "Полностью дублированных строчек не найдено."
   ]
  },
  {
   "cell_type": "code",
   "execution_count": 23,
   "metadata": {},
   "outputs": [
    {
     "data": {
      "text/plain": [
       "Need for Speed: Most Wanted                        12\n",
       "Madden NFL 07                                       9\n",
       "FIFA 14                                             9\n",
       "Ratatouille                                         9\n",
       "LEGO Marvel Super Heroes                            9\n",
       "                                                   ..\n",
       "Sébastien Loeb Rally Evo                            2\n",
       "Nodame Cantabile                                    2\n",
       "iCarly 2: iJoin The Click!                          2\n",
       "NASCAR: Dirt to Daytona                             2\n",
       "Disney TH!NK Fast: The Ultimate Trivia Showdown     2\n",
       "Name: name, Length: 2805, dtype: int64"
      ]
     },
     "execution_count": 23,
     "metadata": {},
     "output_type": "execute_result"
    }
   ],
   "source": [
    "games['name'].value_counts()[games['name'].value_counts() > 1]"
   ]
  },
  {
   "cell_type": "code",
   "execution_count": 24,
   "metadata": {},
   "outputs": [
    {
     "data": {
      "text/html": [
       "<div>\n",
       "<style scoped>\n",
       "    .dataframe tbody tr th:only-of-type {\n",
       "        vertical-align: middle;\n",
       "    }\n",
       "\n",
       "    .dataframe tbody tr th {\n",
       "        vertical-align: top;\n",
       "    }\n",
       "\n",
       "    .dataframe thead th {\n",
       "        text-align: right;\n",
       "    }\n",
       "</style>\n",
       "<table border=\"1\" class=\"dataframe\">\n",
       "  <thead>\n",
       "    <tr style=\"text-align: right;\">\n",
       "      <th></th>\n",
       "      <th>name</th>\n",
       "      <th>platform</th>\n",
       "      <th>year_of_release</th>\n",
       "      <th>genre</th>\n",
       "      <th>na_sales</th>\n",
       "      <th>eu_sales</th>\n",
       "      <th>jp_sales</th>\n",
       "      <th>other_sales</th>\n",
       "      <th>critic_score</th>\n",
       "      <th>user_score</th>\n",
       "      <th>rating</th>\n",
       "    </tr>\n",
       "  </thead>\n",
       "  <tbody>\n",
       "    <tr>\n",
       "      <td>253</td>\n",
       "      <td>Need for Speed: Most Wanted</td>\n",
       "      <td>PS2</td>\n",
       "      <td>2005</td>\n",
       "      <td>Racing</td>\n",
       "      <td>2.03</td>\n",
       "      <td>1.79</td>\n",
       "      <td>0.08</td>\n",
       "      <td>0.47</td>\n",
       "      <td>82.0</td>\n",
       "      <td>9.1</td>\n",
       "      <td>T</td>\n",
       "    </tr>\n",
       "    <tr>\n",
       "      <td>523</td>\n",
       "      <td>Need for Speed: Most Wanted</td>\n",
       "      <td>PS3</td>\n",
       "      <td>2012</td>\n",
       "      <td>Racing</td>\n",
       "      <td>0.71</td>\n",
       "      <td>1.46</td>\n",
       "      <td>0.06</td>\n",
       "      <td>0.58</td>\n",
       "      <td>NaN</td>\n",
       "      <td>NaN</td>\n",
       "      <td>NaN</td>\n",
       "    </tr>\n",
       "    <tr>\n",
       "      <td>1190</td>\n",
       "      <td>Need for Speed: Most Wanted</td>\n",
       "      <td>X360</td>\n",
       "      <td>2012</td>\n",
       "      <td>Racing</td>\n",
       "      <td>0.62</td>\n",
       "      <td>0.78</td>\n",
       "      <td>0.01</td>\n",
       "      <td>0.15</td>\n",
       "      <td>83.0</td>\n",
       "      <td>8.5</td>\n",
       "      <td>T</td>\n",
       "    </tr>\n",
       "    <tr>\n",
       "      <td>1591</td>\n",
       "      <td>Need for Speed: Most Wanted</td>\n",
       "      <td>X360</td>\n",
       "      <td>2005</td>\n",
       "      <td>Racing</td>\n",
       "      <td>1.00</td>\n",
       "      <td>0.13</td>\n",
       "      <td>0.02</td>\n",
       "      <td>0.10</td>\n",
       "      <td>83.0</td>\n",
       "      <td>8.5</td>\n",
       "      <td>T</td>\n",
       "    </tr>\n",
       "    <tr>\n",
       "      <td>1998</td>\n",
       "      <td>Need for Speed: Most Wanted</td>\n",
       "      <td>XB</td>\n",
       "      <td>2005</td>\n",
       "      <td>Racing</td>\n",
       "      <td>0.53</td>\n",
       "      <td>0.46</td>\n",
       "      <td>0.00</td>\n",
       "      <td>0.05</td>\n",
       "      <td>83.0</td>\n",
       "      <td>8.8</td>\n",
       "      <td>T</td>\n",
       "    </tr>\n",
       "    <tr>\n",
       "      <td>2048</td>\n",
       "      <td>Need for Speed: Most Wanted</td>\n",
       "      <td>PSV</td>\n",
       "      <td>2012</td>\n",
       "      <td>Racing</td>\n",
       "      <td>0.33</td>\n",
       "      <td>0.45</td>\n",
       "      <td>0.01</td>\n",
       "      <td>0.22</td>\n",
       "      <td>NaN</td>\n",
       "      <td>NaN</td>\n",
       "      <td>NaN</td>\n",
       "    </tr>\n",
       "    <tr>\n",
       "      <td>3581</td>\n",
       "      <td>Need for Speed: Most Wanted</td>\n",
       "      <td>GC</td>\n",
       "      <td>2005</td>\n",
       "      <td>Racing</td>\n",
       "      <td>0.43</td>\n",
       "      <td>0.11</td>\n",
       "      <td>0.00</td>\n",
       "      <td>0.02</td>\n",
       "      <td>80.0</td>\n",
       "      <td>9.1</td>\n",
       "      <td>T</td>\n",
       "    </tr>\n",
       "    <tr>\n",
       "      <td>5972</td>\n",
       "      <td>Need for Speed: Most Wanted</td>\n",
       "      <td>PC</td>\n",
       "      <td>2005</td>\n",
       "      <td>Racing</td>\n",
       "      <td>0.02</td>\n",
       "      <td>0.23</td>\n",
       "      <td>0.00</td>\n",
       "      <td>0.04</td>\n",
       "      <td>82.0</td>\n",
       "      <td>8.5</td>\n",
       "      <td>T</td>\n",
       "    </tr>\n",
       "    <tr>\n",
       "      <td>6273</td>\n",
       "      <td>Need for Speed: Most Wanted</td>\n",
       "      <td>WiiU</td>\n",
       "      <td>2013</td>\n",
       "      <td>Racing</td>\n",
       "      <td>0.13</td>\n",
       "      <td>0.12</td>\n",
       "      <td>0.00</td>\n",
       "      <td>0.02</td>\n",
       "      <td>NaN</td>\n",
       "      <td>NaN</td>\n",
       "      <td>NaN</td>\n",
       "    </tr>\n",
       "    <tr>\n",
       "      <td>6410</td>\n",
       "      <td>Need for Speed: Most Wanted</td>\n",
       "      <td>DS</td>\n",
       "      <td>2005</td>\n",
       "      <td>Racing</td>\n",
       "      <td>0.24</td>\n",
       "      <td>0.01</td>\n",
       "      <td>0.00</td>\n",
       "      <td>0.02</td>\n",
       "      <td>45.0</td>\n",
       "      <td>6.1</td>\n",
       "      <td>E</td>\n",
       "    </tr>\n",
       "    <tr>\n",
       "      <td>6473</td>\n",
       "      <td>Need for Speed: Most Wanted</td>\n",
       "      <td>GBA</td>\n",
       "      <td>2005</td>\n",
       "      <td>Racing</td>\n",
       "      <td>0.19</td>\n",
       "      <td>0.07</td>\n",
       "      <td>0.00</td>\n",
       "      <td>0.00</td>\n",
       "      <td>NaN</td>\n",
       "      <td>8.3</td>\n",
       "      <td>E</td>\n",
       "    </tr>\n",
       "    <tr>\n",
       "      <td>11715</td>\n",
       "      <td>Need for Speed: Most Wanted</td>\n",
       "      <td>PC</td>\n",
       "      <td>2012</td>\n",
       "      <td>Racing</td>\n",
       "      <td>0.00</td>\n",
       "      <td>0.06</td>\n",
       "      <td>0.00</td>\n",
       "      <td>0.02</td>\n",
       "      <td>82.0</td>\n",
       "      <td>8.5</td>\n",
       "      <td>T</td>\n",
       "    </tr>\n",
       "  </tbody>\n",
       "</table>\n",
       "</div>"
      ],
      "text/plain": [
       "                              name platform  year_of_release   genre  \\\n",
       "253    Need for Speed: Most Wanted      PS2             2005  Racing   \n",
       "523    Need for Speed: Most Wanted      PS3             2012  Racing   \n",
       "1190   Need for Speed: Most Wanted     X360             2012  Racing   \n",
       "1591   Need for Speed: Most Wanted     X360             2005  Racing   \n",
       "1998   Need for Speed: Most Wanted       XB             2005  Racing   \n",
       "2048   Need for Speed: Most Wanted      PSV             2012  Racing   \n",
       "3581   Need for Speed: Most Wanted       GC             2005  Racing   \n",
       "5972   Need for Speed: Most Wanted       PC             2005  Racing   \n",
       "6273   Need for Speed: Most Wanted     WiiU             2013  Racing   \n",
       "6410   Need for Speed: Most Wanted       DS             2005  Racing   \n",
       "6473   Need for Speed: Most Wanted      GBA             2005  Racing   \n",
       "11715  Need for Speed: Most Wanted       PC             2012  Racing   \n",
       "\n",
       "       na_sales  eu_sales  jp_sales  other_sales  critic_score  user_score  \\\n",
       "253        2.03      1.79      0.08         0.47          82.0         9.1   \n",
       "523        0.71      1.46      0.06         0.58           NaN         NaN   \n",
       "1190       0.62      0.78      0.01         0.15          83.0         8.5   \n",
       "1591       1.00      0.13      0.02         0.10          83.0         8.5   \n",
       "1998       0.53      0.46      0.00         0.05          83.0         8.8   \n",
       "2048       0.33      0.45      0.01         0.22           NaN         NaN   \n",
       "3581       0.43      0.11      0.00         0.02          80.0         9.1   \n",
       "5972       0.02      0.23      0.00         0.04          82.0         8.5   \n",
       "6273       0.13      0.12      0.00         0.02           NaN         NaN   \n",
       "6410       0.24      0.01      0.00         0.02          45.0         6.1   \n",
       "6473       0.19      0.07      0.00         0.00           NaN         8.3   \n",
       "11715      0.00      0.06      0.00         0.02          82.0         8.5   \n",
       "\n",
       "      rating  \n",
       "253        T  \n",
       "523      NaN  \n",
       "1190       T  \n",
       "1591       T  \n",
       "1998       T  \n",
       "2048     NaN  \n",
       "3581       T  \n",
       "5972       T  \n",
       "6273     NaN  \n",
       "6410       E  \n",
       "6473       E  \n",
       "11715      T  "
      ]
     },
     "execution_count": 24,
     "metadata": {},
     "output_type": "execute_result"
    }
   ],
   "source": [
    "games.query('name == \"Need for Speed: Most Wanted\"')"
   ]
  },
  {
   "cell_type": "code",
   "execution_count": 25,
   "metadata": {},
   "outputs": [
    {
     "data": {
      "text/html": [
       "<div>\n",
       "<style scoped>\n",
       "    .dataframe tbody tr th:only-of-type {\n",
       "        vertical-align: middle;\n",
       "    }\n",
       "\n",
       "    .dataframe tbody tr th {\n",
       "        vertical-align: top;\n",
       "    }\n",
       "\n",
       "    .dataframe thead th {\n",
       "        text-align: right;\n",
       "    }\n",
       "</style>\n",
       "<table border=\"1\" class=\"dataframe\">\n",
       "  <thead>\n",
       "    <tr style=\"text-align: right;\">\n",
       "      <th></th>\n",
       "      <th>name</th>\n",
       "      <th>platform</th>\n",
       "      <th>year_of_release</th>\n",
       "      <th>genre</th>\n",
       "      <th>na_sales</th>\n",
       "      <th>eu_sales</th>\n",
       "      <th>jp_sales</th>\n",
       "      <th>other_sales</th>\n",
       "      <th>critic_score</th>\n",
       "      <th>user_score</th>\n",
       "      <th>rating</th>\n",
       "    </tr>\n",
       "  </thead>\n",
       "  <tbody>\n",
       "    <tr>\n",
       "      <td>126</td>\n",
       "      <td>FIFA 14</td>\n",
       "      <td>PS3</td>\n",
       "      <td>2013</td>\n",
       "      <td>Sports</td>\n",
       "      <td>0.78</td>\n",
       "      <td>4.24</td>\n",
       "      <td>0.07</td>\n",
       "      <td>1.37</td>\n",
       "      <td>86.0</td>\n",
       "      <td>4.3</td>\n",
       "      <td>E</td>\n",
       "    </tr>\n",
       "    <tr>\n",
       "      <td>271</td>\n",
       "      <td>FIFA 14</td>\n",
       "      <td>X360</td>\n",
       "      <td>2013</td>\n",
       "      <td>Sports</td>\n",
       "      <td>0.92</td>\n",
       "      <td>2.89</td>\n",
       "      <td>0.01</td>\n",
       "      <td>0.40</td>\n",
       "      <td>84.0</td>\n",
       "      <td>4.2</td>\n",
       "      <td>E</td>\n",
       "    </tr>\n",
       "    <tr>\n",
       "      <td>469</td>\n",
       "      <td>FIFA 14</td>\n",
       "      <td>PS4</td>\n",
       "      <td>2013</td>\n",
       "      <td>Sports</td>\n",
       "      <td>0.61</td>\n",
       "      <td>1.85</td>\n",
       "      <td>0.11</td>\n",
       "      <td>0.44</td>\n",
       "      <td>87.0</td>\n",
       "      <td>6.3</td>\n",
       "      <td>E</td>\n",
       "    </tr>\n",
       "    <tr>\n",
       "      <td>1753</td>\n",
       "      <td>FIFA 14</td>\n",
       "      <td>XOne</td>\n",
       "      <td>2013</td>\n",
       "      <td>Sports</td>\n",
       "      <td>0.41</td>\n",
       "      <td>0.66</td>\n",
       "      <td>0.00</td>\n",
       "      <td>0.09</td>\n",
       "      <td>88.0</td>\n",
       "      <td>5.8</td>\n",
       "      <td>E</td>\n",
       "    </tr>\n",
       "    <tr>\n",
       "      <td>4699</td>\n",
       "      <td>FIFA 14</td>\n",
       "      <td>PSV</td>\n",
       "      <td>2013</td>\n",
       "      <td>Sports</td>\n",
       "      <td>0.08</td>\n",
       "      <td>0.23</td>\n",
       "      <td>0.01</td>\n",
       "      <td>0.09</td>\n",
       "      <td>NaN</td>\n",
       "      <td>1.8</td>\n",
       "      <td>E</td>\n",
       "    </tr>\n",
       "    <tr>\n",
       "      <td>4809</td>\n",
       "      <td>FIFA 14</td>\n",
       "      <td>PC</td>\n",
       "      <td>2013</td>\n",
       "      <td>Sports</td>\n",
       "      <td>0.01</td>\n",
       "      <td>0.36</td>\n",
       "      <td>0.00</td>\n",
       "      <td>0.03</td>\n",
       "      <td>87.0</td>\n",
       "      <td>4.6</td>\n",
       "      <td>E</td>\n",
       "    </tr>\n",
       "    <tr>\n",
       "      <td>4985</td>\n",
       "      <td>FIFA 14</td>\n",
       "      <td>Wii</td>\n",
       "      <td>2013</td>\n",
       "      <td>Sports</td>\n",
       "      <td>0.00</td>\n",
       "      <td>0.36</td>\n",
       "      <td>0.00</td>\n",
       "      <td>0.02</td>\n",
       "      <td>NaN</td>\n",
       "      <td>4.3</td>\n",
       "      <td>E</td>\n",
       "    </tr>\n",
       "    <tr>\n",
       "      <td>6871</td>\n",
       "      <td>FIFA 14</td>\n",
       "      <td>3DS</td>\n",
       "      <td>2013</td>\n",
       "      <td>Sports</td>\n",
       "      <td>0.00</td>\n",
       "      <td>0.22</td>\n",
       "      <td>0.00</td>\n",
       "      <td>0.01</td>\n",
       "      <td>NaN</td>\n",
       "      <td>NaN</td>\n",
       "      <td>NaN</td>\n",
       "    </tr>\n",
       "    <tr>\n",
       "      <td>7875</td>\n",
       "      <td>FIFA 14</td>\n",
       "      <td>PSP</td>\n",
       "      <td>2013</td>\n",
       "      <td>Sports</td>\n",
       "      <td>0.00</td>\n",
       "      <td>0.15</td>\n",
       "      <td>0.00</td>\n",
       "      <td>0.04</td>\n",
       "      <td>NaN</td>\n",
       "      <td>3.4</td>\n",
       "      <td>E</td>\n",
       "    </tr>\n",
       "  </tbody>\n",
       "</table>\n",
       "</div>"
      ],
      "text/plain": [
       "         name platform  year_of_release   genre  na_sales  eu_sales  jp_sales  \\\n",
       "126   FIFA 14      PS3             2013  Sports      0.78      4.24      0.07   \n",
       "271   FIFA 14     X360             2013  Sports      0.92      2.89      0.01   \n",
       "469   FIFA 14      PS4             2013  Sports      0.61      1.85      0.11   \n",
       "1753  FIFA 14     XOne             2013  Sports      0.41      0.66      0.00   \n",
       "4699  FIFA 14      PSV             2013  Sports      0.08      0.23      0.01   \n",
       "4809  FIFA 14       PC             2013  Sports      0.01      0.36      0.00   \n",
       "4985  FIFA 14      Wii             2013  Sports      0.00      0.36      0.00   \n",
       "6871  FIFA 14      3DS             2013  Sports      0.00      0.22      0.00   \n",
       "7875  FIFA 14      PSP             2013  Sports      0.00      0.15      0.00   \n",
       "\n",
       "      other_sales  critic_score  user_score rating  \n",
       "126          1.37          86.0         4.3      E  \n",
       "271          0.40          84.0         4.2      E  \n",
       "469          0.44          87.0         6.3      E  \n",
       "1753         0.09          88.0         5.8      E  \n",
       "4699         0.09           NaN         1.8      E  \n",
       "4809         0.03          87.0         4.6      E  \n",
       "4985         0.02           NaN         4.3      E  \n",
       "6871         0.01           NaN         NaN    NaN  \n",
       "7875         0.04           NaN         3.4      E  "
      ]
     },
     "execution_count": 25,
     "metadata": {},
     "output_type": "execute_result"
    }
   ],
   "source": [
    "games.query('name == \"FIFA 14\"')"
   ]
  },
  {
   "cell_type": "markdown",
   "metadata": {},
   "source": [
    "В названиях игр есть повторяющиеся значения, но это не ошибка — как мы упоминали выше, одни и те же игры могут издаваться на разных платформах, и в таблице это разные позиции для каждой платформы со своим набором данных о продажах и рейтингах."
   ]
  },
  {
   "cell_type": "code",
   "execution_count": 26,
   "metadata": {},
   "outputs": [
    {
     "data": {
      "text/plain": [
       "2600     133\n",
       "3DO        3\n",
       "3DS      520\n",
       "DC        52\n",
       "DS      2151\n",
       "GB        98\n",
       "GBA      822\n",
       "GC       556\n",
       "GEN       27\n",
       "GG         1\n",
       "N64      319\n",
       "NES       98\n",
       "NG        12\n",
       "PC       974\n",
       "PCFX       1\n",
       "PS      1197\n",
       "PS2     2161\n",
       "PS3     1331\n",
       "PS4      392\n",
       "PSP     1209\n",
       "PSV      430\n",
       "SAT      173\n",
       "SCD        6\n",
       "SNES     239\n",
       "TG16       2\n",
       "WS         6\n",
       "Wii     1320\n",
       "WiiU     147\n",
       "X360    1262\n",
       "XB       824\n",
       "XOne     247\n",
       "Name: platform, dtype: int64"
      ]
     },
     "execution_count": 26,
     "metadata": {},
     "output_type": "execute_result"
    }
   ],
   "source": [
    "games['platform'].value_counts().sort_index()"
   ]
  },
  {
   "cell_type": "code",
   "execution_count": 27,
   "metadata": {},
   "outputs": [
    {
     "data": {
      "text/plain": [
       "Action          3369\n",
       "Sports          2348\n",
       "Misc            1750\n",
       "Role-Playing    1498\n",
       "Shooter         1323\n",
       "Adventure       1303\n",
       "Racing          1249\n",
       "Platform         888\n",
       "Simulation       873\n",
       "Fighting         849\n",
       "Strategy         683\n",
       "Puzzle           580\n",
       "Name: genre, dtype: int64"
      ]
     },
     "execution_count": 27,
     "metadata": {},
     "output_type": "execute_result"
    }
   ],
   "source": [
    "games['genre'].value_counts()"
   ]
  },
  {
   "cell_type": "markdown",
   "metadata": {},
   "source": [
    "Также нет ошибок в названиях платформ и жанров."
   ]
  },
  {
   "cell_type": "code",
   "execution_count": 28,
   "metadata": {},
   "outputs": [
    {
     "data": {
      "text/plain": [
       "AO         1\n",
       "E       3990\n",
       "E10+    1420\n",
       "EC         8\n",
       "K-A        3\n",
       "M       1563\n",
       "RP         3\n",
       "T       2961\n",
       "Name: rating, dtype: int64"
      ]
     },
     "execution_count": 28,
     "metadata": {},
     "output_type": "execute_result"
    }
   ],
   "source": [
    "games['rating'].value_counts().sort_index()"
   ]
  },
  {
   "cell_type": "code",
   "execution_count": 29,
   "metadata": {},
   "outputs": [],
   "source": [
    "games.loc[games['rating'] == 'K-A', 'rating'] = 'E'"
   ]
  },
  {
   "cell_type": "markdown",
   "metadata": {},
   "source": [
    "Рейтинги ESRB указаны правильно, кроме одного значения: рейтинг K-A (Kids to Adults) — это старое название рейтинга E (Everyone), использовалось до 1998 года. Поэтому их можно объединить."
   ]
  },
  {
   "cell_type": "markdown",
   "metadata": {},
   "source": [
    "<a id='205'></a>\n",
    "### Выбросы"
   ]
  },
  {
   "cell_type": "markdown",
   "metadata": {},
   "source": [
    "Выбросы могут быть в данных о продажах; кроме того, были заметны нулевые значения продаж. Оценим распределение данных в этих столбцах с помощью диаграммы распределения:"
   ]
  },
  {
   "cell_type": "code",
   "execution_count": 30,
   "metadata": {},
   "outputs": [
    {
     "data": {
      "image/png": "[encoded data removed]",
      "text/plain": [
       "<Figure size 1080x2016 with 8 Axes>"
      ]
     },
     "metadata": {
      "needs_background": "light"
     },
     "output_type": "display_data"
    }
   ],
   "source": [
    "fig, ax = plt.subplots(4, 2, figsize=(15, 28))\n",
    "test_data = games.copy()\n",
    "i = 0\n",
    "    \n",
    "for column in ['na_sales', 'eu_sales', 'jp_sales', 'other_sales']:\n",
    "    sns.distplot(games[column], hist=False, kde_kws={'shade': True}, \n",
    "                 ax=ax[i, 0]).set_title('Актуальные данные '+column)\n",
    "    \n",
    "    test_data.loc[test_data[column] == 0, column] = np.nan\n",
    "    sns.distplot(test_data[column], hist=False, kde_kws={'shade': True}, color='#e5c494', \n",
    "                 ax=ax[i, 1]).set_title('Тестовые данные '+column+' без нулей')\n",
    "    \n",
    "    i += 1"
   ]
  },
  {
   "cell_type": "markdown",
   "metadata": {},
   "source": [
    "По диаграммам мы видим, что абсолютное большинство всех значений собрано возле нуля, и даже удаление нулей не меняет ситуацию значительно. Возможно, это какие-то сверхмалые продажи или отсутствие продаж в этом регионе. Рассмотрим их подробнее:"
   ]
  },
  {
   "cell_type": "code",
   "execution_count": 31,
   "metadata": {},
   "outputs": [
    {
     "data": {
      "text/plain": [
       "215     0.00000000000000000000\n",
       "340     0.00000000000000000000\n",
       "385     0.00000000000000000000\n",
       "403     0.00000000000000000000\n",
       "428     0.00000000000000000000\n",
       "                 ...          \n",
       "16709   0.00000000000000000000\n",
       "16710   0.00000000000000000000\n",
       "16711   0.00000000000000000000\n",
       "16712   0.00000000000000000000\n",
       "16714   0.00000000000000000000\n",
       "Name: na_sales, Length: 4507, dtype: float64"
      ]
     },
     "metadata": {},
     "output_type": "display_data"
    }
   ],
   "source": [
    "with pd.option_context('display.float_format', '{:.20f}'.format):\n",
    "    display(games.query('na_sales < 0.01')['na_sales'])"
   ]
  },
  {
   "cell_type": "code",
   "execution_count": 32,
   "metadata": {},
   "outputs": [
    {
     "data": {
      "text/plain": [
       "0       41.35999999999999943157\n",
       "1       29.07999999999999829470\n",
       "2       15.67999999999999971578\n",
       "3       15.60999999999999943157\n",
       "4       11.26999999999999957367\n",
       "                  ...          \n",
       "16698    0.01000000000000000021\n",
       "16704    0.01000000000000000021\n",
       "16706    0.01000000000000000021\n",
       "16708    0.01000000000000000021\n",
       "16713    0.01000000000000000021\n",
       "Name: na_sales, Length: 12206, dtype: float64"
      ]
     },
     "metadata": {},
     "output_type": "display_data"
    }
   ],
   "source": [
    "with pd.option_context('display.float_format', '{:.20f}'.format):\n",
    "    display(games.query('na_sales != 0')['na_sales'])"
   ]
  },
  {
   "cell_type": "markdown",
   "metadata": {},
   "source": [
    "Все-таки очень небольшие продажи встречаются, но они не настолько небольшие, чтобы выглядеть как нули. И нулевых значений довольно много, 4507. Посмотрим, есть ли игры, для которых все продажи нулевые:"
   ]
  },
  {
   "cell_type": "code",
   "execution_count": 33,
   "metadata": {},
   "outputs": [
    {
     "data": {
      "text/html": [
       "<div>\n",
       "<style scoped>\n",
       "    .dataframe tbody tr th:only-of-type {\n",
       "        vertical-align: middle;\n",
       "    }\n",
       "\n",
       "    .dataframe tbody tr th {\n",
       "        vertical-align: top;\n",
       "    }\n",
       "\n",
       "    .dataframe thead th {\n",
       "        text-align: right;\n",
       "    }\n",
       "</style>\n",
       "<table border=\"1\" class=\"dataframe\">\n",
       "  <thead>\n",
       "    <tr style=\"text-align: right;\">\n",
       "      <th></th>\n",
       "      <th>name</th>\n",
       "      <th>platform</th>\n",
       "      <th>year_of_release</th>\n",
       "      <th>genre</th>\n",
       "      <th>na_sales</th>\n",
       "      <th>eu_sales</th>\n",
       "      <th>jp_sales</th>\n",
       "      <th>other_sales</th>\n",
       "      <th>critic_score</th>\n",
       "      <th>user_score</th>\n",
       "      <th>rating</th>\n",
       "    </tr>\n",
       "  </thead>\n",
       "  <tbody>\n",
       "    <tr>\n",
       "      <td>16676</td>\n",
       "      <td>G1 Jockey 4 2008</td>\n",
       "      <td>PS3</td>\n",
       "      <td>2008</td>\n",
       "      <td>Sports</td>\n",
       "      <td>0.0</td>\n",
       "      <td>0.0</td>\n",
       "      <td>0.0</td>\n",
       "      <td>0.0</td>\n",
       "      <td>NaN</td>\n",
       "      <td>NaN</td>\n",
       "      <td>NaN</td>\n",
       "    </tr>\n",
       "    <tr>\n",
       "      <td>16709</td>\n",
       "      <td>SCORE International Baja 1000: The Official Game</td>\n",
       "      <td>PS2</td>\n",
       "      <td>2008</td>\n",
       "      <td>Racing</td>\n",
       "      <td>0.0</td>\n",
       "      <td>0.0</td>\n",
       "      <td>0.0</td>\n",
       "      <td>0.0</td>\n",
       "      <td>NaN</td>\n",
       "      <td>NaN</td>\n",
       "      <td>NaN</td>\n",
       "    </tr>\n",
       "  </tbody>\n",
       "</table>\n",
       "</div>"
      ],
      "text/plain": [
       "                                                   name platform  \\\n",
       "16676                                  G1 Jockey 4 2008      PS3   \n",
       "16709  SCORE International Baja 1000: The Official Game      PS2   \n",
       "\n",
       "       year_of_release   genre  na_sales  eu_sales  jp_sales  other_sales  \\\n",
       "16676             2008  Sports       0.0       0.0       0.0          0.0   \n",
       "16709             2008  Racing       0.0       0.0       0.0          0.0   \n",
       "\n",
       "       critic_score  user_score rating  \n",
       "16676           NaN         NaN    NaN  \n",
       "16709           NaN         NaN    NaN  "
      ]
     },
     "execution_count": 33,
     "metadata": {},
     "output_type": "execute_result"
    }
   ],
   "source": [
    "games.query('na_sales == 0 and eu_sales == 0 and jp_sales == 0 and other_sales == 0')"
   ]
  },
  {
   "cell_type": "markdown",
   "metadata": {},
   "source": [
    "Всего две игры. Значит, для остальных 4505 есть данные о продажах хотя бы в одном регионе, такое возможно."
   ]
  },
  {
   "cell_type": "code",
   "execution_count": 34,
   "metadata": {},
   "outputs": [
    {
     "data": {
      "text/html": [
       "<div>\n",
       "<style scoped>\n",
       "    .dataframe tbody tr th:only-of-type {\n",
       "        vertical-align: middle;\n",
       "    }\n",
       "\n",
       "    .dataframe tbody tr th {\n",
       "        vertical-align: top;\n",
       "    }\n",
       "\n",
       "    .dataframe thead th {\n",
       "        text-align: right;\n",
       "    }\n",
       "</style>\n",
       "<table border=\"1\" class=\"dataframe\">\n",
       "  <thead>\n",
       "    <tr style=\"text-align: right;\">\n",
       "      <th></th>\n",
       "      <th>na_sales</th>\n",
       "      <th>eu_sales</th>\n",
       "      <th>jp_sales</th>\n",
       "      <th>other_sales</th>\n",
       "    </tr>\n",
       "  </thead>\n",
       "  <tbody>\n",
       "    <tr>\n",
       "      <td>count</td>\n",
       "      <td>16713.00</td>\n",
       "      <td>16713.00</td>\n",
       "      <td>16713.00</td>\n",
       "      <td>16713.00</td>\n",
       "    </tr>\n",
       "    <tr>\n",
       "      <td>mean</td>\n",
       "      <td>0.26</td>\n",
       "      <td>0.15</td>\n",
       "      <td>0.08</td>\n",
       "      <td>0.05</td>\n",
       "    </tr>\n",
       "    <tr>\n",
       "      <td>std</td>\n",
       "      <td>0.81</td>\n",
       "      <td>0.50</td>\n",
       "      <td>0.31</td>\n",
       "      <td>0.19</td>\n",
       "    </tr>\n",
       "    <tr>\n",
       "      <td>min</td>\n",
       "      <td>0.00</td>\n",
       "      <td>0.00</td>\n",
       "      <td>0.00</td>\n",
       "      <td>0.00</td>\n",
       "    </tr>\n",
       "    <tr>\n",
       "      <td>25%</td>\n",
       "      <td>0.00</td>\n",
       "      <td>0.00</td>\n",
       "      <td>0.00</td>\n",
       "      <td>0.00</td>\n",
       "    </tr>\n",
       "    <tr>\n",
       "      <td>50%</td>\n",
       "      <td>0.08</td>\n",
       "      <td>0.02</td>\n",
       "      <td>0.00</td>\n",
       "      <td>0.01</td>\n",
       "    </tr>\n",
       "    <tr>\n",
       "      <td>75%</td>\n",
       "      <td>0.24</td>\n",
       "      <td>0.11</td>\n",
       "      <td>0.04</td>\n",
       "      <td>0.03</td>\n",
       "    </tr>\n",
       "    <tr>\n",
       "      <td>max</td>\n",
       "      <td>41.36</td>\n",
       "      <td>28.96</td>\n",
       "      <td>10.22</td>\n",
       "      <td>10.57</td>\n",
       "    </tr>\n",
       "  </tbody>\n",
       "</table>\n",
       "</div>"
      ],
      "text/plain": [
       "       na_sales  eu_sales  jp_sales  other_sales\n",
       "count  16713.00  16713.00  16713.00     16713.00\n",
       "mean       0.26      0.15      0.08         0.05\n",
       "std        0.81      0.50      0.31         0.19\n",
       "min        0.00      0.00      0.00         0.00\n",
       "25%        0.00      0.00      0.00         0.00\n",
       "50%        0.08      0.02      0.00         0.01\n",
       "75%        0.24      0.11      0.04         0.03\n",
       "max       41.36     28.96     10.22        10.57"
      ]
     },
     "metadata": {},
     "output_type": "display_data"
    }
   ],
   "source": [
    "with pd.option_context('display.float_format', '{:.2f}'.format):\n",
    "    display(games[['na_sales', 'eu_sales', 'jp_sales', 'other_sales']].describe())"
   ]
  },
  {
   "cell_type": "markdown",
   "metadata": {},
   "source": [
    "Разброс между минимальными и максимальными значениями продаж очень велик, а большинство значений не превышают 0,24 млн долларов. При этом игры с большими значениями вполне могут существовать, это ограниченное количество бестселлеров. Процедура очистки от пропусков приведет к тому, что мы избавимся от этих игр — это неправильно для дальнейшего анализа. Поэтому оставим эти данные в том же виде."
   ]
  },
  {
   "cell_type": "markdown",
   "metadata": {},
   "source": [
    "Выбросы также теоретически могут быть в значениях оценок критиков и пользователей, хотя это рейтинговая шкала с ограниченным разбросом значений. Для уверенности также изучим распределение в этих столбцах:"
   ]
  },
  {
   "cell_type": "code",
   "execution_count": 35,
   "metadata": {},
   "outputs": [
    {
     "data": {
      "image/png": "[encoded data removed]",
      "text/plain": [
       "<Figure size 1080x360 with 2 Axes>"
      ]
     },
     "metadata": {
      "needs_background": "light"
     },
     "output_type": "display_data"
    }
   ],
   "source": [
    "fig, ax = plt.subplots(1, 2, figsize=(15, 5))\n",
    "i = 0\n",
    "\n",
    "for column in ['critic_score', 'user_score']:\n",
    "    sns.distplot(games[column], hist=False, kde_kws={'shade': True}, ax=ax[i])\n",
    "    ax[i].set_title('Распределение '+column)\n",
    "    i += 1;"
   ]
  },
  {
   "cell_type": "markdown",
   "metadata": {},
   "source": [
    "Здесь ничего аномального не наблюдается. В обоих случаях заметен сдвиг в сторону более высоких оценок, но это типично для рейтинговых шкал. Здесь тоже оставляем, как есть."
   ]
  },
  {
   "cell_type": "markdown",
   "metadata": {},
   "source": [
    "<a id='206'></a>\n",
    "### Подсчет суммарных продаж во всех регионах"
   ]
  },
  {
   "cell_type": "code",
   "execution_count": 36,
   "metadata": {},
   "outputs": [
    {
     "data": {
      "text/plain": [
       "0        82.54\n",
       "1        40.24\n",
       "2        35.52\n",
       "3        32.77\n",
       "4        31.38\n",
       "         ...  \n",
       "16710     0.01\n",
       "16711     0.01\n",
       "16712     0.01\n",
       "16713     0.01\n",
       "16714     0.01\n",
       "Name: total_sales, Length: 16713, dtype: float64"
      ]
     },
     "execution_count": 36,
     "metadata": {},
     "output_type": "execute_result"
    }
   ],
   "source": [
    "games['total_sales'] = games['na_sales'] + games['eu_sales'] + games['jp_sales'] + games['other_sales']\n",
    "games['total_sales']"
   ]
  },
  {
   "cell_type": "markdown",
   "metadata": {},
   "source": [
    "<a id='207'></a>\n",
    "### Выводы из предобработки данных\n",
    "\n",
    "- Все названия столбцов приведены к нижнему регистру для удобства.\n",
    "- Данные переведены в нужные типы. Некорректные типы данных были в двух столбцах: `year_of_release` был в формате `float` из-за пропусков, которые классифицируются этим типом; `user_score` был в формате `object` из-за категории TBD — она обозначала не выставленный рейтинг из-за нехватки оценок пользователей, по смыслу это означает, что для этих игр нет пользовательского рейтинга.\n",
    "- 2 пропуска в `name` и `genre` были в одних и тех же строках, их пришлось удалить; 269 пропусков в `year_of_release` удалось заполнить медианными значениями, сгруппированными по платформам; для многочисленных пропусков в столбцах с рейтингами подходящей адекватной замены не нашлось, пропуски в этих столбцах остались.\n",
    "- В стобце с рейтингом ESRB были найдены 3 значения с дублированной категорией, которые были объединены с более крупной группой; в остальном ни полные, ни скрытые дубликаты не были обнаружены.\n",
    "- Данные о продажах и оценках критиков и пользователей проверили на выбросы: хотя распределения данных там далеки от идеальных и формально выбросы есть в большом количестве, избавление от них сильно испортит дальнейший анализ данных, поэтому эти значения остались без изменений."
   ]
  },
  {
   "cell_type": "markdown",
   "metadata": {},
   "source": [
    "<a id='part_3'></a>\n",
    "## Шаг 3. Исследовательский анализ данных"
   ]
  },
  {
   "cell_type": "markdown",
   "metadata": {},
   "source": [
    "<a id='301'></a>\n",
    "### Сколько игр выпускалось в разные годы"
   ]
  },
  {
   "cell_type": "markdown",
   "metadata": {},
   "source": [
    "Чтобы посмотреть, сколько игр выпускалось в разные годы, выведем столбцовый график:"
   ]
  },
  {
   "cell_type": "code",
   "execution_count": 37,
   "metadata": {},
   "outputs": [
    {
     "data": {
      "image/png": "[encoded data removed]",
      "text/plain": [
       "<Figure size 1080x648 with 1 Axes>"
      ]
     },
     "metadata": {
      "needs_background": "light"
     },
     "output_type": "display_data"
    }
   ],
   "source": [
    "(games['year_of_release'].value_counts().sort_index()\n",
    " .plot(kind='bar', rot=45, title='Количество изданных игр по годам')\n",
    " .set(xlabel='Год выпуска игры', ylabel='Количество выпущенных игр'));"
   ]
  },
  {
   "cell_type": "markdown",
   "metadata": {},
   "source": [
    "Визуально можно определить несколько периодов, по которым выпуск игр различается: 1994-2001, 2002-2007, 2008-2011, 2012-2016. Это разделение можно рассмотреть в контексте платформ, на которых выпускались игры. Вообще игровые приставки принято объединять в поколения — группы с общими годами продаж и схожим аппаратным и программным оснащением. Некоторое исключение здесь — персональный компьютер (*PC*): он вписывается в разные поколения по техническим возможностям и делит долю продаж (многие игры выходят сразу на нескольких платформах), но в данных нет специального разделения на поколения ПК как игровой платформы, эта разница видна только по годам. Кроме того, традиционно развивают технологии, механики и восприятие игр именно приставки.\n",
    "\n",
    "Хотя разные устройства в рамках одного поколения определенно конкурируют за внимание игроков и место в доме, успешность отдельных приставок обычно влияет на успешность всего поколения: например, если на *Playstation 4* выходят «громкие» релизы, которые привлекают внимание людей за пределами сообщества «хардкорных» игроков, это помогает и продажам *Xbox One* через интерес к индустрии в целом. Поэтому такая обобщенная временная перспектива позволяет делать оценку выпуска игр и выручки издателей по временным периодам.\n",
    "\n",
    "Кроме того, поколения накладываются друг на друга: так, с 2011 года идет последнее 8-е поколение игровых платформ, а предыдущее 7-е поколение продолжается с 2005 года (однако, официальная поддержка всех консолей этого поколения на конец 2016 года уже прекращена). Т.е. при выходе новых приставок предыдущие продолжают поддерживаться, на них ещё некоторое время выходят новые игры, старые пользуются спросом. Самые успешные игры обычно выходят ближе к концу поколения, когда разработчики могут раскрыть максимум возможностей аппаратного оснащения консоли, поэтому часто эти игры перевыпускают на следующих поколениях: например, выдающаяся сюжетно и технически игра *The Last of Us* сначала вышла на *PS3*, а через год была перевыпущена на *PS4*. Поэтому есть смысл рассматривать продажи внутри всего поколения даже при наличии более новых консолей."
   ]
  },
  {
   "cell_type": "markdown",
   "metadata": {},
   "source": [
    "<a id='302'></a>\n",
    "### Как менялись продажи по платформам"
   ]
  },
  {
   "cell_type": "markdown",
   "metadata": {},
   "source": [
    "Посмотрим, на каких платформах суммарные продажи — самые высокие:"
   ]
  },
  {
   "cell_type": "code",
   "execution_count": 38,
   "metadata": {},
   "outputs": [
    {
     "data": {
      "text/plain": [
       "platform\n",
       "PS2     1255.77\n",
       "X360     971.42\n",
       "PS3      939.65\n",
       "Wii      907.51\n",
       "DS       806.12\n",
       "PS       730.86\n",
       "GBA      317.85\n",
       "PS4      314.14\n",
       "PSP      294.05\n",
       "PC       259.52\n",
       "Name: total_sales, dtype: float64"
      ]
     },
     "metadata": {},
     "output_type": "display_data"
    }
   ],
   "source": [
    "# выбор платформ с наибольшим количеством продаж\n",
    "display(games.groupby('platform')['total_sales'].sum().sort_values(ascending=False).head(10))\n",
    "top_sales_platforms = games.groupby('platform')['total_sales'].sum().sort_values().tail(6)"
   ]
  },
  {
   "cell_type": "markdown",
   "metadata": {},
   "source": [
    "Здесь видно, что больше всего за наблюдаемый период заработали 6 платформ: *Xbox 360*, *Sony Playstation 1, 2* и *3*, а также *Nintendo DS* и *Wii*. При этом *Xbox 360, PS3, Wii* и *DS* принадлежат к одному поколению (2005-2017). Рассмотрим, как распределялись продажи игр на этих платформах в пределах их срока выпуска:"
   ]
  },
  {
   "cell_type": "code",
   "execution_count": 39,
   "metadata": {},
   "outputs": [
    {
     "data": {
      "image/png": "[encoded data removed]",
      "text/plain": [
       "<Figure size 1080x864 with 6 Axes>"
      ]
     },
     "metadata": {
      "needs_background": "light"
     },
     "output_type": "display_data"
    }
   ],
   "source": [
    "fig, ax = plt.subplots(2, 3, figsize=(15, 12))\n",
    "i = 0\n",
    "j = 0\n",
    "\n",
    "# получение отдельных цветов в указанной цветовой схеме\n",
    "cmap = plt.get_cmap('Set2', len(top_sales_platforms.index))\n",
    "\n",
    "# графики для первого ряда сетки\n",
    "for platform in top_sales_platforms.sort_index().index[[1, 2, 0]]:\n",
    "    (games[games['platform'] == platform].groupby('year_of_release')['total_sales'].sum()\n",
    "     .plot(kind='bar', ax=ax[0, i], color=cmap(i), rot=45, label=platform)\n",
    "     .set(xlabel='Год выпуска игры', ylabel='Сумма продаж в год'))\n",
    "    ax[0, i].legend()\n",
    "    i += 1\n",
    "\n",
    "# графики для второго ряда сетки\n",
    "for platform in top_sales_platforms.sort_index().index[3:]:\n",
    "    (games[games['platform'] == platform].groupby('year_of_release')['total_sales'].sum()\n",
    "     .plot(kind='bar', ax=ax[1, j], color=cmap(i+j), rot=45, label=platform)\n",
    "     .set(xlabel='Год выпуска игры', ylabel='Сумма глобальных продаж'))\n",
    "    ax[1, j].legend()\n",
    "    j += 1\n",
    "\n",
    "plt.suptitle('Продажи игр в период цикла жизни платформы', y=0.92);"
   ]
  },
  {
   "cell_type": "markdown",
   "metadata": {},
   "source": [
    "На графиках мы наблюдаем с небольшими отклонениями очень схожие тенденции с постепенным ростом от старта продаж, пика посередине периода жизни консоли и плавного снижения продаж к концу периода. Заметное снижение по сравнению с предыдущим годом происходит в год выпуска консолей следующего поколения: \n",
    "- *PS2* была анонсирована в 1999 и выпущена в 2000 году, в эти же годы продажи игр *PS1* начинают снижаться; \n",
    "- также происходит и с *PS2*, когда *PS3* поступила в продажу в 2006 году. \n",
    "Это значит, что продажи игр следуют за циклом обновления консолей.\n",
    "\n",
    "Касаемо отклонений от тенденции:\n",
    "- *PS2* является самой быстропродаваемой и популярной консолью в истории, как раз на нее приходится больше всего игр в нашей таблице; кроме того, *PS2* поддерживалась дольше всех других консолей, 13 лет. Это и показывает правосторонняя асимметрия на графике: много продаж в первые годы и более длинный хвост.\n",
    "- У *Nintendo Wii* продажи игр на поздних этапах жизни платформы начали падать раньше, чем у других консолей этого же поколения — это потому, что ее официальная поддержка закончилась раньше, в 2013 году с выпуском *Nintendo Wii U*. Для сравнения, *Xbox 360* и *PS3* поддерживались до 2016 года, поэтому там снижение продаж более плавное.\n",
    "\n",
    "Также заметно, что для *Nintendo DS* есть столбец с 1985 годом, но это может быть ошибкой: консоль была выпущена в 2004 году. Рассмотрим, что за игры попали в этот период:"
   ]
  },
  {
   "cell_type": "code",
   "execution_count": 40,
   "metadata": {},
   "outputs": [
    {
     "data": {
      "text/html": [
       "<div>\n",
       "<style scoped>\n",
       "    .dataframe tbody tr th:only-of-type {\n",
       "        vertical-align: middle;\n",
       "    }\n",
       "\n",
       "    .dataframe tbody tr th {\n",
       "        vertical-align: top;\n",
       "    }\n",
       "\n",
       "    .dataframe thead th {\n",
       "        text-align: right;\n",
       "    }\n",
       "</style>\n",
       "<table border=\"1\" class=\"dataframe\">\n",
       "  <thead>\n",
       "    <tr style=\"text-align: right;\">\n",
       "      <th></th>\n",
       "      <th>name</th>\n",
       "      <th>platform</th>\n",
       "      <th>year_of_release</th>\n",
       "      <th>genre</th>\n",
       "      <th>na_sales</th>\n",
       "      <th>eu_sales</th>\n",
       "      <th>jp_sales</th>\n",
       "      <th>other_sales</th>\n",
       "      <th>critic_score</th>\n",
       "      <th>user_score</th>\n",
       "      <th>rating</th>\n",
       "      <th>total_sales</th>\n",
       "    </tr>\n",
       "  </thead>\n",
       "  <tbody>\n",
       "    <tr>\n",
       "      <td>15957</td>\n",
       "      <td>Strongest Tokyo University Shogi DS</td>\n",
       "      <td>DS</td>\n",
       "      <td>1985</td>\n",
       "      <td>Action</td>\n",
       "      <td>0.0</td>\n",
       "      <td>0.0</td>\n",
       "      <td>0.02</td>\n",
       "      <td>0.0</td>\n",
       "      <td>NaN</td>\n",
       "      <td>NaN</td>\n",
       "      <td>NaN</td>\n",
       "      <td>0.02</td>\n",
       "    </tr>\n",
       "  </tbody>\n",
       "</table>\n",
       "</div>"
      ],
      "text/plain": [
       "                                      name platform  year_of_release   genre  \\\n",
       "15957  Strongest Tokyo University Shogi DS       DS             1985  Action   \n",
       "\n",
       "       na_sales  eu_sales  jp_sales  other_sales  critic_score  user_score  \\\n",
       "15957       0.0       0.0      0.02          0.0           NaN         NaN   \n",
       "\n",
       "      rating  total_sales  \n",
       "15957    NaN         0.02  "
      ]
     },
     "execution_count": 40,
     "metadata": {},
     "output_type": "execute_result"
    }
   ],
   "source": [
    "games.query('platform == \"DS\" and year_of_release == 1985')"
   ]
  },
  {
   "cell_type": "markdown",
   "metadata": {},
   "source": [
    "Найти игру с таким названием совсем не получилось; одну строку можно безопасно удалить из таблицы."
   ]
  },
  {
   "cell_type": "code",
   "execution_count": 41,
   "metadata": {},
   "outputs": [
    {
     "data": {
      "text/plain": [
       "2004     23\n",
       "2005    118\n",
       "2006    201\n",
       "2007    376\n",
       "2008    522\n",
       "2009    403\n",
       "2010    323\n",
       "2011    153\n",
       "2012     23\n",
       "2013      8\n",
       "Name: year_of_release, dtype: int64"
      ]
     },
     "execution_count": 41,
     "metadata": {},
     "output_type": "execute_result"
    }
   ],
   "source": [
    "games = games.drop(games.query('platform == \"DS\" and year_of_release == 1985').index[0])\n",
    "games.query('platform == \"DS\"')['year_of_release'].value_counts().sort_index()"
   ]
  },
  {
   "cell_type": "markdown",
   "metadata": {},
   "source": [
    "Теперь, когда все годы указаны верно, мы можем высчитать период, в течение которого сохраняется спрос на игры самых популярных консолей (учитывая, что данные ограничены 2016-м годом):"
   ]
  },
  {
   "cell_type": "code",
   "execution_count": 42,
   "metadata": {},
   "outputs": [
    {
     "name": "stdout",
     "output_type": "stream",
     "text": [
      "Время жизни платформы PS: 9 лет\n",
      "Время жизни платформы DS: 9 лет\n",
      "Время жизни платформы Wii: 10 лет\n",
      "Время жизни платформы PS3: 10 лет\n",
      "Время жизни платформы X360: 11 лет\n",
      "Время жизни платформы PS2: 11 лет\n"
     ]
    }
   ],
   "source": [
    "for platform in top_sales_platforms.index:\n",
    "    print('Время жизни платформы', platform+':', (games[games['platform'] == platform]['year_of_release']\n",
    "                                                  .value_counts().sort_index().index[-1] - \\\n",
    "                                                  games[games['platform'] == platform]['year_of_release']\n",
    "                                                  .value_counts().sort_index().index[0]), 'лет')"
   ]
  },
  {
   "cell_type": "markdown",
   "metadata": {},
   "source": [
    "Выходит, что примерное время жизни платформы — 10 лет. Как было сказано выше, *PS2* официально поддерживалась 13 лет, с 2000 по 2013 год. Но в наших данных последние продажи игр этой платформы пришлись на 2011 год — видимо, к этому времени уже ничего не выпускали. Это объяснимо: в 2013 уже была выпущена *PS4*."
   ]
  },
  {
   "cell_type": "markdown",
   "metadata": {},
   "source": [
    "<a id='303'></a>\n",
    "### Определение актуального периода: какие данные нужны для прогноза на 2017 год"
   ]
  },
  {
   "cell_type": "markdown",
   "metadata": {},
   "source": [
    "Итак, из наших данных мы знаем, что в выпуске игр есть наблюдаемые периоды роста, которые занимают несколько лет, что продажи игр подчиняются циклу обновления платформ и что время жизни платформы составляет около 10 лет. Исходя из этого, мы можем определить тот период, который поможет сделать прогноз на 2017 год.\n",
    "\n",
    "На конец 2016 года ситуация такая: актуальное поколение консолей — 8-е поколение, куда входят домашние приставки *Sony PS4*, *Microsoft Xbox One* и *Nintendo Wii U*, а также портативные консоли *Sony PS Vita* и *Nintendo 3DS*. Предыдущее, 7-е поколение, которое началось в конце 2005-го, к этому времени заканчивается, производители объявляют о завершении поддержки этих платформ. По предыдущим графикам мы видели, что 3 основные консоли 7-го поколения (*PS3*, *Xbox360* и *Wii*) показывают минимальные продажи в 2016-м году.\n",
    "\n",
    "Следовательно, нам стоит взять для анализа игры на платформах 8-го поколения, которые начали продаваться в 2011 году, а также ПК-релизы за этот же период. Для надежности сравним количество выпущенных с 2011 по 2016 год игр для двух поколений, а также уровень продаж."
   ]
  },
  {
   "cell_type": "code",
   "execution_count": 43,
   "metadata": {},
   "outputs": [
    {
     "name": "stdout",
     "output_type": "stream",
     "text": [
      "Игр выпущено в 7-м поколении консолей с 2011 года: 1924\n",
      "Игр выпущено в 8-м поколении консолей с 2011 года: 2125\n"
     ]
    }
   ],
   "source": [
    "games_gen7 = (games.query(\"platform.isin(['PS3', 'X360', 'Wii', 'PSP', 'DS']) and year_of_release >= 2011\")\n",
    "              .sort_index())\n",
    "games_gen8 = (games.query(\"platform.isin(['PS4', 'XOne', 'WiiU', 'PSV', '3DS'])\")\n",
    "              .append(games.query(\"platform == 'PC' and year_of_release >= 2011\")).sort_index())\n",
    "\n",
    "print('Игр выпущено в 7-м поколении консолей с 2011 года:', len(games_gen7))\n",
    "print('Игр выпущено в 8-м поколении консолей с 2011 года:', len(games_gen8))"
   ]
  },
  {
   "cell_type": "code",
   "execution_count": 44,
   "metadata": {},
   "outputs": [
    {
     "data": {
      "image/png": "[encoded data removed]",
      "text/plain": [
       "<Figure size 1080x504 with 2 Axes>"
      ]
     },
     "metadata": {
      "needs_background": "light"
     },
     "output_type": "display_data"
    }
   ],
   "source": [
    "fig, ax = plt.subplots(1, 2, figsize=(15, 7))\n",
    "i = 0\n",
    "j = 7\n",
    "\n",
    "for data in [games_gen7, games_gen8]:\n",
    "    (data['platform'].value_counts()\n",
    "     .plot(kind='bar', ax=ax[i], ylim=(0, 770), rot=45, \n",
    "           title='Количество игр на ' + str(j) + '-м поколении с 2011 года (по платформам)')\n",
    "     .set(xlabel='Игровые платформы', ylabel='Количество выпущенных игр'))\n",
    "    i += 1\n",
    "    j += 1;"
   ]
  },
  {
   "cell_type": "code",
   "execution_count": 45,
   "metadata": {},
   "outputs": [
    {
     "data": {
      "image/png": "[encoded data removed]",
      "text/plain": [
       "<Figure size 1080x504 with 2 Axes>"
      ]
     },
     "metadata": {
      "needs_background": "light"
     },
     "output_type": "display_data"
    }
   ],
   "source": [
    "fig, ax = plt.subplots(1, 2, figsize=(15, 7))\n",
    "i = 0\n",
    "j = 7\n",
    "\n",
    "for data in [games_gen7, games_gen8]:\n",
    "    (data[[x for x in data.columns if 'sales' in x] + ['year_of_release']].groupby('year_of_release').sum()\n",
    "     .plot(kind='bar', ax=ax[i], ylim=(0, 450), rot=45, \n",
    "           title='Продажи игр на ' + str(j) + '-м поколении с 2011 года (по годам)')\n",
    "     .set(xlabel='Год выпуска игры', ylabel='Суммарные продажи'))\n",
    "    i += 1\n",
    "    j += 1;"
   ]
  },
  {
   "cell_type": "markdown",
   "metadata": {},
   "source": [
    "Хотя с 2011 по 2016 год количество новых игр на двух поколениях схожее (нужно учесть, что мы добавляем ПК-релизы только к 8-му поколению, а на них приходится почти 389 наименований), выручка от игр 7-го поколения от года в год падает; 2011-й год — ещё пик развития этого поколения консолей, а с 2014-го продажи уже уступают новым платформам. Для 8-го поколения продажи, наоборот, растут; как мы знаем из изучения цикла жизни консолей, здесь можно ожидать постоянный рост выручки в следующие 2-3 года. Мы также видим, что в 2016-м выручка проседается — возможно, данные о продажах доступны не за весь 2016-й год; многие бестселлеры выходят к концу года.\n",
    "\n",
    "Таким образом, мы можем смело остановиться на данных о платформах 8-м поколения."
   ]
  },
  {
   "cell_type": "markdown",
   "metadata": {},
   "source": [
    "<a id='304'></a>\n",
    "### Какие платформы лидируют по продажам"
   ]
  },
  {
   "cell_type": "markdown",
   "metadata": {},
   "source": [
    "Рассмотрим, насколько успешными по продажам оказались платформы 8-го поколения 2011 по 2016 год:"
   ]
  },
  {
   "cell_type": "code",
   "execution_count": 46,
   "metadata": {},
   "outputs": [
    {
     "data": {
      "image/png": "[encoded data removed]",
      "text/plain": [
       "<Figure size 1080x648 with 1 Axes>"
      ]
     },
     "metadata": {
      "needs_background": "light"
     },
     "output_type": "display_data"
    }
   ],
   "source": [
    "(games_gen8[[x for x in games_gen8.columns if 'sales' in x] + ['platform']].groupby('platform').sum()\n",
    " .sort_values(by='total_sales')\n",
    " .plot(kind='bar', ylim=(0, 500), rot=0, title='Продажи игр на 8-м поколении с 2011 года (по платформам)')\n",
    " .set(xlabel='Игровые платформы', ylabel='Суммарные продажи'));"
   ]
  },
  {
   "cell_type": "markdown",
   "metadata": {},
   "source": [
    "За первые 5 лет текущего поколения наиболее успешной платформой оказалась *PS4*: суммарные продажи почти в 2 раза выше результатов прямого конкурента *Xbox One* и почти в 4 раза выше домашней консоли *Wii U*. На втором месте — портативная консоль *Nintendo 3DS*, ее продажи по сравнению с прямым конкурентом *PS Vita* выше почти в 5 раз. Из региональных различий хочется отдельно отметить, что в Японии абсолютным лидером является *3DS*."
   ]
  },
  {
   "cell_type": "markdown",
   "metadata": {},
   "source": [
    "<a id='305'></a>\n",
    "### График «ящик с усами» по глобальным продажам игр в разбивке по платформам"
   ]
  },
  {
   "cell_type": "markdown",
   "metadata": {},
   "source": [
    "С помощью графика «ящик с усами» сможем оценить разброс в глобальных продажах игр по платформам:"
   ]
  },
  {
   "cell_type": "code",
   "execution_count": 47,
   "metadata": {},
   "outputs": [
    {
     "data": {
      "image/png": "[encoded data removed]",
      "text/plain": [
       "<Figure size 1080x648 with 1 Axes>"
      ]
     },
     "metadata": {
      "needs_background": "light"
     },
     "output_type": "display_data"
    }
   ],
   "source": [
    "fig, ax = plt.subplots()\n",
    "sns.boxplot(x='total_sales', \n",
    "            y='platform', \n",
    "            data=games_gen8, \n",
    "            orient='h', \n",
    "            width=.5, \n",
    "            ax=ax).set(xlabel='Сумма глобальных продаж', \n",
    "                       ylabel='Игровые платформы', \n",
    "                       title='Глобальные продажи игр по платформам 8-го поколения')\n",
    "\n",
    "for i, artist in enumerate(ax.artists):\n",
    "    col = artist.get_facecolor()\n",
    "    artist.set_edgecolor(col)\n",
    "    for j in range(i*6, i*6+6):\n",
    "        line = ax.lines[j]\n",
    "        line.set_mfc(col)\n",
    "        line.set_mec(col);"
   ]
  },
  {
   "cell_type": "markdown",
   "metadata": {},
   "source": [
    "На всех изучаемых нами платформах выручка от большинства игр относительно небольшая: у самой успешной домашней консоли *PS4* продажи почти всех игр находятся в пределах до 1,75 млн долларов; для сравнения большинство игр на *ПК* продаются на сумму чуть больше 500 тыс долларов. Для продаж по всему миру за 5 лет, с учетом, что в целом игры могут пользоваться спросом в течение нескольких лет после выпуска, это нельзя назвать большими суммами. В то же самое время у всех платформ большое количество значений, которые считаются выбросами относительно большинства значений; у *PS4* выручка за игры на верхнем пороге нормы (верхний квартиль плюс полторы сигмы) и самые успешные игры в целом различается более чем в 8 раз. Это значит, двигателями продаж для всех платформ является небольшое количество бестселлеров. \n",
    "\n",
    "Ещё мы видим, что при сравнении прямых конкурентов *PS4* и *Xbox One* у приставки Sony больше успешных игр в целом, а наиболее успешные продаются значительно лучше. Это может быть связано, во-первых, с большим количеством продаж самой *PS4* по сравнению с *Xbox One* — 53,4 млн штук у Sony против 19,1 млн штук у Microsoft к началу 2017 года, и разницей в количестве и успешности эксклюзивных игр на двух платформах.\n",
    "\n",
    "На портативных консолях видим также значительный разрыв между лидирующей *Nintendo 3DS* и находящейся на последнем месте *PS Vita*. Объяснить это можно в том числе разницей в количестве проданных консолей — *3DS* (65,3 млн шт) продано в 4,5 раз больше *PS Vita* (15 млн шт). Кроме того, многие игры на *PS Vita* были переизданиями релизов с предыдущих консолей Playstation, а в актуальные игры на *PS4* можно было играть через удаленное подключение, для этого не требовалась отдельная покупка игры. *Nintendo 3DS* же в этом смысле — более самостоятельная платформа, на ней значительно больше эксклюзивных игр, разработанных только под эту приставку."
   ]
  },
  {
   "cell_type": "code",
   "execution_count": 48,
   "metadata": {},
   "outputs": [
    {
     "data": {
      "image/png": "[encoded data removed]",
      "text/plain": [
       "<Figure size 1080x648 with 1 Axes>"
      ]
     },
     "metadata": {
      "needs_background": "light"
     },
     "output_type": "display_data"
    }
   ],
   "source": [
    "fig, ax = plt.subplots()\n",
    "sns.boxplot(x='total_sales', \n",
    "            y='platform', \n",
    "            data=games_gen8, \n",
    "            orient='h', \n",
    "            width=.5, \n",
    "            ax=ax).set(xlabel='Сумма глобальных продаж', \n",
    "                       ylabel='Игровые платформы', \n",
    "                       title='Глобальные продажи игр по платформам 8-го поколения (до 2 млн)', \n",
    "                       xlim=(-0.1, 2.1))\n",
    "\n",
    "for i, artist in enumerate(ax.artists):\n",
    "    col = artist.get_facecolor()\n",
    "    artist.set_edgecolor(col)\n",
    "    for j in range(i*6, i*6+6):\n",
    "        line = ax.lines[j]\n",
    "        line.set_markerfacecolor(col)\n",
    "        line.set_markeredgecolor(col);"
   ]
  },
  {
   "cell_type": "markdown",
   "metadata": {},
   "source": [
    "Как было сказано выше, выручка большинства игр относительно небольшая: мы видим верхние квартили на показателях от 130 тыс до 750 тыс долларов, что за 5 лет совсем немного. Видим, что медианные значения домашних консолей (*PS4*, *Xbox One*, *Wii U*) примерно на одном уровне, а максимальные значения в пределах нормы видимо различаются. Снова похоже на влияние количества проданных консолей и успешности эксклюзивов, что позволяет *PS4* показывать себя лучше конкурентов. А среди портативных консолей разброс «нормальных» значений и большинства выбросов *PS Vita* укладывается в рамки «нормальной» выборки *Nintendo 3DS* — выручка значительно различается между лидером и догоняющим."
   ]
  },
  {
   "cell_type": "markdown",
   "metadata": {},
   "source": [
    "<a id='306'></a>\n",
    "### Как влияют на продажи отзывы пользователей и критиков"
   ]
  },
  {
   "cell_type": "code",
   "execution_count": 49,
   "metadata": {},
   "outputs": [
    {
     "data": {
      "text/plain": [
       "3DS    520\n",
       "Name: platform, dtype: int64"
      ]
     },
     "execution_count": 49,
     "metadata": {},
     "output_type": "execute_result"
    }
   ],
   "source": [
    "highest_rated_platform = games_gen8[games_gen8['platform'] == games_gen8['platform'].value_counts().index[0]]\n",
    "highest_rated_platform['platform'].value_counts().head(1)"
   ]
  },
  {
   "cell_type": "markdown",
   "metadata": {},
   "source": [
    "Самая популярная платформа по количеству выпущенных игр — *Nintendo 3DS*. Как мы упоминали выше, и по количеству проданных консолей эта платформа также опережает все остальные. Также важно помнить, что продажи игр на эту приставку значительно не различаются между регионами, но здесь в спросе лидирует Япония — это иначе, чем у остальных платформ."
   ]
  },
  {
   "cell_type": "code",
   "execution_count": 50,
   "metadata": {},
   "outputs": [
    {
     "data": {
      "image/png": "[encoded data removed]",
      "text/plain": [
       "<Figure size 864x432 with 2 Axes>"
      ]
     },
     "metadata": {
      "needs_background": "light"
     },
     "output_type": "display_data"
    }
   ],
   "source": [
    "sns.pairplot(highest_rated_platform, \n",
    "             x_vars=['critic_score', 'user_score'], \n",
    "             y_vars='total_sales', \n",
    "             markers='x', \n",
    "             plot_kws={'alpha': 0.75}, \n",
    "             height=6).fig.suptitle('Связь отзывов и продаж (для популярной платформы)', y=1.03);"
   ]
  },
  {
   "cell_type": "markdown",
   "metadata": {},
   "source": [
    "На диаграммах рассеяния видно, что оценки критиков более скученные, а оценки пользователей более разбросанные — критики чаще всего публикают отзывы, взвешенную оценку из которых собирает Metacritic, вместе или немного позже выхода игры, а пользователи, конечно, уже после покупки. Критики почти не ставят оценки ниже 40/100 и выше 85/100. Пользователи чаще, чем критики ставят очень низкие и очень высокие оценки, но основные оценки также собраны в «среднем» сегменте; в рейтинговых шкалах часто есть тенденция избегать крайних значений, поэтому оценка 5/10 — это скорее «плохо», чем «нормально». \n",
    "\n",
    "Тем не менее, можно заметить большее влияние и рейтинга критиков, и рейтинга пользователей на высоких значениях — т.е. если у игры высокие оценки, то и продажи этих игр выше. Однако достоверно сделать вывод, что именно высокие оценки побудили пользователей покупать игру или на это больше повлияло высокое качество, бренд студии-разработчика или высокая маркетинговая активность издателя, на этих данных нельзя. Для оценки степени этого влияния рассчитаем коэффициенты корреляции между рейтингами и продажами в разных регионах:"
   ]
  },
  {
   "cell_type": "code",
   "execution_count": 51,
   "metadata": {},
   "outputs": [
    {
     "data": {
      "text/html": [
       "<div>\n",
       "<style scoped>\n",
       "    .dataframe tbody tr th:only-of-type {\n",
       "        vertical-align: middle;\n",
       "    }\n",
       "\n",
       "    .dataframe tbody tr th {\n",
       "        vertical-align: top;\n",
       "    }\n",
       "\n",
       "    .dataframe thead th {\n",
       "        text-align: right;\n",
       "    }\n",
       "</style>\n",
       "<table border=\"1\" class=\"dataframe\">\n",
       "  <thead>\n",
       "    <tr style=\"text-align: right;\">\n",
       "      <th></th>\n",
       "      <th>critic_score</th>\n",
       "      <th>user_score</th>\n",
       "    </tr>\n",
       "  </thead>\n",
       "  <tbody>\n",
       "    <tr>\n",
       "      <td>na_sales</td>\n",
       "      <td>0.336</td>\n",
       "      <td>0.203</td>\n",
       "    </tr>\n",
       "    <tr>\n",
       "      <td>eu_sales</td>\n",
       "      <td>0.311</td>\n",
       "      <td>0.169</td>\n",
       "    </tr>\n",
       "    <tr>\n",
       "      <td>jp_sales</td>\n",
       "      <td>0.348</td>\n",
       "      <td>0.275</td>\n",
       "    </tr>\n",
       "    <tr>\n",
       "      <td>other_sales</td>\n",
       "      <td>0.323</td>\n",
       "      <td>0.187</td>\n",
       "    </tr>\n",
       "    <tr>\n",
       "      <td>total_sales</td>\n",
       "      <td>0.349</td>\n",
       "      <td>0.225</td>\n",
       "    </tr>\n",
       "  </tbody>\n",
       "</table>\n",
       "</div>"
      ],
      "text/plain": [
       "             critic_score  user_score\n",
       "na_sales            0.336       0.203\n",
       "eu_sales            0.311       0.169\n",
       "jp_sales            0.348       0.275\n",
       "other_sales         0.323       0.187\n",
       "total_sales         0.349       0.225"
      ]
     },
     "metadata": {},
     "output_type": "display_data"
    }
   ],
   "source": [
    "with pd.option_context('display.float_format', '{:.3f}'.format):\n",
    "    display(highest_rated_platform.corr()[['critic_score', 'user_score']].filter(like='sales', axis=0))"
   ]
  },
  {
   "cell_type": "markdown",
   "metadata": {},
   "source": [
    "Все значения коэффициента корреляции невысокие, но значения для оценок критиков схожие, а для пользовательских оценок — более различные. Можем сделать осторожный вывод, что на решение о покупке пользователем игры на *3DS* действительно влияют оценки критиков, хотя и не очень сильно — по всем регионам это влияние примерно одинаковое; пользовательские оценки в целом влияют меньше, причем наименее важны такие оценки в Европе и других странах, а наиболее — в Японии (причем это наиболее достоверные наблюдения о японских пользователях)."
   ]
  },
  {
   "cell_type": "markdown",
   "metadata": {},
   "source": [
    "На Nintendo 3DS пришлась почти четверть всех выпущенных в 8-м поколении игр до 2017 года. Посмотрим, подтвердятся ли наши выводы для остальных трех четвертей игр."
   ]
  },
  {
   "cell_type": "code",
   "execution_count": 52,
   "metadata": {},
   "outputs": [
    {
     "data": {
      "text/plain": [
       "PSV     430\n",
       "PS4     392\n",
       "PC      389\n",
       "XOne    247\n",
       "WiiU    147\n",
       "Name: platform, dtype: int64"
      ]
     },
     "execution_count": 52,
     "metadata": {},
     "output_type": "execute_result"
    }
   ],
   "source": [
    "high_rated_platforms = games_gen8[games_gen8['platform'].isin(games_gen8['platform']\n",
    "                                                                 .value_counts()\n",
    "                                                                 .index[1:]\n",
    "                                                                 .to_list())]\n",
    "high_rated_platforms['platform'].value_counts()"
   ]
  },
  {
   "cell_type": "code",
   "execution_count": 53,
   "metadata": {},
   "outputs": [
    {
     "data": {
      "image/png": "[encoded data removed]",
      "text/plain": [
       "<Figure size 864x432 with 2 Axes>"
      ]
     },
     "metadata": {
      "needs_background": "light"
     },
     "output_type": "display_data"
    }
   ],
   "source": [
    "sns.pairplot(high_rated_platforms, \n",
    "             x_vars=['critic_score', 'user_score'], \n",
    "             y_vars='total_sales', \n",
    "             markers='x', \n",
    "             plot_kws={'alpha': 0.75}, \n",
    "             height=6).fig.suptitle('Связь отзывов и продаж (для остальных платформ)', y=1.03);"
   ]
  },
  {
   "cell_type": "markdown",
   "metadata": {},
   "source": [
    "Здесь мы видим похожую ситуацию с предыдущими диаграммами: большая часть оценок критиков собрана от 40/100 до 85/100, также более заметная тенденция к влиянию рейтинга критиков на продажи — более успешные игры получили более высокие оценки от критиков, а игры с оценками критиков ниже 60/100 продавались хуже. \n",
    "\n",
    "Рейтинги пользователей также сильнее распределены между разными оценками, они также чаще ставят очень низкие оценки по сравнению с критиками, но в целом также тяготеют к верхней половине шкалы. Влияние пользовательских рейтингов кажется менее прямым — игры с высокими продажами получали и высокие, и низкие оценки. Вероятно, здесь сильнее сказывается последовательность рейтингов — пользователи ставят оценку после того, как купят игру, и значит они могли низко оценить относительно успешные в продажах релизы.\n",
    "\n",
    "Оценим степень влияния рейтингов для этих платформ:"
   ]
  },
  {
   "cell_type": "code",
   "execution_count": 54,
   "metadata": {},
   "outputs": [
    {
     "data": {
      "text/html": [
       "<div>\n",
       "<style scoped>\n",
       "    .dataframe tbody tr th:only-of-type {\n",
       "        vertical-align: middle;\n",
       "    }\n",
       "\n",
       "    .dataframe tbody tr th {\n",
       "        vertical-align: top;\n",
       "    }\n",
       "\n",
       "    .dataframe thead th {\n",
       "        text-align: right;\n",
       "    }\n",
       "</style>\n",
       "<table border=\"1\" class=\"dataframe\">\n",
       "  <thead>\n",
       "    <tr style=\"text-align: right;\">\n",
       "      <th></th>\n",
       "      <th>critic_score</th>\n",
       "      <th>user_score</th>\n",
       "    </tr>\n",
       "  </thead>\n",
       "  <tbody>\n",
       "    <tr>\n",
       "      <td>na_sales</td>\n",
       "      <td>0.306065</td>\n",
       "      <td>-0.002169</td>\n",
       "    </tr>\n",
       "    <tr>\n",
       "      <td>eu_sales</td>\n",
       "      <td>0.282276</td>\n",
       "      <td>-0.022800</td>\n",
       "    </tr>\n",
       "    <tr>\n",
       "      <td>jp_sales</td>\n",
       "      <td>0.126917</td>\n",
       "      <td>0.194160</td>\n",
       "    </tr>\n",
       "    <tr>\n",
       "      <td>other_sales</td>\n",
       "      <td>0.286811</td>\n",
       "      <td>-0.004760</td>\n",
       "    </tr>\n",
       "    <tr>\n",
       "      <td>total_sales</td>\n",
       "      <td>0.317749</td>\n",
       "      <td>0.005542</td>\n",
       "    </tr>\n",
       "  </tbody>\n",
       "</table>\n",
       "</div>"
      ],
      "text/plain": [
       "             critic_score  user_score\n",
       "na_sales         0.306065   -0.002169\n",
       "eu_sales         0.282276   -0.022800\n",
       "jp_sales         0.126917    0.194160\n",
       "other_sales      0.286811   -0.004760\n",
       "total_sales      0.317749    0.005542"
      ]
     },
     "execution_count": 54,
     "metadata": {},
     "output_type": "execute_result"
    }
   ],
   "source": [
    "high_rated_platforms.corr()[['critic_score', 'user_score']].filter(like='sales', axis=0)"
   ]
  },
  {
   "cell_type": "markdown",
   "metadata": {},
   "source": [
    "Коэффициенты корреляции отзывов критиков близки к таким значениям для самой популярной платформы, тенденция здесь сохраняется — кроме Японии (но продажи в Японии на этих платформах, как мы помним, значительно ниже остальных регионов). А пользовательские рейтинги на этих платформах влияния на продажи не оказывают."
   ]
  },
  {
   "cell_type": "markdown",
   "metadata": {},
   "source": [
    "<a id='307'></a>\n",
    "### Общее распределение игр по жанрам"
   ]
  },
  {
   "cell_type": "markdown",
   "metadata": {},
   "source": [
    "На столбцовых диаграммах рассмотрим количество игр 8-го поколения до 2017 года и их уровень продаж:"
   ]
  },
  {
   "cell_type": "code",
   "execution_count": 55,
   "metadata": {},
   "outputs": [
    {
     "data": {
      "image/png": "[encoded data removed]",
      "text/plain": [
       "<Figure size 1080x648 with 1 Axes>"
      ]
     },
     "metadata": {
      "needs_background": "light"
     },
     "output_type": "display_data"
    }
   ],
   "source": [
    "(games_gen8['genre'].value_counts()\n",
    " .plot(kind='bar', rot=45, title='Распределение игр по жанрам')\n",
    " .set(xlabel='Игровые жанры', ylabel='Количество выпущенных игр'));"
   ]
  },
  {
   "cell_type": "code",
   "execution_count": 56,
   "metadata": {},
   "outputs": [
    {
     "data": {
      "image/png": "[encoded data removed]",
      "text/plain": [
       "<Figure size 1080x648 with 1 Axes>"
      ]
     },
     "metadata": {
      "needs_background": "light"
     },
     "output_type": "display_data"
    }
   ],
   "source": [
    "(games_gen8.groupby('genre')['total_sales'].sum().sort_values(ascending=False)\n",
    " .plot(kind='bar', rot=45, title='Продажи игр по жанрам')\n",
    " .set(xlabel='Игровые жанры', ylabel='Сумма глобальных продаж'));"
   ]
  },
  {
   "cell_type": "markdown",
   "metadata": {},
   "source": [
    "Абсолютное лидерство в популярности — за жанром action, в первой пятерке вместе с ним — ролевые, приключенческие, спортивные игры, а также шутеры. Продаются лучше всего также игры жанра action (здесь уже разрыв с другими жанрами не такой большой), за ним следуют шутеры, ролевые игры, спортивные игры и платформеры.\n",
    "\n",
    "Таким образом, высокую группу по продажам образуют жанры *Action, Shooter* и *Role-Playing* с суммарной выручкой свыше 150 млн долларов, а низкую группу — жанры *Adventure, Strategy* и *Puzzle*.\n",
    "\n",
    "Экшен — очень широкий жанр, отличительной особенностью которого является задействование физических возможностей игрока (например, скорость реакции). По этому принципу в экшен можно включить почти все остальные жанры — например, в соревновательных шутерах навыки и результативность игрока напрямую связаны со скоростью прицеливания и нажатия на кнопку выстрела, скорость ориентации в виртуальном пространстве и т.д., то же самое в автосимуляторах или платформерах. Поэтому, строго говоря, часто игры классифицируются несколькими жанрами (action-shooter, action-platformer).\n",
    "\n",
    "Несмотря на то, что выпускаются довольно много приключенческих игр, они пользуются умеренным спросом; а вот небольшое количество платформеров, наоборот, оказалось довольно успешным. Платформеры — немного устаревший жанр, они были популярны в эпоху 8- и 16-битных приставок, но с развитием изометрического и 3D-изображения в играх (середина 90-х) интерес к жанру падал. Возросшая популярность платформеров в рамках текущего поколения обеспечивается во многом за счет волны новых игр в «ретро-стиле», которые имитируют пиксельную графику и классические игровые механики для желающих поностальгировать.\n",
    "\n",
    "Точно можно сказать, что люди любят активные игры — их больше всего издают и за них больше всего платят."
   ]
  },
  {
   "cell_type": "markdown",
   "metadata": {},
   "source": [
    "<a id='308'></a>\n",
    "### Выводы из исследовательского анализа данных\n",
    "\n",
    "- Для прогноза на 2017 год нам было необходимо выбрать ту часть данных, анализ которых позволил бы сделать релевантные нашей задаче выводы. Мы решили отталкиваться от регулярного цикла обновления игровых консолей, который принято называть поколением — это группа с общими годами продаж и схожим аппаратным и программным оснащением. \n",
    "- При исследовании цикла жизни платформ с наибольшими суммарными продажами мы явным образом смогли увидеть тенденцию к росту и падению продаж игр, который укладывается во временные рамки того или иного поколения — в среднем такой период составил 10 лет.\n",
    "- Для нашей задачи подходит текущее **8-е поколение**, которое начинается с 2011 года и включает в себя следующие платформы: портативные консоли *Sony PS Vita* и *Nintendo 3DS*, домашние консоли *Sony PS4*, *Microsoft Xbox One* и *Nintendo Wii U*, а также релизы игр на *PC*, которые укладываются во временной промежуток поколения.\n",
    "- Значимая часть общих продаж в рамках этого периода — особенно в 2011 и 2012 году — приходится на популярные платформы предыдущего поколения (прежде всего, *PS3*, *Xbox 360* и *Wii*), но мы также показали, что продажи игр на этих консолях следуют циклу обновления и к 2016 году постепенно сходят на нет. Следовательно, для прогноза продаж на 2017 эти данные не нужны.\n",
    "\n",
    "Итак, что мы выяснили при изучении игр на платформы 8-го поколения:\n",
    "- Наиболее прибыльная платформа из всех — ***PS4***: продажи почти в 2 раза выше прямого конкурента *Xbox One* и почти в 4 раза выше *Wii U*. На втором месте — портативная консоль ***Nintendo 3DS***, которая обгоняет прямого конкурента *PS Vita* почти в 5 раз.\n",
    "- Большинство игр по отдельности не приносят значительную выручку. Даже для самой прибыльной *PS4* большинство значений глобальных продаж игр находится в пределах до 750 тыс долларов. Основными двигателями продаж на всех платформах являются отдельные сверхуспешные бестселлеры, самые успешные приносят до 14 млн долларов. Но даже большинство игр *PS4* более прибыльные, чем игры на платформах конкурентов *Xbox One* и *Wii U*: вероятно, играют роль более успешные эксклюзивные релизы на платформе Sony.\n",
    "- Игры, которые получили оценки критиков выше 70/100, продавались лучше — эта тенденция наблюдалась на всех платформах. Однако влияние этого рейтинга не очень сильное, на продажи очевидно влияют и другие факторы, которые не представлены в этих данных. Значение пользовательских оценок еще меньше.\n",
    "- Самый прибыльные жанры на текущем поколении консолей — ***Action***, ***Shooter*** и ***Role-Playing***. "
   ]
  },
  {
   "cell_type": "markdown",
   "metadata": {},
   "source": [
    "<a id='part_4'></a>\n",
    "## Шаг 4. Портрет пользователя каждого региона"
   ]
  },
  {
   "cell_type": "markdown",
   "metadata": {},
   "source": [
    "<a id='401'></a>\n",
    "### Продажи по платформам в разных регионах"
   ]
  },
  {
   "cell_type": "markdown",
   "metadata": {},
   "source": [
    "Мы уже рассматривали выше продажи среди разных платформ по регионам вместе с глобальными показателями, но сейчас сфокусируемся только на региональных значениях:"
   ]
  },
  {
   "cell_type": "code",
   "execution_count": 57,
   "metadata": {},
   "outputs": [
    {
     "data": {
      "image/png": "[encoded data removed]",
      "text/plain": [
       "<Figure size 1080x648 with 1 Axes>"
      ]
     },
     "metadata": {
      "needs_background": "light"
     },
     "output_type": "display_data"
    }
   ],
   "source": [
    "(games_gen8[['na_sales', 'eu_sales', 'jp_sales', 'platform']].groupby('platform').sum()\n",
    " .plot(kind='bar', rot=0, title='Продажи игр 8-го поколения в разных регионах (по платформам)')\n",
    " .set(xlabel='Игровые платформы', ylabel='Сумма продаж по регионам'));"
   ]
  },
  {
   "cell_type": "markdown",
   "metadata": {},
   "source": [
    "На исследуемых нами платформах какая-либо четкая, повторяющаяся тенденция не прослеживается: разные платформы пользуются разным спросом по регионам:\n",
    "- на **американском** рынке самая популярная консоль — *PS4*, затем следует *Xbox One* и *3DS*;\n",
    "- на **европейском** рынке также лидирует *PS4*, за ней примерно на одном уровне *3DS*, *Xbox One* и *PC*;\n",
    "- на **японском** рынке с большим отрывом побеждает *3DS*, ещё умеренным спросом пользуются (в порядке убывания) *PS Vita*, *PS4* и *Wii U*; игры *Xbox One* и *PC* в Японии почти не продаются;\n",
    "- самая прибыльная платформа *PS4* больше спроса получает от европейских пользователей, чем от американских и японских."
   ]
  },
  {
   "cell_type": "markdown",
   "metadata": {},
   "source": [
    "<a id='402'></a>\n",
    "### Самые популярные жанры (топ-5) в разных регионах"
   ]
  },
  {
   "cell_type": "markdown",
   "metadata": {},
   "source": [
    "Рассмотрим 5 самых популярных жанров 8-го поколения по регионам:"
   ]
  },
  {
   "cell_type": "code",
   "execution_count": 58,
   "metadata": {},
   "outputs": [
    {
     "data": {
      "text/plain": [
       "genre\n",
       "Action          247.28\n",
       "Shooter         182.99\n",
       "Role-Playing    161.75\n",
       "Sports          101.48\n",
       "Platform         65.56\n",
       "Name: total_sales, dtype: float64"
      ]
     },
     "execution_count": 58,
     "metadata": {},
     "output_type": "execute_result"
    }
   ],
   "source": [
    "top5_genres = games_gen8.groupby('genre')['total_sales'].sum().sort_values(ascending=False).head(5)\n",
    "top5_genres"
   ]
  },
  {
   "cell_type": "code",
   "execution_count": 59,
   "metadata": {},
   "outputs": [
    {
     "data": {
      "image/png": "[encoded data removed]",
      "text/plain": [
       "<Figure size 1080x648 with 1 Axes>"
      ]
     },
     "metadata": {
      "needs_background": "light"
     },
     "output_type": "display_data"
    }
   ],
   "source": [
    "(games_gen8.query('genre.isin(@top5_genres.index)')[['na_sales', 'eu_sales', 'jp_sales', 'genre']]\n",
    " .groupby('genre').sum().sort_values(by='na_sales', ascending=False)\n",
    " .plot(kind='bar', rot=0, title='Продажи игр 8-го поколения в разных регионах (по жанрам)')\n",
    " .set(xlabel='Игровые жанры', ylabel='Сумма продаж по регионам'));"
   ]
  },
  {
   "cell_type": "markdown",
   "metadata": {},
   "source": [
    "Топ-5 жанров по общим продажам в этом поколении — это (в порядке убывания):\n",
    "1. экшены\n",
    "2. шутеры\n",
    "3. ролевые игры\n",
    "4. спортивные игры\n",
    "5. платформеры\n",
    "\n",
    "Вот как они различаются по регионам:\n",
    "- на **американском** рынке распределение топ-5 соответствует рейтингу по общим продажам;\n",
    "- на **европейском** рынке спортивные игры пользуются чуть большим спросом, чем на американском; в этом регионе они немного популярнее ролевых игр;\n",
    "- в **Японии** заметно лидируют ролевые игры, этот жанр в Японии в целом чуть более прибыльный, чем в остальных регионах (учитывая меньшую выручку на японском рынке).\n",
    "\n",
    "Такая сверхпопулярность ролевых игр на японском рынке очевидно обусловлено поджанром *JRPG* (japanese role-playing game). Хотя в этом поджанре есть такие популярные по всему миру серии, как *Final Fantasy*, *Persona* и *Souls*, большинство *JRPG* ориентируются именно на японский рынок."
   ]
  },
  {
   "cell_type": "markdown",
   "metadata": {},
   "source": [
    "<a id='403'></a>\n",
    "### Влияет ли рейтинг ESRB на продажи в отдельном регионе"
   ]
  },
  {
   "cell_type": "markdown",
   "metadata": {},
   "source": [
    "Для изучаемого нами поколения игры получали следующие рейтинги:\n",
    "- **E** (Everyone) — для всех возрастов\n",
    "- **E10+** (Everyone 10+) — для детей старше 10 лет\n",
    "- **T** (Teen) — старше 13 лет\n",
    "- **M** (Mature) — старше 17 лет\n",
    "- **RP** (Rating Pending) — рейтинг еще не выставлен (часто ставится для маркетинговых материалов до выхода игры)\n",
    "\n",
    "ESRB выставляет рейтинг играм, которые будут продаваться на территории США и Канады — значит, теоретически если игра не выпускается на американском рынке, то и рейтинг она необязательно получит. Но в наших данных игры с таким рейтингом не вносят какой-либо значительный вклад в продажи."
   ]
  },
  {
   "cell_type": "code",
   "execution_count": 60,
   "metadata": {},
   "outputs": [
    {
     "data": {
      "text/plain": [
       "rating\n",
       "M       268.79\n",
       "E       213.24\n",
       "T       123.39\n",
       "E10+     97.25\n",
       "RP        0.04\n",
       "Name: total_sales, dtype: float64"
      ]
     },
     "execution_count": 60,
     "metadata": {},
     "output_type": "execute_result"
    }
   ],
   "source": [
    "games_gen8.groupby('rating')['total_sales'].sum().sort_values(ascending=False)"
   ]
  },
  {
   "cell_type": "code",
   "execution_count": 61,
   "metadata": {},
   "outputs": [
    {
     "data": {
      "text/html": [
       "<div>\n",
       "<style scoped>\n",
       "    .dataframe tbody tr th:only-of-type {\n",
       "        vertical-align: middle;\n",
       "    }\n",
       "\n",
       "    .dataframe tbody tr th {\n",
       "        vertical-align: top;\n",
       "    }\n",
       "\n",
       "    .dataframe thead th {\n",
       "        text-align: right;\n",
       "    }\n",
       "</style>\n",
       "<table border=\"1\" class=\"dataframe\">\n",
       "  <thead>\n",
       "    <tr style=\"text-align: right;\">\n",
       "      <th></th>\n",
       "      <th></th>\n",
       "      <th>na_sales</th>\n",
       "      <th>eu_sales</th>\n",
       "      <th>jp_sales</th>\n",
       "      <th>total_sales</th>\n",
       "    </tr>\n",
       "    <tr>\n",
       "      <th>rating</th>\n",
       "      <th>platform</th>\n",
       "      <th></th>\n",
       "      <th></th>\n",
       "      <th></th>\n",
       "      <th></th>\n",
       "    </tr>\n",
       "  </thead>\n",
       "  <tbody>\n",
       "    <tr>\n",
       "      <td rowspan=\"6\" valign=\"top\">E</td>\n",
       "      <td>3DS</td>\n",
       "      <td>32.24</td>\n",
       "      <td>24.30</td>\n",
       "      <td>21.80</td>\n",
       "      <td>83.61</td>\n",
       "    </tr>\n",
       "    <tr>\n",
       "      <td>PC</td>\n",
       "      <td>0.54</td>\n",
       "      <td>6.58</td>\n",
       "      <td>0.00</td>\n",
       "      <td>8.14</td>\n",
       "    </tr>\n",
       "    <tr>\n",
       "      <td>PS4</td>\n",
       "      <td>16.76</td>\n",
       "      <td>27.56</td>\n",
       "      <td>0.84</td>\n",
       "      <td>53.57</td>\n",
       "    </tr>\n",
       "    <tr>\n",
       "      <td>PSV</td>\n",
       "      <td>1.93</td>\n",
       "      <td>2.62</td>\n",
       "      <td>0.42</td>\n",
       "      <td>6.07</td>\n",
       "    </tr>\n",
       "    <tr>\n",
       "      <td>WiiU</td>\n",
       "      <td>15.39</td>\n",
       "      <td>10.16</td>\n",
       "      <td>6.66</td>\n",
       "      <td>34.61</td>\n",
       "    </tr>\n",
       "    <tr>\n",
       "      <td>XOne</td>\n",
       "      <td>14.40</td>\n",
       "      <td>10.46</td>\n",
       "      <td>0.04</td>\n",
       "      <td>27.24</td>\n",
       "    </tr>\n",
       "    <tr>\n",
       "      <td rowspan=\"6\" valign=\"top\">E10+</td>\n",
       "      <td>3DS</td>\n",
       "      <td>12.51</td>\n",
       "      <td>7.87</td>\n",
       "      <td>4.53</td>\n",
       "      <td>26.74</td>\n",
       "    </tr>\n",
       "    <tr>\n",
       "      <td>PC</td>\n",
       "      <td>1.44</td>\n",
       "      <td>2.84</td>\n",
       "      <td>0.00</td>\n",
       "      <td>4.77</td>\n",
       "    </tr>\n",
       "    <tr>\n",
       "      <td>PS4</td>\n",
       "      <td>9.02</td>\n",
       "      <td>8.80</td>\n",
       "      <td>0.67</td>\n",
       "      <td>21.98</td>\n",
       "    </tr>\n",
       "    <tr>\n",
       "      <td>PSV</td>\n",
       "      <td>1.38</td>\n",
       "      <td>2.37</td>\n",
       "      <td>0.34</td>\n",
       "      <td>4.99</td>\n",
       "    </tr>\n",
       "    <tr>\n",
       "      <td>WiiU</td>\n",
       "      <td>11.80</td>\n",
       "      <td>8.01</td>\n",
       "      <td>2.75</td>\n",
       "      <td>24.40</td>\n",
       "    </tr>\n",
       "    <tr>\n",
       "      <td>XOne</td>\n",
       "      <td>9.00</td>\n",
       "      <td>4.03</td>\n",
       "      <td>0.03</td>\n",
       "      <td>14.37</td>\n",
       "    </tr>\n",
       "    <tr>\n",
       "      <td rowspan=\"6\" valign=\"top\">M</td>\n",
       "      <td>3DS</td>\n",
       "      <td>1.66</td>\n",
       "      <td>0.62</td>\n",
       "      <td>1.62</td>\n",
       "      <td>4.12</td>\n",
       "    </tr>\n",
       "    <tr>\n",
       "      <td>PC</td>\n",
       "      <td>17.07</td>\n",
       "      <td>26.24</td>\n",
       "      <td>0.00</td>\n",
       "      <td>48.96</td>\n",
       "    </tr>\n",
       "    <tr>\n",
       "      <td>PS4</td>\n",
       "      <td>42.81</td>\n",
       "      <td>58.43</td>\n",
       "      <td>5.23</td>\n",
       "      <td>125.91</td>\n",
       "    </tr>\n",
       "    <tr>\n",
       "      <td>PSV</td>\n",
       "      <td>3.77</td>\n",
       "      <td>2.65</td>\n",
       "      <td>1.95</td>\n",
       "      <td>10.01</td>\n",
       "    </tr>\n",
       "    <tr>\n",
       "      <td>WiiU</td>\n",
       "      <td>1.99</td>\n",
       "      <td>1.49</td>\n",
       "      <td>0.29</td>\n",
       "      <td>4.09</td>\n",
       "    </tr>\n",
       "    <tr>\n",
       "      <td>XOne</td>\n",
       "      <td>44.92</td>\n",
       "      <td>23.74</td>\n",
       "      <td>0.19</td>\n",
       "      <td>75.70</td>\n",
       "    </tr>\n",
       "    <tr>\n",
       "      <td>RP</td>\n",
       "      <td>PC</td>\n",
       "      <td>0.00</td>\n",
       "      <td>0.03</td>\n",
       "      <td>0.00</td>\n",
       "      <td>0.04</td>\n",
       "    </tr>\n",
       "    <tr>\n",
       "      <td rowspan=\"6\" valign=\"top\">T</td>\n",
       "      <td>3DS</td>\n",
       "      <td>6.73</td>\n",
       "      <td>3.67</td>\n",
       "      <td>6.99</td>\n",
       "      <td>18.35</td>\n",
       "    </tr>\n",
       "    <tr>\n",
       "      <td>PC</td>\n",
       "      <td>9.17</td>\n",
       "      <td>13.40</td>\n",
       "      <td>0.00</td>\n",
       "      <td>25.44</td>\n",
       "    </tr>\n",
       "    <tr>\n",
       "      <td>PS4</td>\n",
       "      <td>16.38</td>\n",
       "      <td>18.31</td>\n",
       "      <td>2.97</td>\n",
       "      <td>44.48</td>\n",
       "    </tr>\n",
       "    <tr>\n",
       "      <td>PSV</td>\n",
       "      <td>3.48</td>\n",
       "      <td>2.76</td>\n",
       "      <td>6.11</td>\n",
       "      <td>13.86</td>\n",
       "    </tr>\n",
       "    <tr>\n",
       "      <td>WiiU</td>\n",
       "      <td>2.21</td>\n",
       "      <td>1.46</td>\n",
       "      <td>0.47</td>\n",
       "      <td>4.51</td>\n",
       "    </tr>\n",
       "    <tr>\n",
       "      <td>XOne</td>\n",
       "      <td>10.17</td>\n",
       "      <td>5.06</td>\n",
       "      <td>0.03</td>\n",
       "      <td>16.75</td>\n",
       "    </tr>\n",
       "  </tbody>\n",
       "</table>\n",
       "</div>"
      ],
      "text/plain": [
       "                 na_sales  eu_sales  jp_sales  total_sales\n",
       "rating platform                                           \n",
       "E      3DS          32.24     24.30     21.80        83.61\n",
       "       PC            0.54      6.58      0.00         8.14\n",
       "       PS4          16.76     27.56      0.84        53.57\n",
       "       PSV           1.93      2.62      0.42         6.07\n",
       "       WiiU         15.39     10.16      6.66        34.61\n",
       "       XOne         14.40     10.46      0.04        27.24\n",
       "E10+   3DS          12.51      7.87      4.53        26.74\n",
       "       PC            1.44      2.84      0.00         4.77\n",
       "       PS4           9.02      8.80      0.67        21.98\n",
       "       PSV           1.38      2.37      0.34         4.99\n",
       "       WiiU         11.80      8.01      2.75        24.40\n",
       "       XOne          9.00      4.03      0.03        14.37\n",
       "M      3DS           1.66      0.62      1.62         4.12\n",
       "       PC           17.07     26.24      0.00        48.96\n",
       "       PS4          42.81     58.43      5.23       125.91\n",
       "       PSV           3.77      2.65      1.95        10.01\n",
       "       WiiU          1.99      1.49      0.29         4.09\n",
       "       XOne         44.92     23.74      0.19        75.70\n",
       "RP     PC            0.00      0.03      0.00         0.04\n",
       "T      3DS           6.73      3.67      6.99        18.35\n",
       "       PC            9.17     13.40      0.00        25.44\n",
       "       PS4          16.38     18.31      2.97        44.48\n",
       "       PSV           3.48      2.76      6.11        13.86\n",
       "       WiiU          2.21      1.46      0.47         4.51\n",
       "       XOne         10.17      5.06      0.03        16.75"
      ]
     },
     "execution_count": 61,
     "metadata": {},
     "output_type": "execute_result"
    }
   ],
   "source": [
    "games_gen8.groupby(['rating', 'platform'])[['na_sales', 'eu_sales', 'jp_sales', 'total_sales']].sum()"
   ]
  },
  {
   "cell_type": "code",
   "execution_count": 62,
   "metadata": {},
   "outputs": [
    {
     "data": {
      "image/png": "[encoded data removed]",
      "text/plain": [
       "<Figure size 1080x648 with 1 Axes>"
      ]
     },
     "metadata": {
      "needs_background": "light"
     },
     "output_type": "display_data"
    }
   ],
   "source": [
    "(games_gen8[['na_sales', 'eu_sales', 'jp_sales', 'rating']].groupby('rating').sum()\n",
    " .sort_values(by='na_sales', ascending=False)\n",
    " .plot(kind='bar', rot=0, title='Продажи игр 8-го поколения в разных регионах (по рейтингу ESRB)')\n",
    " .set(xlabel='Рейтинг ESRB', ylabel='Сумма продаж по регионам'));"
   ]
  },
  {
   "cell_type": "markdown",
   "metadata": {},
   "source": [
    "Больше всего выручки принесли игры с рейтингов *Mature*, на втором месте — *Everyone*. Вот что можно сказать из распределения:\n",
    "- вполне ожидаемо, что для значения *RP* почти нет продаж, это временный рейтинг — вероятно, сюда могли быть вписаны предзаказы за какие-то новые относительно изучаемого периода игры или у которых продажи на американском рынке начались позже других;\n",
    "- на **американском** и **европейском** рынке спрос по рейтингам очень схожий: игры для аудитории старше 17 лет самые популярные, за ними идут игры без огранический по возрасту, игры для 13+ и для 10+. Игры с рейтингом *E10+* заметно более популярны на американском рынке, чем на европейском (но разница все равно небольшая).\n",
    "- на **японском** рынке наибольшим спросом пользуются игры без ограничений по возрасту, потом идут (в порядке убывания) игры 13+, 17+ и 10+. Как мы помним, самая популярная платформа в Японии — портативная *3DS*; именно на этой консоли выходит больше игр с рейтингом *E*.\n",
    "\n",
    "Как и оценки критиков, игра обычно получает рейтинг к старту продаж — соответственно, мы можем предполагать, что рейтинг влияет на решение о покупке. Однако такая связь может быть непрямой, и мы не можем достоверно утверждать, что игроки перед покупкой обращали внимание именно на рейтинг; может быть так, что игры рейтинга *Mature* более интересны по сюжетам и механике, раз для них меньше ограничений на внутриигровой контент."
   ]
  },
  {
   "cell_type": "markdown",
   "metadata": {},
   "source": [
    "<a id='404'></a>\n",
    "### Выводы по портрету пользователя каждого региона\n",
    "\n",
    "- На **американском** рынке примерно равным спросом пользуются игры на *PS4* и *Xbox One*, приставка от Sony немного впереди, портативная *3DS* также довольно популярна. В этом регионе больше всего предпочитают экшн-игры и шутеры с рейтингом M или E.\n",
    "- На **европейском** рынке с отрывом лидирует *PS4*, а за ней примерно на одном уровне *Xbox One*, *PC* и *3DS*. Здесь также предпочитают экшены и шутеры с рейтингом M или E.\n",
    "- На **японском** рынке выбирают больше всех игры на приставку *Nintendo 3DS* — вероятно, поэтому самые продаваемые игры в Японии с рейтингом E; игры на домашние консоли не пользуются большим успехом. Из жанров здесь предпочитают ролевые игры, экшены также относительно успешно. Отрыв ролевых игр, возможно, связан с популярностью поджанра *JRPG*, японских ролевых игр, большинство из которых ориентированы на локальный рынок."
   ]
  },
  {
   "cell_type": "markdown",
   "metadata": {},
   "source": [
    "<a id='part_5'></a>\n",
    "## Шаг 5. Проверка гипотез"
   ]
  },
  {
   "cell_type": "markdown",
   "metadata": {},
   "source": [
    "Здесь нам нужно будет оценить различия в средних значениях между отдельными платформами и жанрами, по которым мы сформулировали гипотезы. Поскольку анализируемые выборки платформ и жанров, средние значения которых мы будем сравнивать, не очень велики, есть смысл сделать выбор между параметрическим и непараметрическим критериями на основе оценки распределения данных в этих выборках. Для этого используем следующую функцию:"
   ]
  },
  {
   "cell_type": "code",
   "execution_count": 63,
   "metadata": {},
   "outputs": [],
   "source": [
    "def equal_mean_test(sample_1: 'Series', sample_2: 'Series'):\n",
    "    '''\n",
    "    Функция нужна для выбора теста на проверку равенства двух средних в зависимости от распределения;\n",
    "    она принимает в качестве аргумента 2 Series, \n",
    "    проверяет нормальность распределения тестом Шапиро-Уилка;\n",
    "    \n",
    "    если нулевая гипотеза о нормальности распределения отвергается, \n",
    "    равенство средних проверяется тестом Манна-Уитни;\n",
    "    \n",
    "    если нулевая гипотеза о нормальности распределения не отвергается, \n",
    "    равенство средних проверяется t-тестом Стьюдента;\n",
    "    \n",
    "    в результате выводит на экран p-значение выбранного теста \n",
    "    и результат сравнения с заданным уровнем значимости \n",
    "    '''\n",
    "    \n",
    "    \n",
    "    # тест Шапиро-Уилка на соответствие распределения нормальному\n",
    "    shapiro_stat_1, shapiro_p_1 = st.shapiro(sample_1)\n",
    "    shapiro_stat_2, shapiro_p_2 = st.shapiro(sample_2)\n",
    "    alpha = .05\n",
    "    \n",
    "    \n",
    "    # гипотеза о нормальности распределения отвергается, используем тест Манна-Уитни\n",
    "    if shapiro_p_1 < alpha and shapiro_p_2 < alpha:\n",
    "        print('Отвергаем нулевую гипотезу о соответствии нормальному распределению')\n",
    "        print('p-значение первой выборки (тест Шапиро-Уилка): {:.2f}'.format(shapiro_p_1))\n",
    "        print('p-значение второй выборки (тест Шапиро-Уилка): {:.2f}'.format(shapiro_p_2))\n",
    "        print()\n",
    "        \n",
    "        u_alpha = .01\n",
    "        u_results = st.mannwhitneyu(sample_1, sample_2, alternative='two-sided')\n",
    "        \n",
    "        print('p-значение (U-тест Манна-Уитни): {:.10f}'.format(u_results.pvalue))\n",
    "        if u_results.pvalue < u_alpha:\n",
    "            print('Отвергаем нулевую гипотезу о равенстве средних')\n",
    "        else:\n",
    "            print('Не получилось отвергнуть нулевую гипотезу о равенстве средних')\n",
    "    \n",
    "    \n",
    "    # гипотеза о нормальности распределения не отвергается, используем t-тест Стьюдента\n",
    "    if shapiro_p_1 >= alpha and shapiro_p_2 >= alpha:\n",
    "        print('Не получилось отвергнуть нулевую гипотезу о соответствии нормальному распределению')\n",
    "        print('p-значение первой выборки (тест Шапиро-Уилка): {:.2f}'.format(shapiro_p_1))\n",
    "        print('p-значение второй выборки (тест Шапиро-Уилка): {:.2f}'.format(shapiro_p_2))\n",
    "        print()\n",
    "        \n",
    "        #определение критерия равенства дисперсий с помощью теста Левена\n",
    "        levene = st.levene(sample_1, sample_2)\n",
    "        lev_alpha = .01\n",
    "        if levene.pvalue < lev_alpha:\n",
    "            equal_var = False\n",
    "        else:\n",
    "            equal_var = True\n",
    "        \n",
    "        t_alpha = .01\n",
    "        t_results = st.ttest_ind(sample_1, sample_2, equal_var=equal_var)\n",
    "        \n",
    "        print('p-значение: {:.10f}'.format(t_results.pvalue))\n",
    "        print('Равенство дисперсий:', equal_var)\n",
    "        if t_results.pvalue < t_alpha:\n",
    "            print('Отвергаем нулевую гипотезу о равенстве средних')\n",
    "        else:\n",
    "            print('Не получилось отвергнуть нулевую гипотезу о равенстве средних')"
   ]
  },
  {
   "cell_type": "markdown",
   "metadata": {},
   "source": [
    "<a id='501'></a>\n",
    "### Средние пользовательские рейтинги платформ Xbox One и PC одинаковые"
   ]
  },
  {
   "cell_type": "markdown",
   "metadata": {},
   "source": [
    "Здесь мы проверям статистическую гипотезу о равенстве средних значений пользовательских оценок для Xbox One и PC. \n",
    "- **Нулевая гипотеза**: средние пользовательские оценки двух платформ равны.\n",
    "- **Альтернативная гипотеза**: средние пользовательские оценки двух платформ равны различаются.\n",
    "\n",
    "Сначала посмотрим размеры двух выборок и оценим их распределение с помощью P-P-графика (probability-probability), который проверяет соответствие фактического и теоретического распределения. А затем для проверки гипотезы используем вышеуказанную функцию для выбора критерия проверки средних. Выборку составляем без учета пропусков, чтобы не допустить искажения средних."
   ]
  },
  {
   "cell_type": "code",
   "execution_count": 64,
   "metadata": {},
   "outputs": [
    {
     "name": "stdout",
     "output_type": "stream",
     "text": [
      "Выборка на Xbox One: 182\n",
      "Выборка на PC: 307\n"
     ]
    }
   ],
   "source": [
    "user_score_xone = games_gen8.query('platform == \"XOne\" and user_score.notna()')['user_score']\n",
    "user_score_pc = games_gen8.query('platform == \"PC\" and user_score.notna()')['user_score']\n",
    "\n",
    "print('Выборка на Xbox One:', len(user_score_xone))\n",
    "print('Выборка на PC:', len(user_score_pc))"
   ]
  },
  {
   "cell_type": "markdown",
   "metadata": {},
   "source": [
    "Важно отметить при сравнении этих платформ, что обе развиваются компанией Microsoft; с 2016 года они по сути объединены в одну платформу и делят многие релизы между собой — это значит, что эксклюзивная для *Xbox One* игра также должна сразу или через некоторое время выйти на Windows 10, а выпуск игр на обе платформы был и в предыдущие года. Но есть однако игры, которые выходят только на ПК и не выходят на консолях. \n",
    "\n",
    "В данной выборке до 2016 года содержатся по крайней мере 16 игр как полные эксклюзивы *Xbox One* (которые не издавались на ПК); за их исключением две выборки могут иметь общую долю игр до 54%. Это не означает напрямую, что у них будут абсолютно одинаковые объемы продаж и пользовательские оценки, т.к. на Metacritic это все равно разные позиции, но значительно рейтинги внутри одной мультиплатформенной игры обычно не различаются."
   ]
  },
  {
   "cell_type": "code",
   "execution_count": 65,
   "metadata": {},
   "outputs": [
    {
     "data": {
      "image/png": "[encoded data removed]",
      "text/plain": [
       "<Figure size 1080x432 with 2 Axes>"
      ]
     },
     "metadata": {
      "needs_background": "light"
     },
     "output_type": "display_data"
    }
   ],
   "source": [
    "fig, ax = plt.subplots(1, 2, figsize=(15, 6))\n",
    "i = 0\n",
    "\n",
    "for data in [user_score_xone, user_score_pc]:\n",
    "    st.probplot(data, dist='norm', plot=ax[i])\n",
    "    ax[i].get_lines()[0].set_markerfacecolor('#8da0cb')\n",
    "    ax[i].get_lines()[1].set_color('#fc8d62')\n",
    "    i += 1\n",
    "\n",
    "ax[0].set_title('Распределение пользовательских рейтингов для Xbox One')\n",
    "ax[1].set_title('Распределение пользовательских рейтингов для PC');"
   ]
  },
  {
   "cell_type": "markdown",
   "metadata": {},
   "source": [
    "На P-P-графиках мы видим, что обе выборки недостататочно близки к теоретическому нормальному распределению, и с учетом относительно небольшого размера выборок логично будет применить для сравнения средних непараметрический U-тест Манна-Уитни. "
   ]
  },
  {
   "cell_type": "code",
   "execution_count": 66,
   "metadata": {},
   "outputs": [
    {
     "name": "stdout",
     "output_type": "stream",
     "text": [
      "Отвергаем нулевую гипотезу о соответствии нормальному распределению\n",
      "p-значение первой выборки (тест Шапиро-Уилка): 0.00\n",
      "p-значение второй выборки (тест Шапиро-Уилка): 0.00\n",
      "\n",
      "p-значение (U-тест Манна-Уитни): 0.8414826595\n",
      "Не получилось отвергнуть нулевую гипотезу о равенстве средних\n",
      "\n",
      "Средний пользовательский рейтинг для Xbox One: 6.52\n",
      "Средний пользовательский рейтинг для PC: 6.45\n"
     ]
    }
   ],
   "source": [
    "# применение функции по выбору теста для сравнения двух средних независимых выборок\n",
    "equal_mean_test(user_score_xone, user_score_pc)\n",
    "print()\n",
    "print('Средний пользовательский рейтинг для Xbox One: {:.2f}'.format(user_score_xone.mean()))\n",
    "print('Средний пользовательский рейтинг для PC: {:.2f}'.format(user_score_pc.mean()))"
   ]
  },
  {
   "cell_type": "markdown",
   "metadata": {},
   "source": [
    "Функция на основе теста Шапиро-Уилка также позволила отвергнуть гипотезу о нормальном распределении, поэтому для сравнения средних был применен непараметрический критерий. На основе p-значения этого теста с вероятностью 84% или больше между средними нет статистически значимых различий. \n",
    "\n",
    "Возможным объяснением может служить, как мы писали выше, вероятная общая доля релизов на двух платформах, которая покрывает большинство игр в выборке."
   ]
  },
  {
   "cell_type": "markdown",
   "metadata": {},
   "source": [
    "<a id='502'></a>\n",
    "### Средние пользовательские рейтинги жанров Action (англ. «действие», экшен-игры) и Sports (англ. «спортивные соревнования») разные"
   ]
  },
  {
   "cell_type": "markdown",
   "metadata": {},
   "source": [
    "Повторим процедуру для сравнения средних оценок пользователей между жанрами Action и Sports.\n",
    "- **Нулевая гипотеза**: средние пользовательские оценки двух жанров равны.\n",
    "- **Альтернативная гипотеза**: средние пользовательские оценки двух жанров различаются."
   ]
  },
  {
   "cell_type": "code",
   "execution_count": 67,
   "metadata": {},
   "outputs": [
    {
     "name": "stdout",
     "output_type": "stream",
     "text": [
      "Выборка на жанр Action: 378\n",
      "Выборка на жанр Sports: 120\n"
     ]
    }
   ],
   "source": [
    "user_score_action = games_gen8.query('genre == \"Action\" and user_score.notna()')['user_score']\n",
    "user_score_sports = games_gen8.query('genre == \"Sports\" and user_score.notna()')['user_score']\n",
    "\n",
    "print('Выборка на жанр Action:', len(user_score_action))\n",
    "print('Выборка на жанр Sports:', len(user_score_sports))"
   ]
  },
  {
   "cell_type": "markdown",
   "metadata": {},
   "source": [
    "Как мы и выяснили ранее при исследовании общего распределения игр по жанрам, экшн-игры являются самыми успешными по продажам и наиболее популярные по количеству выпущенных игр в изучаемом нами периоде."
   ]
  },
  {
   "cell_type": "code",
   "execution_count": 68,
   "metadata": {},
   "outputs": [
    {
     "data": {
      "image/png": "[encoded data removed]",
      "text/plain": [
       "<Figure size 1080x432 with 2 Axes>"
      ]
     },
     "metadata": {
      "needs_background": "light"
     },
     "output_type": "display_data"
    }
   ],
   "source": [
    "fig, ax = plt.subplots(1, 2, figsize=(15, 6))\n",
    "i = 0\n",
    "\n",
    "for data in [user_score_action, user_score_sports]:\n",
    "    st.probplot(data, dist='norm', plot=ax[i])\n",
    "    ax[i].get_lines()[0].set_markerfacecolor('#8da0cb')\n",
    "    ax[i].get_lines()[1].set_color('#fc8d62')\n",
    "    i += 1\n",
    "\n",
    "ax[0].set_title('Распределение пользовательских рейтингов для жанра Action')\n",
    "ax[1].set_title('Распределение пользовательских рейтингов для жанра Sports');"
   ]
  },
  {
   "cell_type": "markdown",
   "metadata": {},
   "source": [
    "Аналогично обе выборки недостататочно близки к теоретическому нормальному распределению, поэтому предполагаем проверку на равенство средних при помощи непараметрического U-теста Манна-Уитни."
   ]
  },
  {
   "cell_type": "code",
   "execution_count": 69,
   "metadata": {},
   "outputs": [
    {
     "name": "stdout",
     "output_type": "stream",
     "text": [
      "Отвергаем нулевую гипотезу о соответствии нормальному распределению\n",
      "p-значение первой выборки (тест Шапиро-Уилка): 0.00\n",
      "p-значение второй выборки (тест Шапиро-Уилка): 0.00\n",
      "\n",
      "p-значение (U-тест Манна-Уитни): 0.0000000000\n",
      "Отвергаем нулевую гипотезу о равенстве средних\n",
      "\n",
      "Средний пользовательский рейтинг для жанра Action: 6.83\n",
      "Средний пользовательский рейтинг для жанра Sports: 5.72\n"
     ]
    }
   ],
   "source": [
    "# применение функции по выбору теста для сравнения двух средних независимых выборок\n",
    "equal_mean_test(user_score_action, user_score_sports)\n",
    "print()\n",
    "print('Средний пользовательский рейтинг для жанра Action: {:.2f}'.format(user_score_action.mean()))\n",
    "print('Средний пользовательский рейтинг для жанра Sports: {:.2f}'.format(user_score_sports.mean()))"
   ]
  },
  {
   "cell_type": "markdown",
   "metadata": {},
   "source": [
    "Функция на основе теста Шапиро-Уилка также позволила отвергнуть гипотезу о нормальном распределении, поэтому для сравнения средних был применен непараметрический критерий. На основе p-значения этого теста с крайне малой вероятностью ошибки мы можем заключить, что между средними есть статистически значимые различия.\n",
    "\n",
    "Таким образом, мы можем сделать достоверный вывод, что в среднем пользователи более высоко оценивают игры жанра *Action* по сравнению с жанром *Sports* на платформах 8-го поколения."
   ]
  },
  {
   "cell_type": "markdown",
   "metadata": {},
   "source": [
    "<a id='503'></a>\n",
    "### Выводы из проверки гипотез\n",
    "\n",
    "Соответствие или несоответствие распределения выборок с пользовательскими оценками нормальному виду побуждает использовать параметрические или непараметрические критерии для сравнения двух средних независимых выборок соответственно. Похоже, что данные согласно тесту Шапиро-Уилка во всех четырех выборках не были распределены нормально, поэтому для проверки равенства двух средних использовался непараметрический U-критерий Манна-Уитни (впрочем, даже при использовании здесь t-теста Стьюдента выводы по гипотезам остаются теми же).\n",
    "\n",
    "В результате проверки оказалось, что мы можем сделать обоснованный вывод о различии среднего пользовательского рейтинга жанром *Action* и *Sports*: экшн-игры оцениваются более высоко, чем спортивные; разница между ними — более одного пункта: экшены получают в среднем почти 7/10, а спортивные не дотягивают до 6/10.\n",
    "\n",
    "А вывод о разнице между средним пользовательским рейтингом на *Xbox One* и *PC* мы сделать исходя из текущих данных не можем — это может быть связано с тем, что эти платформы делят большую долю игр между собой, и в более чем половине случаем пользователи оценивали одни и те же игры на разных платформах."
   ]
  },
  {
   "cell_type": "markdown",
   "metadata": {},
   "source": [
    "<a id='part_6'></a>\n",
    "## Шаг 6. Общий вывод"
   ]
  },
  {
   "cell_type": "markdown",
   "metadata": {},
   "source": [
    "Напомним, что в исследовании мы использовали данные об играх с сайта-агрегатора Metacritic до 2016 года включительно, а целью было обнаружение и изучение сегмента данных, которые помогут сделать прогноз по продажам игр в 2017 году. Для этого мы выбрали данные об играх, которые были выпущены с 2011 по 2016 год на следующих платформах: портативные консоли *Sony PS Vita* и *Nintendo 3DS*, домашние консоли *Sony PS4*, *Microsoft Xbox One* и *Nintendo Wii U*, а также релизы игр на *PC* в указанные годы. Такой выбор мы сделали на основании принятого в индустрии цикла обновления консолей, называемого поколением, который в среднем занимает 10 лет — это мы также подтвердили при изучении самых популярных консолей вообще. Собственно говоря, мы выбрали платформы, которые соответствуют актуальному на 2017-й год поколению.\n",
    "\n",
    "Как мы уже упомянули, среди изучаемых нами платформ есть портативные и домашние консоли (PC здесь имеет отношение к домашним). Хотя из данных не наблюдается много ключевых различий между этими категориями консолей, нужно иметь ввиду, что особенности распространения игр между ними не совсем одинаковые. Например, на мобильные консоли вышло больше игр в количестве. Поэтому мы будем сравнивать закономерности не только по всем платформам, но и между категориями.\n",
    "\n",
    "Вот какие закономерности, влияющие на продажи игр, мы обнаружили:\n",
    "- Большинство игр на всех платформах по отдельности продаются не в очень большом объеме. Локомотивом продаж на всех платформах являются небольшое количество игр-бестселлеров. Такие игры можно частично определить по оценкам критиков, которые появляются с релизом игры — на всех платформах все бестселлеры за редкими исключениями получали оценки выше 70/100. Это не очень сильный предиктор, но тенденция заметна.\n",
    "- Абсолютный лидер среди всех платформ — *PS4*: консоль лидирует по выручке с проданных игр, на нее выпускают больше бестселлеров, общая масса игр также продается лучше. Консоль пользуется большим спросом на американском и европейском рынке.\n",
    "- Среди мобильных консолей с отрывом лидирует *Nintendo 3DS*: она занимает второе место среди всех платформ по выручке и значительно обгоняет прямого конкурента в своей категории. Эта консоль достаточно популярна на всех региональных рынках, но наиболее успешна в Японии. На эту консоль в основном выходят игры с рейтингом *E*.\n",
    "- Самый прибыльные жанры на текущем поколении консолей — *Action*, *Shooter* и *Role-Playing*.\n",
    "- Есть региональные предпочтения в играх: \n",
    "    - в Америке среди домашних платформ выручка между *PS4* и *Xbox One* различается несильно, эти платформы здесь живо конкурируют; популярность по жанрам следует более общему тренду; лучше всего продаются игры с рейтингом *Mature* и *Everyone*; \n",
    "    - в Европе *PS4* заметно превосходит другие платформы; спортивные игры здесь чуть популярнее ролевых; самые популярные игры здесь также с рейтингом *Mature* и *Everyone*; \n",
    "    - в Японии домашние платформы не очень популярны, а наибольшим спросом пользуются игры на *3DS*; из жанров здесь лидируют ролевые игры; хорошо продаются игры с рейтингом Everyone и Teen.\n",
    "\n",
    "Таким образом, можно ожидать, что на американском и европейском рынках будут лучше всего продаваться экшены и шутеры с рейтингом *М* на *PS4*; на японском будут пользоваться наибольшим спросом экшены и ролевые игры на *3DS* с рейтингом *E*. Чтобы найти нужные игры, можем следить за оценками критиков при релизе. Исходя из этого, будет хорошей идеей таргетировать рекламу новых игр с учетом региональных предпочтений, указанных выше, и попробовать включить в рекламу рейтинг Metacritic или отзывы ключевых игровых медиа для отдельного региона.\n",
    "\n",
    "Игры на платформы предыдущих поколений (*PS3*, *Xbox 360*, *Wii*) не будут пользоваться высоким спросом в 2017 году, их могут только покупать по востребованию отдельные держатели этих консолей как ретро-игры."
   ]
  }
 ],
 "metadata": {
  "kernelspec": {
   "display_name": "Python 3",
   "language": "python",
   "name": "python3"
  },
  "language_info": {
   "codemirror_mode": {
    "name": "ipython",
    "version": 3
   },
   "file_extension": ".py",
   "mimetype": "text/x-python",
   "name": "python",
   "nbconvert_exporter": "python",
   "pygments_lexer": "ipython3",
   "version": "3.7.6"
  },
  "toc": {
   "base_numbering": 1,
   "nav_menu": {},
   "number_sections": false,
   "sideBar": true,
   "skip_h1_title": true,
   "title_cell": "Оглавление",
   "title_sidebar": "Содержание",
   "toc_cell": false,
   "toc_position": {
    "height": "calc(100% - 180px)",
    "left": "10px",
    "top": "150px",
    "width": "273px"
   },
   "toc_section_display": true,
   "toc_window_display": true
  }
 },
 "nbformat": 4,
 "nbformat_minor": 2
}
