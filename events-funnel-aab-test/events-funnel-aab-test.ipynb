{
 "cells": [
  {
   "cell_type": "markdown",
   "metadata": {},
   "source": [
    "# Изучение конверсии в покупку пользователей мобильного приложения по продаже продуктов питания и анализ результатов A/A/B-теста по изменению шрифтов"
   ]
  },
  {
   "cell_type": "markdown",
   "metadata": {},
   "source": [
    "## Содержание\n",
    "\n",
    "\n",
    "- [**Шаг 1. Общая информация о данных**](#part_1)\n",
    "    - [1.1. Введение в проект](#101)\n",
    "    - [1.2. Загрузка библиотек и глобальные настройки](#102)\n",
    "    - [1.3. Описание данных](#103)\n",
    "    - [1.4. Выводы из общей информации о данных](#104)\n",
    "\n",
    "\n",
    "- [**Шаг 2. Проверка данных перед анализом**](#part_2)\n",
    "\n",
    "\n",
    "- [**Шаг 3. Изучение воронки событий**](#part_3)\n",
    "\n",
    "\n",
    "- [**Шаг 4. Изучение результатов эксперимента**](#part_4)\n",
    "    - [2.1. Контрольные группы А/А-эксперимента](#401)\n",
    "    - [2.2. Контрольные группы А/А-эксперимента по каждому событию](#402)\n",
    "    - [2.3. Экспериментальная и две контрольные группы A/B-эксперимента по каждому событию](#403)\n",
    "\n",
    "\n",
    "- [**Шаг 5. Общие выводы**](#part_5) "
   ]
  },
  {
   "cell_type": "markdown",
   "metadata": {},
   "source": [
    "<a id='part_1'></a>\n",
    "## Шаг 1. Общая информация о данных"
   ]
  },
  {
   "cell_type": "markdown",
   "metadata": {},
   "source": [
    "<a id='101'></a>\n",
    "### Введение в проект\n",
    "\n",
    "Компания продает продукты питания. Нужно изучить поведение пользователей мобильного приложения — сколько доходят до покупки, а сколько остаются на предыдущих этапах. Также нужно обработать результаты A/A/B-эксперимента — дизайнеры предлагают изменить шрифты в приложении. Пользователи разбиты на 2 контрольные группы со старыми шрифтами и одну экспериментальную группу — с новыми. Две контрольные группы нужны для лучшего контроля скрытых факторов, аномалий в данных и ошибок в разделении на группы."
   ]
  },
  {
   "cell_type": "markdown",
   "metadata": {},
   "source": [
    "<a id='102'></a>\n",
    "### Загрузка библиотек и глобальные настройки"
   ]
  },
  {
   "cell_type": "code",
   "execution_count": 1,
   "metadata": {},
   "outputs": [],
   "source": [
    "import pandas as pd\n",
    "from pandas.api.types import CategoricalDtype\n",
    "import warnings\n",
    "\n",
    "import math as mth\n",
    "import numpy as np\n",
    "import scipy.stats as st\n",
    "from statsmodels.stats.proportion import proportions_ztest\n",
    "\n",
    "import matplotlib.pyplot as plt\n",
    "import seaborn as sns\n",
    "\n",
    "import plotly.io as pio\n",
    "import plotly.express as px\n",
    "import plotly.graph_objects as go"
   ]
  },
  {
   "cell_type": "code",
   "execution_count": 2,
   "metadata": {},
   "outputs": [],
   "source": [
    "pd.set_option('display.max_columns', None)\n",
    "\n",
    "# тема и цветовая схема для интерактивных диаграмм\n",
    "# создание шаблона, который применяет ко всем диаграммам выбранную цветовую схему в формате HEX\n",
    "coolwarm_palette = sns.color_palette('coolwarm', n_colors=10).as_hex()\n",
    "pio.templates['coolwarm'] = go.layout.Template(\n",
    "    layout=go.Layout(\n",
    "        yaxis={'showgrid': True}, \n",
    "        colorway=coolwarm_palette, \n",
    "        colorscale={'sequential': coolwarm_palette, 'diverging': coolwarm_palette}))\n",
    "\n",
    "# применение шаблона вместе со встроенной темой\n",
    "pio.templates.default = 'simple_white+coolwarm'"
   ]
  },
  {
   "cell_type": "markdown",
   "metadata": {},
   "source": [
    "<a id='103'></a>\n",
    "### Описание данных"
   ]
  },
  {
   "cell_type": "markdown",
   "metadata": {},
   "source": [
    "Каждая запись в логе — это действие пользователя, или событие.\n",
    "- `EventName` — название события;\n",
    "- `DeviceIDHash` — уникальный идентификатор пользователя;\n",
    "- `EventTimestamp` — время события;\n",
    "- `ExpId` — номер эксперимента: 246 и 247 — контрольные группы, а 248 — экспериментальная."
   ]
  },
  {
   "cell_type": "code",
   "execution_count": 3,
   "metadata": {},
   "outputs": [
    {
     "name": "stdout",
     "output_type": "stream",
     "text": [
      "<class 'pandas.core.frame.DataFrame'>\n",
      "RangeIndex: 244126 entries, 0 to 244125\n",
      "Data columns (total 4 columns):\n",
      "EventName         244126 non-null object\n",
      "DeviceIDHash      244126 non-null int64\n",
      "EventTimestamp    244126 non-null int64\n",
      "ExpId             244126 non-null int64\n",
      "dtypes: int64(3), object(1)\n",
      "memory usage: 7.5+ MB\n"
     ]
    },
    {
     "data": {
      "text/html": [
       "<div>\n",
       "<style scoped>\n",
       "    .dataframe tbody tr th:only-of-type {\n",
       "        vertical-align: middle;\n",
       "    }\n",
       "\n",
       "    .dataframe tbody tr th {\n",
       "        vertical-align: top;\n",
       "    }\n",
       "\n",
       "    .dataframe thead th {\n",
       "        text-align: right;\n",
       "    }\n",
       "</style>\n",
       "<table border=\"1\" class=\"dataframe\">\n",
       "  <thead>\n",
       "    <tr style=\"text-align: right;\">\n",
       "      <th></th>\n",
       "      <th>EventName</th>\n",
       "      <th>DeviceIDHash</th>\n",
       "      <th>EventTimestamp</th>\n",
       "      <th>ExpId</th>\n",
       "    </tr>\n",
       "  </thead>\n",
       "  <tbody>\n",
       "    <tr>\n",
       "      <td>0</td>\n",
       "      <td>MainScreenAppear</td>\n",
       "      <td>4575588528974610257</td>\n",
       "      <td>1564029816</td>\n",
       "      <td>246</td>\n",
       "    </tr>\n",
       "    <tr>\n",
       "      <td>1</td>\n",
       "      <td>MainScreenAppear</td>\n",
       "      <td>7416695313311560658</td>\n",
       "      <td>1564053102</td>\n",
       "      <td>246</td>\n",
       "    </tr>\n",
       "    <tr>\n",
       "      <td>2</td>\n",
       "      <td>PaymentScreenSuccessful</td>\n",
       "      <td>3518123091307005509</td>\n",
       "      <td>1564054127</td>\n",
       "      <td>248</td>\n",
       "    </tr>\n",
       "    <tr>\n",
       "      <td>3</td>\n",
       "      <td>CartScreenAppear</td>\n",
       "      <td>3518123091307005509</td>\n",
       "      <td>1564054127</td>\n",
       "      <td>248</td>\n",
       "    </tr>\n",
       "    <tr>\n",
       "      <td>4</td>\n",
       "      <td>PaymentScreenSuccessful</td>\n",
       "      <td>6217807653094995999</td>\n",
       "      <td>1564055322</td>\n",
       "      <td>248</td>\n",
       "    </tr>\n",
       "  </tbody>\n",
       "</table>\n",
       "</div>"
      ],
      "text/plain": [
       "                 EventName         DeviceIDHash  EventTimestamp  ExpId\n",
       "0         MainScreenAppear  4575588528974610257      1564029816    246\n",
       "1         MainScreenAppear  7416695313311560658      1564053102    246\n",
       "2  PaymentScreenSuccessful  3518123091307005509      1564054127    248\n",
       "3         CartScreenAppear  3518123091307005509      1564054127    248\n",
       "4  PaymentScreenSuccessful  6217807653094995999      1564055322    248"
      ]
     },
     "execution_count": 3,
     "metadata": {},
     "output_type": "execute_result"
    }
   ],
   "source": [
    "# чтение файла с данными\n",
    "original_logs_exp = pd.read_csv('./datasets/logs_exp.csv', sep='\\t')\n",
    "\n",
    "# создание рабочей копии файла с данными\n",
    "logs_exp = original_logs_exp.copy()\n",
    "\n",
    "# вывод информации и первых 5 строк\n",
    "logs_exp.info()\n",
    "logs_exp.head()"
   ]
  },
  {
   "cell_type": "markdown",
   "metadata": {},
   "source": [
    "Для удобства переименуем столбцы, переведем `EventTimestamp` из unix-формата в читаемый вид, а также выведем даты событий, без времени, в отдельный столбец."
   ]
  },
  {
   "cell_type": "code",
   "execution_count": 4,
   "metadata": {},
   "outputs": [
    {
     "data": {
      "text/html": [
       "<div>\n",
       "<style scoped>\n",
       "    .dataframe tbody tr th:only-of-type {\n",
       "        vertical-align: middle;\n",
       "    }\n",
       "\n",
       "    .dataframe tbody tr th {\n",
       "        vertical-align: top;\n",
       "    }\n",
       "\n",
       "    .dataframe thead th {\n",
       "        text-align: right;\n",
       "    }\n",
       "</style>\n",
       "<table border=\"1\" class=\"dataframe\">\n",
       "  <thead>\n",
       "    <tr style=\"text-align: right;\">\n",
       "      <th></th>\n",
       "      <th>event_name</th>\n",
       "      <th>device_id_hash</th>\n",
       "      <th>event_timestamp</th>\n",
       "      <th>exp_id</th>\n",
       "      <th>event_date</th>\n",
       "    </tr>\n",
       "  </thead>\n",
       "  <tbody>\n",
       "    <tr>\n",
       "      <td>0</td>\n",
       "      <td>MainScreenAppear</td>\n",
       "      <td>4575588528974610257</td>\n",
       "      <td>2019-07-25 04:43:36</td>\n",
       "      <td>246</td>\n",
       "      <td>2019-07-25</td>\n",
       "    </tr>\n",
       "    <tr>\n",
       "      <td>1</td>\n",
       "      <td>MainScreenAppear</td>\n",
       "      <td>7416695313311560658</td>\n",
       "      <td>2019-07-25 11:11:42</td>\n",
       "      <td>246</td>\n",
       "      <td>2019-07-25</td>\n",
       "    </tr>\n",
       "    <tr>\n",
       "      <td>2</td>\n",
       "      <td>PaymentScreenSuccessful</td>\n",
       "      <td>3518123091307005509</td>\n",
       "      <td>2019-07-25 11:28:47</td>\n",
       "      <td>248</td>\n",
       "      <td>2019-07-25</td>\n",
       "    </tr>\n",
       "    <tr>\n",
       "      <td>3</td>\n",
       "      <td>CartScreenAppear</td>\n",
       "      <td>3518123091307005509</td>\n",
       "      <td>2019-07-25 11:28:47</td>\n",
       "      <td>248</td>\n",
       "      <td>2019-07-25</td>\n",
       "    </tr>\n",
       "    <tr>\n",
       "      <td>4</td>\n",
       "      <td>PaymentScreenSuccessful</td>\n",
       "      <td>6217807653094995999</td>\n",
       "      <td>2019-07-25 11:48:42</td>\n",
       "      <td>248</td>\n",
       "      <td>2019-07-25</td>\n",
       "    </tr>\n",
       "  </tbody>\n",
       "</table>\n",
       "</div>"
      ],
      "text/plain": [
       "                event_name       device_id_hash     event_timestamp  exp_id  \\\n",
       "0         MainScreenAppear  4575588528974610257 2019-07-25 04:43:36     246   \n",
       "1         MainScreenAppear  7416695313311560658 2019-07-25 11:11:42     246   \n",
       "2  PaymentScreenSuccessful  3518123091307005509 2019-07-25 11:28:47     248   \n",
       "3         CartScreenAppear  3518123091307005509 2019-07-25 11:28:47     248   \n",
       "4  PaymentScreenSuccessful  6217807653094995999 2019-07-25 11:48:42     248   \n",
       "\n",
       "  event_date  \n",
       "0 2019-07-25  \n",
       "1 2019-07-25  \n",
       "2 2019-07-25  \n",
       "3 2019-07-25  \n",
       "4 2019-07-25  "
      ]
     },
     "execution_count": 4,
     "metadata": {},
     "output_type": "execute_result"
    }
   ],
   "source": [
    "# сменим названия столбцов\n",
    "logs_exp.columns = ['event_name', 'device_id_hash', 'event_timestamp', 'exp_id']\n",
    "\n",
    "# переведем event_timestamp из unix в datetime и выведем в отдельный столбец даты событий\n",
    "logs_exp['event_timestamp'] = pd.to_datetime(logs_exp['event_timestamp'], unit='s')\n",
    "logs_exp['event_date'] = logs_exp['event_timestamp'].astype('datetime64[D]')\n",
    "\n",
    "logs_exp.head()"
   ]
  },
  {
   "cell_type": "code",
   "execution_count": 5,
   "metadata": {},
   "outputs": [
    {
     "name": "stdout",
     "output_type": "stream",
     "text": [
      "Количество полностью дублированных строк: 413\n",
      "Процент дубликатов от общих данных: 0.17%\n"
     ]
    }
   ],
   "source": [
    "print('Количество полностью дублированных строк:', logs_exp.duplicated().sum())\n",
    "print('Процент дубликатов от общих данных: {:.2%}'.format(logs_exp.duplicated().sum() / len(logs_exp)))\n",
    "\n",
    "logs_exp = logs_exp.drop_duplicates()"
   ]
  },
  {
   "cell_type": "markdown",
   "metadata": {},
   "source": [
    "17 сотых процента дубликатов мы можем безопасно удалить."
   ]
  },
  {
   "cell_type": "code",
   "execution_count": 6,
   "metadata": {},
   "outputs": [
    {
     "data": {
      "text/plain": [
       "event_name              5\n",
       "device_id_hash       7551\n",
       "event_timestamp    176654\n",
       "exp_id                  3\n",
       "event_date             14\n",
       "dtype: int64"
      ]
     },
     "execution_count": 6,
     "metadata": {},
     "output_type": "execute_result"
    }
   ],
   "source": [
    "# количество уникальных значений в каждом столбце\n",
    "logs_exp.nunique()"
   ]
  },
  {
   "cell_type": "markdown",
   "metadata": {},
   "source": [
    "<a id='104'></a>\n",
    "### Выводы из общей информации о данных\n",
    "\n",
    "Нам доступны данные о поведении 7 551 пользователя мобильного приложения для заказа продуктов за 14 дней, которые разбиты на 3 группы по 5 событий в каждом. Вот что можно сказать из первичного изучения данных:\n",
    "\n",
    "1. Данные соответствуют полученному описанию.\n",
    "1. В таблице нашлись 0,17% полностью дублированных строк, что некорректно — эти записи мы удалили.\n",
    "1. Перевели `event_timestamp` в формат читаемых дат, а остальные типы данных соответствуют признакам.\n",
    "1. Пропусков в данных не обнаружено.\n",
    "1. Аномалий или нелогичных данных на первый взгляд нет, но в дальнейшем стоит проверить последовательность появления событий. "
   ]
  },
  {
   "cell_type": "markdown",
   "metadata": {},
   "source": [
    "<a id='part_2'></a>\n",
    "## Шаг 2. Проверка данных перед анализом"
   ]
  },
  {
   "cell_type": "markdown",
   "metadata": {},
   "source": [
    "Нам нужно убедиться, что в данных нет аномалий, которые помещают анализу сплит-теста. Сначала посмотрим общую информацию — сколько пользователей и сколько событий в выборке:"
   ]
  },
  {
   "cell_type": "code",
   "execution_count": 7,
   "metadata": {},
   "outputs": [
    {
     "name": "stdout",
     "output_type": "stream",
     "text": [
      "Всего событий зафиксировано в логе: 243713\n"
     ]
    }
   ],
   "source": [
    "print('Всего событий зафиксировано в логе:', logs_exp.shape[0])"
   ]
  },
  {
   "cell_type": "code",
   "execution_count": 8,
   "metadata": {},
   "outputs": [
    {
     "name": "stdout",
     "output_type": "stream",
     "text": [
      "Всего типов событий в логе: 5\n"
     ]
    }
   ],
   "source": [
    "print('Всего типов событий в логе:', logs_exp['event_name'].nunique())"
   ]
  },
  {
   "cell_type": "code",
   "execution_count": 9,
   "metadata": {},
   "outputs": [
    {
     "name": "stdout",
     "output_type": "stream",
     "text": [
      "Всего пользователей в логе: 7551\n"
     ]
    }
   ],
   "source": [
    "print('Всего пользователей в логе:', logs_exp['device_id_hash'].nunique())"
   ]
  },
  {
   "cell_type": "code",
   "execution_count": 10,
   "metadata": {},
   "outputs": [
    {
     "name": "stdout",
     "output_type": "stream",
     "text": [
      "Среднее количество событий на пользователя: 32.3\n"
     ]
    }
   ],
   "source": [
    "print('Среднее количество событий на пользователя: {:.1f}'.format(\n",
    "    logs_exp['event_timestamp'].count() / logs_exp['device_id_hash'].nunique()))"
   ]
  },
  {
   "cell_type": "markdown",
   "metadata": {},
   "source": [
    "Проверим, нет ли пересекающихся событий, которые случайно попали в выборку. У нас должны быть полные данные за весь период. Определим временные границы эксперимента и построим гистограмму временных отметок:"
   ]
  },
  {
   "cell_type": "code",
   "execution_count": 11,
   "metadata": {},
   "outputs": [
    {
     "name": "stdout",
     "output_type": "stream",
     "text": [
      "Минимальная дата: 2019-07-25 04:43:36\n",
      "Максимальная дата: 2019-08-07 21:15:17\n"
     ]
    }
   ],
   "source": [
    "print('Минимальная дата:', logs_exp['event_timestamp'].min())\n",
    "print('Максимальная дата:', logs_exp['event_timestamp'].max())"
   ]
  },
  {
   "cell_type": "code",
   "execution_count": 12,
   "metadata": {},
   "outputs": [
    {
     "data": {
      "image/svg+xml": [
       "<svg class=\"main-svg\" xmlns=\"http://www.w3.org/2000/svg\" xmlns:xlink=\"http://www.w3.org/1999/xlink\" width=\"900\" height=\"550\" style=\"\" viewBox=\"0 0 900 550\"><rect x=\"0\" y=\"0\" width=\"900\" height=\"550\" style=\"fill: rgb(255, 255, 255); fill-opacity: 1;\"/><defs id=\"defs-6a3856\"><g class=\"clips\"><clipPath id=\"clip6a3856xyplot\" class=\"plotclip\"><rect width=\"740\" height=\"410\"/></clipPath><clipPath class=\"axesclip\" id=\"clip6a3856x\"><rect x=\"80\" y=\"0\" width=\"740\" height=\"550\"/></clipPath><clipPath class=\"axesclip\" id=\"clip6a3856y\"><rect x=\"0\" y=\"60\" width=\"900\" height=\"410\"/></clipPath><clipPath class=\"axesclip\" id=\"clip6a3856xy\"><rect x=\"80\" y=\"60\" width=\"740\" height=\"410\"/></clipPath></g><g class=\"gradients\"/></defs><g class=\"bglayer\"/><g class=\"layer-below\"><g class=\"imagelayer\"/><g class=\"shapelayer\"/></g><g class=\"cartesianlayer\"><g class=\"subplot xy\"><g class=\"layer-subplot\"><g class=\"shapelayer\"/><g class=\"imagelayer\"/></g><g class=\"gridlayer\"><g class=\"x\"/><g class=\"y\"><path class=\"ygrid crisp\" transform=\"translate(0,416.11)\" d=\"M80,0h740\" style=\"stroke: rgb(232, 232, 232); stroke-opacity: 1; stroke-width: 1px;\"/><path class=\"ygrid crisp\" transform=\"translate(0,362.23)\" d=\"M80,0h740\" style=\"stroke: rgb(232, 232, 232); stroke-opacity: 1; stroke-width: 1px;\"/><path class=\"ygrid crisp\" transform=\"translate(0,308.34000000000003)\" d=\"M80,0h740\" style=\"stroke: rgb(232, 232, 232); stroke-opacity: 1; stroke-width: 1px;\"/><path class=\"ygrid crisp\" transform=\"translate(0,254.46)\" d=\"M80,0h740\" style=\"stroke: rgb(232, 232, 232); stroke-opacity: 1; stroke-width: 1px;\"/><path class=\"ygrid crisp\" transform=\"translate(0,200.57)\" d=\"M80,0h740\" style=\"stroke: rgb(232, 232, 232); stroke-opacity: 1; stroke-width: 1px;\"/><path class=\"ygrid crisp\" transform=\"translate(0,146.68)\" d=\"M80,0h740\" style=\"stroke: rgb(232, 232, 232); stroke-opacity: 1; stroke-width: 1px;\"/><path class=\"ygrid crisp\" transform=\"translate(0,92.8)\" d=\"M80,0h740\" style=\"stroke: rgb(232, 232, 232); stroke-opacity: 1; stroke-width: 1px;\"/></g></g><g class=\"zerolinelayer\"/><path class=\"xlines-below\"/><path class=\"ylines-below\"/><g class=\"overlines-below\"/><g class=\"xaxislayer-below\"/><g class=\"yaxislayer-below\"/><g class=\"overaxes-below\"/><g class=\"plot\" transform=\"translate(80, 60)\" clip-path=\"url('#clip6a3856xyplot')\"><g class=\"barlayer mlayer\"><g class=\"trace bars\" style=\"opacity: 1;\"><g class=\"points\"><g class=\"point\"><path d=\"M0,410V409.9H52.86V410Z\" style=\"vector-effect: non-scaling-stroke; opacity: 1; stroke-width: 0.6px; fill: rgb(86, 115, 224); fill-opacity: 1; stroke: rgb(255, 255, 255); stroke-opacity: 1;\"/></g><g class=\"point\"><path d=\"M52.86,410V409.67H105.71V410Z\" style=\"vector-effect: non-scaling-stroke; opacity: 1; stroke-width: 0.6px; fill: rgb(86, 115, 224); fill-opacity: 1; stroke: rgb(255, 255, 255); stroke-opacity: 1;\"/></g><g class=\"point\"><path d=\"M105.71,410V409.41H158.57V410Z\" style=\"vector-effect: non-scaling-stroke; opacity: 1; stroke-width: 0.6px; fill: rgb(86, 115, 224); fill-opacity: 1; stroke: rgb(255, 255, 255); stroke-opacity: 1;\"/></g><g class=\"point\"><path d=\"M158.57,410V408.87H211.43V410Z\" style=\"vector-effect: non-scaling-stroke; opacity: 1; stroke-width: 0.6px; fill: rgb(86, 115, 224); fill-opacity: 1; stroke: rgb(255, 255, 255); stroke-opacity: 1;\"/></g><g class=\"point\"><path d=\"M211.43,410V408.02H264.29V410Z\" style=\"vector-effect: non-scaling-stroke; opacity: 1; stroke-width: 0.6px; fill: rgb(86, 115, 224); fill-opacity: 1; stroke: rgb(255, 255, 255); stroke-opacity: 1;\"/></g><g class=\"point\"><path d=\"M264.29,410V405.56H317.14V410Z\" style=\"vector-effect: non-scaling-stroke; opacity: 1; stroke-width: 0.6px; fill: rgb(86, 115, 224); fill-opacity: 1; stroke: rgb(255, 255, 255); stroke-opacity: 1;\"/></g><g class=\"point\"><path d=\"M317.14,410V388.12H370V410Z\" style=\"vector-effect: non-scaling-stroke; opacity: 1; stroke-width: 0.6px; fill: rgb(86, 115, 224); fill-opacity: 1; stroke: rgb(255, 255, 255); stroke-opacity: 1;\"/></g><g class=\"point\"><path d=\"M370,410V20.5H422.86V410Z\" style=\"vector-effect: non-scaling-stroke; opacity: 1; stroke-width: 0.6px; fill: rgb(86, 115, 224); fill-opacity: 1; stroke: rgb(255, 255, 255); stroke-opacity: 1;\"/></g><g class=\"point\"><path d=\"M422.86,410V26.83H475.71V410Z\" style=\"vector-effect: non-scaling-stroke; opacity: 1; stroke-width: 0.6px; fill: rgb(86, 115, 224); fill-opacity: 1; stroke: rgb(255, 255, 255); stroke-opacity: 1;\"/></g><g class=\"point\"><path d=\"M475.71,410V51.31H528.57V410Z\" style=\"vector-effect: non-scaling-stroke; opacity: 1; stroke-width: 0.6px; fill: rgb(86, 115, 224); fill-opacity: 1; stroke: rgb(255, 255, 255); stroke-opacity: 1;\"/></g><g class=\"point\"><path d=\"M528.57,410V54.7H581.43V410Z\" style=\"vector-effect: non-scaling-stroke; opacity: 1; stroke-width: 0.6px; fill: rgb(86, 115, 224); fill-opacity: 1; stroke: rgb(255, 255, 255); stroke-opacity: 1;\"/></g><g class=\"point\"><path d=\"M581.43,410V21.39H634.29V410Z\" style=\"vector-effect: non-scaling-stroke; opacity: 1; stroke-width: 0.6px; fill: rgb(86, 115, 224); fill-opacity: 1; stroke: rgb(255, 255, 255); stroke-opacity: 1;\"/></g><g class=\"point\"><path d=\"M634.29,410V24.3H687.14V410Z\" style=\"vector-effect: non-scaling-stroke; opacity: 1; stroke-width: 0.6px; fill: rgb(86, 115, 224); fill-opacity: 1; stroke: rgb(255, 255, 255); stroke-opacity: 1;\"/></g><g class=\"point\"><path d=\"M687.14,410V74.87H740V410Z\" style=\"vector-effect: non-scaling-stroke; opacity: 1; stroke-width: 0.6px; fill: rgb(86, 115, 224); fill-opacity: 1; stroke: rgb(255, 255, 255); stroke-opacity: 1;\"/></g></g></g></g></g><g class=\"overplot\"/><path class=\"xlines-above crisp\" d=\"M79,470.5H820\" style=\"fill: none; stroke-width: 1px; stroke: rgb(36, 36, 36); stroke-opacity: 1;\"/><path class=\"ylines-above crisp\" d=\"M79.5,60V470\" style=\"fill: none; stroke-width: 1px; stroke: rgb(36, 36, 36); stroke-opacity: 1;\"/><g class=\"overlines-above\"/><g class=\"xaxislayer-above\"><path class=\"xtick ticks crisp\" d=\"M0,471v5\" transform=\"translate(106.43,0)\" style=\"stroke: rgb(68, 68, 68); stroke-opacity: 1; stroke-width: 1px;\"/><path class=\"xtick ticks crisp\" d=\"M0,471v5\" transform=\"translate(212.14,0)\" style=\"stroke: rgb(68, 68, 68); stroke-opacity: 1; stroke-width: 1px;\"/><path class=\"xtick ticks crisp\" d=\"M0,471v5\" transform=\"translate(317.86,0)\" style=\"stroke: rgb(68, 68, 68); stroke-opacity: 1; stroke-width: 1px;\"/><path class=\"xtick ticks crisp\" d=\"M0,471v5\" transform=\"translate(423.57,0)\" style=\"stroke: rgb(68, 68, 68); stroke-opacity: 1; stroke-width: 1px;\"/><path class=\"xtick ticks crisp\" d=\"M0,471v5\" transform=\"translate(529.29,0)\" style=\"stroke: rgb(68, 68, 68); stroke-opacity: 1; stroke-width: 1px;\"/><path class=\"xtick ticks crisp\" d=\"M0,471v5\" transform=\"translate(635,0)\" style=\"stroke: rgb(68, 68, 68); stroke-opacity: 1; stroke-width: 1px;\"/><path class=\"xtick ticks crisp\" d=\"M0,471v5\" transform=\"translate(740.71,0)\" style=\"stroke: rgb(68, 68, 68); stroke-opacity: 1; stroke-width: 1px;\"/><g class=\"xtick\"><text text-anchor=\"middle\" x=\"0\" y=\"490.4\" transform=\"translate(106.43,0)\" style=\"font-family: 'Open Sans', verdana, arial, sans-serif; font-size: 12px; fill: rgb(36, 36, 36); fill-opacity: 1; white-space: pre;\"><tspan class=\"line\" dy=\"0em\" x=\"0\" y=\"490.4\">Jul 25</tspan><tspan class=\"line\" dy=\"1.3em\" x=\"0\" y=\"490.4\">2019</tspan></text></g><g class=\"xtick\"><text text-anchor=\"middle\" x=\"0\" y=\"490.4\" transform=\"translate(212.14,0)\" style=\"font-family: 'Open Sans', verdana, arial, sans-serif; font-size: 12px; fill: rgb(36, 36, 36); fill-opacity: 1; white-space: pre;\">Jul 27</text></g><g class=\"xtick\"><text text-anchor=\"middle\" x=\"0\" y=\"490.4\" transform=\"translate(317.86,0)\" style=\"font-family: 'Open Sans', verdana, arial, sans-serif; font-size: 12px; fill: rgb(36, 36, 36); fill-opacity: 1; white-space: pre;\">Jul 29</text></g><g class=\"xtick\"><text text-anchor=\"middle\" x=\"0\" y=\"490.4\" transform=\"translate(423.57,0)\" style=\"font-family: 'Open Sans', verdana, arial, sans-serif; font-size: 12px; fill: rgb(36, 36, 36); fill-opacity: 1; white-space: pre;\">Jul 31</text></g><g class=\"xtick\"><text text-anchor=\"middle\" x=\"0\" y=\"490.4\" transform=\"translate(529.29,0)\" style=\"font-family: 'Open Sans', verdana, arial, sans-serif; font-size: 12px; fill: rgb(36, 36, 36); fill-opacity: 1; white-space: pre;\">Aug 2</text></g><g class=\"xtick\"><text text-anchor=\"middle\" x=\"0\" y=\"490.4\" transform=\"translate(635,0)\" style=\"font-family: 'Open Sans', verdana, arial, sans-serif; font-size: 12px; fill: rgb(36, 36, 36); fill-opacity: 1; white-space: pre;\">Aug 4</text></g><g class=\"xtick\"><text text-anchor=\"middle\" x=\"0\" y=\"490.4\" transform=\"translate(740.71,0)\" style=\"font-family: 'Open Sans', verdana, arial, sans-serif; font-size: 12px; fill: rgb(36, 36, 36); fill-opacity: 1; white-space: pre;\">Aug 6</text></g></g><g class=\"yaxislayer-above\"><path class=\"ytick ticks crisp\" d=\"M79,0h-5\" transform=\"translate(0,470)\" style=\"stroke: rgb(68, 68, 68); stroke-opacity: 1; stroke-width: 1px;\"/><path class=\"ytick ticks crisp\" d=\"M79,0h-5\" transform=\"translate(0,416.11)\" style=\"stroke: rgb(68, 68, 68); stroke-opacity: 1; stroke-width: 1px;\"/><path class=\"ytick ticks crisp\" d=\"M79,0h-5\" transform=\"translate(0,362.23)\" style=\"stroke: rgb(68, 68, 68); stroke-opacity: 1; stroke-width: 1px;\"/><path class=\"ytick ticks crisp\" d=\"M79,0h-5\" transform=\"translate(0,308.34000000000003)\" style=\"stroke: rgb(68, 68, 68); stroke-opacity: 1; stroke-width: 1px;\"/><path class=\"ytick ticks crisp\" d=\"M79,0h-5\" transform=\"translate(0,254.46)\" style=\"stroke: rgb(68, 68, 68); stroke-opacity: 1; stroke-width: 1px;\"/><path class=\"ytick ticks crisp\" d=\"M79,0h-5\" transform=\"translate(0,200.57)\" style=\"stroke: rgb(68, 68, 68); stroke-opacity: 1; stroke-width: 1px;\"/><path class=\"ytick ticks crisp\" d=\"M79,0h-5\" transform=\"translate(0,146.68)\" style=\"stroke: rgb(68, 68, 68); stroke-opacity: 1; stroke-width: 1px;\"/><path class=\"ytick ticks crisp\" d=\"M79,0h-5\" transform=\"translate(0,92.8)\" style=\"stroke: rgb(68, 68, 68); stroke-opacity: 1; stroke-width: 1px;\"/><g class=\"ytick\"><text text-anchor=\"end\" x=\"71.6\" y=\"4.199999999999999\" transform=\"translate(0,470)\" style=\"font-family: 'Open Sans', verdana, arial, sans-serif; font-size: 12px; fill: rgb(36, 36, 36); fill-opacity: 1; white-space: pre;\">0</text></g><g class=\"ytick\"><text text-anchor=\"end\" x=\"71.6\" y=\"4.199999999999999\" transform=\"translate(0,416.11)\" style=\"font-family: 'Open Sans', verdana, arial, sans-serif; font-size: 12px; fill: rgb(36, 36, 36); fill-opacity: 1; white-space: pre;\">5k</text></g><g class=\"ytick\"><text text-anchor=\"end\" x=\"71.6\" y=\"4.199999999999999\" transform=\"translate(0,362.23)\" style=\"font-family: 'Open Sans', verdana, arial, sans-serif; font-size: 12px; fill: rgb(36, 36, 36); fill-opacity: 1; white-space: pre;\">10k</text></g><g class=\"ytick\"><text text-anchor=\"end\" x=\"71.6\" y=\"4.199999999999999\" transform=\"translate(0,308.34000000000003)\" style=\"font-family: 'Open Sans', verdana, arial, sans-serif; font-size: 12px; fill: rgb(36, 36, 36); fill-opacity: 1; white-space: pre;\">15k</text></g><g class=\"ytick\"><text text-anchor=\"end\" x=\"71.6\" y=\"4.199999999999999\" transform=\"translate(0,254.46)\" style=\"font-family: 'Open Sans', verdana, arial, sans-serif; font-size: 12px; fill: rgb(36, 36, 36); fill-opacity: 1; white-space: pre;\">20k</text></g><g class=\"ytick\"><text text-anchor=\"end\" x=\"71.6\" y=\"4.199999999999999\" transform=\"translate(0,200.57)\" style=\"font-family: 'Open Sans', verdana, arial, sans-serif; font-size: 12px; fill: rgb(36, 36, 36); fill-opacity: 1; white-space: pre;\">25k</text></g><g class=\"ytick\"><text text-anchor=\"end\" x=\"71.6\" y=\"4.199999999999999\" transform=\"translate(0,146.68)\" style=\"font-family: 'Open Sans', verdana, arial, sans-serif; font-size: 12px; fill: rgb(36, 36, 36); fill-opacity: 1; white-space: pre;\">30k</text></g><g class=\"ytick\"><text text-anchor=\"end\" x=\"71.6\" y=\"4.199999999999999\" transform=\"translate(0,92.8)\" style=\"font-family: 'Open Sans', verdana, arial, sans-serif; font-size: 12px; fill: rgb(36, 36, 36); fill-opacity: 1; white-space: pre;\">35k</text></g></g><g class=\"overaxes-above\"/></g></g><g class=\"polarlayer\"/><g class=\"ternarylayer\"/><g class=\"geolayer\"/><g class=\"funnelarealayer\"/><g class=\"pielayer\"/><g class=\"treemaplayer\"/><g class=\"sunburstlayer\"/><g class=\"glimages\"/><defs id=\"topdefs-6a3856\"><g class=\"clips\"/></defs><g class=\"layer-above\"><g class=\"imagelayer\"/><g class=\"shapelayer\"/></g><g class=\"infolayer\"><g class=\"g-gtitle\"><text class=\"gtitle\" x=\"45\" y=\"30\" text-anchor=\"start\" dy=\"0em\" style=\"font-family: 'Open Sans', verdana, arial, sans-serif; font-size: 17px; fill: rgb(36, 36, 36); opacity: 1; font-weight: normal; white-space: pre;\">Распределение event_date</text></g><g class=\"g-xtitle\"><text class=\"xtitle\" x=\"450\" y=\"534.3\" text-anchor=\"middle\" style=\"font-family: 'Open Sans', verdana, arial, sans-serif; font-size: 14px; fill: rgb(36, 36, 36); opacity: 1; font-weight: normal; white-space: pre;\">Дата события</text></g><g class=\"g-ytitle\"><text class=\"ytitle\" transform=\"rotate(-90,26.778125000000003,265)\" x=\"26.778125000000003\" y=\"265\" text-anchor=\"middle\" style=\"font-family: 'Open Sans', verdana, arial, sans-serif; font-size: 14px; fill: rgb(36, 36, 36); opacity: 1; font-weight: normal; white-space: pre;\">Частота значений признака</text></g></g></svg>"
      ]
     },
     "metadata": {},
     "output_type": "display_data"
    }
   ],
   "source": [
    "px.histogram(\n",
    "    logs_exp['event_date']\n",
    ").update_layout(\n",
    "    showlegend=False, \n",
    "    xaxis_type='date', \n",
    "    title='Распределение event_date', \n",
    "    xaxis_title='Дата события', \n",
    "    yaxis_title='Частота значений признака'\n",
    ").show(renderer='svg', width=900, height=550)"
   ]
  },
  {
   "cell_type": "code",
   "execution_count": 13,
   "metadata": {},
   "outputs": [
    {
     "data": {
      "image/svg+xml": [
       "<svg class=\"main-svg\" xmlns=\"http://www.w3.org/2000/svg\" xmlns:xlink=\"http://www.w3.org/1999/xlink\" width=\"900\" height=\"550\" style=\"\" viewBox=\"0 0 900 550\"><rect x=\"0\" y=\"0\" width=\"900\" height=\"550\" style=\"fill: rgb(255, 255, 255); fill-opacity: 1;\"/><defs id=\"defs-a51f0c\"><g class=\"clips\"><clipPath id=\"clipa51f0cxyplot\" class=\"plotclip\"><rect width=\"740\" height=\"410\"/></clipPath><clipPath class=\"axesclip\" id=\"clipa51f0cx\"><rect x=\"80\" y=\"0\" width=\"740\" height=\"550\"/></clipPath><clipPath class=\"axesclip\" id=\"clipa51f0cy\"><rect x=\"0\" y=\"60\" width=\"900\" height=\"410\"/></clipPath><clipPath class=\"axesclip\" id=\"clipa51f0cxy\"><rect x=\"80\" y=\"60\" width=\"740\" height=\"410\"/></clipPath></g><g class=\"gradients\"/></defs><g class=\"bglayer\"/><g class=\"layer-below\"><g class=\"imagelayer\"/><g class=\"shapelayer\"/></g><g class=\"cartesianlayer\"><g class=\"subplot xy\"><g class=\"layer-subplot\"><g class=\"shapelayer\"/><g class=\"imagelayer\"/></g><g class=\"gridlayer\"><g class=\"x\"/><g class=\"y\"><path class=\"ygrid crisp\" transform=\"translate(0,402.32)\" d=\"M80,0h740\" style=\"stroke: rgb(232, 232, 232); stroke-opacity: 1; stroke-width: 1px;\"/><path class=\"ygrid crisp\" transform=\"translate(0,334.64)\" d=\"M80,0h740\" style=\"stroke: rgb(232, 232, 232); stroke-opacity: 1; stroke-width: 1px;\"/><path class=\"ygrid crisp\" transform=\"translate(0,266.96000000000004)\" d=\"M80,0h740\" style=\"stroke: rgb(232, 232, 232); stroke-opacity: 1; stroke-width: 1px;\"/><path class=\"ygrid crisp\" transform=\"translate(0,199.28)\" d=\"M80,0h740\" style=\"stroke: rgb(232, 232, 232); stroke-opacity: 1; stroke-width: 1px;\"/><path class=\"ygrid crisp\" transform=\"translate(0,131.6)\" d=\"M80,0h740\" style=\"stroke: rgb(232, 232, 232); stroke-opacity: 1; stroke-width: 1px;\"/><path class=\"ygrid crisp\" transform=\"translate(0,63.92)\" d=\"M80,0h740\" style=\"stroke: rgb(232, 232, 232); stroke-opacity: 1; stroke-width: 1px;\"/></g></g><g class=\"zerolinelayer\"/><path class=\"xlines-below\"/><path class=\"ylines-below\"/><g class=\"overlines-below\"/><g class=\"xaxislayer-below\"/><g class=\"yaxislayer-below\"/><g class=\"overaxes-below\"/><g class=\"plot\" transform=\"translate(80, 60)\" clip-path=\"url('#clipa51f0cxyplot')\"><g class=\"barlayer mlayer\"><g class=\"trace bars\" style=\"opacity: 1;\"><g class=\"points\"><g class=\"point\"><path d=\"M34.29,410V409.93H38.58V410Z\" style=\"vector-effect: non-scaling-stroke; opacity: 1; stroke-width: 0.6px; fill: rgb(86, 115, 224); fill-opacity: 1; stroke: rgb(255, 255, 255); stroke-opacity: 1;\"/></g><g class=\"point\"><path d=\"M38.58,410V410H42.87V410Z\" style=\"vector-effect: non-scaling-stroke; opacity: 1; stroke-width: 0px; fill: rgb(86, 115, 224); fill-opacity: 1; stroke: rgb(255, 255, 255); stroke-opacity: 1;\"/></g><g class=\"point\"><path d=\"M42.87,410V410H47.15V410Z\" style=\"vector-effect: non-scaling-stroke; opacity: 1; stroke-width: 0px; fill: rgb(86, 115, 224); fill-opacity: 1; stroke: rgb(255, 255, 255); stroke-opacity: 1;\"/></g><g class=\"point\"><path d=\"M47.15,410V409.66H51.44V410Z\" style=\"vector-effect: non-scaling-stroke; opacity: 1; stroke-width: 0.6px; fill: rgb(86, 115, 224); fill-opacity: 1; stroke: rgb(255, 255, 255); stroke-opacity: 1;\"/></g><g class=\"point\"><path d=\"M51.44,410V410H55.73V410Z\" style=\"vector-effect: non-scaling-stroke; opacity: 1; stroke-width: 0px; fill: rgb(86, 115, 224); fill-opacity: 1; stroke: rgb(255, 255, 255); stroke-opacity: 1;\"/></g><g class=\"point\"><path d=\"M55.73,410V409.93H60.01V410Z\" style=\"vector-effect: non-scaling-stroke; opacity: 1; stroke-width: 0.6px; fill: rgb(86, 115, 224); fill-opacity: 1; stroke: rgb(255, 255, 255); stroke-opacity: 1;\"/></g><g class=\"point\"><path d=\"M60.01,410V410H64.3V410Z\" style=\"vector-effect: non-scaling-stroke; opacity: 1; stroke-width: 0px; fill: rgb(86, 115, 224); fill-opacity: 1; stroke: rgb(255, 255, 255); stroke-opacity: 1;\"/></g><g class=\"point\"><path d=\"M64.3,410V410H68.59V410Z\" style=\"vector-effect: non-scaling-stroke; opacity: 1; stroke-width: 0px; fill: rgb(86, 115, 224); fill-opacity: 1; stroke: rgb(255, 255, 255); stroke-opacity: 1;\"/></g><g class=\"point\"><path d=\"M68.59,410V409.86H72.87V410Z\" style=\"vector-effect: non-scaling-stroke; opacity: 1; stroke-width: 0.6px; fill: rgb(86, 115, 224); fill-opacity: 1; stroke: rgb(255, 255, 255); stroke-opacity: 1;\"/></g><g class=\"point\"><path d=\"M72.87,410V410H77.16V410Z\" style=\"vector-effect: non-scaling-stroke; opacity: 1; stroke-width: 0px; fill: rgb(86, 115, 224); fill-opacity: 1; stroke: rgb(255, 255, 255); stroke-opacity: 1;\"/></g><g class=\"point\"><path d=\"M77.16,410V410H81.45V410Z\" style=\"vector-effect: non-scaling-stroke; opacity: 1; stroke-width: 0px; fill: rgb(86, 115, 224); fill-opacity: 1; stroke: rgb(255, 255, 255); stroke-opacity: 1;\"/></g><g class=\"point\"><path d=\"M81.45,410V409.93H85.73V410Z\" style=\"vector-effect: non-scaling-stroke; opacity: 1; stroke-width: 0.6px; fill: rgb(86, 115, 224); fill-opacity: 1; stroke: rgb(255, 255, 255); stroke-opacity: 1;\"/></g><g class=\"point\"><path d=\"M85.73,410V409.93H90.02V410Z\" style=\"vector-effect: non-scaling-stroke; opacity: 1; stroke-width: 0.6px; fill: rgb(86, 115, 224); fill-opacity: 1; stroke: rgb(255, 255, 255); stroke-opacity: 1;\"/></g><g class=\"point\"><path d=\"M90.02,410V409.8H94.31V410Z\" style=\"vector-effect: non-scaling-stroke; opacity: 1; stroke-width: 0.6px; fill: rgb(86, 115, 224); fill-opacity: 1; stroke: rgb(255, 255, 255); stroke-opacity: 1;\"/></g><g class=\"point\"><path d=\"M94.31,410V410H98.59V410Z\" style=\"vector-effect: non-scaling-stroke; opacity: 1; stroke-width: 0px; fill: rgb(86, 115, 224); fill-opacity: 1; stroke: rgb(255, 255, 255); stroke-opacity: 1;\"/></g><g class=\"point\"><path d=\"M98.59,410V409.8H102.88V410Z\" style=\"vector-effect: non-scaling-stroke; opacity: 1; stroke-width: 0.6px; fill: rgb(86, 115, 224); fill-opacity: 1; stroke: rgb(255, 255, 255); stroke-opacity: 1;\"/></g><g class=\"point\"><path d=\"M102.88,410V409.86H107.17V410Z\" style=\"vector-effect: non-scaling-stroke; opacity: 1; stroke-width: 0.6px; fill: rgb(86, 115, 224); fill-opacity: 1; stroke: rgb(255, 255, 255); stroke-opacity: 1;\"/></g><g class=\"point\"><path d=\"M107.17,410V409.59H111.45V410Z\" style=\"vector-effect: non-scaling-stroke; opacity: 1; stroke-width: 0.6px; fill: rgb(86, 115, 224); fill-opacity: 1; stroke: rgb(255, 255, 255); stroke-opacity: 1;\"/></g><g class=\"point\"><path d=\"M111.45,410V409.73H115.74V410Z\" style=\"vector-effect: non-scaling-stroke; opacity: 1; stroke-width: 0.6px; fill: rgb(86, 115, 224); fill-opacity: 1; stroke: rgb(255, 255, 255); stroke-opacity: 1;\"/></g><g class=\"point\"><path d=\"M115.74,410V409.32H120.03V410Z\" style=\"vector-effect: non-scaling-stroke; opacity: 1; stroke-width: 0.6px; fill: rgb(86, 115, 224); fill-opacity: 1; stroke: rgb(255, 255, 255); stroke-opacity: 1;\"/></g><g class=\"point\"><path d=\"M120.03,410V410H124.31V410Z\" style=\"vector-effect: non-scaling-stroke; opacity: 1; stroke-width: 0px; fill: rgb(86, 115, 224); fill-opacity: 1; stroke: rgb(255, 255, 255); stroke-opacity: 1;\"/></g><g class=\"point\"><path d=\"M124.31,410V409.93H128.6V410Z\" style=\"vector-effect: non-scaling-stroke; opacity: 1; stroke-width: 0.6px; fill: rgb(86, 115, 224); fill-opacity: 1; stroke: rgb(255, 255, 255); stroke-opacity: 1;\"/></g><g class=\"point\"><path d=\"M128.6,410V410H132.89V410Z\" style=\"vector-effect: non-scaling-stroke; opacity: 1; stroke-width: 0px; fill: rgb(86, 115, 224); fill-opacity: 1; stroke: rgb(255, 255, 255); stroke-opacity: 1;\"/></g><g class=\"point\"><path d=\"M132.89,410V410H137.17V410Z\" style=\"vector-effect: non-scaling-stroke; opacity: 1; stroke-width: 0px; fill: rgb(86, 115, 224); fill-opacity: 1; stroke: rgb(255, 255, 255); stroke-opacity: 1;\"/></g><g class=\"point\"><path d=\"M137.17,410V409.93H141.46V410Z\" style=\"vector-effect: non-scaling-stroke; opacity: 1; stroke-width: 0.6px; fill: rgb(86, 115, 224); fill-opacity: 1; stroke: rgb(255, 255, 255); stroke-opacity: 1;\"/></g><g class=\"point\"><path d=\"M141.46,410V409.73H145.75V410Z\" style=\"vector-effect: non-scaling-stroke; opacity: 1; stroke-width: 0.6px; fill: rgb(86, 115, 224); fill-opacity: 1; stroke: rgb(255, 255, 255); stroke-opacity: 1;\"/></g><g class=\"point\"><path d=\"M145.75,410V409.39H150.03V410Z\" style=\"vector-effect: non-scaling-stroke; opacity: 1; stroke-width: 0.6px; fill: rgb(86, 115, 224); fill-opacity: 1; stroke: rgb(255, 255, 255); stroke-opacity: 1;\"/></g><g class=\"point\"><path d=\"M150.03,410V409.05H154.32V410Z\" style=\"vector-effect: non-scaling-stroke; opacity: 1; stroke-width: 0.6px; fill: rgb(86, 115, 224); fill-opacity: 1; stroke: rgb(255, 255, 255); stroke-opacity: 1;\"/></g><g class=\"point\"><path d=\"M154.32,410V409.8H158.61V410Z\" style=\"vector-effect: non-scaling-stroke; opacity: 1; stroke-width: 0.6px; fill: rgb(86, 115, 224); fill-opacity: 1; stroke: rgb(255, 255, 255); stroke-opacity: 1;\"/></g><g class=\"point\"><path d=\"M158.61,410V409.59H162.89V410Z\" style=\"vector-effect: non-scaling-stroke; opacity: 1; stroke-width: 0.6px; fill: rgb(86, 115, 224); fill-opacity: 1; stroke: rgb(255, 255, 255); stroke-opacity: 1;\"/></g><g class=\"point\"><path d=\"M162.89,410V409.26H167.18V410Z\" style=\"vector-effect: non-scaling-stroke; opacity: 1; stroke-width: 0.6px; fill: rgb(86, 115, 224); fill-opacity: 1; stroke: rgb(255, 255, 255); stroke-opacity: 1;\"/></g><g class=\"point\"><path d=\"M167.18,410V409.59H171.47V410Z\" style=\"vector-effect: non-scaling-stroke; opacity: 1; stroke-width: 0.6px; fill: rgb(86, 115, 224); fill-opacity: 1; stroke: rgb(255, 255, 255); stroke-opacity: 1;\"/></g><g class=\"point\"><path d=\"M171.47,410V410H175.75V410Z\" style=\"vector-effect: non-scaling-stroke; opacity: 1; stroke-width: 0px; fill: rgb(86, 115, 224); fill-opacity: 1; stroke: rgb(255, 255, 255); stroke-opacity: 1;\"/></g><g class=\"point\"><path d=\"M175.75,410V409.93H180.04V410Z\" style=\"vector-effect: non-scaling-stroke; opacity: 1; stroke-width: 0.6px; fill: rgb(86, 115, 224); fill-opacity: 1; stroke: rgb(255, 255, 255); stroke-opacity: 1;\"/></g><g class=\"point\"><path d=\"M180.04,410V410H184.33V410Z\" style=\"vector-effect: non-scaling-stroke; opacity: 1; stroke-width: 0px; fill: rgb(86, 115, 224); fill-opacity: 1; stroke: rgb(255, 255, 255); stroke-opacity: 1;\"/></g><g class=\"point\"><path d=\"M184.33,410V409.93H188.61V410Z\" style=\"vector-effect: non-scaling-stroke; opacity: 1; stroke-width: 0.6px; fill: rgb(86, 115, 224); fill-opacity: 1; stroke: rgb(255, 255, 255); stroke-opacity: 1;\"/></g><g class=\"point\"><path d=\"M188.61,410V409.26H192.9V410Z\" style=\"vector-effect: non-scaling-stroke; opacity: 1; stroke-width: 0.6px; fill: rgb(86, 115, 224); fill-opacity: 1; stroke: rgb(255, 255, 255); stroke-opacity: 1;\"/></g><g class=\"point\"><path d=\"M192.9,410V409.32H197.19V410Z\" style=\"vector-effect: non-scaling-stroke; opacity: 1; stroke-width: 0.6px; fill: rgb(86, 115, 224); fill-opacity: 1; stroke: rgb(255, 255, 255); stroke-opacity: 1;\"/></g><g class=\"point\"><path d=\"M197.19,410V409.53H201.47V410Z\" style=\"vector-effect: non-scaling-stroke; opacity: 1; stroke-width: 0.6px; fill: rgb(86, 115, 224); fill-opacity: 1; stroke: rgb(255, 255, 255); stroke-opacity: 1;\"/></g><g class=\"point\"><path d=\"M201.47,410V409.73H205.76V410Z\" style=\"vector-effect: non-scaling-stroke; opacity: 1; stroke-width: 0.6px; fill: rgb(86, 115, 224); fill-opacity: 1; stroke: rgb(255, 255, 255); stroke-opacity: 1;\"/></g><g class=\"point\"><path d=\"M205.76,410V408.38H210.05V410Z\" style=\"vector-effect: non-scaling-stroke; opacity: 1; stroke-width: 0.6px; fill: rgb(86, 115, 224); fill-opacity: 1; stroke: rgb(255, 255, 255); stroke-opacity: 1;\"/></g><g class=\"point\"><path d=\"M210.05,410V409.05H214.33V410Z\" style=\"vector-effect: non-scaling-stroke; opacity: 1; stroke-width: 0.6px; fill: rgb(86, 115, 224); fill-opacity: 1; stroke: rgb(255, 255, 255); stroke-opacity: 1;\"/></g><g class=\"point\"><path d=\"M214.33,410V408.85H218.62V410Z\" style=\"vector-effect: non-scaling-stroke; opacity: 1; stroke-width: 0.6px; fill: rgb(86, 115, 224); fill-opacity: 1; stroke: rgb(255, 255, 255); stroke-opacity: 1;\"/></g><g class=\"point\"><path d=\"M218.62,410V409.05H222.91V410Z\" style=\"vector-effect: non-scaling-stroke; opacity: 1; stroke-width: 0.6px; fill: rgb(86, 115, 224); fill-opacity: 1; stroke: rgb(255, 255, 255); stroke-opacity: 1;\"/></g><g class=\"point\"><path d=\"M222.91,410V409.8H227.19V410Z\" style=\"vector-effect: non-scaling-stroke; opacity: 1; stroke-width: 0.6px; fill: rgb(86, 115, 224); fill-opacity: 1; stroke: rgb(255, 255, 255); stroke-opacity: 1;\"/></g><g class=\"point\"><path d=\"M227.19,410V410H231.48V410Z\" style=\"vector-effect: non-scaling-stroke; opacity: 1; stroke-width: 0px; fill: rgb(86, 115, 224); fill-opacity: 1; stroke: rgb(255, 255, 255); stroke-opacity: 1;\"/></g><g class=\"point\"><path d=\"M231.48,410V410H235.77V410Z\" style=\"vector-effect: non-scaling-stroke; opacity: 1; stroke-width: 0px; fill: rgb(86, 115, 224); fill-opacity: 1; stroke: rgb(255, 255, 255); stroke-opacity: 1;\"/></g><g class=\"point\"><path d=\"M235.77,410V409.86H240.05V410Z\" style=\"vector-effect: non-scaling-stroke; opacity: 1; stroke-width: 0.6px; fill: rgb(86, 115, 224); fill-opacity: 1; stroke: rgb(255, 255, 255); stroke-opacity: 1;\"/></g><g class=\"point\"><path d=\"M240.05,410V409.59H244.34V410Z\" style=\"vector-effect: non-scaling-stroke; opacity: 1; stroke-width: 0.6px; fill: rgb(86, 115, 224); fill-opacity: 1; stroke: rgb(255, 255, 255); stroke-opacity: 1;\"/></g><g class=\"point\"><path d=\"M244.34,410V409.66H248.63V410Z\" style=\"vector-effect: non-scaling-stroke; opacity: 1; stroke-width: 0.6px; fill: rgb(86, 115, 224); fill-opacity: 1; stroke: rgb(255, 255, 255); stroke-opacity: 1;\"/></g><g class=\"point\"><path d=\"M248.63,410V409.12H252.91V410Z\" style=\"vector-effect: non-scaling-stroke; opacity: 1; stroke-width: 0.6px; fill: rgb(86, 115, 224); fill-opacity: 1; stroke: rgb(255, 255, 255); stroke-opacity: 1;\"/></g><g class=\"point\"><path d=\"M252.91,410V408.78H257.2V410Z\" style=\"vector-effect: non-scaling-stroke; opacity: 1; stroke-width: 0.6px; fill: rgb(86, 115, 224); fill-opacity: 1; stroke: rgb(255, 255, 255); stroke-opacity: 1;\"/></g><g class=\"point\"><path d=\"M257.2,410V408.65H261.49V410Z\" style=\"vector-effect: non-scaling-stroke; opacity: 1; stroke-width: 0.6px; fill: rgb(86, 115, 224); fill-opacity: 1; stroke: rgb(255, 255, 255); stroke-opacity: 1;\"/></g><g class=\"point\"><path d=\"M261.49,410V407.5H265.77V410Z\" style=\"vector-effect: non-scaling-stroke; opacity: 1; stroke-width: 0.6px; fill: rgb(86, 115, 224); fill-opacity: 1; stroke: rgb(255, 255, 255); stroke-opacity: 1;\"/></g><g class=\"point\"><path d=\"M265.77,410V406.89H270.06V410Z\" style=\"vector-effect: non-scaling-stroke; opacity: 1; stroke-width: 0.6px; fill: rgb(86, 115, 224); fill-opacity: 1; stroke: rgb(255, 255, 255); stroke-opacity: 1;\"/></g><g class=\"point\"><path d=\"M270.06,410V408.04H274.35V410Z\" style=\"vector-effect: non-scaling-stroke; opacity: 1; stroke-width: 0.6px; fill: rgb(86, 115, 224); fill-opacity: 1; stroke: rgb(255, 255, 255); stroke-opacity: 1;\"/></g><g class=\"point\"><path d=\"M274.35,410V409.53H278.63V410Z\" style=\"vector-effect: non-scaling-stroke; opacity: 1; stroke-width: 0.6px; fill: rgb(86, 115, 224); fill-opacity: 1; stroke: rgb(255, 255, 255); stroke-opacity: 1;\"/></g><g class=\"point\"><path d=\"M278.63,410V409.93H282.92V410Z\" style=\"vector-effect: non-scaling-stroke; opacity: 1; stroke-width: 0.6px; fill: rgb(86, 115, 224); fill-opacity: 1; stroke: rgb(255, 255, 255); stroke-opacity: 1;\"/></g><g class=\"point\"><path d=\"M282.92,410V409.86H287.21V410Z\" style=\"vector-effect: non-scaling-stroke; opacity: 1; stroke-width: 0.6px; fill: rgb(86, 115, 224); fill-opacity: 1; stroke: rgb(255, 255, 255); stroke-opacity: 1;\"/></g><g class=\"point\"><path d=\"M287.21,410V409.73H291.49V410Z\" style=\"vector-effect: non-scaling-stroke; opacity: 1; stroke-width: 0.6px; fill: rgb(86, 115, 224); fill-opacity: 1; stroke: rgb(255, 255, 255); stroke-opacity: 1;\"/></g><g class=\"point\"><path d=\"M291.49,410V408.17H295.78V410Z\" style=\"vector-effect: non-scaling-stroke; opacity: 1; stroke-width: 0.6px; fill: rgb(86, 115, 224); fill-opacity: 1; stroke: rgb(255, 255, 255); stroke-opacity: 1;\"/></g><g class=\"point\"><path d=\"M295.78,410V408.44H300.07V410Z\" style=\"vector-effect: non-scaling-stroke; opacity: 1; stroke-width: 0.6px; fill: rgb(86, 115, 224); fill-opacity: 1; stroke: rgb(255, 255, 255); stroke-opacity: 1;\"/></g><g class=\"point\"><path d=\"M300.07,410V407.02H304.35V410Z\" style=\"vector-effect: non-scaling-stroke; opacity: 1; stroke-width: 0.6px; fill: rgb(86, 115, 224); fill-opacity: 1; stroke: rgb(255, 255, 255); stroke-opacity: 1;\"/></g><g class=\"point\"><path d=\"M304.35,410V405.74H308.64V410Z\" style=\"vector-effect: non-scaling-stroke; opacity: 1; stroke-width: 0.6px; fill: rgb(86, 115, 224); fill-opacity: 1; stroke: rgb(255, 255, 255); stroke-opacity: 1;\"/></g><g class=\"point\"><path d=\"M308.64,410V406.75H312.93V410Z\" style=\"vector-effect: non-scaling-stroke; opacity: 1; stroke-width: 0.6px; fill: rgb(86, 115, 224); fill-opacity: 1; stroke: rgb(255, 255, 255); stroke-opacity: 1;\"/></g><g class=\"point\"><path d=\"M312.93,410V406.48H317.22V410Z\" style=\"vector-effect: non-scaling-stroke; opacity: 1; stroke-width: 0.6px; fill: rgb(86, 115, 224); fill-opacity: 1; stroke: rgb(255, 255, 255); stroke-opacity: 1;\"/></g><g class=\"point\"><path d=\"M317.22,410V405.19H321.5V410Z\" style=\"vector-effect: non-scaling-stroke; opacity: 1; stroke-width: 0.6px; fill: rgb(86, 115, 224); fill-opacity: 1; stroke: rgb(255, 255, 255); stroke-opacity: 1;\"/></g><g class=\"point\"><path d=\"M321.5,410V407.02H325.79V410Z\" style=\"vector-effect: non-scaling-stroke; opacity: 1; stroke-width: 0.6px; fill: rgb(86, 115, 224); fill-opacity: 1; stroke: rgb(255, 255, 255); stroke-opacity: 1;\"/></g><g class=\"point\"><path d=\"M325.79,410V408.38H330.08V410Z\" style=\"vector-effect: non-scaling-stroke; opacity: 1; stroke-width: 0.6px; fill: rgb(86, 115, 224); fill-opacity: 1; stroke: rgb(255, 255, 255); stroke-opacity: 1;\"/></g><g class=\"point\"><path d=\"M330.08,410V409.32H334.36V410Z\" style=\"vector-effect: non-scaling-stroke; opacity: 1; stroke-width: 0.6px; fill: rgb(86, 115, 224); fill-opacity: 1; stroke: rgb(255, 255, 255); stroke-opacity: 1;\"/></g><g class=\"point\"><path d=\"M334.36,410V409.8H338.65V410Z\" style=\"vector-effect: non-scaling-stroke; opacity: 1; stroke-width: 0.6px; fill: rgb(86, 115, 224); fill-opacity: 1; stroke: rgb(255, 255, 255); stroke-opacity: 1;\"/></g><g class=\"point\"><path d=\"M338.65,410V409.05H342.94V410Z\" style=\"vector-effect: non-scaling-stroke; opacity: 1; stroke-width: 0.6px; fill: rgb(86, 115, 224); fill-opacity: 1; stroke: rgb(255, 255, 255); stroke-opacity: 1;\"/></g><g class=\"point\"><path d=\"M342.94,410V406.68H347.22V410Z\" style=\"vector-effect: non-scaling-stroke; opacity: 1; stroke-width: 0.6px; fill: rgb(86, 115, 224); fill-opacity: 1; stroke: rgb(255, 255, 255); stroke-opacity: 1;\"/></g><g class=\"point\"><path d=\"M347.22,410V404.86H351.51V410Z\" style=\"vector-effect: non-scaling-stroke; opacity: 1; stroke-width: 0.6px; fill: rgb(86, 115, 224); fill-opacity: 1; stroke: rgb(255, 255, 255); stroke-opacity: 1;\"/></g><g class=\"point\"><path d=\"M351.51,410V404.59H355.8V410Z\" style=\"vector-effect: non-scaling-stroke; opacity: 1; stroke-width: 0.6px; fill: rgb(86, 115, 224); fill-opacity: 1; stroke: rgb(255, 255, 255); stroke-opacity: 1;\"/></g><g class=\"point\"><path d=\"M355.8,410V400.46H360.08V410Z\" style=\"vector-effect: non-scaling-stroke; opacity: 1; stroke-width: 0.6px; fill: rgb(86, 115, 224); fill-opacity: 1; stroke: rgb(255, 255, 255); stroke-opacity: 1;\"/></g><g class=\"point\"><path d=\"M360.08,410V398.22H364.37V410Z\" style=\"vector-effect: non-scaling-stroke; opacity: 1; stroke-width: 0.6px; fill: rgb(86, 115, 224); fill-opacity: 1; stroke: rgb(255, 255, 255); stroke-opacity: 1;\"/></g><g class=\"point\"><path d=\"M364.37,410V395.92H368.66V410Z\" style=\"vector-effect: non-scaling-stroke; opacity: 1; stroke-width: 0.6px; fill: rgb(86, 115, 224); fill-opacity: 1; stroke: rgb(255, 255, 255); stroke-opacity: 1;\"/></g><g class=\"point\"><path d=\"M368.66,410V395.04H372.94V410Z\" style=\"vector-effect: non-scaling-stroke; opacity: 1; stroke-width: 0.6px; fill: rgb(86, 115, 224); fill-opacity: 1; stroke: rgb(255, 255, 255); stroke-opacity: 1;\"/></g><g class=\"point\"><path d=\"M372.94,410V398.43H377.23V410Z\" style=\"vector-effect: non-scaling-stroke; opacity: 1; stroke-width: 0.6px; fill: rgb(86, 115, 224); fill-opacity: 1; stroke: rgb(255, 255, 255); stroke-opacity: 1;\"/></g><g class=\"point\"><path d=\"M377.23,410V377.51H381.52V410Z\" style=\"vector-effect: non-scaling-stroke; opacity: 1; stroke-width: 0.6px; fill: rgb(86, 115, 224); fill-opacity: 1; stroke: rgb(255, 255, 255); stroke-opacity: 1;\"/></g><g class=\"point\"><path d=\"M381.52,410V382.05H385.8V410Z\" style=\"vector-effect: non-scaling-stroke; opacity: 1; stroke-width: 0.6px; fill: rgb(86, 115, 224); fill-opacity: 1; stroke: rgb(255, 255, 255); stroke-opacity: 1;\"/></g><g class=\"point\"><path d=\"M385.8,410V381.57H390.09V410Z\" style=\"vector-effect: non-scaling-stroke; opacity: 1; stroke-width: 0.6px; fill: rgb(86, 115, 224); fill-opacity: 1; stroke: rgb(255, 255, 255); stroke-opacity: 1;\"/></g><g class=\"point\"><path d=\"M390.09,410V343.33H394.38V410Z\" style=\"vector-effect: non-scaling-stroke; opacity: 1; stroke-width: 0.6px; fill: rgb(86, 115, 224); fill-opacity: 1; stroke: rgb(255, 255, 255); stroke-opacity: 1;\"/></g><g class=\"point\"><path d=\"M394.38,410V277.96H398.66V410Z\" style=\"vector-effect: non-scaling-stroke; opacity: 1; stroke-width: 0.6px; fill: rgb(86, 115, 224); fill-opacity: 1; stroke: rgb(255, 255, 255); stroke-opacity: 1;\"/></g><g class=\"point\"><path d=\"M398.66,410V194.24H402.95V410Z\" style=\"vector-effect: non-scaling-stroke; opacity: 1; stroke-width: 0.6px; fill: rgb(86, 115, 224); fill-opacity: 1; stroke: rgb(255, 255, 255); stroke-opacity: 1;\"/></g><g class=\"point\"><path d=\"M402.95,410V145.71H407.24V410Z\" style=\"vector-effect: non-scaling-stroke; opacity: 1; stroke-width: 0.6px; fill: rgb(86, 115, 224); fill-opacity: 1; stroke: rgb(255, 255, 255); stroke-opacity: 1;\"/></g><g class=\"point\"><path d=\"M407.24,410V105.37H411.52V410Z\" style=\"vector-effect: non-scaling-stroke; opacity: 1; stroke-width: 0.6px; fill: rgb(86, 115, 224); fill-opacity: 1; stroke: rgb(255, 255, 255); stroke-opacity: 1;\"/></g><g class=\"point\"><path d=\"M411.52,410V82.09H415.81V410Z\" style=\"vector-effect: non-scaling-stroke; opacity: 1; stroke-width: 0.6px; fill: rgb(86, 115, 224); fill-opacity: 1; stroke: rgb(255, 255, 255); stroke-opacity: 1;\"/></g><g class=\"point\"><path d=\"M415.81,410V61.24H420.1V410Z\" style=\"vector-effect: non-scaling-stroke; opacity: 1; stroke-width: 0.6px; fill: rgb(86, 115, 224); fill-opacity: 1; stroke: rgb(255, 255, 255); stroke-opacity: 1;\"/></g><g class=\"point\"><path d=\"M420.1,410V67.54H424.38V410Z\" style=\"vector-effect: non-scaling-stroke; opacity: 1; stroke-width: 0.6px; fill: rgb(86, 115, 224); fill-opacity: 1; stroke: rgb(255, 255, 255); stroke-opacity: 1;\"/></g><g class=\"point\"><path d=\"M424.38,410V145.17H428.67V410Z\" style=\"vector-effect: non-scaling-stroke; opacity: 1; stroke-width: 0.6px; fill: rgb(86, 115, 224); fill-opacity: 1; stroke: rgb(255, 255, 255); stroke-opacity: 1;\"/></g><g class=\"point\"><path d=\"M428.67,410V296.16H432.96V410Z\" style=\"vector-effect: non-scaling-stroke; opacity: 1; stroke-width: 0.6px; fill: rgb(86, 115, 224); fill-opacity: 1; stroke: rgb(255, 255, 255); stroke-opacity: 1;\"/></g><g class=\"point\"><path d=\"M432.96,410V373.59H437.24V410Z\" style=\"vector-effect: non-scaling-stroke; opacity: 1; stroke-width: 0.6px; fill: rgb(86, 115, 224); fill-opacity: 1; stroke: rgb(255, 255, 255); stroke-opacity: 1;\"/></g><g class=\"point\"><path d=\"M437.24,410V312H441.53V410Z\" style=\"vector-effect: non-scaling-stroke; opacity: 1; stroke-width: 0.6px; fill: rgb(86, 115, 224); fill-opacity: 1; stroke: rgb(255, 255, 255); stroke-opacity: 1;\"/></g><g class=\"point\"><path d=\"M441.53,410V304.62H445.82V410Z\" style=\"vector-effect: non-scaling-stroke; opacity: 1; stroke-width: 0.6px; fill: rgb(86, 115, 224); fill-opacity: 1; stroke: rgb(255, 255, 255); stroke-opacity: 1;\"/></g><g class=\"point\"><path d=\"M445.82,410V287.63H450.1V410Z\" style=\"vector-effect: non-scaling-stroke; opacity: 1; stroke-width: 0.6px; fill: rgb(86, 115, 224); fill-opacity: 1; stroke: rgb(255, 255, 255); stroke-opacity: 1;\"/></g><g class=\"point\"><path d=\"M450.1,410V205.47H454.39V410Z\" style=\"vector-effect: non-scaling-stroke; opacity: 1; stroke-width: 0.6px; fill: rgb(86, 115, 224); fill-opacity: 1; stroke: rgb(255, 255, 255); stroke-opacity: 1;\"/></g><g class=\"point\"><path d=\"M454.39,410V128.86H458.68V410Z\" style=\"vector-effect: non-scaling-stroke; opacity: 1; stroke-width: 0.6px; fill: rgb(86, 115, 224); fill-opacity: 1; stroke: rgb(255, 255, 255); stroke-opacity: 1;\"/></g><g class=\"point\"><path d=\"M458.68,410V116.34H462.96V410Z\" style=\"vector-effect: non-scaling-stroke; opacity: 1; stroke-width: 0.6px; fill: rgb(86, 115, 224); fill-opacity: 1; stroke: rgb(255, 255, 255); stroke-opacity: 1;\"/></g><g class=\"point\"><path d=\"M462.96,410V123.85H467.25V410Z\" style=\"vector-effect: non-scaling-stroke; opacity: 1; stroke-width: 0.6px; fill: rgb(86, 115, 224); fill-opacity: 1; stroke: rgb(255, 255, 255); stroke-opacity: 1;\"/></g><g class=\"point\"><path d=\"M467.25,410V78.1H471.54V410Z\" style=\"vector-effect: non-scaling-stroke; opacity: 1; stroke-width: 0.6px; fill: rgb(86, 115, 224); fill-opacity: 1; stroke: rgb(255, 255, 255); stroke-opacity: 1;\"/></g><g class=\"point\"><path d=\"M471.54,410V128.79H475.82V410Z\" style=\"vector-effect: non-scaling-stroke; opacity: 1; stroke-width: 0.6px; fill: rgb(86, 115, 224); fill-opacity: 1; stroke: rgb(255, 255, 255); stroke-opacity: 1;\"/></g><g class=\"point\"><path d=\"M475.82,410V176.57H480.11V410Z\" style=\"vector-effect: non-scaling-stroke; opacity: 1; stroke-width: 0.6px; fill: rgb(86, 115, 224); fill-opacity: 1; stroke: rgb(255, 255, 255); stroke-opacity: 1;\"/></g><g class=\"point\"><path d=\"M480.11,410V273.02H484.4V410Z\" style=\"vector-effect: non-scaling-stroke; opacity: 1; stroke-width: 0.6px; fill: rgb(86, 115, 224); fill-opacity: 1; stroke: rgb(255, 255, 255); stroke-opacity: 1;\"/></g><g class=\"point\"><path d=\"M484.4,410V378.46H488.68V410Z\" style=\"vector-effect: non-scaling-stroke; opacity: 1; stroke-width: 0.6px; fill: rgb(86, 115, 224); fill-opacity: 1; stroke: rgb(255, 255, 255); stroke-opacity: 1;\"/></g><g class=\"point\"><path d=\"M488.68,410V392.88H492.97V410Z\" style=\"vector-effect: non-scaling-stroke; opacity: 1; stroke-width: 0.6px; fill: rgb(86, 115, 224); fill-opacity: 1; stroke: rgb(255, 255, 255); stroke-opacity: 1;\"/></g><g class=\"point\"><path d=\"M492.97,410V350.17H497.26V410Z\" style=\"vector-effect: non-scaling-stroke; opacity: 1; stroke-width: 0.6px; fill: rgb(86, 115, 224); fill-opacity: 1; stroke: rgb(255, 255, 255); stroke-opacity: 1;\"/></g><g class=\"point\"><path d=\"M497.26,410V298.12H501.54V410Z\" style=\"vector-effect: non-scaling-stroke; opacity: 1; stroke-width: 0.6px; fill: rgb(86, 115, 224); fill-opacity: 1; stroke: rgb(255, 255, 255); stroke-opacity: 1;\"/></g><g class=\"point\"><path d=\"M501.54,410V206.15H505.83V410Z\" style=\"vector-effect: non-scaling-stroke; opacity: 1; stroke-width: 0.6px; fill: rgb(86, 115, 224); fill-opacity: 1; stroke: rgb(255, 255, 255); stroke-opacity: 1;\"/></g><g class=\"point\"><path d=\"M505.83,410V110.79H510.12V410Z\" style=\"vector-effect: non-scaling-stroke; opacity: 1; stroke-width: 0.6px; fill: rgb(86, 115, 224); fill-opacity: 1; stroke: rgb(255, 255, 255); stroke-opacity: 1;\"/></g><g class=\"point\"><path d=\"M510.12,410V77.76H514.4V410Z\" style=\"vector-effect: non-scaling-stroke; opacity: 1; stroke-width: 0.6px; fill: rgb(86, 115, 224); fill-opacity: 1; stroke: rgb(255, 255, 255); stroke-opacity: 1;\"/></g><g class=\"point\"><path d=\"M514.4,410V121.41H518.69V410Z\" style=\"vector-effect: non-scaling-stroke; opacity: 1; stroke-width: 0.6px; fill: rgb(86, 115, 224); fill-opacity: 1; stroke: rgb(255, 255, 255); stroke-opacity: 1;\"/></g><g class=\"point\"><path d=\"M518.69,410V78.71H522.98V410Z\" style=\"vector-effect: non-scaling-stroke; opacity: 1; stroke-width: 0.6px; fill: rgb(86, 115, 224); fill-opacity: 1; stroke: rgb(255, 255, 255); stroke-opacity: 1;\"/></g><g class=\"point\"><path d=\"M522.98,410V125.74H527.26V410Z\" style=\"vector-effect: non-scaling-stroke; opacity: 1; stroke-width: 0.6px; fill: rgb(86, 115, 224); fill-opacity: 1; stroke: rgb(255, 255, 255); stroke-opacity: 1;\"/></g><g class=\"point\"><path d=\"M527.26,410V196.4H531.55V410Z\" style=\"vector-effect: non-scaling-stroke; opacity: 1; stroke-width: 0.6px; fill: rgb(86, 115, 224); fill-opacity: 1; stroke: rgb(255, 255, 255); stroke-opacity: 1;\"/></g><g class=\"point\"><path d=\"M531.55,410V323.91H535.84V410Z\" style=\"vector-effect: non-scaling-stroke; opacity: 1; stroke-width: 0.6px; fill: rgb(86, 115, 224); fill-opacity: 1; stroke: rgb(255, 255, 255); stroke-opacity: 1;\"/></g><g class=\"point\"><path d=\"M535.84,410V385.43H540.12V410Z\" style=\"vector-effect: non-scaling-stroke; opacity: 1; stroke-width: 0.6px; fill: rgb(86, 115, 224); fill-opacity: 1; stroke: rgb(255, 255, 255); stroke-opacity: 1;\"/></g><g class=\"point\"><path d=\"M540.12,410V388H544.41V410Z\" style=\"vector-effect: non-scaling-stroke; opacity: 1; stroke-width: 0.6px; fill: rgb(86, 115, 224); fill-opacity: 1; stroke: rgb(255, 255, 255); stroke-opacity: 1;\"/></g><g class=\"point\"><path d=\"M544.41,410V362.08H548.7V410Z\" style=\"vector-effect: non-scaling-stroke; opacity: 1; stroke-width: 0.6px; fill: rgb(86, 115, 224); fill-opacity: 1; stroke: rgb(255, 255, 255); stroke-opacity: 1;\"/></g><g class=\"point\"><path d=\"M548.7,410V292.57H552.98V410Z\" style=\"vector-effect: non-scaling-stroke; opacity: 1; stroke-width: 0.6px; fill: rgb(86, 115, 224); fill-opacity: 1; stroke: rgb(255, 255, 255); stroke-opacity: 1;\"/></g><g class=\"point\"><path d=\"M552.98,410V212.58H557.27V410Z\" style=\"vector-effect: non-scaling-stroke; opacity: 1; stroke-width: 0.6px; fill: rgb(86, 115, 224); fill-opacity: 1; stroke: rgb(255, 255, 255); stroke-opacity: 1;\"/></g><g class=\"point\"><path d=\"M557.27,410V150.72H561.56V410Z\" style=\"vector-effect: non-scaling-stroke; opacity: 1; stroke-width: 0.6px; fill: rgb(86, 115, 224); fill-opacity: 1; stroke: rgb(255, 255, 255); stroke-opacity: 1;\"/></g><g class=\"point\"><path d=\"M561.56,410V73.36H565.84V410Z\" style=\"vector-effect: non-scaling-stroke; opacity: 1; stroke-width: 0.6px; fill: rgb(86, 115, 224); fill-opacity: 1; stroke: rgb(255, 255, 255); stroke-opacity: 1;\"/></g><g class=\"point\"><path d=\"M565.84,410V106.66H570.13V410Z\" style=\"vector-effect: non-scaling-stroke; opacity: 1; stroke-width: 0.6px; fill: rgb(86, 115, 224); fill-opacity: 1; stroke: rgb(255, 255, 255); stroke-opacity: 1;\"/></g><g class=\"point\"><path d=\"M570.13,410V107.33H574.42V410Z\" style=\"vector-effect: non-scaling-stroke; opacity: 1; stroke-width: 0.6px; fill: rgb(86, 115, 224); fill-opacity: 1; stroke: rgb(255, 255, 255); stroke-opacity: 1;\"/></g><g class=\"point\"><path d=\"M574.42,410V116.81H578.7V410Z\" style=\"vector-effect: non-scaling-stroke; opacity: 1; stroke-width: 0.6px; fill: rgb(86, 115, 224); fill-opacity: 1; stroke: rgb(255, 255, 255); stroke-opacity: 1;\"/></g><g class=\"point\"><path d=\"M578.7,410V205.27H582.99V410Z\" style=\"vector-effect: non-scaling-stroke; opacity: 1; stroke-width: 0.6px; fill: rgb(86, 115, 224); fill-opacity: 1; stroke: rgb(255, 255, 255); stroke-opacity: 1;\"/></g><g class=\"point\"><path d=\"M582.99,410V305.03H587.28V410Z\" style=\"vector-effect: non-scaling-stroke; opacity: 1; stroke-width: 0.6px; fill: rgb(86, 115, 224); fill-opacity: 1; stroke: rgb(255, 255, 255); stroke-opacity: 1;\"/></g><g class=\"point\"><path d=\"M587.28,410V368.31H591.56V410Z\" style=\"vector-effect: non-scaling-stroke; opacity: 1; stroke-width: 0.6px; fill: rgb(86, 115, 224); fill-opacity: 1; stroke: rgb(255, 255, 255); stroke-opacity: 1;\"/></g><g class=\"point\"><path d=\"M591.56,410V387.46H595.85V410Z\" style=\"vector-effect: non-scaling-stroke; opacity: 1; stroke-width: 0.6px; fill: rgb(86, 115, 224); fill-opacity: 1; stroke: rgb(255, 255, 255); stroke-opacity: 1;\"/></g><g class=\"point\"><path d=\"M595.85,410V351.46H600.14V410Z\" style=\"vector-effect: non-scaling-stroke; opacity: 1; stroke-width: 0.6px; fill: rgb(86, 115, 224); fill-opacity: 1; stroke: rgb(255, 255, 255); stroke-opacity: 1;\"/></g><g class=\"point\"><path d=\"M600.14,410V260.76H604.42V410Z\" style=\"vector-effect: non-scaling-stroke; opacity: 1; stroke-width: 0.6px; fill: rgb(86, 115, 224); fill-opacity: 1; stroke: rgb(255, 255, 255); stroke-opacity: 1;\"/></g><g class=\"point\"><path d=\"M604.42,410V208.04H608.71V410Z\" style=\"vector-effect: non-scaling-stroke; opacity: 1; stroke-width: 0.6px; fill: rgb(86, 115, 224); fill-opacity: 1; stroke: rgb(255, 255, 255); stroke-opacity: 1;\"/></g><g class=\"point\"><path d=\"M608.71,410V143.61H613V410Z\" style=\"vector-effect: non-scaling-stroke; opacity: 1; stroke-width: 0.6px; fill: rgb(86, 115, 224); fill-opacity: 1; stroke: rgb(255, 255, 255); stroke-opacity: 1;\"/></g><g class=\"point\"><path d=\"M613,410V105.37H617.28V410Z\" style=\"vector-effect: non-scaling-stroke; opacity: 1; stroke-width: 0.6px; fill: rgb(86, 115, 224); fill-opacity: 1; stroke: rgb(255, 255, 255); stroke-opacity: 1;\"/></g><g class=\"point\"><path d=\"M617.28,410V95.15H621.57V410Z\" style=\"vector-effect: non-scaling-stroke; opacity: 1; stroke-width: 0.6px; fill: rgb(86, 115, 224); fill-opacity: 1; stroke: rgb(255, 255, 255); stroke-opacity: 1;\"/></g><g class=\"point\"><path d=\"M621.57,410V20.5H625.86V410Z\" style=\"vector-effect: non-scaling-stroke; opacity: 1; stroke-width: 0.6px; fill: rgb(86, 115, 224); fill-opacity: 1; stroke: rgb(255, 255, 255); stroke-opacity: 1;\"/></g><g class=\"point\"><path d=\"M625.86,410V53.26H630.14V410Z\" style=\"vector-effect: non-scaling-stroke; opacity: 1; stroke-width: 0.6px; fill: rgb(86, 115, 224); fill-opacity: 1; stroke: rgb(255, 255, 255); stroke-opacity: 1;\"/></g><g class=\"point\"><path d=\"M630.14,410V185.37H634.43V410Z\" style=\"vector-effect: non-scaling-stroke; opacity: 1; stroke-width: 0.6px; fill: rgb(86, 115, 224); fill-opacity: 1; stroke: rgb(255, 255, 255); stroke-opacity: 1;\"/></g><g class=\"point\"><path d=\"M634.43,410V291.83H638.72V410Z\" style=\"vector-effect: non-scaling-stroke; opacity: 1; stroke-width: 0.6px; fill: rgb(86, 115, 224); fill-opacity: 1; stroke: rgb(255, 255, 255); stroke-opacity: 1;\"/></g><g class=\"point\"><path d=\"M638.72,410V376.77H643V410Z\" style=\"vector-effect: non-scaling-stroke; opacity: 1; stroke-width: 0.6px; fill: rgb(86, 115, 224); fill-opacity: 1; stroke: rgb(255, 255, 255); stroke-opacity: 1;\"/></g><g class=\"point\"><path d=\"M643,410V387.12H647.29V410Z\" style=\"vector-effect: non-scaling-stroke; opacity: 1; stroke-width: 0.6px; fill: rgb(86, 115, 224); fill-opacity: 1; stroke: rgb(255, 255, 255); stroke-opacity: 1;\"/></g><g class=\"point\"><path d=\"M647.29,410V335.01H651.58V410Z\" style=\"vector-effect: non-scaling-stroke; opacity: 1; stroke-width: 0.6px; fill: rgb(86, 115, 224); fill-opacity: 1; stroke: rgb(255, 255, 255); stroke-opacity: 1;\"/></g><g class=\"point\"><path d=\"M651.58,410V207.77H655.86V410Z\" style=\"vector-effect: non-scaling-stroke; opacity: 1; stroke-width: 0.6px; fill: rgb(86, 115, 224); fill-opacity: 1; stroke: rgb(255, 255, 255); stroke-opacity: 1;\"/></g><g class=\"point\"><path d=\"M655.86,410V185.23H660.15V410Z\" style=\"vector-effect: non-scaling-stroke; opacity: 1; stroke-width: 0.6px; fill: rgb(86, 115, 224); fill-opacity: 1; stroke: rgb(255, 255, 255); stroke-opacity: 1;\"/></g><g class=\"point\"><path d=\"M660.15,410V146.25H664.44V410Z\" style=\"vector-effect: non-scaling-stroke; opacity: 1; stroke-width: 0.6px; fill: rgb(86, 115, 224); fill-opacity: 1; stroke: rgb(255, 255, 255); stroke-opacity: 1;\"/></g><g class=\"point\"><path d=\"M664.44,410V146.45H668.72V410Z\" style=\"vector-effect: non-scaling-stroke; opacity: 1; stroke-width: 0.6px; fill: rgb(86, 115, 224); fill-opacity: 1; stroke: rgb(255, 255, 255); stroke-opacity: 1;\"/></g><g class=\"point\"><path d=\"M668.72,410V132.44H673.01V410Z\" style=\"vector-effect: non-scaling-stroke; opacity: 1; stroke-width: 0.6px; fill: rgb(86, 115, 224); fill-opacity: 1; stroke: rgb(255, 255, 255); stroke-opacity: 1;\"/></g><g class=\"point\"><path d=\"M673.01,410V39.86H677.3V410Z\" style=\"vector-effect: non-scaling-stroke; opacity: 1; stroke-width: 0.6px; fill: rgb(86, 115, 224); fill-opacity: 1; stroke: rgb(255, 255, 255); stroke-opacity: 1;\"/></g><g class=\"point\"><path d=\"M677.3,410V79.52H681.58V410Z\" style=\"vector-effect: non-scaling-stroke; opacity: 1; stroke-width: 0.6px; fill: rgb(86, 115, 224); fill-opacity: 1; stroke: rgb(255, 255, 255); stroke-opacity: 1;\"/></g><g class=\"point\"><path d=\"M681.58,410V143.75H685.87V410Z\" style=\"vector-effect: non-scaling-stroke; opacity: 1; stroke-width: 0.6px; fill: rgb(86, 115, 224); fill-opacity: 1; stroke: rgb(255, 255, 255); stroke-opacity: 1;\"/></g><g class=\"point\"><path d=\"M685.87,410V306.86H690.16V410Z\" style=\"vector-effect: non-scaling-stroke; opacity: 1; stroke-width: 0.6px; fill: rgb(86, 115, 224); fill-opacity: 1; stroke: rgb(255, 255, 255); stroke-opacity: 1;\"/></g><g class=\"point\"><path d=\"M690.16,410V387.6H694.44V410Z\" style=\"vector-effect: non-scaling-stroke; opacity: 1; stroke-width: 0.6px; fill: rgb(86, 115, 224); fill-opacity: 1; stroke: rgb(255, 255, 255); stroke-opacity: 1;\"/></g><g class=\"point\"><path d=\"M694.44,410V386.24H698.73V410Z\" style=\"vector-effect: non-scaling-stroke; opacity: 1; stroke-width: 0.6px; fill: rgb(86, 115, 224); fill-opacity: 1; stroke: rgb(255, 255, 255); stroke-opacity: 1;\"/></g><g class=\"point\"><path d=\"M698.73,410V342.25H703.02V410Z\" style=\"vector-effect: non-scaling-stroke; opacity: 1; stroke-width: 0.6px; fill: rgb(86, 115, 224); fill-opacity: 1; stroke: rgb(255, 255, 255); stroke-opacity: 1;\"/></g><g class=\"point\"><path d=\"M703.02,410V256.3H707.3V410Z\" style=\"vector-effect: non-scaling-stroke; opacity: 1; stroke-width: 0.6px; fill: rgb(86, 115, 224); fill-opacity: 1; stroke: rgb(255, 255, 255); stroke-opacity: 1;\"/></g><g class=\"point\"><path d=\"M707.3,410V219.41H711.59V410Z\" style=\"vector-effect: non-scaling-stroke; opacity: 1; stroke-width: 0.6px; fill: rgb(86, 115, 224); fill-opacity: 1; stroke: rgb(255, 255, 255); stroke-opacity: 1;\"/></g><g class=\"point\"><path d=\"M711.59,410V167.37H715.88V410Z\" style=\"vector-effect: non-scaling-stroke; opacity: 1; stroke-width: 0.6px; fill: rgb(86, 115, 224); fill-opacity: 1; stroke: rgb(255, 255, 255); stroke-opacity: 1;\"/></g><g class=\"point\"><path d=\"M715.88,410V172.51H720.16V410Z\" style=\"vector-effect: non-scaling-stroke; opacity: 1; stroke-width: 0.6px; fill: rgb(86, 115, 224); fill-opacity: 1; stroke: rgb(255, 255, 255); stroke-opacity: 1;\"/></g><g class=\"point\"><path d=\"M720.16,410V148.08H724.45V410Z\" style=\"vector-effect: non-scaling-stroke; opacity: 1; stroke-width: 0.6px; fill: rgb(86, 115, 224); fill-opacity: 1; stroke: rgb(255, 255, 255); stroke-opacity: 1;\"/></g><g class=\"point\"><path d=\"M724.45,410V58.87H728.74V410Z\" style=\"vector-effect: non-scaling-stroke; opacity: 1; stroke-width: 0.6px; fill: rgb(86, 115, 224); fill-opacity: 1; stroke: rgb(255, 255, 255); stroke-opacity: 1;\"/></g><g class=\"point\"><path d=\"M728.74,410V118.84H733.02V410Z\" style=\"vector-effect: non-scaling-stroke; opacity: 1; stroke-width: 0.6px; fill: rgb(86, 115, 224); fill-opacity: 1; stroke: rgb(255, 255, 255); stroke-opacity: 1;\"/></g><g class=\"point\"><path d=\"M733.02,410V194.37H737.31V410Z\" style=\"vector-effect: non-scaling-stroke; opacity: 1; stroke-width: 0.6px; fill: rgb(86, 115, 224); fill-opacity: 1; stroke: rgb(255, 255, 255); stroke-opacity: 1;\"/></g><g class=\"point\"><path d=\"M737.31,410V341.17H741.6V410Z\" style=\"vector-effect: non-scaling-stroke; opacity: 1; stroke-width: 0.6px; fill: rgb(86, 115, 224); fill-opacity: 1; stroke: rgb(255, 255, 255); stroke-opacity: 1;\"/></g></g></g></g></g><g class=\"overplot\"/><path class=\"xlines-above crisp\" d=\"M79,470.5H820\" style=\"fill: none; stroke-width: 1px; stroke: rgb(36, 36, 36); stroke-opacity: 1;\"/><path class=\"ylines-above crisp\" d=\"M79.5,60V470\" style=\"fill: none; stroke-width: 1px; stroke: rgb(36, 36, 36); stroke-opacity: 1;\"/><g class=\"overlines-above\"/><g class=\"xaxislayer-above\"><path class=\"xtick ticks crisp\" d=\"M0,471v5\" transform=\"translate(105.72,0)\" style=\"stroke: rgb(68, 68, 68); stroke-opacity: 1; stroke-width: 1px;\"/><path class=\"xtick ticks crisp\" d=\"M0,471v5\" transform=\"translate(208.6,0)\" style=\"stroke: rgb(68, 68, 68); stroke-opacity: 1; stroke-width: 1px;\"/><path class=\"xtick ticks crisp\" d=\"M0,471v5\" transform=\"translate(311.48,0)\" style=\"stroke: rgb(68, 68, 68); stroke-opacity: 1; stroke-width: 1px;\"/><path class=\"xtick ticks crisp\" d=\"M0,471v5\" transform=\"translate(414.36,0)\" style=\"stroke: rgb(68, 68, 68); stroke-opacity: 1; stroke-width: 1px;\"/><path class=\"xtick ticks crisp\" d=\"M0,471v5\" transform=\"translate(517.24,0)\" style=\"stroke: rgb(68, 68, 68); stroke-opacity: 1; stroke-width: 1px;\"/><path class=\"xtick ticks crisp\" d=\"M0,471v5\" transform=\"translate(620.12,0)\" style=\"stroke: rgb(68, 68, 68); stroke-opacity: 1; stroke-width: 1px;\"/><path class=\"xtick ticks crisp\" d=\"M0,471v5\" transform=\"translate(723,0)\" style=\"stroke: rgb(68, 68, 68); stroke-opacity: 1; stroke-width: 1px;\"/><g class=\"xtick\"><text text-anchor=\"middle\" x=\"0\" y=\"490.4\" transform=\"translate(105.72,0)\" style=\"font-family: 'Open Sans', verdana, arial, sans-serif; font-size: 12px; fill: rgb(36, 36, 36); fill-opacity: 1; white-space: pre;\"><tspan class=\"line\" dy=\"0em\" x=\"0\" y=\"490.4\">Jul 25</tspan><tspan class=\"line\" dy=\"1.3em\" x=\"0\" y=\"490.4\">2019</tspan></text></g><g class=\"xtick\"><text text-anchor=\"middle\" x=\"0\" y=\"490.4\" transform=\"translate(208.6,0)\" style=\"font-family: 'Open Sans', verdana, arial, sans-serif; font-size: 12px; fill: rgb(36, 36, 36); fill-opacity: 1; white-space: pre;\">Jul 27</text></g><g class=\"xtick\"><text text-anchor=\"middle\" x=\"0\" y=\"490.4\" transform=\"translate(311.48,0)\" style=\"font-family: 'Open Sans', verdana, arial, sans-serif; font-size: 12px; fill: rgb(36, 36, 36); fill-opacity: 1; white-space: pre;\">Jul 29</text></g><g class=\"xtick\"><text text-anchor=\"middle\" x=\"0\" y=\"490.4\" transform=\"translate(414.36,0)\" style=\"font-family: 'Open Sans', verdana, arial, sans-serif; font-size: 12px; fill: rgb(36, 36, 36); fill-opacity: 1; white-space: pre;\">Jul 31</text></g><g class=\"xtick\"><text text-anchor=\"middle\" x=\"0\" y=\"490.4\" transform=\"translate(517.24,0)\" style=\"font-family: 'Open Sans', verdana, arial, sans-serif; font-size: 12px; fill: rgb(36, 36, 36); fill-opacity: 1; white-space: pre;\">Aug 2</text></g><g class=\"xtick\"><text text-anchor=\"middle\" x=\"0\" y=\"490.4\" transform=\"translate(620.12,0)\" style=\"font-family: 'Open Sans', verdana, arial, sans-serif; font-size: 12px; fill: rgb(36, 36, 36); fill-opacity: 1; white-space: pre;\">Aug 4</text></g><g class=\"xtick\"><text text-anchor=\"middle\" x=\"0\" y=\"490.4\" transform=\"translate(723,0)\" style=\"font-family: 'Open Sans', verdana, arial, sans-serif; font-size: 12px; fill: rgb(36, 36, 36); fill-opacity: 1; white-space: pre;\">Aug 6</text></g></g><g class=\"yaxislayer-above\"><path class=\"ytick ticks crisp\" d=\"M79,0h-5\" transform=\"translate(0,470)\" style=\"stroke: rgb(68, 68, 68); stroke-opacity: 1; stroke-width: 1px;\"/><path class=\"ytick ticks crisp\" d=\"M79,0h-5\" transform=\"translate(0,402.32)\" style=\"stroke: rgb(68, 68, 68); stroke-opacity: 1; stroke-width: 1px;\"/><path class=\"ytick ticks crisp\" d=\"M79,0h-5\" transform=\"translate(0,334.64)\" style=\"stroke: rgb(68, 68, 68); stroke-opacity: 1; stroke-width: 1px;\"/><path class=\"ytick ticks crisp\" d=\"M79,0h-5\" transform=\"translate(0,266.96000000000004)\" style=\"stroke: rgb(68, 68, 68); stroke-opacity: 1; stroke-width: 1px;\"/><path class=\"ytick ticks crisp\" d=\"M79,0h-5\" transform=\"translate(0,199.28)\" style=\"stroke: rgb(68, 68, 68); stroke-opacity: 1; stroke-width: 1px;\"/><path class=\"ytick ticks crisp\" d=\"M79,0h-5\" transform=\"translate(0,131.6)\" style=\"stroke: rgb(68, 68, 68); stroke-opacity: 1; stroke-width: 1px;\"/><path class=\"ytick ticks crisp\" d=\"M79,0h-5\" transform=\"translate(0,63.92)\" style=\"stroke: rgb(68, 68, 68); stroke-opacity: 1; stroke-width: 1px;\"/><g class=\"ytick\"><text text-anchor=\"end\" x=\"71.6\" y=\"4.199999999999999\" transform=\"translate(0,470)\" style=\"font-family: 'Open Sans', verdana, arial, sans-serif; font-size: 12px; fill: rgb(36, 36, 36); fill-opacity: 1; white-space: pre;\">0</text></g><g class=\"ytick\"><text text-anchor=\"end\" x=\"71.6\" y=\"4.199999999999999\" transform=\"translate(0,402.32)\" style=\"font-family: 'Open Sans', verdana, arial, sans-serif; font-size: 12px; fill: rgb(36, 36, 36); fill-opacity: 1; white-space: pre;\">1000</text></g><g class=\"ytick\"><text text-anchor=\"end\" x=\"71.6\" y=\"4.199999999999999\" transform=\"translate(0,334.64)\" style=\"font-family: 'Open Sans', verdana, arial, sans-serif; font-size: 12px; fill: rgb(36, 36, 36); fill-opacity: 1; white-space: pre;\">2000</text></g><g class=\"ytick\"><text text-anchor=\"end\" x=\"71.6\" y=\"4.199999999999999\" transform=\"translate(0,266.96000000000004)\" style=\"font-family: 'Open Sans', verdana, arial, sans-serif; font-size: 12px; fill: rgb(36, 36, 36); fill-opacity: 1; white-space: pre;\">3000</text></g><g class=\"ytick\"><text text-anchor=\"end\" x=\"71.6\" y=\"4.199999999999999\" transform=\"translate(0,199.28)\" style=\"font-family: 'Open Sans', verdana, arial, sans-serif; font-size: 12px; fill: rgb(36, 36, 36); fill-opacity: 1; white-space: pre;\">4000</text></g><g class=\"ytick\"><text text-anchor=\"end\" x=\"71.6\" y=\"4.199999999999999\" transform=\"translate(0,131.6)\" style=\"font-family: 'Open Sans', verdana, arial, sans-serif; font-size: 12px; fill: rgb(36, 36, 36); fill-opacity: 1; white-space: pre;\">5000</text></g><g class=\"ytick\"><text text-anchor=\"end\" x=\"71.6\" y=\"4.199999999999999\" transform=\"translate(0,63.92)\" style=\"font-family: 'Open Sans', verdana, arial, sans-serif; font-size: 12px; fill: rgb(36, 36, 36); fill-opacity: 1; white-space: pre;\">6000</text></g></g><g class=\"overaxes-above\"/></g></g><g class=\"polarlayer\"/><g class=\"ternarylayer\"/><g class=\"geolayer\"/><g class=\"funnelarealayer\"/><g class=\"pielayer\"/><g class=\"treemaplayer\"/><g class=\"sunburstlayer\"/><g class=\"glimages\"/><defs id=\"topdefs-a51f0c\"><g class=\"clips\"/></defs><g class=\"layer-above\"><g class=\"imagelayer\"/><g class=\"shapelayer\"/></g><g class=\"infolayer\"><g class=\"g-gtitle\"><text class=\"gtitle\" x=\"45\" y=\"30\" text-anchor=\"start\" dy=\"0em\" style=\"font-family: 'Open Sans', verdana, arial, sans-serif; font-size: 17px; fill: rgb(36, 36, 36); opacity: 1; font-weight: normal; white-space: pre;\">Распределение event_timestamp</text></g><g class=\"g-xtitle\"><text class=\"xtitle\" x=\"450\" y=\"534.3\" text-anchor=\"middle\" style=\"font-family: 'Open Sans', verdana, arial, sans-serif; font-size: 14px; fill: rgb(36, 36, 36); opacity: 1; font-weight: normal; white-space: pre;\">Временная отметка события</text></g><g class=\"g-ytitle\"><text class=\"ytitle\" transform=\"rotate(-90,19.340625000000003,265)\" x=\"19.340625000000003\" y=\"265\" text-anchor=\"middle\" style=\"font-family: 'Open Sans', verdana, arial, sans-serif; font-size: 14px; fill: rgb(36, 36, 36); opacity: 1; font-weight: normal; white-space: pre;\">Частота значений признака</text></g></g></svg>"
      ]
     },
     "metadata": {},
     "output_type": "display_data"
    }
   ],
   "source": [
    "px.histogram(\n",
    "    logs_exp['event_timestamp'], \n",
    "    nbins=200\n",
    ").update_layout(\n",
    "    showlegend=False, \n",
    "    xaxis_type='date', \n",
    "    title='Распределение event_timestamp', \n",
    "    xaxis_title='Временная отметка события', \n",
    "    yaxis_title='Частота значений признака', \n",
    "    xaxis_range=['2019-07-24 12:00:00', logs_exp['event_timestamp'].max()]\n",
    ").show(renderer='svg', width=900, height=550)"
   ]
  },
  {
   "cell_type": "markdown",
   "metadata": {},
   "source": [
    "Самая ранняя дата — 25 июля, но вплоть до 1 августа наблюдений заметно меньше — похоже, это и есть пересекающиеся события. Их нужно отбросить, чтобы не было перекоса в выборках. Возьмем данные, поступившие с 12 часов ночи 1 августа:"
   ]
  },
  {
   "cell_type": "code",
   "execution_count": 14,
   "metadata": {},
   "outputs": [
    {
     "name": "stdout",
     "output_type": "stream",
     "text": [
      "Будут отфильтрованы 1.16% данных\n",
      "Количество пользователей уменьшилось на 0.23%\n"
     ]
    }
   ],
   "source": [
    "logs_exp_filtered = logs_exp[logs_exp['event_timestamp'] >= '2019-08-01 00:00:00']\n",
    "\n",
    "print('Будут отфильтрованы {:.2%} данных'.format(\n",
    "    abs(len(logs_exp_filtered) / len(logs_exp) - 1)))\n",
    "print('Количество пользователей уменьшилось на {:.2%}'.format(\n",
    "    abs(logs_exp_filtered['device_id_hash'].nunique() / logs_exp['device_id_hash'].nunique() - 1)))"
   ]
  },
  {
   "cell_type": "code",
   "execution_count": 15,
   "metadata": {},
   "outputs": [
    {
     "name": "stdout",
     "output_type": "stream",
     "text": [
      "Минимальная дата в отфильтрованных данных: 2019-08-01 00:07:28\n",
      "Максимальная дата в отфильтрованных данных: 2019-08-07 21:15:17\n",
      "Длительность эксперимента: 6 дней, 21 часов, 7 минут и 49 секунд\n"
     ]
    }
   ],
   "source": [
    "# скрипт для форматирования timedelta — разделение строки на дни, часы, минуты и секунды\n",
    "def strfdelta(tdelta, fmt):\n",
    "    d = {'days': tdelta.days}\n",
    "    d['hours'], rem = divmod(tdelta.seconds, 3600)\n",
    "    d['minutes'], d['seconds'] = divmod(rem, 60)\n",
    "    return fmt.format(**d)\n",
    "\n",
    "\n",
    "print('Минимальная дата в отфильтрованных данных:', logs_exp_filtered['event_timestamp'].min())\n",
    "print('Максимальная дата в отфильтрованных данных:', logs_exp_filtered['event_timestamp'].max())\n",
    "print(strfdelta(logs_exp_filtered['event_timestamp'].max() - logs_exp_filtered['event_timestamp'].min(), \n",
    "                'Длительность эксперимента: {days} дней, {hours} часов, {minutes} минут и {seconds} секунд'))"
   ]
  },
  {
   "cell_type": "markdown",
   "metadata": {},
   "source": [
    "Теперь у нас есть более точные данные о времени эксперимента."
   ]
  },
  {
   "cell_type": "code",
   "execution_count": 16,
   "metadata": {},
   "outputs": [
    {
     "data": {
      "text/plain": [
       "248    84563\n",
       "246    79302\n",
       "247    77022\n",
       "Name: exp_id, dtype: int64"
      ]
     },
     "execution_count": 16,
     "metadata": {},
     "output_type": "execute_result"
    }
   ],
   "source": [
    "logs_exp_filtered['exp_id'].value_counts()"
   ]
  },
  {
   "cell_type": "markdown",
   "metadata": {},
   "source": [
    "Также у нас есть данные из всех трех экспериментальных групп."
   ]
  },
  {
   "cell_type": "markdown",
   "metadata": {},
   "source": [
    "<a id='part_3'></a>\n",
    "## Шаг 3. Изучение воронки событий"
   ]
  },
  {
   "cell_type": "markdown",
   "metadata": {},
   "source": [
    "После того, как мы отбросили некорректные данные, мы можем изучить этапы, которые проходили пользователи. Посмотрим, какие события есть в логах, как часто они встречаются и сколько пользователей совершили каждое из событий:"
   ]
  },
  {
   "cell_type": "code",
   "execution_count": 17,
   "metadata": {},
   "outputs": [
    {
     "data": {
      "text/plain": [
       "MainScreenAppear           117328\n",
       "OffersScreenAppear          46333\n",
       "CartScreenAppear            42303\n",
       "PaymentScreenSuccessful     33918\n",
       "Tutorial                     1005\n",
       "Name: event_name, dtype: int64"
      ]
     },
     "execution_count": 17,
     "metadata": {},
     "output_type": "execute_result"
    }
   ],
   "source": [
    "logs_exp_filtered['event_name'].value_counts()"
   ]
  },
  {
   "cell_type": "code",
   "execution_count": 18,
   "metadata": {},
   "outputs": [
    {
     "data": {
      "text/html": [
       "<div>\n",
       "<style scoped>\n",
       "    .dataframe tbody tr th:only-of-type {\n",
       "        vertical-align: middle;\n",
       "    }\n",
       "\n",
       "    .dataframe tbody tr th {\n",
       "        vertical-align: top;\n",
       "    }\n",
       "\n",
       "    .dataframe thead th {\n",
       "        text-align: right;\n",
       "    }\n",
       "</style>\n",
       "<table border=\"1\" class=\"dataframe\">\n",
       "  <thead>\n",
       "    <tr style=\"text-align: right;\">\n",
       "      <th></th>\n",
       "      <th>n_users</th>\n",
       "      <th>initial_percent</th>\n",
       "    </tr>\n",
       "    <tr>\n",
       "      <th>event_name</th>\n",
       "      <th></th>\n",
       "      <th></th>\n",
       "    </tr>\n",
       "  </thead>\n",
       "  <tbody>\n",
       "    <tr>\n",
       "      <td>MainScreenAppear</td>\n",
       "      <td>7419</td>\n",
       "      <td>98.47%</td>\n",
       "    </tr>\n",
       "    <tr>\n",
       "      <td>OffersScreenAppear</td>\n",
       "      <td>4593</td>\n",
       "      <td>60.96%</td>\n",
       "    </tr>\n",
       "    <tr>\n",
       "      <td>CartScreenAppear</td>\n",
       "      <td>3734</td>\n",
       "      <td>49.56%</td>\n",
       "    </tr>\n",
       "    <tr>\n",
       "      <td>PaymentScreenSuccessful</td>\n",
       "      <td>3539</td>\n",
       "      <td>46.97%</td>\n",
       "    </tr>\n",
       "    <tr>\n",
       "      <td>Tutorial</td>\n",
       "      <td>840</td>\n",
       "      <td>11.15%</td>\n",
       "    </tr>\n",
       "  </tbody>\n",
       "</table>\n",
       "</div>"
      ],
      "text/plain": [
       "                         n_users initial_percent\n",
       "event_name                                      \n",
       "MainScreenAppear            7419          98.47%\n",
       "OffersScreenAppear          4593          60.96%\n",
       "CartScreenAppear            3734          49.56%\n",
       "PaymentScreenSuccessful     3539          46.97%\n",
       "Tutorial                     840          11.15%"
      ]
     },
     "execution_count": 18,
     "metadata": {},
     "output_type": "execute_result"
    }
   ],
   "source": [
    "users_in_events = logs_exp_filtered.groupby('event_name')['device_id_hash'].nunique().sort_values(ascending=False)\n",
    "\n",
    "pd.concat([\n",
    "    users_in_events.rename('n_users'), \n",
    "    users_in_events.rename('initial_percent').apply(\n",
    "        lambda x: x / logs_exp_filtered['device_id_hash'].nunique()).map('{:.2%}'.format)], axis=1)"
   ]
  },
  {
   "cell_type": "markdown",
   "metadata": {},
   "source": [
    "Здесь события описывают путь от входа в приложение до оплаты заказа; на каждом этапе часть пользователей теряется. Ожидаемо самое популярное событие — это появление стартового экрана. А вот самое редкое — это онбординг, обучение новых пользователей, и видно, что по количеству наблюдений и пользователей оно заметно отличается — это потому, что обучение демонстрируется только новым пользователям. Конечно же, онбординг не может идти после всех остальных этапов.\n",
    "\n",
    "Таким образом, мы можем выстроить события в следующую цепочку:\n",
    "\n",
    "**(Tutorial) → MainScreenAppear → OffersScreenAppear → CartScreenAppear → PaymentScreenSuccessful**\n",
    "\n",
    "Обучение — необязательный этап. Поскольку мы анализируем всех пользователей за время эксперимента, а не только новичков, то этап `Tutorial` мы исключим из анализа.\n",
    "\n",
    "Сформируем последовательность согласно приведенной нами цепочке и проверим, всегда ли пользователи строго ей следуют:"
   ]
  },
  {
   "cell_type": "code",
   "execution_count": 19,
   "metadata": {},
   "outputs": [
    {
     "data": {
      "text/html": [
       "<div>\n",
       "<style scoped>\n",
       "    .dataframe tbody tr th:only-of-type {\n",
       "        vertical-align: middle;\n",
       "    }\n",
       "\n",
       "    .dataframe tbody tr th {\n",
       "        vertical-align: top;\n",
       "    }\n",
       "\n",
       "    .dataframe thead th {\n",
       "        text-align: right;\n",
       "    }\n",
       "</style>\n",
       "<table border=\"1\" class=\"dataframe\">\n",
       "  <thead>\n",
       "    <tr style=\"text-align: right;\">\n",
       "      <th></th>\n",
       "      <th>event_name</th>\n",
       "      <th>device_id_hash</th>\n",
       "      <th>event_timestamp</th>\n",
       "      <th>exp_id</th>\n",
       "      <th>event_date</th>\n",
       "      <th>event_category</th>\n",
       "      <th>event_code</th>\n",
       "    </tr>\n",
       "  </thead>\n",
       "  <tbody>\n",
       "    <tr>\n",
       "      <td>2828</td>\n",
       "      <td>Tutorial</td>\n",
       "      <td>3737462046622621720</td>\n",
       "      <td>2019-08-01 00:07:28</td>\n",
       "      <td>246</td>\n",
       "      <td>2019-08-01</td>\n",
       "      <td>Tutorial</td>\n",
       "      <td>0</td>\n",
       "    </tr>\n",
       "    <tr>\n",
       "      <td>2829</td>\n",
       "      <td>MainScreenAppear</td>\n",
       "      <td>3737462046622621720</td>\n",
       "      <td>2019-08-01 00:08:00</td>\n",
       "      <td>246</td>\n",
       "      <td>2019-08-01</td>\n",
       "      <td>MainScreenAppear</td>\n",
       "      <td>1</td>\n",
       "    </tr>\n",
       "    <tr>\n",
       "      <td>2830</td>\n",
       "      <td>MainScreenAppear</td>\n",
       "      <td>3737462046622621720</td>\n",
       "      <td>2019-08-01 00:08:55</td>\n",
       "      <td>246</td>\n",
       "      <td>2019-08-01</td>\n",
       "      <td>MainScreenAppear</td>\n",
       "      <td>1</td>\n",
       "    </tr>\n",
       "    <tr>\n",
       "      <td>2831</td>\n",
       "      <td>OffersScreenAppear</td>\n",
       "      <td>3737462046622621720</td>\n",
       "      <td>2019-08-01 00:08:58</td>\n",
       "      <td>246</td>\n",
       "      <td>2019-08-01</td>\n",
       "      <td>OffersScreenAppear</td>\n",
       "      <td>2</td>\n",
       "    </tr>\n",
       "    <tr>\n",
       "      <td>2832</td>\n",
       "      <td>MainScreenAppear</td>\n",
       "      <td>1433840883824088890</td>\n",
       "      <td>2019-08-01 00:08:59</td>\n",
       "      <td>247</td>\n",
       "      <td>2019-08-01</td>\n",
       "      <td>MainScreenAppear</td>\n",
       "      <td>1</td>\n",
       "    </tr>\n",
       "  </tbody>\n",
       "</table>\n",
       "</div>"
      ],
      "text/plain": [
       "              event_name       device_id_hash     event_timestamp  exp_id  \\\n",
       "2828            Tutorial  3737462046622621720 2019-08-01 00:07:28     246   \n",
       "2829    MainScreenAppear  3737462046622621720 2019-08-01 00:08:00     246   \n",
       "2830    MainScreenAppear  3737462046622621720 2019-08-01 00:08:55     246   \n",
       "2831  OffersScreenAppear  3737462046622621720 2019-08-01 00:08:58     246   \n",
       "2832    MainScreenAppear  1433840883824088890 2019-08-01 00:08:59     247   \n",
       "\n",
       "     event_date      event_category  event_code  \n",
       "2828 2019-08-01            Tutorial           0  \n",
       "2829 2019-08-01    MainScreenAppear           1  \n",
       "2830 2019-08-01    MainScreenAppear           1  \n",
       "2831 2019-08-01  OffersScreenAppear           2  \n",
       "2832 2019-08-01    MainScreenAppear           1  "
      ]
     },
     "execution_count": 19,
     "metadata": {},
     "output_type": "execute_result"
    }
   ],
   "source": [
    "events_cat = CategoricalDtype(categories=['Tutorial', \n",
    "                                          'MainScreenAppear', \n",
    "                                          'OffersScreenAppear', \n",
    "                                          'CartScreenAppear', \n",
    "                                          'PaymentScreenSuccessful'], ordered=True)\n",
    "\n",
    "with warnings.catch_warnings():\n",
    "    warnings.simplefilter('ignore') # выключение предупреждения об использовании .loc\n",
    "    logs_exp_filtered['event_category'] = logs_exp_filtered['event_name'].astype(events_cat)\n",
    "    logs_exp_filtered['event_code'] = logs_exp_filtered['event_category'].cat.codes\n",
    "\n",
    "logs_exp_filtered.head()"
   ]
  },
  {
   "cell_type": "code",
   "execution_count": 20,
   "metadata": {},
   "outputs": [
    {
     "name": "stdout",
     "output_type": "stream",
     "text": [
      "Минимум 2777 раз пользователи были на последующих этапах воронки раньше предыдущих этапов\n"
     ]
    }
   ],
   "source": [
    "# сбор самой ранней временной отметки, когда события демонстрировались пользователям\n",
    "first_event_by_users = \\\n",
    "logs_exp_filtered.groupby(['device_id_hash', 'event_code', 'event_name'])['event_timestamp'].min()\n",
    "first_event_by_users = first_event_by_users.reset_index()\n",
    "\n",
    "# подсчет временной дельты между каждым последующим событием цепочки отдельно для каждого пользователя\n",
    "event_timedelta = \\\n",
    "first_event_by_users.groupby('device_id_hash')['event_timestamp'].diff()\n",
    "first_event_by_users['event_timedelta_sec'] = event_timedelta.apply(lambda x: x.total_seconds()).fillna(0)\n",
    "\n",
    "print('Минимум {} раз пользователи были на последующих этапах воронки раньше предыдущих этапов'.format(\n",
    "    len(first_event_by_users.query('event_timedelta_sec < 0'))))"
   ]
  },
  {
   "cell_type": "markdown",
   "metadata": {},
   "source": [
    "В чуть более чем полутора процентах случаев пользователи были на более поздних этапах цепочки до более ранних. Посмотрим на примере частных случаев, как это может быть:"
   ]
  },
  {
   "cell_type": "code",
   "execution_count": 21,
   "metadata": {},
   "outputs": [
    {
     "data": {
      "text/html": [
       "<div>\n",
       "<style scoped>\n",
       "    .dataframe tbody tr th:only-of-type {\n",
       "        vertical-align: middle;\n",
       "    }\n",
       "\n",
       "    .dataframe tbody tr th {\n",
       "        vertical-align: top;\n",
       "    }\n",
       "\n",
       "    .dataframe thead th {\n",
       "        text-align: right;\n",
       "    }\n",
       "</style>\n",
       "<table border=\"1\" class=\"dataframe\">\n",
       "  <thead>\n",
       "    <tr style=\"text-align: right;\">\n",
       "      <th></th>\n",
       "      <th>device_id_hash</th>\n",
       "      <th>event_code</th>\n",
       "      <th>event_name</th>\n",
       "      <th>event_timestamp</th>\n",
       "      <th>event_timedelta_sec</th>\n",
       "    </tr>\n",
       "  </thead>\n",
       "  <tbody>\n",
       "    <tr>\n",
       "      <td>1</td>\n",
       "      <td>6909561520679493</td>\n",
       "      <td>1</td>\n",
       "      <td>MainScreenAppear</td>\n",
       "      <td>2019-08-06 18:52:54</td>\n",
       "      <td>0.0</td>\n",
       "    </tr>\n",
       "    <tr>\n",
       "      <td>2</td>\n",
       "      <td>6909561520679493</td>\n",
       "      <td>2</td>\n",
       "      <td>OffersScreenAppear</td>\n",
       "      <td>2019-08-06 18:53:04</td>\n",
       "      <td>10.0</td>\n",
       "    </tr>\n",
       "    <tr>\n",
       "      <td>3</td>\n",
       "      <td>6909561520679493</td>\n",
       "      <td>3</td>\n",
       "      <td>CartScreenAppear</td>\n",
       "      <td>2019-08-06 18:52:58</td>\n",
       "      <td>-6.0</td>\n",
       "    </tr>\n",
       "    <tr>\n",
       "      <td>4</td>\n",
       "      <td>6909561520679493</td>\n",
       "      <td>4</td>\n",
       "      <td>PaymentScreenSuccessful</td>\n",
       "      <td>2019-08-06 18:52:58</td>\n",
       "      <td>0.0</td>\n",
       "    </tr>\n",
       "  </tbody>\n",
       "</table>\n",
       "</div>"
      ],
      "text/plain": [
       "     device_id_hash  event_code               event_name     event_timestamp  \\\n",
       "1  6909561520679493           1         MainScreenAppear 2019-08-06 18:52:54   \n",
       "2  6909561520679493           2       OffersScreenAppear 2019-08-06 18:53:04   \n",
       "3  6909561520679493           3         CartScreenAppear 2019-08-06 18:52:58   \n",
       "4  6909561520679493           4  PaymentScreenSuccessful 2019-08-06 18:52:58   \n",
       "\n",
       "   event_timedelta_sec  \n",
       "1                  0.0  \n",
       "2                 10.0  \n",
       "3                 -6.0  \n",
       "4                  0.0  "
      ]
     },
     "execution_count": 21,
     "metadata": {},
     "output_type": "execute_result"
    }
   ],
   "source": [
    "first_event_by_users.query('device_id_hash == 6909561520679493')"
   ]
  },
  {
   "cell_type": "code",
   "execution_count": 22,
   "metadata": {},
   "outputs": [
    {
     "data": {
      "text/html": [
       "<div>\n",
       "<style scoped>\n",
       "    .dataframe tbody tr th:only-of-type {\n",
       "        vertical-align: middle;\n",
       "    }\n",
       "\n",
       "    .dataframe tbody tr th {\n",
       "        vertical-align: top;\n",
       "    }\n",
       "\n",
       "    .dataframe thead th {\n",
       "        text-align: right;\n",
       "    }\n",
       "</style>\n",
       "<table border=\"1\" class=\"dataframe\">\n",
       "  <thead>\n",
       "    <tr style=\"text-align: right;\">\n",
       "      <th></th>\n",
       "      <th>device_id_hash</th>\n",
       "      <th>event_code</th>\n",
       "      <th>event_name</th>\n",
       "      <th>event_timestamp</th>\n",
       "      <th>event_timedelta_sec</th>\n",
       "    </tr>\n",
       "  </thead>\n",
       "  <tbody>\n",
       "    <tr>\n",
       "      <td>30</td>\n",
       "      <td>18658818197810381</td>\n",
       "      <td>1</td>\n",
       "      <td>MainScreenAppear</td>\n",
       "      <td>2019-08-02 03:05:37</td>\n",
       "      <td>0.0</td>\n",
       "    </tr>\n",
       "    <tr>\n",
       "      <td>31</td>\n",
       "      <td>18658818197810381</td>\n",
       "      <td>2</td>\n",
       "      <td>OffersScreenAppear</td>\n",
       "      <td>2019-08-01 08:00:42</td>\n",
       "      <td>-68695.0</td>\n",
       "    </tr>\n",
       "    <tr>\n",
       "      <td>32</td>\n",
       "      <td>18658818197810381</td>\n",
       "      <td>3</td>\n",
       "      <td>CartScreenAppear</td>\n",
       "      <td>2019-08-01 15:25:32</td>\n",
       "      <td>26690.0</td>\n",
       "    </tr>\n",
       "    <tr>\n",
       "      <td>33</td>\n",
       "      <td>18658818197810381</td>\n",
       "      <td>4</td>\n",
       "      <td>PaymentScreenSuccessful</td>\n",
       "      <td>2019-08-03 13:47:35</td>\n",
       "      <td>166923.0</td>\n",
       "    </tr>\n",
       "  </tbody>\n",
       "</table>\n",
       "</div>"
      ],
      "text/plain": [
       "       device_id_hash  event_code               event_name  \\\n",
       "30  18658818197810381           1         MainScreenAppear   \n",
       "31  18658818197810381           2       OffersScreenAppear   \n",
       "32  18658818197810381           3         CartScreenAppear   \n",
       "33  18658818197810381           4  PaymentScreenSuccessful   \n",
       "\n",
       "       event_timestamp  event_timedelta_sec  \n",
       "30 2019-08-02 03:05:37                  0.0  \n",
       "31 2019-08-01 08:00:42             -68695.0  \n",
       "32 2019-08-01 15:25:32              26690.0  \n",
       "33 2019-08-03 13:47:35             166923.0  "
      ]
     },
     "execution_count": 22,
     "metadata": {},
     "output_type": "execute_result"
    }
   ],
   "source": [
    "first_event_by_users.query('device_id_hash == 18658818197810381')"
   ]
  },
  {
   "cell_type": "markdown",
   "metadata": {},
   "source": [
    "Первый пользователь перешел в корзину до просмотра товаров, а второй переходил в корзину и товары за день до главного экрана. Это не обязательно может быть ошибкой, но стоит этот момент в дальнейшем проверить. В любом случае, таких событий совсем небольшое количество, они не исказят данные эксперимента.\n",
    "\n",
    "По указанной нами цепочке построим воронку событий и посчитаем, какая доля пользователей переходит на каждый следующий этап и где теряется больше всего пользователей:"
   ]
  },
  {
   "cell_type": "code",
   "execution_count": 23,
   "metadata": {},
   "outputs": [
    {
     "data": {
      "text/plain": [
       "event_name\n",
       "MainScreenAppear           98.47%\n",
       "OffersScreenAppear         61.91%\n",
       "CartScreenAppear           81.30%\n",
       "PaymentScreenSuccessful    94.78%\n",
       "Name: device_id_hash, dtype: object"
      ]
     },
     "metadata": {},
     "output_type": "display_data"
    },
    {
     "data": {
      "image/svg+xml": [
       "<svg class=\"main-svg\" xmlns=\"http://www.w3.org/2000/svg\" xmlns:xlink=\"http://www.w3.org/1999/xlink\" width=\"900\" height=\"550\" style=\"\" viewBox=\"0 0 900 550\"><rect x=\"0\" y=\"0\" width=\"900\" height=\"550\" style=\"fill: rgb(255, 255, 255); fill-opacity: 1;\"/><defs id=\"defs-28fea4\"><g class=\"clips\"><clipPath id=\"clip28fea4xyplot\" class=\"plotclip\"><rect width=\"654\" height=\"370\"/></clipPath><clipPath class=\"axesclip\" id=\"clip28fea4x\"><rect x=\"166\" y=\"0\" width=\"654\" height=\"550\"/></clipPath><clipPath class=\"axesclip\" id=\"clip28fea4y\"><rect x=\"0\" y=\"100\" width=\"900\" height=\"370\"/></clipPath><clipPath class=\"axesclip\" id=\"clip28fea4xy\"><rect x=\"166\" y=\"100\" width=\"654\" height=\"370\"/></clipPath></g><g class=\"gradients\"/></defs><g class=\"bglayer\"/><g class=\"layer-below\"><g class=\"imagelayer\"/><g class=\"shapelayer\"/></g><g class=\"cartesianlayer\"><g class=\"subplot xy\"><g class=\"layer-subplot\"><g class=\"shapelayer\"/><g class=\"imagelayer\"/></g><g class=\"gridlayer\"><g class=\"x\"/><g class=\"y\"><path class=\"ygrid crisp\" transform=\"translate(0,423.75)\" d=\"M166,0h654\" style=\"stroke: rgb(232, 232, 232); stroke-opacity: 1; stroke-width: 1px;\"/><path class=\"ygrid crisp\" transform=\"translate(0,331.25)\" d=\"M166,0h654\" style=\"stroke: rgb(232, 232, 232); stroke-opacity: 1; stroke-width: 1px;\"/><path class=\"ygrid crisp\" transform=\"translate(0,238.75)\" d=\"M166,0h654\" style=\"stroke: rgb(232, 232, 232); stroke-opacity: 1; stroke-width: 1px;\"/><path class=\"ygrid crisp\" transform=\"translate(0,146.25)\" d=\"M166,0h654\" style=\"stroke: rgb(232, 232, 232); stroke-opacity: 1; stroke-width: 1px;\"/></g></g><g class=\"zerolinelayer\"/><path class=\"xlines-below\"/><path class=\"ylines-below\"/><g class=\"overlines-below\"/><g class=\"xaxislayer-below\"/><g class=\"yaxislayer-below\"/><g class=\"overaxes-below\"/><g class=\"plot\" transform=\"translate(166, 100)\" clip-path=\"url('#clip28fea4xyplot')\"><g class=\"funnellayer mlayer\"><g class=\"trace bars\" style=\"opacity: 1;\"><g class=\"regions\"><g class=\"region\"><path d=\"M32.7,83.25L144.8,101.75H509.2L621.3,83.25Z\" style=\"stroke-width: 0; fill: rgb(86, 115, 224); fill-opacity: 0.5;\"/></g><g class=\"region\"><path d=\"M144.8,175.75L178.88,194.25H475.12L509.2,175.75Z\" style=\"stroke-width: 0; fill: rgb(86, 115, 224); fill-opacity: 0.5;\"/></g><g class=\"region\"><path d=\"M178.88,268.25L186.61,286.75H467.39L475.12,268.25Z\" style=\"stroke-width: 0; fill: rgb(86, 115, 224); fill-opacity: 0.5;\"/></g><g class=\"region\"><path d=\"M0,0Z\" style=\"stroke-width: 0; fill: rgb(86, 115, 224); fill-opacity: 0.5;\"/></g></g><g class=\"points\"><g class=\"point\"><path d=\"M32.7,9.25V83.25H621.3V9.25Z\" style=\"vector-effect: non-scaling-stroke; fill: rgb(86, 115, 224); fill-opacity: 1; stroke: rgb(68, 68, 68); stroke-opacity: 1; stroke-width: 0px; opacity: 1;\"/><text class=\"bartext bartext-inside\" text-anchor=\"middle\" data-notex=\"1\" x=\"0\" y=\"0\" style=\"font-family: 'Open Sans', verdana, arial, sans-serif; font-size: 12px; fill: rgb(255, 255, 255); fill-opacity: 1; white-space: pre;\" transform=\"translate(327,43.1953125)\"><tspan class=\"line\" dy=\"0em\" x=\"0\" y=\"0\">7419</tspan><tspan class=\"line\" dy=\"1.3em\" x=\"0\" y=\"0\">100%</tspan></text></g><g class=\"point\"><path d=\"M144.8,101.75V175.75H509.2V101.75Z\" style=\"vector-effect: non-scaling-stroke; fill: rgb(86, 115, 224); fill-opacity: 1; stroke: rgb(68, 68, 68); stroke-opacity: 1; stroke-width: 0px; opacity: 1;\"/><text class=\"bartext bartext-inside\" text-anchor=\"middle\" data-notex=\"1\" x=\"0\" y=\"0\" style=\"font-family: 'Open Sans', verdana, arial, sans-serif; font-size: 12px; fill: rgb(255, 255, 255); fill-opacity: 1; white-space: pre;\" transform=\"translate(327,135.6953125)\"><tspan class=\"line\" dy=\"0em\" x=\"0\" y=\"0\">4593</tspan><tspan class=\"line\" dy=\"1.3em\" x=\"0\" y=\"0\">62%</tspan></text></g><g class=\"point\"><path d=\"M178.88,194.25V268.25H475.12V194.25Z\" style=\"vector-effect: non-scaling-stroke; fill: rgb(86, 115, 224); fill-opacity: 1; stroke: rgb(68, 68, 68); stroke-opacity: 1; stroke-width: 0px; opacity: 1;\"/><text class=\"bartext bartext-inside\" text-anchor=\"middle\" data-notex=\"1\" x=\"0\" y=\"0\" style=\"font-family: 'Open Sans', verdana, arial, sans-serif; font-size: 12px; fill: rgb(255, 255, 255); fill-opacity: 1; white-space: pre;\" transform=\"translate(327,228.1953125)\"><tspan class=\"line\" dy=\"0em\" x=\"0\" y=\"0\">3734</tspan><tspan class=\"line\" dy=\"1.3em\" x=\"0\" y=\"0\">50%</tspan></text></g><g class=\"point\"><path d=\"M186.61,286.75V360.75H467.39V286.75Z\" style=\"vector-effect: non-scaling-stroke; fill: rgb(86, 115, 224); fill-opacity: 1; stroke: rgb(68, 68, 68); stroke-opacity: 1; stroke-width: 0px; opacity: 1;\"/><text class=\"bartext bartext-inside\" text-anchor=\"middle\" data-notex=\"1\" x=\"0\" y=\"0\" style=\"font-family: 'Open Sans', verdana, arial, sans-serif; font-size: 12px; fill: rgb(255, 255, 255); fill-opacity: 1; white-space: pre;\" transform=\"translate(327,320.6953125)\"><tspan class=\"line\" dy=\"0em\" x=\"0\" y=\"0\">3539</tspan><tspan class=\"line\" dy=\"1.3em\" x=\"0\" y=\"0\">48%</tspan></text></g></g></g></g></g><g class=\"overplot\"/><path class=\"xlines-above crisp\" d=\"M0,0\" style=\"fill: none;\"/><path class=\"ylines-above crisp\" d=\"M165.5,100V470\" style=\"fill: none; stroke-width: 1px; stroke: rgb(36, 36, 36); stroke-opacity: 1;\"/><g class=\"overlines-above\"/><g class=\"xaxislayer-above\"/><g class=\"yaxislayer-above\"><path class=\"ytick ticks crisp\" d=\"M165,0h-5\" transform=\"translate(0,423.75)\" style=\"stroke: rgb(68, 68, 68); stroke-opacity: 1; stroke-width: 1px;\"/><path class=\"ytick ticks crisp\" d=\"M165,0h-5\" transform=\"translate(0,331.25)\" style=\"stroke: rgb(68, 68, 68); stroke-opacity: 1; stroke-width: 1px;\"/><path class=\"ytick ticks crisp\" d=\"M165,0h-5\" transform=\"translate(0,238.75)\" style=\"stroke: rgb(68, 68, 68); stroke-opacity: 1; stroke-width: 1px;\"/><path class=\"ytick ticks crisp\" d=\"M165,0h-5\" transform=\"translate(0,146.25)\" style=\"stroke: rgb(68, 68, 68); stroke-opacity: 1; stroke-width: 1px;\"/><g class=\"ytick\"><text text-anchor=\"end\" x=\"157.6\" y=\"4.199999999999999\" transform=\"translate(0,423.75)\" style=\"font-family: 'Open Sans', verdana, arial, sans-serif; font-size: 12px; fill: rgb(36, 36, 36); fill-opacity: 1; white-space: pre;\">PaymentScreenSuccessful</text></g><g class=\"ytick\"><text text-anchor=\"end\" x=\"157.6\" y=\"4.199999999999999\" transform=\"translate(0,331.25)\" style=\"font-family: 'Open Sans', verdana, arial, sans-serif; font-size: 12px; fill: rgb(36, 36, 36); fill-opacity: 1; white-space: pre;\">CartScreenAppear</text></g><g class=\"ytick\"><text text-anchor=\"end\" x=\"157.6\" y=\"4.199999999999999\" transform=\"translate(0,238.75)\" style=\"font-family: 'Open Sans', verdana, arial, sans-serif; font-size: 12px; fill: rgb(36, 36, 36); fill-opacity: 1; white-space: pre;\">OffersScreenAppear</text></g><g class=\"ytick\"><text text-anchor=\"end\" x=\"157.6\" y=\"4.199999999999999\" transform=\"translate(0,146.25)\" style=\"font-family: 'Open Sans', verdana, arial, sans-serif; font-size: 12px; fill: rgb(36, 36, 36); fill-opacity: 1; white-space: pre;\">MainScreenAppear</text></g></g><g class=\"overaxes-above\"/></g></g><g class=\"polarlayer\"/><g class=\"ternarylayer\"/><g class=\"geolayer\"/><g class=\"funnelarealayer\"/><g class=\"pielayer\"/><g class=\"treemaplayer\"/><g class=\"sunburstlayer\"/><g class=\"glimages\"/><defs id=\"topdefs-28fea4\"><g class=\"clips\"/></defs><g class=\"layer-above\"><g class=\"imagelayer\"/><g class=\"shapelayer\"/></g><g class=\"infolayer\"><g class=\"g-gtitle\"><text class=\"gtitle\" x=\"45\" y=\"50\" text-anchor=\"start\" dy=\"0em\" style=\"font-family: 'Open Sans', verdana, arial, sans-serif; font-size: 17px; fill: rgb(36, 36, 36); opacity: 1; font-weight: normal; white-space: pre;\"><tspan class=\"line\" dy=\"0em\" x=\"45\" y=\"50\">Воронка событий мобильного приложения</tspan><tspan class=\"line\" dy=\"1.3em\" x=\"45\" y=\"50\"><tspan style=\"font-style:italic\">с числом и долей пользователей на каждом этапе</tspan></tspan></text></g><g class=\"g-ytitle\"/></g></svg>"
      ]
     },
     "metadata": {},
     "output_type": "display_data"
    }
   ],
   "source": [
    "# подсчет процента различий между последующим и предыдущим событием\n",
    "# первое событие — процент от общего числа пользователей\n",
    "display(users_in_events[:-1].pct_change().apply(lambda x: 1 + x)\n",
    "        .fillna(users_in_events[0] / logs_exp_filtered['device_id_hash'].nunique()).map('{:.2%}'.format))\n",
    "\n",
    "go.Figure(go.Funnel(\n",
    "    x=users_in_events[:-1].values, \n",
    "    y=users_in_events[:-1].index, \n",
    "    textinfo='value+percent initial'\n",
    ")).update_layout(\n",
    "    title='Воронка событий мобильного приложения'+\n",
    "    '<br><i>с числом и долей пользователей на каждом этапе').show(\n",
    "    renderer='svg', \n",
    "    width=900, \n",
    "    height=550)"
   ]
  },
  {
   "cell_type": "markdown",
   "metadata": {},
   "source": [
    "На первом этапе воронки MainScreenAppear у нас меньше 100%, т.к. мы считали проценты от общего количества пользователей — это как раз исключенные из анализа новички, которые сначала видели онбординг. Похоже, что 1,5% процента не прошли дальше него."
   ]
  },
  {
   "cell_type": "code",
   "execution_count": 24,
   "metadata": {},
   "outputs": [
    {
     "name": "stdout",
     "output_type": "stream",
     "text": [
      "При переходе к событию OffersScreenAppear теряется больше всего пользователей: 38.09%\n"
     ]
    }
   ],
   "source": [
    "print('При переходе к событию {} теряется больше всего пользователей: {:.2%}'.format(\n",
    "    users_in_events.index[users_in_events.pct_change().values == users_in_events[:-1].pct_change().min()][0], \n",
    "    abs(users_in_events[:-1].pct_change().min())))"
   ]
  },
  {
   "cell_type": "code",
   "execution_count": 25,
   "metadata": {},
   "outputs": [
    {
     "name": "stdout",
     "output_type": "stream",
     "text": [
      "До события PaymentScreenSuccessful от первого этапа доходят 46.97% пользователей\n"
     ]
    }
   ],
   "source": [
    "successful_payments = users_in_events[:-1].apply(lambda x: x / logs_exp_filtered['device_id_hash'].nunique()).iloc[[-1]]\n",
    "print('До события {} от первого этапа доходят {:.2%} пользователей'\n",
    "      .format(successful_payments.index[0], successful_payments.values[0]))"
   ]
  },
  {
   "cell_type": "markdown",
   "metadata": {},
   "source": [
    "Итак, больше всего пользователей увидели главный экран приложения, но только 62% из них перешли непосредственно к покупкам, а завершили этот процесс и сделали оплату чуть менее 47%."
   ]
  },
  {
   "cell_type": "markdown",
   "metadata": {},
   "source": [
    "<a id='part_4'></a>\n",
    "## Шаг 4. Изучение результатов эксперимента"
   ]
  },
  {
   "cell_type": "code",
   "execution_count": 26,
   "metadata": {},
   "outputs": [
    {
     "data": {
      "text/plain": [
       "exp_id\n",
       "246    2484\n",
       "247    2513\n",
       "248    2537\n",
       "Name: device_id_hash, dtype: int64"
      ]
     },
     "execution_count": 26,
     "metadata": {},
     "output_type": "execute_result"
    }
   ],
   "source": [
    "# количество пользователей в каждой группе\n",
    "logs_exp_filtered.groupby('exp_id')['device_id_hash'].nunique()"
   ]
  },
  {
   "cell_type": "markdown",
   "metadata": {},
   "source": [
    "Перейдем к оценке результатов сплит-теста. В эксперименте участвовали три группы, в каждой около 2,5 тысяч пользователей. Напомним, что в сплит-тесте участвовали две контрольные группы, между которыми был проведен А/А-тест — т.е. им демонстрировалася одна и та же исходная версия приложения. Это нужно, чтобы проверить корректность деления на группы и исключить влияние аномалий и скрытых факторов на результаты."
   ]
  },
  {
   "cell_type": "code",
   "execution_count": 27,
   "metadata": {},
   "outputs": [
    {
     "data": {
      "text/plain": [
       "0"
      ]
     },
     "execution_count": 27,
     "metadata": {},
     "output_type": "execute_result"
    }
   ],
   "source": [
    "# количество уникальных id устройств, которым приписаны две группы\n",
    "(logs_exp_filtered.groupby('device_id_hash')['exp_id'].nunique() > 1).sum()"
   ]
  },
  {
   "cell_type": "code",
   "execution_count": 28,
   "metadata": {},
   "outputs": [
    {
     "data": {
      "text/plain": [
       "247 / 246    1.17%\n",
       "248 / 246    2.13%\n",
       "248 / 247    0.96%\n",
       "Name: compare_samples, dtype: object"
      ]
     },
     "execution_count": 28,
     "metadata": {},
     "output_type": "execute_result"
    }
   ],
   "source": [
    "# подсчет различий между количеством пользователей в каждой группе\n",
    "pd.Series(\n",
    "    index=['247 / 246', '248 / 246', '248 / 247'], \n",
    "    data=[\n",
    "        logs_exp_filtered.query('exp_id == 247')['device_id_hash'].nunique() / \n",
    "        logs_exp_filtered.query('exp_id == 246')['device_id_hash'].nunique() - 1, \n",
    "        logs_exp_filtered.query('exp_id == 248')['device_id_hash'].nunique() / \n",
    "        logs_exp_filtered.query('exp_id == 246')['device_id_hash'].nunique() - 1, \n",
    "        logs_exp_filtered.query('exp_id == 248')['device_id_hash'].nunique() / \n",
    "        logs_exp_filtered.query('exp_id == 247')['device_id_hash'].nunique() - 1\n",
    "    ]).map('{:.2%}'.format).rename('compare_samples')"
   ]
  },
  {
   "cell_type": "markdown",
   "metadata": {},
   "source": [
    "Ни один пользователь не попал сразу в несколько групп — это было бы грубой ошибкой эксперимента. Разница в количестве пользователей между группами — не более 2,13%, это допустимый уровень.\n",
    "\n",
    "Посмотрим, как выглядит воронка для каждой из групп:"
   ]
  },
  {
   "cell_type": "code",
   "execution_count": 29,
   "metadata": {},
   "outputs": [
    {
     "data": {
      "image/svg+xml": [
       "<svg class=\"main-svg\" xmlns=\"http://www.w3.org/2000/svg\" xmlns:xlink=\"http://www.w3.org/1999/xlink\" width=\"900\" height=\"550\" style=\"\" viewBox=\"0 0 900 550\"><rect x=\"0\" y=\"0\" width=\"900\" height=\"550\" style=\"fill: rgb(255, 255, 255); fill-opacity: 1;\"/><defs id=\"defs-e35d81\"><g class=\"clips\"><clipPath id=\"clipe35d81xyplot\" class=\"plotclip\"><rect width=\"481\" height=\"370\"/></clipPath><clipPath class=\"axesclip\" id=\"clipe35d81x\"><rect x=\"166\" y=\"0\" width=\"481\" height=\"550\"/></clipPath><clipPath class=\"axesclip\" id=\"clipe35d81y\"><rect x=\"0\" y=\"100\" width=\"900\" height=\"370\"/></clipPath><clipPath class=\"axesclip\" id=\"clipe35d81xy\"><rect x=\"166\" y=\"100\" width=\"481\" height=\"370\"/></clipPath></g><g class=\"gradients\"/></defs><g class=\"bglayer\"/><g class=\"layer-below\"><g class=\"imagelayer\"/><g class=\"shapelayer\"/></g><g class=\"cartesianlayer\"><g class=\"subplot xy\"><g class=\"layer-subplot\"><g class=\"shapelayer\"/><g class=\"imagelayer\"/></g><g class=\"gridlayer\"><g class=\"x\"/><g class=\"y\"><path class=\"ygrid crisp\" transform=\"translate(0,423.75)\" d=\"M166,0h481\" style=\"stroke: rgb(232, 232, 232); stroke-opacity: 1; stroke-width: 1px;\"/><path class=\"ygrid crisp\" transform=\"translate(0,331.25)\" d=\"M166,0h481\" style=\"stroke: rgb(232, 232, 232); stroke-opacity: 1; stroke-width: 1px;\"/><path class=\"ygrid crisp\" transform=\"translate(0,238.75)\" d=\"M166,0h481\" style=\"stroke: rgb(232, 232, 232); stroke-opacity: 1; stroke-width: 1px;\"/><path class=\"ygrid crisp\" transform=\"translate(0,146.25)\" d=\"M166,0h481\" style=\"stroke: rgb(232, 232, 232); stroke-opacity: 1; stroke-width: 1px;\"/></g></g><g class=\"zerolinelayer\"/><path class=\"xlines-below\"/><path class=\"ylines-below\"/><g class=\"overlines-below\"/><g class=\"xaxislayer-below\"/><g class=\"yaxislayer-below\"/><g class=\"overaxes-below\"/><g class=\"plot\" transform=\"translate(166, 100)\" clip-path=\"url('#clipe35d81xyplot')\"><g class=\"funnellayer mlayer\"><g class=\"trace bars\" style=\"opacity: 1;\"><g class=\"regions\"><g class=\"region\"><path d=\"M24.05,83.25L106.5,101.75H196.47L167.01,83.25Z\" style=\"stroke-width: 0; fill: rgb(141, 176, 254); fill-opacity: 0.5;\"/></g><g class=\"region\"><path d=\"M106.5,175.75L131.56,194.25H205.43L196.47,175.75Z\" style=\"stroke-width: 0; fill: rgb(141, 176, 254); fill-opacity: 0.5;\"/></g><g class=\"region\"><path d=\"M131.56,268.25L137.25,286.75H207.27L205.43,268.25Z\" style=\"stroke-width: 0; fill: rgb(141, 176, 254); fill-opacity: 0.5;\"/></g><g class=\"region\"><path d=\"M0,0Z\" style=\"stroke-width: 0; fill: rgb(141, 176, 254); fill-opacity: 0.5;\"/></g></g><g class=\"points\"><g class=\"point\"><path d=\"M24.05,9.25V83.25H167.01V9.25Z\" style=\"vector-effect: non-scaling-stroke; fill: rgb(141, 176, 254); fill-opacity: 1; stroke: rgb(68, 68, 68); stroke-opacity: 1; stroke-width: 0px; opacity: 1;\"/><text class=\"bartext bartext-inside\" text-anchor=\"middle\" data-notex=\"1\" x=\"0\" y=\"0\" style=\"font-family: 'Open Sans', verdana, arial, sans-serif; font-size: 12px; fill: rgb(68, 68, 68); fill-opacity: 1; white-space: pre;\" transform=\"translate(95.53,43.1953125)\"><tspan class=\"line\" dy=\"0em\" x=\"0\" y=\"0\">2450</tspan><tspan class=\"line\" dy=\"1.3em\" x=\"0\" y=\"0\">100%</tspan></text></g><g class=\"point\"><path d=\"M106.5,101.75V175.75H196.47V101.75Z\" style=\"vector-effect: non-scaling-stroke; fill: rgb(141, 176, 254); fill-opacity: 1; stroke: rgb(68, 68, 68); stroke-opacity: 1; stroke-width: 0px; opacity: 1;\"/><text class=\"bartext bartext-inside\" text-anchor=\"middle\" data-notex=\"1\" x=\"0\" y=\"0\" style=\"font-family: 'Open Sans', verdana, arial, sans-serif; font-size: 12px; fill: rgb(68, 68, 68); fill-opacity: 1; white-space: pre;\" transform=\"translate(151.485,135.6953125)\"><tspan class=\"line\" dy=\"0em\" x=\"0\" y=\"0\">1542</tspan><tspan class=\"line\" dy=\"1.3em\" x=\"0\" y=\"0\">63%</tspan></text></g><g class=\"point\"><path d=\"M131.56,194.25V268.25H205.43V194.25Z\" style=\"vector-effect: non-scaling-stroke; fill: rgb(141, 176, 254); fill-opacity: 1; stroke: rgb(68, 68, 68); stroke-opacity: 1; stroke-width: 0px; opacity: 1;\"/><text class=\"bartext bartext-inside\" text-anchor=\"middle\" data-notex=\"1\" x=\"0\" y=\"0\" style=\"font-family: 'Open Sans', verdana, arial, sans-serif; font-size: 12px; fill: rgb(68, 68, 68); fill-opacity: 1; white-space: pre;\" transform=\"translate(168.495,228.1953125)\"><tspan class=\"line\" dy=\"0em\" x=\"0\" y=\"0\">1266</tspan><tspan class=\"line\" dy=\"1.3em\" x=\"0\" y=\"0\">52%</tspan></text></g><g class=\"point\"><path d=\"M137.25,286.75V360.75H207.27V286.75Z\" style=\"vector-effect: non-scaling-stroke; fill: rgb(141, 176, 254); fill-opacity: 1; stroke: rgb(68, 68, 68); stroke-opacity: 1; stroke-width: 0px; opacity: 1;\"/><text class=\"bartext bartext-inside\" text-anchor=\"middle\" data-notex=\"1\" x=\"0\" y=\"0\" style=\"font-family: 'Open Sans', verdana, arial, sans-serif; font-size: 12px; fill: rgb(68, 68, 68); fill-opacity: 1; white-space: pre;\" transform=\"translate(172.26,320.6953125)\"><tspan class=\"line\" dy=\"0em\" x=\"0\" y=\"0\">1200</tspan><tspan class=\"line\" dy=\"1.3em\" x=\"0\" y=\"0\">49%</tspan></text></g></g></g><g class=\"trace bars\" style=\"opacity: 1;\"><g class=\"regions\"><g class=\"region\"><path d=\"M167.01,83.25L196.47,101.75H285.17L311.48,83.25Z\" style=\"stroke-width: 0; fill: rgb(221, 220, 220); fill-opacity: 0.5;\"/></g><g class=\"region\"><path d=\"M196.47,175.75L205.43,194.25H277.67L285.17,175.75Z\" style=\"stroke-width: 0; fill: rgb(221, 220, 220); fill-opacity: 0.5;\"/></g><g class=\"region\"><path d=\"M205.43,268.25L207.27,286.75H274.84L277.67,268.25Z\" style=\"stroke-width: 0; fill: rgb(221, 220, 220); fill-opacity: 0.5;\"/></g><g class=\"region\"><path d=\"M0,0Z\" style=\"stroke-width: 0; fill: rgb(221, 220, 220); fill-opacity: 0.5;\"/></g></g><g class=\"points\"><g class=\"point\"><path d=\"M167.01,9.25V83.25H311.48V9.25Z\" style=\"vector-effect: non-scaling-stroke; fill: rgb(221, 220, 220); fill-opacity: 1; stroke: rgb(68, 68, 68); stroke-opacity: 1; stroke-width: 0px; opacity: 1;\"/><text class=\"bartext bartext-inside\" text-anchor=\"middle\" data-notex=\"1\" x=\"0\" y=\"0\" style=\"font-family: 'Open Sans', verdana, arial, sans-serif; font-size: 12px; fill: rgb(68, 68, 68); fill-opacity: 1; white-space: pre;\" transform=\"translate(239.245,43.1953125)\"><tspan class=\"line\" dy=\"0em\" x=\"0\" y=\"0\">2476</tspan><tspan class=\"line\" dy=\"1.3em\" x=\"0\" y=\"0\">100%</tspan></text></g><g class=\"point\"><path d=\"M196.47,101.75V175.75H285.17V101.75Z\" style=\"vector-effect: non-scaling-stroke; fill: rgb(221, 220, 220); fill-opacity: 1; stroke: rgb(68, 68, 68); stroke-opacity: 1; stroke-width: 0px; opacity: 1;\"/><text class=\"bartext bartext-inside\" text-anchor=\"middle\" data-notex=\"1\" x=\"0\" y=\"0\" style=\"font-family: 'Open Sans', verdana, arial, sans-serif; font-size: 12px; fill: rgb(68, 68, 68); fill-opacity: 1; white-space: pre;\" transform=\"translate(240.82,135.6953125)\"><tspan class=\"line\" dy=\"0em\" x=\"0\" y=\"0\">1520</tspan><tspan class=\"line\" dy=\"1.3em\" x=\"0\" y=\"0\">61%</tspan></text></g><g class=\"point\"><path d=\"M205.43,194.25V268.25H277.67V194.25Z\" style=\"vector-effect: non-scaling-stroke; fill: rgb(221, 220, 220); fill-opacity: 1; stroke: rgb(68, 68, 68); stroke-opacity: 1; stroke-width: 0px; opacity: 1;\"/><text class=\"bartext bartext-inside\" text-anchor=\"middle\" data-notex=\"1\" x=\"0\" y=\"0\" style=\"font-family: 'Open Sans', verdana, arial, sans-serif; font-size: 12px; fill: rgb(68, 68, 68); fill-opacity: 1; white-space: pre;\" transform=\"translate(241.55,228.1953125)\"><tspan class=\"line\" dy=\"0em\" x=\"0\" y=\"0\">1238</tspan><tspan class=\"line\" dy=\"1.3em\" x=\"0\" y=\"0\">50%</tspan></text></g><g class=\"point\"><path d=\"M207.27,286.75V360.75H274.84V286.75Z\" style=\"vector-effect: non-scaling-stroke; fill: rgb(221, 220, 220); fill-opacity: 1; stroke: rgb(68, 68, 68); stroke-opacity: 1; stroke-width: 0px; opacity: 1;\"/><text class=\"bartext bartext-inside\" text-anchor=\"middle\" data-notex=\"1\" x=\"0\" y=\"0\" style=\"font-family: 'Open Sans', verdana, arial, sans-serif; font-size: 12px; fill: rgb(68, 68, 68); fill-opacity: 1; white-space: pre;\" transform=\"translate(241.055,320.6953125)\"><tspan class=\"line\" dy=\"0em\" x=\"0\" y=\"0\">1158</tspan><tspan class=\"line\" dy=\"1.3em\" x=\"0\" y=\"0\">47%</tspan></text></g></g></g><g class=\"trace bars\" style=\"opacity: 1;\"><g class=\"regions\"><g class=\"region\"><path d=\"M311.48,83.25L285.17,101.75H374.5L456.95,83.25Z\" style=\"stroke-width: 0; fill: rgb(244, 152, 122); fill-opacity: 0.5;\"/></g><g class=\"region\"><path d=\"M285.17,175.75L277.67,194.25H349.44L374.5,175.75Z\" style=\"stroke-width: 0; fill: rgb(244, 152, 122); fill-opacity: 0.5;\"/></g><g class=\"region\"><path d=\"M277.67,268.25L274.84,286.75H343.75L349.44,268.25Z\" style=\"stroke-width: 0; fill: rgb(244, 152, 122); fill-opacity: 0.5;\"/></g><g class=\"region\"><path d=\"M0,0Z\" style=\"stroke-width: 0; fill: rgb(244, 152, 122); fill-opacity: 0.5;\"/></g></g><g class=\"points\"><g class=\"point\"><path d=\"M311.48,9.25V83.25H456.95V9.25Z\" style=\"vector-effect: non-scaling-stroke; fill: rgb(244, 152, 122); fill-opacity: 1; stroke: rgb(68, 68, 68); stroke-opacity: 1; stroke-width: 0px; opacity: 1;\"/><text class=\"bartext bartext-inside\" text-anchor=\"middle\" data-notex=\"1\" x=\"0\" y=\"0\" style=\"font-family: 'Open Sans', verdana, arial, sans-serif; font-size: 12px; fill: rgb(68, 68, 68); fill-opacity: 1; white-space: pre;\" transform=\"translate(384.21500000000003,43.1953125)\"><tspan class=\"line\" dy=\"0em\" x=\"0\" y=\"0\">2493</tspan><tspan class=\"line\" dy=\"1.3em\" x=\"0\" y=\"0\">100%</tspan></text></g><g class=\"point\"><path d=\"M285.17,101.75V175.75H374.5V101.75Z\" style=\"vector-effect: non-scaling-stroke; fill: rgb(244, 152, 122); fill-opacity: 1; stroke: rgb(68, 68, 68); stroke-opacity: 1; stroke-width: 0px; opacity: 1;\"/><text class=\"bartext bartext-inside\" text-anchor=\"middle\" data-notex=\"1\" x=\"0\" y=\"0\" style=\"font-family: 'Open Sans', verdana, arial, sans-serif; font-size: 12px; fill: rgb(68, 68, 68); fill-opacity: 1; white-space: pre;\" transform=\"translate(329.83500000000004,135.6953125)\"><tspan class=\"line\" dy=\"0em\" x=\"0\" y=\"0\">1531</tspan><tspan class=\"line\" dy=\"1.3em\" x=\"0\" y=\"0\">61%</tspan></text></g><g class=\"point\"><path d=\"M277.67,194.25V268.25H349.44V194.25Z\" style=\"vector-effect: non-scaling-stroke; fill: rgb(244, 152, 122); fill-opacity: 1; stroke: rgb(68, 68, 68); stroke-opacity: 1; stroke-width: 0px; opacity: 1;\"/><text class=\"bartext bartext-inside\" text-anchor=\"middle\" data-notex=\"1\" x=\"0\" y=\"0\" style=\"font-family: 'Open Sans', verdana, arial, sans-serif; font-size: 12px; fill: rgb(68, 68, 68); fill-opacity: 1; white-space: pre;\" transform=\"translate(313.555,228.1953125)\"><tspan class=\"line\" dy=\"0em\" x=\"0\" y=\"0\">1230</tspan><tspan class=\"line\" dy=\"1.3em\" x=\"0\" y=\"0\">49%</tspan></text></g><g class=\"point\"><path d=\"M274.84,286.75V360.75H343.75V286.75Z\" style=\"vector-effect: non-scaling-stroke; fill: rgb(244, 152, 122); fill-opacity: 1; stroke: rgb(68, 68, 68); stroke-opacity: 1; stroke-width: 0px; opacity: 1;\"/><text class=\"bartext bartext-inside\" text-anchor=\"middle\" data-notex=\"1\" x=\"0\" y=\"0\" style=\"font-family: 'Open Sans', verdana, arial, sans-serif; font-size: 12px; fill: rgb(68, 68, 68); fill-opacity: 1; white-space: pre;\" transform=\"translate(309.29499999999996,320.6953125)\"><tspan class=\"line\" dy=\"0em\" x=\"0\" y=\"0\">1181</tspan><tspan class=\"line\" dy=\"1.3em\" x=\"0\" y=\"0\">47%</tspan></text></g></g></g></g></g><g class=\"overplot\"/><path class=\"xlines-above crisp\" style=\"fill: none;\" d=\"M0,0\"/><path class=\"ylines-above crisp\" style=\"fill: none; stroke-width: 1px; stroke: rgb(36, 36, 36); stroke-opacity: 1;\" d=\"M165.5,100V470\"/><g class=\"overlines-above\"/><g class=\"xaxislayer-above\"/><g class=\"yaxislayer-above\"><path class=\"ytick ticks crisp\" d=\"M165,0h-5\" transform=\"translate(0,423.75)\" style=\"stroke: rgb(68, 68, 68); stroke-opacity: 1; stroke-width: 1px;\"/><path class=\"ytick ticks crisp\" d=\"M165,0h-5\" transform=\"translate(0,331.25)\" style=\"stroke: rgb(68, 68, 68); stroke-opacity: 1; stroke-width: 1px;\"/><path class=\"ytick ticks crisp\" d=\"M165,0h-5\" transform=\"translate(0,238.75)\" style=\"stroke: rgb(68, 68, 68); stroke-opacity: 1; stroke-width: 1px;\"/><path class=\"ytick ticks crisp\" d=\"M165,0h-5\" transform=\"translate(0,146.25)\" style=\"stroke: rgb(68, 68, 68); stroke-opacity: 1; stroke-width: 1px;\"/><g class=\"ytick\"><text text-anchor=\"end\" x=\"157.6\" y=\"4.199999999999999\" transform=\"translate(0,423.75)\" style=\"font-family: 'Open Sans', verdana, arial, sans-serif; font-size: 12px; fill: rgb(36, 36, 36); fill-opacity: 1; white-space: pre;\">PaymentScreenSuccessful</text></g><g class=\"ytick\"><text text-anchor=\"end\" x=\"157.6\" y=\"4.199999999999999\" transform=\"translate(0,331.25)\" style=\"font-family: 'Open Sans', verdana, arial, sans-serif; font-size: 12px; fill: rgb(36, 36, 36); fill-opacity: 1; white-space: pre;\">CartScreenAppear</text></g><g class=\"ytick\"><text text-anchor=\"end\" x=\"157.6\" y=\"4.199999999999999\" transform=\"translate(0,238.75)\" style=\"font-family: 'Open Sans', verdana, arial, sans-serif; font-size: 12px; fill: rgb(36, 36, 36); fill-opacity: 1; white-space: pre;\">OffersScreenAppear</text></g><g class=\"ytick\"><text text-anchor=\"end\" x=\"157.6\" y=\"4.199999999999999\" transform=\"translate(0,146.25)\" style=\"font-family: 'Open Sans', verdana, arial, sans-serif; font-size: 12px; fill: rgb(36, 36, 36); fill-opacity: 1; white-space: pre;\">MainScreenAppear</text></g></g><g class=\"overaxes-above\"/></g></g><g class=\"polarlayer\"/><g class=\"ternarylayer\"/><g class=\"geolayer\"/><g class=\"funnelarealayer\"/><g class=\"pielayer\"/><g class=\"treemaplayer\"/><g class=\"sunburstlayer\"/><g class=\"glimages\"/><defs id=\"topdefs-e35d81\"><g class=\"clips\"/><clipPath id=\"legende35d81\"><rect width=\"231\" height=\"67\" x=\"0\" y=\"0\"/></clipPath></defs><g class=\"layer-above\"><g class=\"imagelayer\"/><g class=\"shapelayer\"/></g><g class=\"infolayer\"><g class=\"legend\" pointer-events=\"all\" transform=\"translate(656.62, 100)\"><rect class=\"bg\" shape-rendering=\"crispEdges\" style=\"stroke: rgb(68, 68, 68); stroke-opacity: 1; fill: rgb(255, 255, 255); fill-opacity: 1; stroke-width: 0px;\" width=\"231\" height=\"67\" x=\"0\" y=\"0\"/><g class=\"scrollbox\" transform=\"translate(0, 0)\" clip-path=\"url('#legende35d81')\"><g class=\"groups\"><g class=\"traces\" style=\"opacity: 1;\" transform=\"translate(0, 14.5)\"><text class=\"legendtext user-select-none\" text-anchor=\"start\" x=\"40\" y=\"4.680000000000001\" style=\"font-family: 'Open Sans', verdana, arial, sans-serif; font-size: 12px; fill: rgb(36, 36, 36); fill-opacity: 1; white-space: pre;\">Контрольная группа 246</text><g class=\"layers\" style=\"opacity: 1;\"><g class=\"legendfill\"/><g class=\"legendlines\"/><g class=\"legendsymbols\"><g class=\"legendpoints\"><path class=\"legendfunnel\" d=\"M6,6H-6V-6H6Z\" transform=\"translate(20,0)\" style=\"stroke-width: 0px; fill: rgb(141, 176, 254); fill-opacity: 1;\"/></g></g></g><rect class=\"legendtoggle\" pointer-events=\"all\" x=\"0\" y=\"-9.5\" width=\"225.90625\" height=\"19\" style=\"cursor: pointer; fill: rgb(0, 0, 0); fill-opacity: 0;\"/></g><g class=\"traces\" style=\"opacity: 1;\" transform=\"translate(0, 33.5)\"><text class=\"legendtext user-select-none\" text-anchor=\"start\" x=\"40\" y=\"4.680000000000001\" style=\"font-family: 'Open Sans', verdana, arial, sans-serif; font-size: 12px; fill: rgb(36, 36, 36); fill-opacity: 1; white-space: pre;\">Контрольная группа 247</text><g class=\"layers\" style=\"opacity: 1;\"><g class=\"legendfill\"/><g class=\"legendlines\"/><g class=\"legendsymbols\"><g class=\"legendpoints\"><path class=\"legendfunnel\" d=\"M6,6H-6V-6H6Z\" transform=\"translate(20,0)\" style=\"stroke-width: 0px; fill: rgb(221, 220, 220); fill-opacity: 1;\"/></g></g></g><rect class=\"legendtoggle\" pointer-events=\"all\" x=\"0\" y=\"-9.5\" width=\"225.90625\" height=\"19\" style=\"cursor: pointer; fill: rgb(0, 0, 0); fill-opacity: 0;\"/></g><g class=\"traces\" style=\"opacity: 1;\" transform=\"translate(0, 52.5)\"><text class=\"legendtext user-select-none\" text-anchor=\"start\" x=\"40\" y=\"4.680000000000001\" style=\"font-family: 'Open Sans', verdana, arial, sans-serif; font-size: 12px; fill: rgb(36, 36, 36); fill-opacity: 1; white-space: pre;\">Экспериментальная группа 248</text><g class=\"layers\" style=\"opacity: 1;\"><g class=\"legendfill\"/><g class=\"legendlines\"/><g class=\"legendsymbols\"><g class=\"legendpoints\"><path class=\"legendfunnel\" d=\"M6,6H-6V-6H6Z\" transform=\"translate(20,0)\" style=\"stroke-width: 0px; fill: rgb(244, 152, 122); fill-opacity: 1;\"/></g></g></g><rect class=\"legendtoggle\" pointer-events=\"all\" x=\"0\" y=\"-9.5\" width=\"225.90625\" height=\"19\" style=\"cursor: pointer; fill: rgb(0, 0, 0); fill-opacity: 0;\"/></g></g></g><rect class=\"scrollbar\" rx=\"20\" ry=\"3\" width=\"0\" height=\"0\" style=\"fill: rgb(128, 139, 164); fill-opacity: 1;\" x=\"0\" y=\"0\"/></g><g class=\"g-gtitle\"><text class=\"gtitle\" x=\"45\" y=\"50\" text-anchor=\"start\" dy=\"0em\" style=\"font-family: 'Open Sans', verdana, arial, sans-serif; font-size: 17px; fill: rgb(36, 36, 36); opacity: 1; font-weight: normal; white-space: pre;\">Воронка событий раздельно по группам</text></g><g class=\"g-ytitle\"/></g></svg>"
      ]
     },
     "metadata": {},
     "output_type": "display_data"
    }
   ],
   "source": [
    "fig = go.Figure()\n",
    "\n",
    "fig.add_trace(go.Funnel(\n",
    "    x=logs_exp_filtered.query('exp_id == 246').groupby('event_category')['device_id_hash'].nunique()[1:].values, \n",
    "    y=logs_exp_filtered.query('exp_id == 246').groupby('event_category')['device_id_hash'].nunique()[1:].index, \n",
    "    name='Контрольная группа 246', \n",
    "    marker_color=sns.color_palette('coolwarm', n_colors=3).as_hex()[0], \n",
    "    textinfo='value+percent initial'\n",
    "))\n",
    "\n",
    "fig.add_trace(go.Funnel(\n",
    "    x=logs_exp_filtered.query('exp_id == 247').groupby('event_category')['device_id_hash'].nunique()[1:].values, \n",
    "    y=logs_exp_filtered.query('exp_id == 247').groupby('event_category')['device_id_hash'].nunique()[1:].index, \n",
    "    name='Контрольная группа 247', \n",
    "    marker_color=sns.color_palette('coolwarm', n_colors=3).as_hex()[1], \n",
    "    textinfo='value+percent initial'\n",
    "))\n",
    "\n",
    "fig.add_trace(go.Funnel(\n",
    "    x=logs_exp_filtered.query('exp_id == 248').groupby('event_category')['device_id_hash'].nunique()[1:].values, \n",
    "    y=logs_exp_filtered.query('exp_id == 248').groupby('event_category')['device_id_hash'].nunique()[1:].index, \n",
    "    name='Экспериментальная группа 248', \n",
    "    marker_color=sns.color_palette('coolwarm', n_colors=3).as_hex()[2], \n",
    "    textinfo='value+percent initial'\n",
    "))\n",
    "\n",
    "fig.update_layout(title='Воронка событий раздельно по группам')\n",
    "fig.show(renderer='svg', width=900, height=550)"
   ]
  },
  {
   "cell_type": "markdown",
   "metadata": {},
   "source": [
    "Доли пользователей на каждом этапе близки между группами и соответствуют общей тенденции. Аномалий и несоответствий мы не наблюдаем, поэтому перейдем к статистической оценке различий."
   ]
  },
  {
   "cell_type": "markdown",
   "metadata": {},
   "source": [
    "<a id='401'></a>\n",
    "### Контрольные группы А/А-эксперимента"
   ]
  },
  {
   "cell_type": "markdown",
   "metadata": {},
   "source": [
    "Нам важно, чтобы между контрольными группами не было значимых различий — тогда мы можем признать, что распределение по группам было корректным. Проверим гипотезу о равенстве долей с помощью Z-теста пропорций для двух независимых выборок. Он рассчитывается по следуюшей формуле:\n",
    "\n",
    "$$Z \\approx \\frac{(P_1 − P_2) − (\\pi_1 − \\pi_2)}{P * (1 − P) * (1/n_1 + 1/n_2)} \\sim \\mathcal{N}{(0, 1)}$$\n",
    "\n",
    "В формуле встречаются следующие значения:\n",
    "- $Z$ — стандартная величина для стандартного нормального распределения $\\mathcal{N}$;\n",
    "- $n_1$ и $n_2$ — размеры выборок;\n",
    "- $P_1$ и $P_2$ — пропорции в выборках, а $P$ — пропорция, скомбинированная из двух наблюдаемых;\n",
    "- $\\pi_1$ и $\\pi_2$ — пропорции в генеральной совокупности, мы проверяем нулевую гипотезу о равенстве этих пропорций.\n",
    "\n",
    "Нулевая гипотеза в этом тесте утверждает равенство долей, т.е. что различий в пропорциях нет; альтернативная — что такие различия есть. Решение мы можем принять по критическому уровню значимости — заданной вероятности ошибочно отвергнуть нулевую гипотезу; в данном случае принимаем его за 1%. Для расчетов используем готовую функцию `statsmodels.stats.proportion.proportions_ztest`, определим альтернативную гипотезу для нее как двустороннюю — у нас нет информации о том, что доля любой из групп будет выше или ниже:"
   ]
  },
  {
   "cell_type": "code",
   "execution_count": 30,
   "metadata": {},
   "outputs": [
    {
     "name": "stdout",
     "output_type": "stream",
     "text": [
      "p-значение (Z-тест для пропорций): 0.6158048203\n",
      "Не получилось отвергнуть нулевую гипотезу: нет оснований считать доли разными\n"
     ]
    }
   ],
   "source": [
    "z_alpha = .01 # контрольный уровень значимости\n",
    "z_results = proportions_ztest(\n",
    "    count=[logs_exp_filtered.query('exp_id == 246')['device_id_hash'].nunique(), # размер выборки первой группы\n",
    "           logs_exp_filtered.query('exp_id == 247')['device_id_hash'].nunique()], # размер выборки второй группы\n",
    "    nobs=[logs_exp_filtered['device_id_hash'].nunique()] * 2, # общее число пользователей (нужно указать дважды)\n",
    "    alternative='two-sided') \n",
    "\n",
    "\n",
    "print('p-значение (Z-тест для пропорций): {:.10f}'.format(z_results[1]))\n",
    "if (z_results[1] < z_alpha):\n",
    "    print('Отвергаем нулевую гипотезу: между долями есть значимая разница')\n",
    "else:\n",
    "    print('Не получилось отвергнуть нулевую гипотезу: нет оснований считать доли разными')"
   ]
  },
  {
   "cell_type": "markdown",
   "metadata": {},
   "source": [
    "Тест показывает: вероятность ошибочно сделать вывод о различиях между пропорциями двух контрольных групп — свыше 61%. Т.е. мы можем достоверно утверждать, что пропорции действительно взяты из одной генеральной совокупности, что нам и нужно."
   ]
  },
  {
   "cell_type": "markdown",
   "metadata": {},
   "source": [
    "<a id='402'></a>\n",
    "### Контрольные группы А/А-эксперимента по каждому событию"
   ]
  },
  {
   "cell_type": "markdown",
   "metadata": {},
   "source": [
    "Проведем ту же процедуру для каждого отдельного события — нет ли на каком-либо из этапов различия между контрольными группами? Нулевая гипотеза также утверждает равенство сравниваемых долей, а альтернативная — различия в пропорциях.\n",
    "\n",
    "Для удобства введем функцию, которая позволит автоматизировать вывод Z-теста. По умолчанию установим уровень значимости за 1%. Также включим в вывод количество пользователей в каждой группе, долю каждого события от общего количества пользователей в группе и конверсию на каждом этапе воронки:"
   ]
  },
  {
   "cell_type": "code",
   "execution_count": 31,
   "metadata": {},
   "outputs": [],
   "source": [
    "def ztest_by_events(groups: list=None, \n",
    "                    events: list=None, \n",
    "                    raw_data: 'pd.DataFrame'=None, \n",
    "                    agg_data: 'pd.DataFrame'=None, \n",
    "                    initial: list=None, \n",
    "                    text: bool=False, \n",
    "                    alternative: str='two-sided', \n",
    "                    alpha: float=.01):\n",
    "    \n",
    "    '''\n",
    "    Функция нужна для автоматизации вызова statsmodels.stats.proportion.proportions_ztest \n",
    "    при проверке результатов эксперимента по каждому этапу воронки.\n",
    "    \n",
    "    Аргументы:\n",
    "    - events: название событий, передается для среза по event_categories \n",
    "    - groups: номера групп, между которыми сравниваются доли; ожидается не более двух групп\n",
    "    - raw_data: исходный датафрейм с «сырыми» данными\n",
    "    - agg_data: датафрейм с посчитанными долями для каждой группы\n",
    "    - initial: лист с объемом выборок каждой группы\n",
    "    - text: выводить ли результат в текстовом виде (по умолчанию — агрегированная таблица)\n",
    "    - alternative: аргумент alternative функции statsmodels.stats.proportion.proportions_ztest\n",
    "    - alpha: критический уровень значимости, с которым сравнивается p-value теста \n",
    "    '''\n",
    "    \n",
    "    # по умолчанию используем отфильтрованный датафрейм\n",
    "    if raw_data is None:\n",
    "        raw_data = logs_exp_filtered\n",
    "    \n",
    "    # по умолчанию подсчитываем число пользователей в каждой группе по каждому событию\n",
    "    if agg_data is None:\n",
    "        agg_data = raw_data.groupby(['exp_id', 'event_category'])['device_id_hash'].nunique().reset_index()\n",
    "    \n",
    "    # по умолчанию список событий извлекается из соответствующего столбца агрегированных данных\n",
    "    if events is None:\n",
    "        events = agg_data['event_category'].unique()\n",
    "    \n",
    "    # по умолчанию группы извлекаются из соответствующего столбца агрегированных данных\n",
    "    if groups is None:\n",
    "        groups = agg_data['exp_id'].unique().tolist()\n",
    "    \n",
    "    # подсчет числа уникальных пользователей в каждой группе; передается в nobs функции proportions_ztest\n",
    "    if initial is None:\n",
    "        initial = [raw_data.loc[raw_data['exp_id'] == groups[0], 'device_id_hash'].nunique(), \n",
    "                   raw_data.loc[raw_data['exp_id'] == groups[1], 'device_id_hash'].nunique()]\n",
    "    \n",
    "    # если получены агрегированные данные в виде Series, у них сбрасывается индекс для перехода в DataFrame\n",
    "    if isinstance(agg_data, pd.Series):\n",
    "        agg_data = agg_data.reset_index()\n",
    "    \n",
    "    # цикл по каждому событию из списка событий\n",
    "    for event in events:\n",
    "        \n",
    "        # цикл по каждой группе из списка групп\n",
    "        for group in groups:\n",
    "            \n",
    "            # подсчет доли пользователей каждого события каждой группы от общего числа пользователей в группе\n",
    "            agg_data.loc[agg_data['exp_id'] == group, 'initial_percent'] = \\\n",
    "            agg_data.loc[agg_data['exp_id'] == group, 'device_id_hash'] / initial[groups.index(group)]\n",
    "            \n",
    "            # вывод результатов подсчет в текстовом виде\n",
    "            if text == True:\n",
    "                n_users = agg_data.loc[(agg_data['exp_id'] == group) & (agg_data['event_category'] == event), \n",
    "                                       'device_id_hash'].values[0]\n",
    "                percent = agg_data.loc[(agg_data['exp_id'] == group) & (agg_data['event_category'] == event), \n",
    "                                       'total_percent'].values[0]\n",
    "                print('В группе {} событие {} увидели {} пользователей ({:.2%})'\n",
    "                      .format(group, event, n_users, percent))\n",
    "        \n",
    "        # проведение Z-теста для проверки нулевой гипотезы о равенстве долей\n",
    "        trials = initial # исходный размер групп\n",
    "        successes = [\n",
    "            agg_data.loc[(agg_data['event_category'] == event) & (agg_data['exp_id'] == groups[0]), \n",
    "                         'device_id_hash'].values[0], \n",
    "            agg_data.loc[(agg_data['event_category'] == event) & (agg_data['exp_id'] == groups[1]), \n",
    "                         'device_id_hash'].values[0]] # пропорция успешных событий в группах\n",
    "        \n",
    "        z_alpha = alpha # контрольный уровень значимости, по умолчанию 0.01\n",
    "        z_results = proportions_ztest(count=successes, nobs=trials, alternative=alternative)\n",
    "        \n",
    "        # сравнение с тестовым уровнем значимости; если он меньше контрольного — нулевая гипотеза отвергается\n",
    "        agg_data.loc[agg_data['event_category'] == event, 'p_value'] = z_results[1]\n",
    "        if (z_results[1] < z_alpha):\n",
    "            agg_data.loc[agg_data['event_category'] == event, 'h0_rejected'] = True\n",
    "        else:\n",
    "            agg_data.loc[agg_data['event_category'] == event, 'h0_rejected'] = False\n",
    "        \n",
    "        # вывод результатов Z-теста в текстовом виде\n",
    "        if text == True:\n",
    "            print('p-значение (Z-тест для пропорций): {:.10f}'.format(z_results[1]))\n",
    "            if (z_results[1] < z_alpha):\n",
    "                print('Отвергаем нулевую гипотезу: между долями есть значимая разница')\n",
    "            else:\n",
    "                print('Не получилось отвергнуть нулевую гипотезу: нет оснований считать доли разными')\n",
    "            print()\n",
    "    \n",
    "    # вывод результатов проверки в табличном виде\n",
    "    if text == False:\n",
    "        output = agg_data.groupby(['event_category', 'exp_id']).last()\n",
    "        output = output.query('event_category in @events and exp_id in @groups')\n",
    "        return output"
   ]
  },
  {
   "cell_type": "code",
   "execution_count": 32,
   "metadata": {},
   "outputs": [
    {
     "data": {
      "text/html": [
       "<style  type=\"text/css\" >\n",
       "</style><table id=\"T_5f9549de_fbd7_11ea_b152_a683e71c465a\" ><thead>    <tr>        <th class=\"blank\" ></th>        <th class=\"blank level0\" ></th>        <th class=\"col_heading level0 col0\" >device_id_hash</th>        <th class=\"col_heading level0 col1\" >initial_percent</th>        <th class=\"col_heading level0 col2\" >p_value</th>        <th class=\"col_heading level0 col3\" >h0_rejected</th>    </tr>    <tr>        <th class=\"index_name level0\" >event_category</th>        <th class=\"index_name level1\" >exp_id</th>        <th class=\"blank\" ></th>        <th class=\"blank\" ></th>        <th class=\"blank\" ></th>        <th class=\"blank\" ></th>    </tr></thead><tbody>\n",
       "                <tr>\n",
       "                        <th id=\"T_5f9549de_fbd7_11ea_b152_a683e71c465alevel0_row0\" class=\"row_heading level0 row0\" rowspan=2>MainScreenAppear</th>\n",
       "                        <th id=\"T_5f9549de_fbd7_11ea_b152_a683e71c465alevel1_row0\" class=\"row_heading level1 row0\" >246</th>\n",
       "                        <td id=\"T_5f9549de_fbd7_11ea_b152_a683e71c465arow0_col0\" class=\"data row0 col0\" >2450</td>\n",
       "                        <td id=\"T_5f9549de_fbd7_11ea_b152_a683e71c465arow0_col1\" class=\"data row0 col1\" >98.63%</td>\n",
       "                        <td id=\"T_5f9549de_fbd7_11ea_b152_a683e71c465arow0_col2\" class=\"data row0 col2\" >0.757060</td>\n",
       "                        <td id=\"T_5f9549de_fbd7_11ea_b152_a683e71c465arow0_col3\" class=\"data row0 col3\" >False</td>\n",
       "            </tr>\n",
       "            <tr>\n",
       "                                <th id=\"T_5f9549de_fbd7_11ea_b152_a683e71c465alevel1_row1\" class=\"row_heading level1 row1\" >247</th>\n",
       "                        <td id=\"T_5f9549de_fbd7_11ea_b152_a683e71c465arow1_col0\" class=\"data row1 col0\" >2476</td>\n",
       "                        <td id=\"T_5f9549de_fbd7_11ea_b152_a683e71c465arow1_col1\" class=\"data row1 col1\" >98.53%</td>\n",
       "                        <td id=\"T_5f9549de_fbd7_11ea_b152_a683e71c465arow1_col2\" class=\"data row1 col2\" >0.757060</td>\n",
       "                        <td id=\"T_5f9549de_fbd7_11ea_b152_a683e71c465arow1_col3\" class=\"data row1 col3\" >False</td>\n",
       "            </tr>\n",
       "            <tr>\n",
       "                        <th id=\"T_5f9549de_fbd7_11ea_b152_a683e71c465alevel0_row2\" class=\"row_heading level0 row2\" rowspan=2>OffersScreenAppear</th>\n",
       "                        <th id=\"T_5f9549de_fbd7_11ea_b152_a683e71c465alevel1_row2\" class=\"row_heading level1 row2\" >246</th>\n",
       "                        <td id=\"T_5f9549de_fbd7_11ea_b152_a683e71c465arow2_col0\" class=\"data row2 col0\" >1542</td>\n",
       "                        <td id=\"T_5f9549de_fbd7_11ea_b152_a683e71c465arow2_col1\" class=\"data row2 col1\" >62.08%</td>\n",
       "                        <td id=\"T_5f9549de_fbd7_11ea_b152_a683e71c465arow2_col2\" class=\"data row2 col2\" >0.248095</td>\n",
       "                        <td id=\"T_5f9549de_fbd7_11ea_b152_a683e71c465arow2_col3\" class=\"data row2 col3\" >False</td>\n",
       "            </tr>\n",
       "            <tr>\n",
       "                                <th id=\"T_5f9549de_fbd7_11ea_b152_a683e71c465alevel1_row3\" class=\"row_heading level1 row3\" >247</th>\n",
       "                        <td id=\"T_5f9549de_fbd7_11ea_b152_a683e71c465arow3_col0\" class=\"data row3 col0\" >1520</td>\n",
       "                        <td id=\"T_5f9549de_fbd7_11ea_b152_a683e71c465arow3_col1\" class=\"data row3 col1\" >60.49%</td>\n",
       "                        <td id=\"T_5f9549de_fbd7_11ea_b152_a683e71c465arow3_col2\" class=\"data row3 col2\" >0.248095</td>\n",
       "                        <td id=\"T_5f9549de_fbd7_11ea_b152_a683e71c465arow3_col3\" class=\"data row3 col3\" >False</td>\n",
       "            </tr>\n",
       "            <tr>\n",
       "                        <th id=\"T_5f9549de_fbd7_11ea_b152_a683e71c465alevel0_row4\" class=\"row_heading level0 row4\" rowspan=2>CartScreenAppear</th>\n",
       "                        <th id=\"T_5f9549de_fbd7_11ea_b152_a683e71c465alevel1_row4\" class=\"row_heading level1 row4\" >246</th>\n",
       "                        <td id=\"T_5f9549de_fbd7_11ea_b152_a683e71c465arow4_col0\" class=\"data row4 col0\" >1266</td>\n",
       "                        <td id=\"T_5f9549de_fbd7_11ea_b152_a683e71c465arow4_col1\" class=\"data row4 col1\" >50.97%</td>\n",
       "                        <td id=\"T_5f9549de_fbd7_11ea_b152_a683e71c465arow4_col2\" class=\"data row4 col2\" >0.228834</td>\n",
       "                        <td id=\"T_5f9549de_fbd7_11ea_b152_a683e71c465arow4_col3\" class=\"data row4 col3\" >False</td>\n",
       "            </tr>\n",
       "            <tr>\n",
       "                                <th id=\"T_5f9549de_fbd7_11ea_b152_a683e71c465alevel1_row5\" class=\"row_heading level1 row5\" >247</th>\n",
       "                        <td id=\"T_5f9549de_fbd7_11ea_b152_a683e71c465arow5_col0\" class=\"data row5 col0\" >1238</td>\n",
       "                        <td id=\"T_5f9549de_fbd7_11ea_b152_a683e71c465arow5_col1\" class=\"data row5 col1\" >49.26%</td>\n",
       "                        <td id=\"T_5f9549de_fbd7_11ea_b152_a683e71c465arow5_col2\" class=\"data row5 col2\" >0.228834</td>\n",
       "                        <td id=\"T_5f9549de_fbd7_11ea_b152_a683e71c465arow5_col3\" class=\"data row5 col3\" >False</td>\n",
       "            </tr>\n",
       "            <tr>\n",
       "                        <th id=\"T_5f9549de_fbd7_11ea_b152_a683e71c465alevel0_row6\" class=\"row_heading level0 row6\" rowspan=2>PaymentScreenSuccessful</th>\n",
       "                        <th id=\"T_5f9549de_fbd7_11ea_b152_a683e71c465alevel1_row6\" class=\"row_heading level1 row6\" >246</th>\n",
       "                        <td id=\"T_5f9549de_fbd7_11ea_b152_a683e71c465arow6_col0\" class=\"data row6 col0\" >1200</td>\n",
       "                        <td id=\"T_5f9549de_fbd7_11ea_b152_a683e71c465arow6_col1\" class=\"data row6 col1\" >48.31%</td>\n",
       "                        <td id=\"T_5f9549de_fbd7_11ea_b152_a683e71c465arow6_col2\" class=\"data row6 col2\" >0.114567</td>\n",
       "                        <td id=\"T_5f9549de_fbd7_11ea_b152_a683e71c465arow6_col3\" class=\"data row6 col3\" >False</td>\n",
       "            </tr>\n",
       "            <tr>\n",
       "                                <th id=\"T_5f9549de_fbd7_11ea_b152_a683e71c465alevel1_row7\" class=\"row_heading level1 row7\" >247</th>\n",
       "                        <td id=\"T_5f9549de_fbd7_11ea_b152_a683e71c465arow7_col0\" class=\"data row7 col0\" >1158</td>\n",
       "                        <td id=\"T_5f9549de_fbd7_11ea_b152_a683e71c465arow7_col1\" class=\"data row7 col1\" >46.08%</td>\n",
       "                        <td id=\"T_5f9549de_fbd7_11ea_b152_a683e71c465arow7_col2\" class=\"data row7 col2\" >0.114567</td>\n",
       "                        <td id=\"T_5f9549de_fbd7_11ea_b152_a683e71c465arow7_col3\" class=\"data row7 col3\" >False</td>\n",
       "            </tr>\n",
       "    </tbody></table>"
      ],
      "text/plain": [
       "<pandas.io.formats.style.Styler at 0x7f9a0db16750>"
      ]
     },
     "execution_count": 32,
     "metadata": {},
     "output_type": "execute_result"
    }
   ],
   "source": [
    "ztest_by_events(groups=[246, 247], events=logs_exp_filtered['event_category'].cat.categories[1:])\\\n",
    ".style.format(dict(total_percent='{:.2%}', initial_percent='{:.2%}', p_value='{:.6f}'))"
   ]
  },
  {
   "cell_type": "markdown",
   "metadata": {},
   "source": [
    "Для всех событий вероятность ошибочно допустить различия между пропорциями контрольных групп выше критического уровня значимости в 1%. Значит, мы можем достоверно утверждать о правильности разделения на группы для каждого события."
   ]
  },
  {
   "cell_type": "markdown",
   "metadata": {},
   "source": [
    "<a id='403'></a>\n",
    "### Экспериментальная и две контрольные группы A/B-эксперимента по каждому событию"
   ]
  },
  {
   "cell_type": "markdown",
   "metadata": {},
   "source": [
    "Повторим процедуру проверки гипотезы о равенстве долей, но теперь уже между экспериментальной и контрольными группами. Сделаем это сравнение как попарно, так и с объединенной контрольной группой:"
   ]
  },
  {
   "cell_type": "code",
   "execution_count": 33,
   "metadata": {},
   "outputs": [
    {
     "data": {
      "text/html": [
       "<style  type=\"text/css\" >\n",
       "</style><table id=\"T_5fa257a0_fbd7_11ea_b152_a683e71c465a\" ><thead>    <tr>        <th class=\"blank\" ></th>        <th class=\"blank level0\" ></th>        <th class=\"col_heading level0 col0\" >device_id_hash</th>        <th class=\"col_heading level0 col1\" >initial_percent</th>        <th class=\"col_heading level0 col2\" >p_value</th>        <th class=\"col_heading level0 col3\" >h0_rejected</th>    </tr>    <tr>        <th class=\"index_name level0\" >event_category</th>        <th class=\"index_name level1\" >exp_id</th>        <th class=\"blank\" ></th>        <th class=\"blank\" ></th>        <th class=\"blank\" ></th>        <th class=\"blank\" ></th>    </tr></thead><tbody>\n",
       "                <tr>\n",
       "                        <th id=\"T_5fa257a0_fbd7_11ea_b152_a683e71c465alevel0_row0\" class=\"row_heading level0 row0\" rowspan=2>MainScreenAppear</th>\n",
       "                        <th id=\"T_5fa257a0_fbd7_11ea_b152_a683e71c465alevel1_row0\" class=\"row_heading level1 row0\" >246</th>\n",
       "                        <td id=\"T_5fa257a0_fbd7_11ea_b152_a683e71c465arow0_col0\" class=\"data row0 col0\" >2450</td>\n",
       "                        <td id=\"T_5fa257a0_fbd7_11ea_b152_a683e71c465arow0_col1\" class=\"data row0 col1\" >98.63%</td>\n",
       "                        <td id=\"T_5fa257a0_fbd7_11ea_b152_a683e71c465arow0_col2\" class=\"data row0 col2\" >0.294972</td>\n",
       "                        <td id=\"T_5fa257a0_fbd7_11ea_b152_a683e71c465arow0_col3\" class=\"data row0 col3\" >False</td>\n",
       "            </tr>\n",
       "            <tr>\n",
       "                                <th id=\"T_5fa257a0_fbd7_11ea_b152_a683e71c465alevel1_row1\" class=\"row_heading level1 row1\" >248</th>\n",
       "                        <td id=\"T_5fa257a0_fbd7_11ea_b152_a683e71c465arow1_col0\" class=\"data row1 col0\" >2493</td>\n",
       "                        <td id=\"T_5fa257a0_fbd7_11ea_b152_a683e71c465arow1_col1\" class=\"data row1 col1\" >98.27%</td>\n",
       "                        <td id=\"T_5fa257a0_fbd7_11ea_b152_a683e71c465arow1_col2\" class=\"data row1 col2\" >0.294972</td>\n",
       "                        <td id=\"T_5fa257a0_fbd7_11ea_b152_a683e71c465arow1_col3\" class=\"data row1 col3\" >False</td>\n",
       "            </tr>\n",
       "            <tr>\n",
       "                        <th id=\"T_5fa257a0_fbd7_11ea_b152_a683e71c465alevel0_row2\" class=\"row_heading level0 row2\" rowspan=2>OffersScreenAppear</th>\n",
       "                        <th id=\"T_5fa257a0_fbd7_11ea_b152_a683e71c465alevel1_row2\" class=\"row_heading level1 row2\" >246</th>\n",
       "                        <td id=\"T_5fa257a0_fbd7_11ea_b152_a683e71c465arow2_col0\" class=\"data row2 col0\" >1542</td>\n",
       "                        <td id=\"T_5fa257a0_fbd7_11ea_b152_a683e71c465arow2_col1\" class=\"data row2 col1\" >62.08%</td>\n",
       "                        <td id=\"T_5fa257a0_fbd7_11ea_b152_a683e71c465arow2_col2\" class=\"data row2 col2\" >0.208362</td>\n",
       "                        <td id=\"T_5fa257a0_fbd7_11ea_b152_a683e71c465arow2_col3\" class=\"data row2 col3\" >False</td>\n",
       "            </tr>\n",
       "            <tr>\n",
       "                                <th id=\"T_5fa257a0_fbd7_11ea_b152_a683e71c465alevel1_row3\" class=\"row_heading level1 row3\" >248</th>\n",
       "                        <td id=\"T_5fa257a0_fbd7_11ea_b152_a683e71c465arow3_col0\" class=\"data row3 col0\" >1531</td>\n",
       "                        <td id=\"T_5fa257a0_fbd7_11ea_b152_a683e71c465arow3_col1\" class=\"data row3 col1\" >60.35%</td>\n",
       "                        <td id=\"T_5fa257a0_fbd7_11ea_b152_a683e71c465arow3_col2\" class=\"data row3 col2\" >0.208362</td>\n",
       "                        <td id=\"T_5fa257a0_fbd7_11ea_b152_a683e71c465arow3_col3\" class=\"data row3 col3\" >False</td>\n",
       "            </tr>\n",
       "            <tr>\n",
       "                        <th id=\"T_5fa257a0_fbd7_11ea_b152_a683e71c465alevel0_row4\" class=\"row_heading level0 row4\" rowspan=2>CartScreenAppear</th>\n",
       "                        <th id=\"T_5fa257a0_fbd7_11ea_b152_a683e71c465alevel1_row4\" class=\"row_heading level1 row4\" >246</th>\n",
       "                        <td id=\"T_5fa257a0_fbd7_11ea_b152_a683e71c465arow4_col0\" class=\"data row4 col0\" >1266</td>\n",
       "                        <td id=\"T_5fa257a0_fbd7_11ea_b152_a683e71c465arow4_col1\" class=\"data row4 col1\" >50.97%</td>\n",
       "                        <td id=\"T_5fa257a0_fbd7_11ea_b152_a683e71c465arow4_col2\" class=\"data row4 col2\" >0.078429</td>\n",
       "                        <td id=\"T_5fa257a0_fbd7_11ea_b152_a683e71c465arow4_col3\" class=\"data row4 col3\" >False</td>\n",
       "            </tr>\n",
       "            <tr>\n",
       "                                <th id=\"T_5fa257a0_fbd7_11ea_b152_a683e71c465alevel1_row5\" class=\"row_heading level1 row5\" >248</th>\n",
       "                        <td id=\"T_5fa257a0_fbd7_11ea_b152_a683e71c465arow5_col0\" class=\"data row5 col0\" >1230</td>\n",
       "                        <td id=\"T_5fa257a0_fbd7_11ea_b152_a683e71c465arow5_col1\" class=\"data row5 col1\" >48.48%</td>\n",
       "                        <td id=\"T_5fa257a0_fbd7_11ea_b152_a683e71c465arow5_col2\" class=\"data row5 col2\" >0.078429</td>\n",
       "                        <td id=\"T_5fa257a0_fbd7_11ea_b152_a683e71c465arow5_col3\" class=\"data row5 col3\" >False</td>\n",
       "            </tr>\n",
       "            <tr>\n",
       "                        <th id=\"T_5fa257a0_fbd7_11ea_b152_a683e71c465alevel0_row6\" class=\"row_heading level0 row6\" rowspan=2>PaymentScreenSuccessful</th>\n",
       "                        <th id=\"T_5fa257a0_fbd7_11ea_b152_a683e71c465alevel1_row6\" class=\"row_heading level1 row6\" >246</th>\n",
       "                        <td id=\"T_5fa257a0_fbd7_11ea_b152_a683e71c465arow6_col0\" class=\"data row6 col0\" >1200</td>\n",
       "                        <td id=\"T_5fa257a0_fbd7_11ea_b152_a683e71c465arow6_col1\" class=\"data row6 col1\" >48.31%</td>\n",
       "                        <td id=\"T_5fa257a0_fbd7_11ea_b152_a683e71c465arow6_col2\" class=\"data row6 col2\" >0.212255</td>\n",
       "                        <td id=\"T_5fa257a0_fbd7_11ea_b152_a683e71c465arow6_col3\" class=\"data row6 col3\" >False</td>\n",
       "            </tr>\n",
       "            <tr>\n",
       "                                <th id=\"T_5fa257a0_fbd7_11ea_b152_a683e71c465alevel1_row7\" class=\"row_heading level1 row7\" >248</th>\n",
       "                        <td id=\"T_5fa257a0_fbd7_11ea_b152_a683e71c465arow7_col0\" class=\"data row7 col0\" >1181</td>\n",
       "                        <td id=\"T_5fa257a0_fbd7_11ea_b152_a683e71c465arow7_col1\" class=\"data row7 col1\" >46.55%</td>\n",
       "                        <td id=\"T_5fa257a0_fbd7_11ea_b152_a683e71c465arow7_col2\" class=\"data row7 col2\" >0.212255</td>\n",
       "                        <td id=\"T_5fa257a0_fbd7_11ea_b152_a683e71c465arow7_col3\" class=\"data row7 col3\" >False</td>\n",
       "            </tr>\n",
       "    </tbody></table>"
      ],
      "text/plain": [
       "<pandas.io.formats.style.Styler at 0x7f99f7876810>"
      ]
     },
     "execution_count": 33,
     "metadata": {},
     "output_type": "execute_result"
    }
   ],
   "source": [
    "ztest_by_events(groups=[246, 248], events=logs_exp_filtered['event_category'].cat.categories[1:])\\\n",
    ".style.format(dict(total_percent='{:.2%}', initial_percent='{:.2%}', p_value='{:.6f}'))"
   ]
  },
  {
   "cell_type": "code",
   "execution_count": 34,
   "metadata": {},
   "outputs": [
    {
     "data": {
      "text/html": [
       "<style  type=\"text/css\" >\n",
       "</style><table id=\"T_5faf176a_fbd7_11ea_b152_a683e71c465a\" ><thead>    <tr>        <th class=\"blank\" ></th>        <th class=\"blank level0\" ></th>        <th class=\"col_heading level0 col0\" >device_id_hash</th>        <th class=\"col_heading level0 col1\" >initial_percent</th>        <th class=\"col_heading level0 col2\" >p_value</th>        <th class=\"col_heading level0 col3\" >h0_rejected</th>    </tr>    <tr>        <th class=\"index_name level0\" >event_category</th>        <th class=\"index_name level1\" >exp_id</th>        <th class=\"blank\" ></th>        <th class=\"blank\" ></th>        <th class=\"blank\" ></th>        <th class=\"blank\" ></th>    </tr></thead><tbody>\n",
       "                <tr>\n",
       "                        <th id=\"T_5faf176a_fbd7_11ea_b152_a683e71c465alevel0_row0\" class=\"row_heading level0 row0\" rowspan=2>MainScreenAppear</th>\n",
       "                        <th id=\"T_5faf176a_fbd7_11ea_b152_a683e71c465alevel1_row0\" class=\"row_heading level1 row0\" >247</th>\n",
       "                        <td id=\"T_5faf176a_fbd7_11ea_b152_a683e71c465arow0_col0\" class=\"data row0 col0\" >2476</td>\n",
       "                        <td id=\"T_5faf176a_fbd7_11ea_b152_a683e71c465arow0_col1\" class=\"data row0 col1\" >98.53%</td>\n",
       "                        <td id=\"T_5faf176a_fbd7_11ea_b152_a683e71c465arow0_col2\" class=\"data row0 col2\" >0.458705</td>\n",
       "                        <td id=\"T_5faf176a_fbd7_11ea_b152_a683e71c465arow0_col3\" class=\"data row0 col3\" >False</td>\n",
       "            </tr>\n",
       "            <tr>\n",
       "                                <th id=\"T_5faf176a_fbd7_11ea_b152_a683e71c465alevel1_row1\" class=\"row_heading level1 row1\" >248</th>\n",
       "                        <td id=\"T_5faf176a_fbd7_11ea_b152_a683e71c465arow1_col0\" class=\"data row1 col0\" >2493</td>\n",
       "                        <td id=\"T_5faf176a_fbd7_11ea_b152_a683e71c465arow1_col1\" class=\"data row1 col1\" >98.27%</td>\n",
       "                        <td id=\"T_5faf176a_fbd7_11ea_b152_a683e71c465arow1_col2\" class=\"data row1 col2\" >0.458705</td>\n",
       "                        <td id=\"T_5faf176a_fbd7_11ea_b152_a683e71c465arow1_col3\" class=\"data row1 col3\" >False</td>\n",
       "            </tr>\n",
       "            <tr>\n",
       "                        <th id=\"T_5faf176a_fbd7_11ea_b152_a683e71c465alevel0_row2\" class=\"row_heading level0 row2\" rowspan=2>OffersScreenAppear</th>\n",
       "                        <th id=\"T_5faf176a_fbd7_11ea_b152_a683e71c465alevel1_row2\" class=\"row_heading level1 row2\" >247</th>\n",
       "                        <td id=\"T_5faf176a_fbd7_11ea_b152_a683e71c465arow2_col0\" class=\"data row2 col0\" >1520</td>\n",
       "                        <td id=\"T_5faf176a_fbd7_11ea_b152_a683e71c465arow2_col1\" class=\"data row2 col1\" >60.49%</td>\n",
       "                        <td id=\"T_5faf176a_fbd7_11ea_b152_a683e71c465arow2_col2\" class=\"data row2 col2\" >0.919782</td>\n",
       "                        <td id=\"T_5faf176a_fbd7_11ea_b152_a683e71c465arow2_col3\" class=\"data row2 col3\" >False</td>\n",
       "            </tr>\n",
       "            <tr>\n",
       "                                <th id=\"T_5faf176a_fbd7_11ea_b152_a683e71c465alevel1_row3\" class=\"row_heading level1 row3\" >248</th>\n",
       "                        <td id=\"T_5faf176a_fbd7_11ea_b152_a683e71c465arow3_col0\" class=\"data row3 col0\" >1531</td>\n",
       "                        <td id=\"T_5faf176a_fbd7_11ea_b152_a683e71c465arow3_col1\" class=\"data row3 col1\" >60.35%</td>\n",
       "                        <td id=\"T_5faf176a_fbd7_11ea_b152_a683e71c465arow3_col2\" class=\"data row3 col2\" >0.919782</td>\n",
       "                        <td id=\"T_5faf176a_fbd7_11ea_b152_a683e71c465arow3_col3\" class=\"data row3 col3\" >False</td>\n",
       "            </tr>\n",
       "            <tr>\n",
       "                        <th id=\"T_5faf176a_fbd7_11ea_b152_a683e71c465alevel0_row4\" class=\"row_heading level0 row4\" rowspan=2>CartScreenAppear</th>\n",
       "                        <th id=\"T_5faf176a_fbd7_11ea_b152_a683e71c465alevel1_row4\" class=\"row_heading level1 row4\" >247</th>\n",
       "                        <td id=\"T_5faf176a_fbd7_11ea_b152_a683e71c465arow4_col0\" class=\"data row4 col0\" >1238</td>\n",
       "                        <td id=\"T_5faf176a_fbd7_11ea_b152_a683e71c465arow4_col1\" class=\"data row4 col1\" >49.26%</td>\n",
       "                        <td id=\"T_5faf176a_fbd7_11ea_b152_a683e71c465arow4_col2\" class=\"data row4 col2\" >0.578620</td>\n",
       "                        <td id=\"T_5faf176a_fbd7_11ea_b152_a683e71c465arow4_col3\" class=\"data row4 col3\" >False</td>\n",
       "            </tr>\n",
       "            <tr>\n",
       "                                <th id=\"T_5faf176a_fbd7_11ea_b152_a683e71c465alevel1_row5\" class=\"row_heading level1 row5\" >248</th>\n",
       "                        <td id=\"T_5faf176a_fbd7_11ea_b152_a683e71c465arow5_col0\" class=\"data row5 col0\" >1230</td>\n",
       "                        <td id=\"T_5faf176a_fbd7_11ea_b152_a683e71c465arow5_col1\" class=\"data row5 col1\" >48.48%</td>\n",
       "                        <td id=\"T_5faf176a_fbd7_11ea_b152_a683e71c465arow5_col2\" class=\"data row5 col2\" >0.578620</td>\n",
       "                        <td id=\"T_5faf176a_fbd7_11ea_b152_a683e71c465arow5_col3\" class=\"data row5 col3\" >False</td>\n",
       "            </tr>\n",
       "            <tr>\n",
       "                        <th id=\"T_5faf176a_fbd7_11ea_b152_a683e71c465alevel0_row6\" class=\"row_heading level0 row6\" rowspan=2>PaymentScreenSuccessful</th>\n",
       "                        <th id=\"T_5faf176a_fbd7_11ea_b152_a683e71c465alevel1_row6\" class=\"row_heading level1 row6\" >247</th>\n",
       "                        <td id=\"T_5faf176a_fbd7_11ea_b152_a683e71c465arow6_col0\" class=\"data row6 col0\" >1158</td>\n",
       "                        <td id=\"T_5faf176a_fbd7_11ea_b152_a683e71c465arow6_col1\" class=\"data row6 col1\" >46.08%</td>\n",
       "                        <td id=\"T_5faf176a_fbd7_11ea_b152_a683e71c465arow6_col2\" class=\"data row6 col2\" >0.737342</td>\n",
       "                        <td id=\"T_5faf176a_fbd7_11ea_b152_a683e71c465arow6_col3\" class=\"data row6 col3\" >False</td>\n",
       "            </tr>\n",
       "            <tr>\n",
       "                                <th id=\"T_5faf176a_fbd7_11ea_b152_a683e71c465alevel1_row7\" class=\"row_heading level1 row7\" >248</th>\n",
       "                        <td id=\"T_5faf176a_fbd7_11ea_b152_a683e71c465arow7_col0\" class=\"data row7 col0\" >1181</td>\n",
       "                        <td id=\"T_5faf176a_fbd7_11ea_b152_a683e71c465arow7_col1\" class=\"data row7 col1\" >46.55%</td>\n",
       "                        <td id=\"T_5faf176a_fbd7_11ea_b152_a683e71c465arow7_col2\" class=\"data row7 col2\" >0.737342</td>\n",
       "                        <td id=\"T_5faf176a_fbd7_11ea_b152_a683e71c465arow7_col3\" class=\"data row7 col3\" >False</td>\n",
       "            </tr>\n",
       "    </tbody></table>"
      ],
      "text/plain": [
       "<pandas.io.formats.style.Styler at 0x7f99f6505f50>"
      ]
     },
     "execution_count": 34,
     "metadata": {},
     "output_type": "execute_result"
    }
   ],
   "source": [
    "ztest_by_events(groups=[247, 248], events=logs_exp_filtered['event_category'].cat.categories[1:])\\\n",
    ".style.format(dict(total_percent='{:.2%}', initial_percent='{:.2%}', p_value='{:.6f}'))"
   ]
  },
  {
   "cell_type": "code",
   "execution_count": 35,
   "metadata": {},
   "outputs": [
    {
     "data": {
      "text/html": [
       "<style  type=\"text/css\" >\n",
       "</style><table id=\"T_5fc4b5f2_fbd7_11ea_b152_a683e71c465a\" ><thead>    <tr>        <th class=\"blank\" ></th>        <th class=\"blank level0\" ></th>        <th class=\"col_heading level0 col0\" >device_id_hash</th>        <th class=\"col_heading level0 col1\" >initial_percent</th>        <th class=\"col_heading level0 col2\" >p_value</th>        <th class=\"col_heading level0 col3\" >h0_rejected</th>    </tr>    <tr>        <th class=\"index_name level0\" >event_category</th>        <th class=\"index_name level1\" >exp_id</th>        <th class=\"blank\" ></th>        <th class=\"blank\" ></th>        <th class=\"blank\" ></th>        <th class=\"blank\" ></th>    </tr></thead><tbody>\n",
       "                <tr>\n",
       "                        <th id=\"T_5fc4b5f2_fbd7_11ea_b152_a683e71c465alevel0_row0\" class=\"row_heading level0 row0\" rowspan=2>MainScreenAppear</th>\n",
       "                        <th id=\"T_5fc4b5f2_fbd7_11ea_b152_a683e71c465alevel1_row0\" class=\"row_heading level1 row0\" >248</th>\n",
       "                        <td id=\"T_5fc4b5f2_fbd7_11ea_b152_a683e71c465arow0_col0\" class=\"data row0 col0\" >2493</td>\n",
       "                        <td id=\"T_5fc4b5f2_fbd7_11ea_b152_a683e71c465arow0_col1\" class=\"data row0 col1\" >98.27%</td>\n",
       "                        <td id=\"T_5fc4b5f2_fbd7_11ea_b152_a683e71c465arow0_col2\" class=\"data row0 col2\" >0.294245</td>\n",
       "                        <td id=\"T_5fc4b5f2_fbd7_11ea_b152_a683e71c465arow0_col3\" class=\"data row0 col3\" >False</td>\n",
       "            </tr>\n",
       "            <tr>\n",
       "                                <th id=\"T_5fc4b5f2_fbd7_11ea_b152_a683e71c465alevel1_row1\" class=\"row_heading level1 row1\" >246+247</th>\n",
       "                        <td id=\"T_5fc4b5f2_fbd7_11ea_b152_a683e71c465arow1_col0\" class=\"data row1 col0\" >4926</td>\n",
       "                        <td id=\"T_5fc4b5f2_fbd7_11ea_b152_a683e71c465arow1_col1\" class=\"data row1 col1\" >98.58%</td>\n",
       "                        <td id=\"T_5fc4b5f2_fbd7_11ea_b152_a683e71c465arow1_col2\" class=\"data row1 col2\" >0.294245</td>\n",
       "                        <td id=\"T_5fc4b5f2_fbd7_11ea_b152_a683e71c465arow1_col3\" class=\"data row1 col3\" >False</td>\n",
       "            </tr>\n",
       "            <tr>\n",
       "                        <th id=\"T_5fc4b5f2_fbd7_11ea_b152_a683e71c465alevel0_row2\" class=\"row_heading level0 row2\" rowspan=2>OffersScreenAppear</th>\n",
       "                        <th id=\"T_5fc4b5f2_fbd7_11ea_b152_a683e71c465alevel1_row2\" class=\"row_heading level1 row2\" >248</th>\n",
       "                        <td id=\"T_5fc4b5f2_fbd7_11ea_b152_a683e71c465arow2_col0\" class=\"data row2 col0\" >1531</td>\n",
       "                        <td id=\"T_5fc4b5f2_fbd7_11ea_b152_a683e71c465arow2_col1\" class=\"data row2 col1\" >60.35%</td>\n",
       "                        <td id=\"T_5fc4b5f2_fbd7_11ea_b152_a683e71c465arow2_col2\" class=\"data row2 col2\" >0.434255</td>\n",
       "                        <td id=\"T_5fc4b5f2_fbd7_11ea_b152_a683e71c465arow2_col3\" class=\"data row2 col3\" >False</td>\n",
       "            </tr>\n",
       "            <tr>\n",
       "                                <th id=\"T_5fc4b5f2_fbd7_11ea_b152_a683e71c465alevel1_row3\" class=\"row_heading level1 row3\" >246+247</th>\n",
       "                        <td id=\"T_5fc4b5f2_fbd7_11ea_b152_a683e71c465arow3_col0\" class=\"data row3 col0\" >3062</td>\n",
       "                        <td id=\"T_5fc4b5f2_fbd7_11ea_b152_a683e71c465arow3_col1\" class=\"data row3 col1\" >61.28%</td>\n",
       "                        <td id=\"T_5fc4b5f2_fbd7_11ea_b152_a683e71c465arow3_col2\" class=\"data row3 col2\" >0.434255</td>\n",
       "                        <td id=\"T_5fc4b5f2_fbd7_11ea_b152_a683e71c465arow3_col3\" class=\"data row3 col3\" >False</td>\n",
       "            </tr>\n",
       "            <tr>\n",
       "                        <th id=\"T_5fc4b5f2_fbd7_11ea_b152_a683e71c465alevel0_row4\" class=\"row_heading level0 row4\" rowspan=2>CartScreenAppear</th>\n",
       "                        <th id=\"T_5fc4b5f2_fbd7_11ea_b152_a683e71c465alevel1_row4\" class=\"row_heading level1 row4\" >248</th>\n",
       "                        <td id=\"T_5fc4b5f2_fbd7_11ea_b152_a683e71c465arow4_col0\" class=\"data row4 col0\" >1230</td>\n",
       "                        <td id=\"T_5fc4b5f2_fbd7_11ea_b152_a683e71c465arow4_col1\" class=\"data row4 col1\" >48.48%</td>\n",
       "                        <td id=\"T_5fc4b5f2_fbd7_11ea_b152_a683e71c465arow4_col2\" class=\"data row4 col2\" >0.181759</td>\n",
       "                        <td id=\"T_5fc4b5f2_fbd7_11ea_b152_a683e71c465arow4_col3\" class=\"data row4 col3\" >False</td>\n",
       "            </tr>\n",
       "            <tr>\n",
       "                                <th id=\"T_5fc4b5f2_fbd7_11ea_b152_a683e71c465alevel1_row5\" class=\"row_heading level1 row5\" >246+247</th>\n",
       "                        <td id=\"T_5fc4b5f2_fbd7_11ea_b152_a683e71c465arow5_col0\" class=\"data row5 col0\" >2504</td>\n",
       "                        <td id=\"T_5fc4b5f2_fbd7_11ea_b152_a683e71c465arow5_col1\" class=\"data row5 col1\" >50.11%</td>\n",
       "                        <td id=\"T_5fc4b5f2_fbd7_11ea_b152_a683e71c465arow5_col2\" class=\"data row5 col2\" >0.181759</td>\n",
       "                        <td id=\"T_5fc4b5f2_fbd7_11ea_b152_a683e71c465arow5_col3\" class=\"data row5 col3\" >False</td>\n",
       "            </tr>\n",
       "            <tr>\n",
       "                        <th id=\"T_5fc4b5f2_fbd7_11ea_b152_a683e71c465alevel0_row6\" class=\"row_heading level0 row6\" rowspan=2>PaymentScreenSuccessful</th>\n",
       "                        <th id=\"T_5fc4b5f2_fbd7_11ea_b152_a683e71c465alevel1_row6\" class=\"row_heading level1 row6\" >248</th>\n",
       "                        <td id=\"T_5fc4b5f2_fbd7_11ea_b152_a683e71c465arow6_col0\" class=\"data row6 col0\" >1181</td>\n",
       "                        <td id=\"T_5fc4b5f2_fbd7_11ea_b152_a683e71c465arow6_col1\" class=\"data row6 col1\" >46.55%</td>\n",
       "                        <td id=\"T_5fc4b5f2_fbd7_11ea_b152_a683e71c465arow6_col2\" class=\"data row6 col2\" >0.600429</td>\n",
       "                        <td id=\"T_5fc4b5f2_fbd7_11ea_b152_a683e71c465arow6_col3\" class=\"data row6 col3\" >False</td>\n",
       "            </tr>\n",
       "            <tr>\n",
       "                                <th id=\"T_5fc4b5f2_fbd7_11ea_b152_a683e71c465alevel1_row7\" class=\"row_heading level1 row7\" >246+247</th>\n",
       "                        <td id=\"T_5fc4b5f2_fbd7_11ea_b152_a683e71c465arow7_col0\" class=\"data row7 col0\" >2358</td>\n",
       "                        <td id=\"T_5fc4b5f2_fbd7_11ea_b152_a683e71c465arow7_col1\" class=\"data row7 col1\" >47.19%</td>\n",
       "                        <td id=\"T_5fc4b5f2_fbd7_11ea_b152_a683e71c465arow7_col2\" class=\"data row7 col2\" >0.600429</td>\n",
       "                        <td id=\"T_5fc4b5f2_fbd7_11ea_b152_a683e71c465arow7_col3\" class=\"data row7 col3\" >False</td>\n",
       "            </tr>\n",
       "    </tbody></table>"
      ],
      "text/plain": [
       "<pandas.io.formats.style.Styler at 0x7f99fa564ad0>"
      ]
     },
     "execution_count": 35,
     "metadata": {},
     "output_type": "execute_result"
    }
   ],
   "source": [
    "# подготовка объединенной контрольной группы\n",
    "\n",
    "# подсчет количества уникальных пользователей в обеих контрольных группах\n",
    "combined_groups = logs_exp_filtered.query('exp_id in [246, 247]')\n",
    "combined_groups = combined_groups.groupby(['exp_id', 'event_category'])['device_id_hash'].nunique().reset_index()\n",
    "\n",
    "# сумма пользователей двух контрольных групп по каждому событию\n",
    "combined_groups = \\\n",
    "combined_groups.groupby('event_category').apply(lambda x: x['device_id_hash'].sum())\\\n",
    ".rename('device_id_hash').reset_index()\n",
    "\n",
    "# название объединенной группы и перевод в строковый формат\n",
    "combined_groups['exp_id'] = '246+247'\n",
    "combined_groups['exp_id'] = combined_groups['exp_id'].astype(str)\n",
    "\n",
    "# присоединение данных о количестве пользователей по каждому событию в экспериментальной группе\n",
    "combined_groups = \\\n",
    "combined_groups.append(logs_exp_filtered.query('exp_id == 248')\n",
    "                       .groupby(['exp_id', 'event_category'])['device_id_hash'].nunique()\n",
    "                       .reset_index(), sort=False).reset_index(drop=True)\n",
    "\n",
    "# исключение события Tutorial и упорядочивание столбцов в итоговой таблице\n",
    "combined_groups = \\\n",
    "combined_groups[combined_groups['event_category'] != 'Tutorial'][['exp_id', 'event_category', 'device_id_hash']]\n",
    "\n",
    "# подсчет исходного числа пользователей в экспериментальной и объединенной контрольной группах\n",
    "initial_control = (logs_exp_filtered.query('exp_id == 246')['device_id_hash'].nunique() + \n",
    "                   logs_exp_filtered.query('exp_id == 247')['device_id_hash'].nunique())\n",
    "initial_experiment = logs_exp_filtered.query('exp_id == 248')['device_id_hash'].nunique()\n",
    "\n",
    "# запуск функции с Z-тестом\n",
    "ztest_by_events(agg_data=combined_groups, initial=[initial_control, initial_experiment])\\\n",
    ".style.format(dict(total_percent='{:.2%}', initial_percent='{:.2%}', p_value='{:.6f}'))"
   ]
  },
  {
   "cell_type": "markdown",
   "metadata": {},
   "source": [
    "Для оценки результатов A/B-теста мы сделали в сумме 12 проверок. Увы, ни одна не показала значимых различий между долями, поэтому у нас нет оснований считать, что шрифт действительно влияет на конверсию — ни улучшает ее, ни ухудшает. Мы проверяли по более строгому критерию точности, допуская вероятность ложного результата в 1%, но даже если мы увеличим ее до 5%, ситуация не изменится."
   ]
  },
  {
   "cell_type": "markdown",
   "metadata": {},
   "source": [
    "<a id='part_5'></a>\n",
    "## Шаг 5. Общие выводы"
   ]
  },
  {
   "cell_type": "markdown",
   "metadata": {},
   "source": [
    "Напомним, что целью нашего исследования был анализ конверсии пользователей мобильного приложения в платящих пользователей, а также изучение результатов A/A/B-эксперимента с целью выяснить, приводит ли смена шрифтов в приложении к изменениям в конверсии.\n",
    "\n",
    "В эксперименте принял участие 7 551 пользователь, которых мы разделили на три группы примерно по 2,5 тысячи в каждой — две из них были контрольные, и им демонстрировалась текущая версия приложения, а одна была экспериментальной, они видели версию с новыми шрифтами. Временные границы эксперимента: с 2019-08-01 00:07:28 до 2019-08-07 21:15:17, общая длительность эксперимента — 6 дней, 21 часов, 7 минут и 49 секунд.\n",
    "\n",
    "Мы изучили следующие события в приложении: онбординг → появление главной страницы → появление страницы с предложениями (товарами) → переход в корзину → появление страницы с успешной оплатой заказа. Мы выстроили их в воронку событий и изучили конверсию на каждом ее этапе. Такие выводы мы можем сделать из этого:\n",
    "- Из воронки **исключили онбординг**, т.к. он демонстрировался только новым пользователям, а в выборках были не только они. Тем не менее, около 1,5% пользователей не прошли дальше обучения — им не демонстрировался главный экран.\n",
    "- **Больше всего пользователей теряется** при переходе от главного экрана к странице с товарами, это первый и второй этап воронки (не считая онбординг) — к просмотру товаров переходят 62% пользователей.\n",
    "- **Конверсия в оплату** — чуть менее 47%, столько дошли до последнего этапа воронки. Напомним, что это конверсия из пользователей мобильного приложения.\n",
    "- Также в около 1,5% случаев более поздние события воронки демонстрировались до более ранних. Стоит проверить, не является ли это ошибкой. Тем не менее, таких событий мало и они существенно не влияют на результаты анализа.\n",
    "\n",
    "Мы проверили статистическую значимость A/A/B-теста: сравнили доли пользователей от общего количества на каждом этапе воронки попарно между каждой из групп, а также между экспериментальной и объединенной контрольной группами. Вот что можно сказать в итоге:\n",
    "- Между **контрольными группами** не были обнаружены значимые различия ни между долями групп в целом, ни между долями групп по каждому событию воронки. Это значит, что мы можем полагаться на результаты исследования этих групп, они были разделены правильно.\n",
    "- Между **экспериментальной и контрольными группами** также не были обнаружены значимые различия между долями ни по одному событию воронки, как в случае с каждой контрольной группой отдельно, так и с объединенной контрольной группой. Т.е. мы не можем достоверно утверждать, что изменение шрифта улучшает или ухудшает конверсию. \n",
    "\n",
    "Соответственно, особого смысла менять шрифт в приложении на данный момент нет."
   ]
  }
 ],
 "metadata": {
  "kernelspec": {
   "display_name": "Python 3",
   "language": "python",
   "name": "python3"
  },
  "language_info": {
   "codemirror_mode": {
    "name": "ipython",
    "version": 3
   },
   "file_extension": ".py",
   "mimetype": "text/x-python",
   "name": "python",
   "nbconvert_exporter": "python",
   "pygments_lexer": "ipython3",
   "version": "3.7.6"
  },
  "toc": {
   "base_numbering": 1,
   "nav_menu": {},
   "number_sections": false,
   "sideBar": true,
   "skip_h1_title": false,
   "title_cell": "Table of Contents",
   "title_sidebar": "Contents",
   "toc_cell": false,
   "toc_position": {
    "height": "calc(100% - 180px)",
    "left": "10px",
    "top": "150px",
    "width": "221.796875px"
   },
   "toc_section_display": true,
   "toc_window_display": true
  }
 },
 "nbformat": 4,
 "nbformat_minor": 2
}
