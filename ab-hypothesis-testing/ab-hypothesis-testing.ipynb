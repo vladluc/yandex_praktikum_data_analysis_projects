{
 "cells": [
  {
   "cell_type": "markdown",
   "metadata": {},
   "source": [
    "# A/B-тест и проверка гипотез по увеличению выручки интернет-магазина"
   ]
  },
  {
   "cell_type": "markdown",
   "metadata": {},
   "source": [
    "## Содержание\n",
    "\n",
    "\n",
    "- [**Шаг 1. Общая информация о данных**](#part_1)\n",
    "    - [1.1. Введение в проект](#101)\n",
    "    - [1.2. Описание данных](#102)\n",
    "    - [1.3. Выводы из общей информации о данных](#103)\n",
    "\n",
    "\n",
    "- [**Шаг 2. Приоритезация гипотез**](#part_2)\n",
    "    - [2.1. Выводы из приоритезации гипотез](#201)\n",
    "\n",
    "\n",
    "- [**Шаг 3. Анализ A/B-теста**](#part_3)\n",
    "    - [3.1. Кумулятивная выручка по группам](#301)\n",
    "    - [3.2. Кумулятивный средний чек по группам](#302)\n",
    "    - [3.3. Кумулятивная конверсия по группам](#303)\n",
    "    - [3.4. Граница для определения анормальных пользователей](#304)\n",
    "    - [3.5. Проверка статистической значимости различий между группами по «сырым» данным](#305)\n",
    "    - [3.6. Проверка статистической значимости различий между группами по «очищенным» данным](#306)\n",
    "    - [3.7. Выводы из анализа A/B-теста](#307)"
   ]
  },
  {
   "cell_type": "markdown",
   "metadata": {},
   "source": [
    "<a id='part_1'></a>\n",
    "## Шаг 1. Общая информация о данных"
   ]
  },
  {
   "cell_type": "markdown",
   "metadata": {},
   "source": [
    "<a id='101'></a>\n",
    "### Введение в проект\n",
    "\n",
    "Маркетинговый отдел крупного интернет-магазина подготовил список гипотез для увеличения выручки. Нужно приоритезировать гипотезы, запустить A/B-тест и обработать его результаты, чтобы оценить необходимость улучшения магазина."
   ]
  },
  {
   "cell_type": "markdown",
   "metadata": {},
   "source": [
    "<a id='102'></a>\n",
    "### Описание данных\n",
    "\n",
    "Таблица `hypothesis`:\n",
    "- `Hypothesis` — краткое описание гипотезы;\n",
    "- `Reach` — охват пользователей по 10-балльной шкале;\n",
    "- `Impact` — влияние на пользователей по 10-балльной шкале;\n",
    "- `Confidence` — уверенность в гипотезе по 10-балльной шкале;\n",
    "- `Efforts` — затраты ресурсов на проверку гипотезы по 10-балльной шкале. Чем больше значение `Efforts`, тем дороже проверка гипотезы.\n",
    "\n",
    "Таблица `orders`:\n",
    "- `transactionId` — идентификатор заказа;\n",
    "- `visitorId` — идентификатор пользователя, совершившего заказ;\n",
    "- `date` — дата, когда был совершён заказ;\n",
    "- `revenue` — выручка заказа;\n",
    "- `group` — группа A/B-теста, в которую попал заказ.\n",
    "\n",
    "Таблица `visitors`:\n",
    "- `date` — дата;\n",
    "- `group` — группа A/B-теста;\n",
    "- `visitors` — количество пользователей в указанную дату в указанной группе A/B-теста"
   ]
  },
  {
   "cell_type": "code",
   "execution_count": 1,
   "metadata": {},
   "outputs": [],
   "source": [
    "# загрузка библиотек\n",
    "import pandas as pd\n",
    "import numpy as np\n",
    "import scipy.stats as st\n",
    "import matplotlib.pyplot as plt\n",
    "import seaborn as sns\n",
    "\n",
    "from pandas.plotting import register_matplotlib_converters\n",
    "register_matplotlib_converters()"
   ]
  },
  {
   "cell_type": "code",
   "execution_count": 2,
   "metadata": {},
   "outputs": [],
   "source": [
    "# глобальные настройки отображения графиков\n",
    "sns.mpl.rc('figure', figsize=(15, 9)) # размер графиков\n",
    "sns.mpl.rc('axes', grid=False) # отключение фоновой сетки\n",
    "sns.set_palette('coolwarm') # установка цветовой схемы\n",
    "sns.mpl.rc('axes.spines', top=False, right=False) # скрытие рамки вокруг диаграмм\n",
    "\n",
    "contrast_color = '#909090'\n",
    "plt.rcParams.update({\n",
    "    'figure.facecolor': (1.0, 0.0, 0.0, 0), \n",
    "    'axes.facecolor': (0.0, 1.0, 0.0, 0), \n",
    "    'savefig.facecolor': (0.0, 0.0, 1.0, 0), \n",
    "    'legend.framealpha': 0.0, \n",
    "    'text.color': contrast_color,\n",
    "    'axes.labelcolor': contrast_color, \n",
    "    'xtick.color': contrast_color, \n",
    "    'ytick.color': contrast_color, \n",
    "    'axes.edgecolor': contrast_color\n",
    "})"
   ]
  },
  {
   "cell_type": "code",
   "execution_count": 3,
   "metadata": {},
   "outputs": [],
   "source": [
    "# чтение файлов с данными\n",
    "original_hypothesis = pd.read_csv('./datasets/hypothesis.csv')\n",
    "original_orders = pd.read_csv('./datasets/orders.csv', parse_dates=['date'])\n",
    "original_visitors = pd.read_csv('./datasets/visitors.csv', parse_dates=['date'])\n",
    "\n",
    "# создание рабочих копий файлов с данными\n",
    "hypothesis = original_hypothesis.copy()\n",
    "orders = original_orders.copy()\n",
    "visitors = original_visitors.copy()"
   ]
  },
  {
   "cell_type": "code",
   "execution_count": 4,
   "metadata": {},
   "outputs": [
    {
     "name": "stdout",
     "output_type": "stream",
     "text": [
      "<class 'pandas.core.frame.DataFrame'>\n",
      "RangeIndex: 9 entries, 0 to 8\n",
      "Data columns (total 5 columns):\n",
      "hypothesis    9 non-null object\n",
      "reach         9 non-null int64\n",
      "impact        9 non-null int64\n",
      "confidence    9 non-null int64\n",
      "efforts       9 non-null int64\n",
      "dtypes: int64(4), object(1)\n",
      "memory usage: 488.0+ bytes\n"
     ]
    },
    {
     "data": {
      "text/html": [
       "<div>\n",
       "<style scoped>\n",
       "    .dataframe tbody tr th:only-of-type {\n",
       "        vertical-align: middle;\n",
       "    }\n",
       "\n",
       "    .dataframe tbody tr th {\n",
       "        vertical-align: top;\n",
       "    }\n",
       "\n",
       "    .dataframe thead th {\n",
       "        text-align: right;\n",
       "    }\n",
       "</style>\n",
       "<table border=\"1\" class=\"dataframe\">\n",
       "  <thead>\n",
       "    <tr style=\"text-align: right;\">\n",
       "      <th></th>\n",
       "      <th>hypothesis</th>\n",
       "      <th>reach</th>\n",
       "      <th>impact</th>\n",
       "      <th>confidence</th>\n",
       "      <th>efforts</th>\n",
       "    </tr>\n",
       "  </thead>\n",
       "  <tbody>\n",
       "    <tr>\n",
       "      <td>0</td>\n",
       "      <td>Добавить два новых канала привлечения трафика,...</td>\n",
       "      <td>3</td>\n",
       "      <td>10</td>\n",
       "      <td>8</td>\n",
       "      <td>6</td>\n",
       "    </tr>\n",
       "    <tr>\n",
       "      <td>1</td>\n",
       "      <td>Запустить собственную службу доставки, что сок...</td>\n",
       "      <td>2</td>\n",
       "      <td>5</td>\n",
       "      <td>4</td>\n",
       "      <td>10</td>\n",
       "    </tr>\n",
       "    <tr>\n",
       "      <td>2</td>\n",
       "      <td>Добавить блоки рекомендаций товаров на сайт ин...</td>\n",
       "      <td>8</td>\n",
       "      <td>3</td>\n",
       "      <td>7</td>\n",
       "      <td>3</td>\n",
       "    </tr>\n",
       "    <tr>\n",
       "      <td>3</td>\n",
       "      <td>Изменить структура категорий, что увеличит кон...</td>\n",
       "      <td>8</td>\n",
       "      <td>3</td>\n",
       "      <td>3</td>\n",
       "      <td>8</td>\n",
       "    </tr>\n",
       "    <tr>\n",
       "      <td>4</td>\n",
       "      <td>Изменить цвет фона главной страницы, чтобы уве...</td>\n",
       "      <td>3</td>\n",
       "      <td>1</td>\n",
       "      <td>1</td>\n",
       "      <td>1</td>\n",
       "    </tr>\n",
       "    <tr>\n",
       "      <td>5</td>\n",
       "      <td>Добавить страницу отзывов клиентов о магазине,...</td>\n",
       "      <td>3</td>\n",
       "      <td>2</td>\n",
       "      <td>2</td>\n",
       "      <td>3</td>\n",
       "    </tr>\n",
       "    <tr>\n",
       "      <td>6</td>\n",
       "      <td>Показать на главной странице баннеры с актуаль...</td>\n",
       "      <td>5</td>\n",
       "      <td>3</td>\n",
       "      <td>8</td>\n",
       "      <td>3</td>\n",
       "    </tr>\n",
       "    <tr>\n",
       "      <td>7</td>\n",
       "      <td>Добавить форму подписки на все основные страни...</td>\n",
       "      <td>10</td>\n",
       "      <td>7</td>\n",
       "      <td>8</td>\n",
       "      <td>5</td>\n",
       "    </tr>\n",
       "    <tr>\n",
       "      <td>8</td>\n",
       "      <td>Запустить акцию, дающую скидку на товар в день...</td>\n",
       "      <td>1</td>\n",
       "      <td>9</td>\n",
       "      <td>9</td>\n",
       "      <td>5</td>\n",
       "    </tr>\n",
       "  </tbody>\n",
       "</table>\n",
       "</div>"
      ],
      "text/plain": [
       "                                          hypothesis  reach  impact  \\\n",
       "0  Добавить два новых канала привлечения трафика,...      3      10   \n",
       "1  Запустить собственную службу доставки, что сок...      2       5   \n",
       "2  Добавить блоки рекомендаций товаров на сайт ин...      8       3   \n",
       "3  Изменить структура категорий, что увеличит кон...      8       3   \n",
       "4  Изменить цвет фона главной страницы, чтобы уве...      3       1   \n",
       "5  Добавить страницу отзывов клиентов о магазине,...      3       2   \n",
       "6  Показать на главной странице баннеры с актуаль...      5       3   \n",
       "7  Добавить форму подписки на все основные страни...     10       7   \n",
       "8  Запустить акцию, дающую скидку на товар в день...      1       9   \n",
       "\n",
       "   confidence  efforts  \n",
       "0           8        6  \n",
       "1           4       10  \n",
       "2           7        3  \n",
       "3           3        8  \n",
       "4           1        1  \n",
       "5           2        3  \n",
       "6           8        3  \n",
       "7           8        5  \n",
       "8           9        5  "
      ]
     },
     "execution_count": 4,
     "metadata": {},
     "output_type": "execute_result"
    }
   ],
   "source": [
    "hypothesis.columns = hypothesis.columns.str.lower()\n",
    "\n",
    "hypothesis.info()\n",
    "hypothesis"
   ]
  },
  {
   "cell_type": "markdown",
   "metadata": {},
   "source": [
    "В `hypothesis` собраны 9 гипотез и 4 показателя, по которым оценили гипотезы по 10-балльной шкале. Названия столбцов переведены в нижний регистр для удобства."
   ]
  },
  {
   "cell_type": "code",
   "execution_count": 5,
   "metadata": {},
   "outputs": [
    {
     "name": "stdout",
     "output_type": "stream",
     "text": [
      "<class 'pandas.core.frame.DataFrame'>\n",
      "RangeIndex: 1197 entries, 0 to 1196\n",
      "Data columns (total 5 columns):\n",
      "transaction_id    1197 non-null int64\n",
      "visitor_id        1197 non-null int64\n",
      "date              1197 non-null datetime64[ns]\n",
      "revenue           1197 non-null int64\n",
      "group             1197 non-null object\n",
      "dtypes: datetime64[ns](1), int64(3), object(1)\n",
      "memory usage: 46.9+ KB\n"
     ]
    },
    {
     "data": {
      "text/html": [
       "<div>\n",
       "<style scoped>\n",
       "    .dataframe tbody tr th:only-of-type {\n",
       "        vertical-align: middle;\n",
       "    }\n",
       "\n",
       "    .dataframe tbody tr th {\n",
       "        vertical-align: top;\n",
       "    }\n",
       "\n",
       "    .dataframe thead th {\n",
       "        text-align: right;\n",
       "    }\n",
       "</style>\n",
       "<table border=\"1\" class=\"dataframe\">\n",
       "  <thead>\n",
       "    <tr style=\"text-align: right;\">\n",
       "      <th></th>\n",
       "      <th>transaction_id</th>\n",
       "      <th>visitor_id</th>\n",
       "      <th>date</th>\n",
       "      <th>revenue</th>\n",
       "      <th>group</th>\n",
       "    </tr>\n",
       "  </thead>\n",
       "  <tbody>\n",
       "    <tr>\n",
       "      <td>0</td>\n",
       "      <td>3667963787</td>\n",
       "      <td>3312258926</td>\n",
       "      <td>2019-08-15</td>\n",
       "      <td>1650</td>\n",
       "      <td>B</td>\n",
       "    </tr>\n",
       "    <tr>\n",
       "      <td>1</td>\n",
       "      <td>2804400009</td>\n",
       "      <td>3642806036</td>\n",
       "      <td>2019-08-15</td>\n",
       "      <td>730</td>\n",
       "      <td>B</td>\n",
       "    </tr>\n",
       "    <tr>\n",
       "      <td>2</td>\n",
       "      <td>2961555356</td>\n",
       "      <td>4069496402</td>\n",
       "      <td>2019-08-15</td>\n",
       "      <td>400</td>\n",
       "      <td>A</td>\n",
       "    </tr>\n",
       "    <tr>\n",
       "      <td>3</td>\n",
       "      <td>3797467345</td>\n",
       "      <td>1196621759</td>\n",
       "      <td>2019-08-15</td>\n",
       "      <td>9759</td>\n",
       "      <td>B</td>\n",
       "    </tr>\n",
       "    <tr>\n",
       "      <td>4</td>\n",
       "      <td>2282983706</td>\n",
       "      <td>2322279887</td>\n",
       "      <td>2019-08-15</td>\n",
       "      <td>2308</td>\n",
       "      <td>B</td>\n",
       "    </tr>\n",
       "    <tr>\n",
       "      <td>5</td>\n",
       "      <td>182168103</td>\n",
       "      <td>935554773</td>\n",
       "      <td>2019-08-15</td>\n",
       "      <td>2210</td>\n",
       "      <td>B</td>\n",
       "    </tr>\n",
       "    <tr>\n",
       "      <td>6</td>\n",
       "      <td>398296753</td>\n",
       "      <td>2900797465</td>\n",
       "      <td>2019-08-15</td>\n",
       "      <td>1860</td>\n",
       "      <td>B</td>\n",
       "    </tr>\n",
       "    <tr>\n",
       "      <td>7</td>\n",
       "      <td>2626614568</td>\n",
       "      <td>78758296</td>\n",
       "      <td>2019-08-15</td>\n",
       "      <td>1044</td>\n",
       "      <td>A</td>\n",
       "    </tr>\n",
       "    <tr>\n",
       "      <td>8</td>\n",
       "      <td>1576988021</td>\n",
       "      <td>295230930</td>\n",
       "      <td>2019-08-15</td>\n",
       "      <td>13710</td>\n",
       "      <td>A</td>\n",
       "    </tr>\n",
       "    <tr>\n",
       "      <td>9</td>\n",
       "      <td>1506739906</td>\n",
       "      <td>1882260405</td>\n",
       "      <td>2019-08-15</td>\n",
       "      <td>1855</td>\n",
       "      <td>B</td>\n",
       "    </tr>\n",
       "  </tbody>\n",
       "</table>\n",
       "</div>"
      ],
      "text/plain": [
       "   transaction_id  visitor_id       date  revenue group\n",
       "0      3667963787  3312258926 2019-08-15     1650     B\n",
       "1      2804400009  3642806036 2019-08-15      730     B\n",
       "2      2961555356  4069496402 2019-08-15      400     A\n",
       "3      3797467345  1196621759 2019-08-15     9759     B\n",
       "4      2282983706  2322279887 2019-08-15     2308     B\n",
       "5       182168103   935554773 2019-08-15     2210     B\n",
       "6       398296753  2900797465 2019-08-15     1860     B\n",
       "7      2626614568    78758296 2019-08-15     1044     A\n",
       "8      1576988021   295230930 2019-08-15    13710     A\n",
       "9      1506739906  1882260405 2019-08-15     1855     B"
      ]
     },
     "execution_count": 5,
     "metadata": {},
     "output_type": "execute_result"
    }
   ],
   "source": [
    "orders = orders.rename(columns={'transactionId': 'transaction_id', 'visitorId': 'visitor_id'})\n",
    "\n",
    "orders.info()\n",
    "orders.head(10)"
   ]
  },
  {
   "cell_type": "markdown",
   "metadata": {},
   "source": [
    "В `orders` — лог всех транзакций за время проведения эксперимента — в течение августа 2019. Каждая запись соотнесена с той группой, к которой принадлежал пользователь. Сразу переименовали столбцы для удобства."
   ]
  },
  {
   "cell_type": "code",
   "execution_count": 6,
   "metadata": {},
   "outputs": [
    {
     "name": "stdout",
     "output_type": "stream",
     "text": [
      "<class 'pandas.core.frame.DataFrame'>\n",
      "RangeIndex: 62 entries, 0 to 61\n",
      "Data columns (total 3 columns):\n",
      "date        62 non-null datetime64[ns]\n",
      "group       62 non-null object\n",
      "visitors    62 non-null int64\n",
      "dtypes: datetime64[ns](1), int64(1), object(1)\n",
      "memory usage: 1.6+ KB\n"
     ]
    },
    {
     "data": {
      "text/html": [
       "<div>\n",
       "<style scoped>\n",
       "    .dataframe tbody tr th:only-of-type {\n",
       "        vertical-align: middle;\n",
       "    }\n",
       "\n",
       "    .dataframe tbody tr th {\n",
       "        vertical-align: top;\n",
       "    }\n",
       "\n",
       "    .dataframe thead th {\n",
       "        text-align: right;\n",
       "    }\n",
       "</style>\n",
       "<table border=\"1\" class=\"dataframe\">\n",
       "  <thead>\n",
       "    <tr style=\"text-align: right;\">\n",
       "      <th></th>\n",
       "      <th>date</th>\n",
       "      <th>group</th>\n",
       "      <th>visitors</th>\n",
       "    </tr>\n",
       "  </thead>\n",
       "  <tbody>\n",
       "    <tr>\n",
       "      <td>0</td>\n",
       "      <td>2019-08-01</td>\n",
       "      <td>A</td>\n",
       "      <td>719</td>\n",
       "    </tr>\n",
       "    <tr>\n",
       "      <td>1</td>\n",
       "      <td>2019-08-02</td>\n",
       "      <td>A</td>\n",
       "      <td>619</td>\n",
       "    </tr>\n",
       "    <tr>\n",
       "      <td>2</td>\n",
       "      <td>2019-08-03</td>\n",
       "      <td>A</td>\n",
       "      <td>507</td>\n",
       "    </tr>\n",
       "    <tr>\n",
       "      <td>3</td>\n",
       "      <td>2019-08-04</td>\n",
       "      <td>A</td>\n",
       "      <td>717</td>\n",
       "    </tr>\n",
       "    <tr>\n",
       "      <td>4</td>\n",
       "      <td>2019-08-05</td>\n",
       "      <td>A</td>\n",
       "      <td>756</td>\n",
       "    </tr>\n",
       "    <tr>\n",
       "      <td>5</td>\n",
       "      <td>2019-08-06</td>\n",
       "      <td>A</td>\n",
       "      <td>667</td>\n",
       "    </tr>\n",
       "    <tr>\n",
       "      <td>6</td>\n",
       "      <td>2019-08-07</td>\n",
       "      <td>A</td>\n",
       "      <td>644</td>\n",
       "    </tr>\n",
       "    <tr>\n",
       "      <td>7</td>\n",
       "      <td>2019-08-08</td>\n",
       "      <td>A</td>\n",
       "      <td>610</td>\n",
       "    </tr>\n",
       "    <tr>\n",
       "      <td>8</td>\n",
       "      <td>2019-08-09</td>\n",
       "      <td>A</td>\n",
       "      <td>617</td>\n",
       "    </tr>\n",
       "    <tr>\n",
       "      <td>9</td>\n",
       "      <td>2019-08-10</td>\n",
       "      <td>A</td>\n",
       "      <td>406</td>\n",
       "    </tr>\n",
       "  </tbody>\n",
       "</table>\n",
       "</div>"
      ],
      "text/plain": [
       "        date group  visitors\n",
       "0 2019-08-01     A       719\n",
       "1 2019-08-02     A       619\n",
       "2 2019-08-03     A       507\n",
       "3 2019-08-04     A       717\n",
       "4 2019-08-05     A       756\n",
       "5 2019-08-06     A       667\n",
       "6 2019-08-07     A       644\n",
       "7 2019-08-08     A       610\n",
       "8 2019-08-09     A       617\n",
       "9 2019-08-10     A       406"
      ]
     },
     "execution_count": 6,
     "metadata": {},
     "output_type": "execute_result"
    }
   ],
   "source": [
    "visitors.info()\n",
    "visitors.head(10)"
   ]
  },
  {
   "cell_type": "markdown",
   "metadata": {},
   "source": [
    "В `visitors` — агрегированные по дням данные о посещаемости сайта во время эксперимента для каждой группы."
   ]
  },
  {
   "cell_type": "code",
   "execution_count": 7,
   "metadata": {},
   "outputs": [
    {
     "name": "stdout",
     "output_type": "stream",
     "text": [
      "Полных дубликатов в orders: 0\n",
      "Полных дубликатов в visitors: 0\n"
     ]
    }
   ],
   "source": [
    "print('Полных дубликатов в orders:', orders.duplicated().sum())\n",
    "print('Полных дубликатов в visitors:', visitors.duplicated().sum())"
   ]
  },
  {
   "cell_type": "markdown",
   "metadata": {},
   "source": [
    "<a id='103'></a>\n",
    "### Выводы из общей информации о данных\n",
    "\n",
    "1. Данные соответствуют описанию.\n",
    "1. В данных нет дублированных строк или категорий, пропусков, нелогичных значений.\n",
    "1. Типы данных соответствуют признакам.\n",
    "1. В `orders` возможны выбросы в данных о выручке — проверим это во время анализа A/B-теста."
   ]
  },
  {
   "cell_type": "markdown",
   "metadata": {},
   "source": [
    "<a id='part_2'></a>\n",
    "## Шаг 2. Приоритезация гипотез"
   ]
  },
  {
   "cell_type": "markdown",
   "metadata": {},
   "source": [
    "Сейчас для тестирования нам доступны 9 гипотез. Каждая из них оценена по 10-балльной шкале по следующим показателям:\n",
    "- **Impact** — влияние на пользователей того изменения, которое мы хотим внести; \n",
    "- **Confidence** — уверенность в том, что изменение повлияет именно так, как мы планируем; \n",
    "- **Efforts** - усилия для проверки гипотезы, сколько это будет нам стоить; \n",
    "- **Reach** - охват пользователей, которых затронет изменение.\n",
    "\n",
    "Применим фреймворки ICE и RICE для приоритезации гипотез, чтобы выбрать наиболее необходимую для теста. В ICE мы оценим соотношение влияния, уверенности и усилий каждой гипотезы, а в RICE учтем ещё и охват. \n",
    "\n",
    "ICE рассчитаем по следующей формуле:\n",
    "$$ICE = \\frac{Impact * Confidence}{Efforts}$$"
   ]
  },
  {
   "cell_type": "code",
   "execution_count": 8,
   "metadata": {},
   "outputs": [
    {
     "data": {
      "text/html": [
       "<style  type=\"text/css\" >\n",
       "</style><table id=\"T_f99751da_e449_11ea_bc76_acde48001122\" ><thead>    <tr>        <th class=\"col_heading level0 col0\" >hypothesis</th>        <th class=\"col_heading level0 col1\" >ICE</th>    </tr></thead><tbody>\n",
       "                <tr>\n",
       "                                <td id=\"T_f99751da_e449_11ea_bc76_acde48001122row0_col0\" class=\"data row0 col0\" >Запустить акцию, дающую скидку на товар в день рождения</td>\n",
       "                        <td id=\"T_f99751da_e449_11ea_bc76_acde48001122row0_col1\" class=\"data row0 col1\" >16.20</td>\n",
       "            </tr>\n",
       "            <tr>\n",
       "                                <td id=\"T_f99751da_e449_11ea_bc76_acde48001122row1_col0\" class=\"data row1 col0\" >Добавить два новых канала привлечения трафика, что позволит привлекать на 30% больше пользователей</td>\n",
       "                        <td id=\"T_f99751da_e449_11ea_bc76_acde48001122row1_col1\" class=\"data row1 col1\" >13.33</td>\n",
       "            </tr>\n",
       "            <tr>\n",
       "                                <td id=\"T_f99751da_e449_11ea_bc76_acde48001122row2_col0\" class=\"data row2 col0\" >Добавить форму подписки на все основные страницы, чтобы собрать базу клиентов для email-рассылок</td>\n",
       "                        <td id=\"T_f99751da_e449_11ea_bc76_acde48001122row2_col1\" class=\"data row2 col1\" >11.20</td>\n",
       "            </tr>\n",
       "            <tr>\n",
       "                                <td id=\"T_f99751da_e449_11ea_bc76_acde48001122row3_col0\" class=\"data row3 col0\" >Показать на главной странице баннеры с актуальными акциями и распродажами, чтобы увеличить конверсию</td>\n",
       "                        <td id=\"T_f99751da_e449_11ea_bc76_acde48001122row3_col1\" class=\"data row3 col1\" >8.00</td>\n",
       "            </tr>\n",
       "            <tr>\n",
       "                                <td id=\"T_f99751da_e449_11ea_bc76_acde48001122row4_col0\" class=\"data row4 col0\" >Добавить блоки рекомендаций товаров на сайт интернет магазина, чтобы повысить конверсию и средний чек заказа</td>\n",
       "                        <td id=\"T_f99751da_e449_11ea_bc76_acde48001122row4_col1\" class=\"data row4 col1\" >7.00</td>\n",
       "            </tr>\n",
       "            <tr>\n",
       "                                <td id=\"T_f99751da_e449_11ea_bc76_acde48001122row5_col0\" class=\"data row5 col0\" >Запустить собственную службу доставки, что сократит срок доставки заказов</td>\n",
       "                        <td id=\"T_f99751da_e449_11ea_bc76_acde48001122row5_col1\" class=\"data row5 col1\" >2.00</td>\n",
       "            </tr>\n",
       "            <tr>\n",
       "                                <td id=\"T_f99751da_e449_11ea_bc76_acde48001122row6_col0\" class=\"data row6 col0\" >Добавить страницу отзывов клиентов о магазине, что позволит увеличить количество заказов</td>\n",
       "                        <td id=\"T_f99751da_e449_11ea_bc76_acde48001122row6_col1\" class=\"data row6 col1\" >1.33</td>\n",
       "            </tr>\n",
       "            <tr>\n",
       "                                <td id=\"T_f99751da_e449_11ea_bc76_acde48001122row7_col0\" class=\"data row7 col0\" >Изменить структура категорий, что увеличит конверсию, т.к. пользователи быстрее найдут нужный товар</td>\n",
       "                        <td id=\"T_f99751da_e449_11ea_bc76_acde48001122row7_col1\" class=\"data row7 col1\" >1.12</td>\n",
       "            </tr>\n",
       "            <tr>\n",
       "                                <td id=\"T_f99751da_e449_11ea_bc76_acde48001122row8_col0\" class=\"data row8 col0\" >Изменить цвет фона главной страницы, чтобы увеличить вовлеченность пользователей</td>\n",
       "                        <td id=\"T_f99751da_e449_11ea_bc76_acde48001122row8_col1\" class=\"data row8 col1\" >1.00</td>\n",
       "            </tr>\n",
       "    </tbody></table>"
      ],
      "text/plain": [
       "<pandas.io.formats.style.Styler at 0x7f899b0e2190>"
      ]
     },
     "execution_count": 8,
     "metadata": {},
     "output_type": "execute_result"
    }
   ],
   "source": [
    "# ICE\n",
    "hypothesis['ICE'] = hypothesis['impact'] * hypothesis['confidence'] / hypothesis['efforts']\n",
    "\n",
    "hypothesis.sort_values(by='ICE', ascending=False)[['hypothesis', 'ICE']]\\\n",
    ".style.format({'ICE': '{:.2f}'}).hide_index()"
   ]
  },
  {
   "cell_type": "markdown",
   "metadata": {},
   "source": [
    "RICE рассчитывают по такой формуле:\n",
    "$$RICE = \\frac{Rearch * Impact * Confidence}{Efforts}$$"
   ]
  },
  {
   "cell_type": "code",
   "execution_count": 9,
   "metadata": {},
   "outputs": [
    {
     "data": {
      "text/html": [
       "<style  type=\"text/css\" >\n",
       "</style><table id=\"T_f998e018_e449_11ea_bc76_acde48001122\" ><thead>    <tr>        <th class=\"col_heading level0 col0\" >hypothesis</th>        <th class=\"col_heading level0 col1\" >RICE</th>    </tr></thead><tbody>\n",
       "                <tr>\n",
       "                                <td id=\"T_f998e018_e449_11ea_bc76_acde48001122row0_col0\" class=\"data row0 col0\" >Добавить форму подписки на все основные страницы, чтобы собрать базу клиентов для email-рассылок</td>\n",
       "                        <td id=\"T_f998e018_e449_11ea_bc76_acde48001122row0_col1\" class=\"data row0 col1\" >112.00</td>\n",
       "            </tr>\n",
       "            <tr>\n",
       "                                <td id=\"T_f998e018_e449_11ea_bc76_acde48001122row1_col0\" class=\"data row1 col0\" >Добавить блоки рекомендаций товаров на сайт интернет магазина, чтобы повысить конверсию и средний чек заказа</td>\n",
       "                        <td id=\"T_f998e018_e449_11ea_bc76_acde48001122row1_col1\" class=\"data row1 col1\" >56.00</td>\n",
       "            </tr>\n",
       "            <tr>\n",
       "                                <td id=\"T_f998e018_e449_11ea_bc76_acde48001122row2_col0\" class=\"data row2 col0\" >Добавить два новых канала привлечения трафика, что позволит привлекать на 30% больше пользователей</td>\n",
       "                        <td id=\"T_f998e018_e449_11ea_bc76_acde48001122row2_col1\" class=\"data row2 col1\" >40.00</td>\n",
       "            </tr>\n",
       "            <tr>\n",
       "                                <td id=\"T_f998e018_e449_11ea_bc76_acde48001122row3_col0\" class=\"data row3 col0\" >Показать на главной странице баннеры с актуальными акциями и распродажами, чтобы увеличить конверсию</td>\n",
       "                        <td id=\"T_f998e018_e449_11ea_bc76_acde48001122row3_col1\" class=\"data row3 col1\" >40.00</td>\n",
       "            </tr>\n",
       "            <tr>\n",
       "                                <td id=\"T_f998e018_e449_11ea_bc76_acde48001122row4_col0\" class=\"data row4 col0\" >Запустить акцию, дающую скидку на товар в день рождения</td>\n",
       "                        <td id=\"T_f998e018_e449_11ea_bc76_acde48001122row4_col1\" class=\"data row4 col1\" >16.20</td>\n",
       "            </tr>\n",
       "            <tr>\n",
       "                                <td id=\"T_f998e018_e449_11ea_bc76_acde48001122row5_col0\" class=\"data row5 col0\" >Изменить структура категорий, что увеличит конверсию, т.к. пользователи быстрее найдут нужный товар</td>\n",
       "                        <td id=\"T_f998e018_e449_11ea_bc76_acde48001122row5_col1\" class=\"data row5 col1\" >9.00</td>\n",
       "            </tr>\n",
       "            <tr>\n",
       "                                <td id=\"T_f998e018_e449_11ea_bc76_acde48001122row6_col0\" class=\"data row6 col0\" >Запустить собственную службу доставки, что сократит срок доставки заказов</td>\n",
       "                        <td id=\"T_f998e018_e449_11ea_bc76_acde48001122row6_col1\" class=\"data row6 col1\" >4.00</td>\n",
       "            </tr>\n",
       "            <tr>\n",
       "                                <td id=\"T_f998e018_e449_11ea_bc76_acde48001122row7_col0\" class=\"data row7 col0\" >Добавить страницу отзывов клиентов о магазине, что позволит увеличить количество заказов</td>\n",
       "                        <td id=\"T_f998e018_e449_11ea_bc76_acde48001122row7_col1\" class=\"data row7 col1\" >4.00</td>\n",
       "            </tr>\n",
       "            <tr>\n",
       "                                <td id=\"T_f998e018_e449_11ea_bc76_acde48001122row8_col0\" class=\"data row8 col0\" >Изменить цвет фона главной страницы, чтобы увеличить вовлеченность пользователей</td>\n",
       "                        <td id=\"T_f998e018_e449_11ea_bc76_acde48001122row8_col1\" class=\"data row8 col1\" >3.00</td>\n",
       "            </tr>\n",
       "    </tbody></table>"
      ],
      "text/plain": [
       "<pandas.io.formats.style.Styler at 0x7f899b1126d0>"
      ]
     },
     "execution_count": 9,
     "metadata": {},
     "output_type": "execute_result"
    }
   ],
   "source": [
    "# RICE\n",
    "hypothesis['RICE'] = (hypothesis['reach'] * hypothesis['impact'] * hypothesis['confidence'] / \n",
    "                      hypothesis['efforts'])\n",
    "\n",
    "hypothesis.sort_values(by='RICE', ascending=False)[['hypothesis', 'RICE']]\\\n",
    ".style.format({'RICE': '{:.2f}'}).hide_index()"
   ]
  },
  {
   "cell_type": "markdown",
   "metadata": {},
   "source": [
    "<a id='201'></a>\n",
    "### Выводы из приоритезации гипотез\n",
    "\n",
    "\n",
    "- Согласно **ICE**, три наиболее приоритетные гипотезы такие:\n",
    "    1. «Запустить акцию, дающую скидку на товар в день рождения»;\n",
    "    2. «Добавить два новых канала привлечения трафика, что позволит привлекать на 30% больше пользователей»;\n",
    "    3. «Добавить форму подписки на все основные страницы, чтобы собрать базу клиентов для email-рассылок».\n",
    "\n",
    "\n",
    "- Согласно **RICE**, три наиболее приоритетные гипотезы такие:\n",
    "    1. «Добавить форму подписки на все основные страницы, чтобы собрать базу клиентов для email-рассылок»;\n",
    "    2. «Добавить блоки рекомендаций товаров на сайт интернет магазина, чтобы повысить конверсию и средний чек заказа»;\n",
    "    3. «Добавить два новых канала привлечения трафика, что позволит привлекать на 30% больше пользователей».\n",
    "\n",
    "\n",
    "С учетом оценки количества пользователей, на которых повлияет внедрение того или иного изменения, приоритеты меняются. Так, предложение о скидочной акции в день рождения не изменило значения сборной оценки при учете охвата и сползло с первого места в ICE на пятое в RICE — значит, количество вовлеченных в изменение пользователей будет небольшое. Это объяснимо, ведь на каждый день приходится в среднем 1/356 от общего количества пользователей, для кого это будет актуально. В то же время третья гипотеза по приоритету ICE — о том, что стоит ввести форму подписки для сбора email-адресов — переместилось на первое место в RICE, охват здесь оценивается как максимальный.\n",
    "\n",
    "Мы предлагаем обратить внимание при выборе гипотезы именно на список RICE — так мы сможем проверить решение, которое повлияет на большинство пользователей. В то же время мы призываем не отказываться категорически от «нишевых» изменений — например, работе над accessibility сайта."
   ]
  },
  {
   "cell_type": "markdown",
   "metadata": {},
   "source": [
    "<a id='part_3'></a>\n",
    "## Шаг 3. Анализ A/B-теста"
   ]
  },
  {
   "cell_type": "markdown",
   "metadata": {},
   "source": [
    "Для нас важно соблюдение правил A/B-теста для более точных результатов. В частности, количество пользователей в обеих группах должно быть равно — каждое расхождение вносит погрешность. Также каждый уникальный пользователь должен оставаться в своей группе на протяжении всего эксперимента, иначе мы не сможем оценить, действительно ли экспериментальное воздействие повлияло на результаты.\n",
    "\n",
    "В таблице `orders` у нас есть «сырые» данные о покупателях, а в `visitors` — агрегированные. Поэтому обратим внимание на таблицу с заказами, есть ли там ошибки в делении на группы:"
   ]
  },
  {
   "cell_type": "code",
   "execution_count": 10,
   "metadata": {},
   "outputs": [
    {
     "name": "stdout",
     "output_type": "stream",
     "text": [
      "Количество уникальных покупателей в обеих группах: 1031\n",
      "Количество уникальных пользователей в группе A: 503\n",
      "Количество уникальных пользователей в группе B: 586\n",
      "Сумма уникальных покупателей в обеих группах: 1089\n"
     ]
    }
   ],
   "source": [
    "print('Количество уникальных покупателей в обеих группах: {}'.format(orders['visitor_id'].nunique()))\n",
    "print('Количество уникальных пользователей в группе A: {}'.format(\n",
    "    orders.query('group == \"A\"')['visitor_id'].nunique()))\n",
    "print('Количество уникальных пользователей в группе B: {}'.format(\n",
    "    orders.query('group == \"B\"')['visitor_id'].nunique()))\n",
    "print('Сумма уникальных покупателей в обеих группах: {}'.format(\n",
    "    orders.query('group == \"A\"')['visitor_id'].nunique() + \n",
    "    orders.query('group == \"B\"')['visitor_id'].nunique()))"
   ]
  },
  {
   "cell_type": "markdown",
   "metadata": {},
   "source": [
    "Мы видим, что в группе В оказалось на 83 пользователя больше. Кроме того, изначальное количество пользователей во всей таблице и сумма по группам не совпадают — похоже, что несколько пользователей действительно попали в обе группы, а это недопустимо."
   ]
  },
  {
   "cell_type": "code",
   "execution_count": 11,
   "metadata": {},
   "outputs": [
    {
     "name": "stdout",
     "output_type": "stream",
     "text": [
      "Количество пользователей в обеих группах: 58\n"
     ]
    }
   ],
   "source": [
    "# найдем уникальные идентификаторы пользователей, которые встречаются в обеих группах\n",
    "users_in_both_groups = np.intersect1d(orders.query('group == \"A\"')['visitor_id'].unique(), \n",
    "                                      orders.query('group == \"B\"')['visitor_id'].unique())\n",
    "print('Количество пользователей в обеих группах: {}'.format(users_in_both_groups.shape[0]))\n",
    "\n",
    "# удалим из заказов этих пользователей\n",
    "orders = orders.query('visitor_id not in @users_in_both_groups')"
   ]
  },
  {
   "cell_type": "code",
   "execution_count": 12,
   "metadata": {},
   "outputs": [
    {
     "name": "stdout",
     "output_type": "stream",
     "text": [
      "Количество уникальных покупателей в обеих группах после преобразования: 973\n",
      "Сумма уникальных покупателей в обеих группах после преобразования: 973\n"
     ]
    }
   ],
   "source": [
    "print('Количество уникальных покупателей в обеих группах после преобразования: {}'.format(\n",
    "    orders['visitor_id'].nunique()))\n",
    "print('Сумма уникальных покупателей в обеих группах после преобразования: {}'.format(\n",
    "    orders.query('group == \"A\"')['visitor_id'].nunique() + \n",
    "    orders.query('group == \"B\"')['visitor_id'].nunique()))"
   ]
  },
  {
   "cell_type": "code",
   "execution_count": 13,
   "metadata": {},
   "outputs": [
    {
     "name": "stdout",
     "output_type": "stream",
     "text": [
      "Количество уникальных пользователей в группе A после преобразования: 445\n",
      "Количество уникальных пользователей в группе B после преобразования: 528\n",
      "Процент различий в количестве пользователей между группами: -15.72%\n"
     ]
    }
   ],
   "source": [
    "print('Количество уникальных пользователей в группе A после преобразования: {}'.format(\n",
    "    orders.query('group == \"A\"')['visitor_id'].nunique()))\n",
    "print('Количество уникальных пользователей в группе B после преобразования: {}'.format(\n",
    "    orders.query('group == \"B\"')['visitor_id'].nunique()))\n",
    "print('Процент различий в количестве пользователей между группами: {:.2%}'.format(\n",
    "    orders.query('group == \"A\"')['visitor_id'].nunique() / \n",
    "    orders.query('group == \"B\"')['visitor_id'].nunique() - 1))"
   ]
  },
  {
   "cell_type": "markdown",
   "metadata": {},
   "source": [
    "От пересечений в группах мы избавились, но в группе В всё ещё почти на 16% больше пользователей, это слишком заметная разница. В принципе, это могло оказаться и естественным путем даже тогда, когда общее количество пользователей было равно — не все покупали одинаково. Пока оставим это распределение так, как есть.\n",
    "\n",
    "Теперь соберем данные для анализа: нам нужны агрегированные данные по дате и группе эксперимента, а из них посчитаем накопленные данные."
   ]
  },
  {
   "cell_type": "code",
   "execution_count": 14,
   "metadata": {},
   "outputs": [
    {
     "data": {
      "text/html": [
       "<div>\n",
       "<style scoped>\n",
       "    .dataframe tbody tr th:only-of-type {\n",
       "        vertical-align: middle;\n",
       "    }\n",
       "\n",
       "    .dataframe tbody tr th {\n",
       "        vertical-align: top;\n",
       "    }\n",
       "\n",
       "    .dataframe thead th {\n",
       "        text-align: right;\n",
       "    }\n",
       "</style>\n",
       "<table border=\"1\" class=\"dataframe\">\n",
       "  <thead>\n",
       "    <tr style=\"text-align: right;\">\n",
       "      <th></th>\n",
       "      <th>group</th>\n",
       "      <th>orders</th>\n",
       "      <th>buyers</th>\n",
       "      <th>revenue</th>\n",
       "      <th>visitors</th>\n",
       "      <th>orders_cumul</th>\n",
       "      <th>buyers_cumul</th>\n",
       "      <th>revenue_cumul</th>\n",
       "      <th>visitors_cumul</th>\n",
       "      <th>conversion</th>\n",
       "    </tr>\n",
       "    <tr>\n",
       "      <th>date</th>\n",
       "      <th></th>\n",
       "      <th></th>\n",
       "      <th></th>\n",
       "      <th></th>\n",
       "      <th></th>\n",
       "      <th></th>\n",
       "      <th></th>\n",
       "      <th></th>\n",
       "      <th></th>\n",
       "      <th></th>\n",
       "    </tr>\n",
       "  </thead>\n",
       "  <tbody>\n",
       "    <tr>\n",
       "      <td>2019-08-01</td>\n",
       "      <td>A</td>\n",
       "      <td>23</td>\n",
       "      <td>19</td>\n",
       "      <td>142779</td>\n",
       "      <td>719</td>\n",
       "      <td>23</td>\n",
       "      <td>19</td>\n",
       "      <td>142779</td>\n",
       "      <td>719</td>\n",
       "      <td>0.031989</td>\n",
       "    </tr>\n",
       "    <tr>\n",
       "      <td>2019-08-01</td>\n",
       "      <td>B</td>\n",
       "      <td>17</td>\n",
       "      <td>17</td>\n",
       "      <td>59758</td>\n",
       "      <td>713</td>\n",
       "      <td>17</td>\n",
       "      <td>17</td>\n",
       "      <td>59758</td>\n",
       "      <td>713</td>\n",
       "      <td>0.023843</td>\n",
       "    </tr>\n",
       "    <tr>\n",
       "      <td>2019-08-02</td>\n",
       "      <td>A</td>\n",
       "      <td>19</td>\n",
       "      <td>18</td>\n",
       "      <td>91602</td>\n",
       "      <td>619</td>\n",
       "      <td>42</td>\n",
       "      <td>37</td>\n",
       "      <td>234381</td>\n",
       "      <td>1338</td>\n",
       "      <td>0.031390</td>\n",
       "    </tr>\n",
       "    <tr>\n",
       "      <td>2019-08-02</td>\n",
       "      <td>B</td>\n",
       "      <td>23</td>\n",
       "      <td>22</td>\n",
       "      <td>162043</td>\n",
       "      <td>581</td>\n",
       "      <td>40</td>\n",
       "      <td>39</td>\n",
       "      <td>221801</td>\n",
       "      <td>1294</td>\n",
       "      <td>0.030912</td>\n",
       "    </tr>\n",
       "    <tr>\n",
       "      <td>2019-08-03</td>\n",
       "      <td>A</td>\n",
       "      <td>24</td>\n",
       "      <td>24</td>\n",
       "      <td>112473</td>\n",
       "      <td>507</td>\n",
       "      <td>66</td>\n",
       "      <td>61</td>\n",
       "      <td>346854</td>\n",
       "      <td>1845</td>\n",
       "      <td>0.035772</td>\n",
       "    </tr>\n",
       "  </tbody>\n",
       "</table>\n",
       "</div>"
      ],
      "text/plain": [
       "           group  orders  buyers  revenue  visitors  orders_cumul  \\\n",
       "date                                                                \n",
       "2019-08-01     A      23      19   142779       719            23   \n",
       "2019-08-01     B      17      17    59758       713            17   \n",
       "2019-08-02     A      19      18    91602       619            42   \n",
       "2019-08-02     B      23      22   162043       581            40   \n",
       "2019-08-03     A      24      24   112473       507            66   \n",
       "\n",
       "            buyers_cumul  revenue_cumul  visitors_cumul  conversion  \n",
       "date                                                                 \n",
       "2019-08-01            19         142779             719    0.031989  \n",
       "2019-08-01            17          59758             713    0.023843  \n",
       "2019-08-02            37         234381            1338    0.031390  \n",
       "2019-08-02            39         221801            1294    0.030912  \n",
       "2019-08-03            61         346854            1845    0.035772  "
      ]
     },
     "execution_count": 14,
     "metadata": {},
     "output_type": "execute_result"
    }
   ],
   "source": [
    "# считаем данные о заказах по дате и группе\n",
    "grouped_data = (orders.groupby(['date', 'group']).agg(orders=('transaction_id', 'nunique'), \n",
    "                                                      buyers=('visitor_id', 'nunique'), \n",
    "                                                      revenue=('revenue', 'sum')))\n",
    "\n",
    "# присоединяем данные о посетителях\n",
    "grouped_data = grouped_data.join(visitors.groupby(['date', 'group'])['visitors'].sum(), how='inner')\n",
    "\n",
    "# подсчитаем накопленные данные по всем столбцам для каждой группы отдельно\n",
    "cumulative_data = grouped_data.query('group == \"A\"').cumsum().append(\n",
    "                  grouped_data.query('group == \"B\"').cumsum()).add_suffix('_cumul')\n",
    "\n",
    "# соединим две таблицы\n",
    "work_data = grouped_data.join(cumulative_data, how='inner').sort_index().reset_index(level='group')\n",
    "\n",
    "# расчет конверсии из накопленных данных\n",
    "work_data['conversion'] = work_data['orders_cumul'] / work_data['visitors_cumul']\n",
    "\n",
    "# выведем результат\n",
    "work_data.head(5)"
   ]
  },
  {
   "cell_type": "markdown",
   "metadata": {},
   "source": [
    "<a id='301'></a>\n",
    "### Кумулятивная выручка по группам"
   ]
  },
  {
   "cell_type": "markdown",
   "metadata": {},
   "source": [
    "Накопленные данные нам нужны, чтобы сгладить дневные колебания переменных и установить тенденции для обеих групп — так мы можем их сравнить между собой по итогам эксперимента.\n",
    "\n",
    "Отобразим на графике динамику выручки в каждой группе в течение месяца:"
   ]
  },
  {
   "cell_type": "code",
   "execution_count": 15,
   "metadata": {},
   "outputs": [
    {
     "data": {
      "image/png": "[encoded data removed]",
      "text/plain": [
       "<Figure size 1080x648 with 1 Axes>"
      ]
     },
     "metadata": {
      "needs_background": "dark"
     },
     "output_type": "display_data"
    }
   ],
   "source": [
    "# строим график по группам\n",
    "sns.lineplot(data=work_data, \n",
    "             x=work_data.index, # индекс с датами на ось X\n",
    "             y='revenue_cumul', \n",
    "             hue='group', \n",
    "             palette='coolwarm'\n",
    "            ).set(xlabel='Дни', \n",
    "                  ylabel='Кумулятивная выручка', \n",
    "                  title='График кумулятивной выручки по группам')\n",
    "plt.legend(loc=2).texts[0].set_text('Группа') # заголовок и положение для легенды\n",
    "sns.despine(trim=True, offset=5); # настройка отображения осей"
   ]
  },
  {
   "cell_type": "code",
   "execution_count": 16,
   "metadata": {},
   "outputs": [
    {
     "data": {
      "text/html": [
       "<div>\n",
       "<style scoped>\n",
       "    .dataframe tbody tr th:only-of-type {\n",
       "        vertical-align: middle;\n",
       "    }\n",
       "\n",
       "    .dataframe tbody tr th {\n",
       "        vertical-align: top;\n",
       "    }\n",
       "\n",
       "    .dataframe thead th {\n",
       "        text-align: right;\n",
       "    }\n",
       "</style>\n",
       "<table border=\"1\" class=\"dataframe\">\n",
       "  <thead>\n",
       "    <tr style=\"text-align: right;\">\n",
       "      <th></th>\n",
       "      <th>group</th>\n",
       "      <th>orders</th>\n",
       "      <th>buyers</th>\n",
       "      <th>revenue</th>\n",
       "      <th>visitors</th>\n",
       "      <th>orders_cumul</th>\n",
       "      <th>buyers_cumul</th>\n",
       "      <th>revenue_cumul</th>\n",
       "      <th>visitors_cumul</th>\n",
       "      <th>conversion</th>\n",
       "    </tr>\n",
       "    <tr>\n",
       "      <th>date</th>\n",
       "      <th></th>\n",
       "      <th></th>\n",
       "      <th></th>\n",
       "      <th></th>\n",
       "      <th></th>\n",
       "      <th></th>\n",
       "      <th></th>\n",
       "      <th></th>\n",
       "      <th></th>\n",
       "      <th></th>\n",
       "    </tr>\n",
       "  </thead>\n",
       "  <tbody>\n",
       "    <tr>\n",
       "      <td>2019-08-18</td>\n",
       "      <td>A</td>\n",
       "      <td>13</td>\n",
       "      <td>13</td>\n",
       "      <td>59581</td>\n",
       "      <td>668</td>\n",
       "      <td>278</td>\n",
       "      <td>269</td>\n",
       "      <td>1876741</td>\n",
       "      <td>11127</td>\n",
       "      <td>0.024984</td>\n",
       "    </tr>\n",
       "    <tr>\n",
       "      <td>2019-08-18</td>\n",
       "      <td>B</td>\n",
       "      <td>7</td>\n",
       "      <td>7</td>\n",
       "      <td>35323</td>\n",
       "      <td>737</td>\n",
       "      <td>327</td>\n",
       "      <td>324</td>\n",
       "      <td>2190865</td>\n",
       "      <td>11171</td>\n",
       "      <td>0.029272</td>\n",
       "    </tr>\n",
       "    <tr>\n",
       "      <td>2019-08-19</td>\n",
       "      <td>A</td>\n",
       "      <td>21</td>\n",
       "      <td>21</td>\n",
       "      <td>168193</td>\n",
       "      <td>502</td>\n",
       "      <td>299</td>\n",
       "      <td>290</td>\n",
       "      <td>2044934</td>\n",
       "      <td>11629</td>\n",
       "      <td>0.025712</td>\n",
       "    </tr>\n",
       "    <tr>\n",
       "      <td>2019-08-19</td>\n",
       "      <td>B</td>\n",
       "      <td>21</td>\n",
       "      <td>20</td>\n",
       "      <td>1429920</td>\n",
       "      <td>487</td>\n",
       "      <td>348</td>\n",
       "      <td>344</td>\n",
       "      <td>3620785</td>\n",
       "      <td>11658</td>\n",
       "      <td>0.029851</td>\n",
       "    </tr>\n",
       "    <tr>\n",
       "      <td>2019-08-20</td>\n",
       "      <td>A</td>\n",
       "      <td>10</td>\n",
       "      <td>10</td>\n",
       "      <td>58679</td>\n",
       "      <td>575</td>\n",
       "      <td>309</td>\n",
       "      <td>300</td>\n",
       "      <td>2103613</td>\n",
       "      <td>12204</td>\n",
       "      <td>0.025320</td>\n",
       "    </tr>\n",
       "    <tr>\n",
       "      <td>2019-08-20</td>\n",
       "      <td>B</td>\n",
       "      <td>20</td>\n",
       "      <td>20</td>\n",
       "      <td>147274</td>\n",
       "      <td>560</td>\n",
       "      <td>368</td>\n",
       "      <td>364</td>\n",
       "      <td>3768059</td>\n",
       "      <td>12218</td>\n",
       "      <td>0.030119</td>\n",
       "    </tr>\n",
       "  </tbody>\n",
       "</table>\n",
       "</div>"
      ],
      "text/plain": [
       "           group  orders  buyers  revenue  visitors  orders_cumul  \\\n",
       "date                                                                \n",
       "2019-08-18     A      13      13    59581       668           278   \n",
       "2019-08-18     B       7       7    35323       737           327   \n",
       "2019-08-19     A      21      21   168193       502           299   \n",
       "2019-08-19     B      21      20  1429920       487           348   \n",
       "2019-08-20     A      10      10    58679       575           309   \n",
       "2019-08-20     B      20      20   147274       560           368   \n",
       "\n",
       "            buyers_cumul  revenue_cumul  visitors_cumul  conversion  \n",
       "date                                                                 \n",
       "2019-08-18           269        1876741           11127    0.024984  \n",
       "2019-08-18           324        2190865           11171    0.029272  \n",
       "2019-08-19           290        2044934           11629    0.025712  \n",
       "2019-08-19           344        3620785           11658    0.029851  \n",
       "2019-08-20           300        2103613           12204    0.025320  \n",
       "2019-08-20           364        3768059           12218    0.030119  "
      ]
     },
     "execution_count": 16,
     "metadata": {},
     "output_type": "execute_result"
    }
   ],
   "source": [
    "work_data.query('date == [\"2019-08-18\", \"2019-08-19\", \"2019-08-20\"]')"
   ]
  },
  {
   "cell_type": "code",
   "execution_count": 17,
   "metadata": {
    "scrolled": false
   },
   "outputs": [
    {
     "data": {
      "text/plain": [
       "min            50.0\n",
       "median       2578.0\n",
       "max       1294500.0\n",
       "Name: revenue, dtype: float64"
      ]
     },
     "execution_count": 17,
     "metadata": {},
     "output_type": "execute_result"
    }
   ],
   "source": [
    "orders.query('date == \"2019-08-19\"')['revenue'].agg(['min', 'median', 'max'])"
   ]
  },
  {
   "cell_type": "markdown",
   "metadata": {},
   "source": [
    "Выручка группы В практически сразу начала превышать выручку группы А; 19 августа накопленная выручка В резко выросла и отрыв с группой А увеличился ещё больше — к концу наблюдаемого периода группа В превышает группу А почти в 1,5 раза. Последние 10 дней обе группы стабилизировались.\n",
    "\n",
    "Посколько группа В на протяжении всего месяца была стабильно выше группы А, у нас есть основания думать, что изменения на сайте приводят к росту выручки — позже проверим статистическую значимость этих различий. В то же время, резкий рост выручки в группе В 19 августа обеспечен одним заказом на сумму 1 294 500, это аномальное значение, поэтому мы не можем признать, что такая же разница в выручке будет сохраняться в других условиях."
   ]
  },
  {
   "cell_type": "markdown",
   "metadata": {},
   "source": [
    "<a id='302'></a>\n",
    "### Кумулятивный средний чек по группам"
   ]
  },
  {
   "cell_type": "markdown",
   "metadata": {},
   "source": [
    "Посчитаем накопленный средний чек как отношение накопленной выручки к накопленному числу заказов. Изобразим показатель каждой группы на графике:"
   ]
  },
  {
   "cell_type": "code",
   "execution_count": 18,
   "metadata": {},
   "outputs": [
    {
     "data": {
      "image/png": "[encoded data removed]",
      "text/plain": [
       "<Figure size 1080x648 with 1 Axes>"
      ]
     },
     "metadata": {
      "needs_background": "dark"
     },
     "output_type": "display_data"
    }
   ],
   "source": [
    "sns.lineplot(data=work_data, \n",
    "             x=work_data.index, \n",
    "             y=(work_data['revenue_cumul'] / work_data['orders_cumul']), \n",
    "             hue='group', \n",
    "             palette='coolwarm'\n",
    "            ).set(xlabel='Дни', \n",
    "                  ylabel='Кумулятивный средний чек', \n",
    "                  title='График кумулятивного среднего чека по группам')\n",
    "plt.legend(loc=2).texts[0].set_text('Группа')\n",
    "sns.despine(trim=True, offset=5);"
   ]
  },
  {
   "cell_type": "markdown",
   "metadata": {},
   "source": [
    "Здесь мы наблюдаем более разнообразную динамику для обеих групп — в некоторые дни средний чек группы А превышает показатели группы В. Резкие всплески или падения могут быть связаны с аномальным числом заказов или отдельными очень дорогими заказами — это мы снова видим 19 августа. В последние 10 дней динамика начинает стабилизироваться.\n",
    "\n",
    "Посмотрим также на относительную динамику кумулятивного среднего чека — как росла или падала группа В относительно группы А:"
   ]
  },
  {
   "cell_type": "code",
   "execution_count": 19,
   "metadata": {},
   "outputs": [
    {
     "data": {
      "image/png": "[encoded data removed]",
      "text/plain": [
       "<Figure size 1080x648 with 1 Axes>"
      ]
     },
     "metadata": {
      "needs_background": "dark"
     },
     "output_type": "display_data"
    }
   ],
   "source": [
    "relative_aov = (\n",
    "    (work_data.query('group == \"B\"')['revenue_cumul'] / work_data.query('group == \"B\"')['orders_cumul']) / \n",
    "    (work_data.query('group == \"A\"')['revenue_cumul'] / work_data.query('group == \"A\"')['orders_cumul']) - 1)\n",
    "\n",
    "sns.lineplot(data=work_data, \n",
    "             x=work_data.index, \n",
    "             y=relative_aov, \n",
    "             hue='group', \n",
    "             palette='coolwarm'\n",
    "            ).set(xlabel='Дни', \n",
    "                  ylabel='Относительный кумулятивный средний чек', \n",
    "                  title='График относительного изменения кумулятивного среднего чека группы B к группе A')\n",
    "plt.legend(loc=2).texts[0].set_text('Группа')\n",
    "plt.axhline(y=0, color='grey', linestyle='--')\n",
    "sns.despine(trim=True, offset=5);"
   ]
  },
  {
   "cell_type": "markdown",
   "metadata": {},
   "source": [
    "Нулевая линия обозначает для нас уровень совпадения среднего чека В с А. Мы видим схожую динамику с предыдущим графиком — в большинстве случаев средний чек группы В превышает А, однако это разница нестабильна и в некоторые дни проваливается ниже нуля. К концу наблюдаемого периода есть тенденция к снижению стоимости среднего чека. \n",
    "\n",
    "Такие результаты пока плохо могут описать тенденцию к различиям между группами — возможно, стоит собрать ещё данных. В любом случае попробуем отфильтровать аномальные значения, а ещё нам нужно оценить статистическую значимость различий."
   ]
  },
  {
   "cell_type": "markdown",
   "metadata": {},
   "source": [
    "<a id='303'></a>\n",
    "### Кумулятивная конверсия по группам"
   ]
  },
  {
   "cell_type": "markdown",
   "metadata": {},
   "source": [
    "Ранее мы рассчитали конверсию как отношение накопленного количества заказов к накопленному количеству пользователей. Оценим различия между группами на графике:"
   ]
  },
  {
   "cell_type": "code",
   "execution_count": 20,
   "metadata": {},
   "outputs": [
    {
     "data": {
      "image/png": "[encoded data removed]",
      "text/plain": [
       "<Figure size 1080x648 with 1 Axes>"
      ]
     },
     "metadata": {
      "needs_background": "dark"
     },
     "output_type": "display_data"
    }
   ],
   "source": [
    "sns.lineplot(data=work_data, \n",
    "             x=work_data.index, \n",
    "             y='conversion', \n",
    "             hue='group', \n",
    "             palette='coolwarm'\n",
    "            ).set(ylim=(0.018, 0.038), # масштаб оси Y\n",
    "                  xlabel='Дни', \n",
    "                  ylabel='Кумулятивная конверсия', \n",
    "                  title='График кумулятивной конверсии по группам')\n",
    "plt.legend(loc=2).texts[0].set_text('Группа')\n",
    "sns.despine(trim=True, offset=5);"
   ]
  },
  {
   "cell_type": "markdown",
   "metadata": {},
   "source": [
    "В начале периода заметны колебания показателей обеих групп, но после 10 августа они стабилизируются — конверсия у группы В стабильно выше, чем у А. Для подтверждения также проверим статистическую значимость различий.\n",
    "\n",
    "Посмотрим конверсию группы В относительно А:"
   ]
  },
  {
   "cell_type": "code",
   "execution_count": 21,
   "metadata": {},
   "outputs": [
    {
     "data": {
      "image/png": "[encoded data removed]",
      "text/plain": [
       "<Figure size 1080x648 with 1 Axes>"
      ]
     },
     "metadata": {
      "needs_background": "dark"
     },
     "output_type": "display_data"
    }
   ],
   "source": [
    "relative_conversion = (work_data.query('group == \"B\"')['conversion'] / \n",
    "                       work_data.query('group == \"A\"')['conversion'] - 1)\n",
    "\n",
    "sns.lineplot(data=work_data, \n",
    "             x=work_data.index, \n",
    "             y=relative_conversion, \n",
    "             hue='group', \n",
    "             palette='coolwarm'\n",
    "            ).set(ylim=(-0.3, 0.4), \n",
    "                  xlabel='Дни', \n",
    "                  ylabel='Относительная кумулятивная конверсия', \n",
    "                  title='График относительного изменения кумулятивной конверсии группы B к группе A')\n",
    "plt.legend(loc=2).texts[0].set_text('Группа')\n",
    "plt.axhline(y=0, color='grey', linestyle='--')\n",
    "plt.axhline(y=relative_conversion.median(), color='lightgrey', linestyle='--')\n",
    "sns.despine(trim=True, offset=5);"
   ]
  },
  {
   "cell_type": "markdown",
   "metadata": {},
   "source": [
    "Также до 10 августа наблюдаются колебания в конверсии, а после группа В стабильно превышает группу А с разбросом от +1% до +2% — нестабилизированный показатель также может быть обусловлен аномалиями в данных. Стоит очистить данные от выбросов и оценить разницу в статистической значимости между «сырыми» и «очищенными» данными. "
   ]
  },
  {
   "cell_type": "markdown",
   "metadata": {},
   "source": [
    "<a id='304'></a>\n",
    "### Граница для определения аномальных пользователей"
   ]
  },
  {
   "cell_type": "markdown",
   "metadata": {},
   "source": [
    "На графиках мы замечали резкие всплески и падения в накопленных показателях. Это может говорить о наличии выбросов — в данном случае, о пользователях, которые сделали заметно больше заказов, чем остальные, или о заказах, которые стоили заметно дороже остальных. Диаграмма рассеяния позволит оценить, с какого уровня данные можно считать экстремальными."
   ]
  },
  {
   "cell_type": "code",
   "execution_count": 22,
   "metadata": {},
   "outputs": [
    {
     "data": {
      "text/plain": [
       "0.90    1.0\n",
       "0.95    1.0\n",
       "0.99    2.0\n",
       "Name: orders, dtype: float64"
      ]
     },
     "execution_count": 22,
     "metadata": {},
     "output_type": "execute_result"
    },
    {
     "data": {
      "image/png": "[encoded data removed]",
      "text/plain": [
       "<Figure size 1080x648 with 1 Axes>"
      ]
     },
     "metadata": {
      "needs_background": "dark"
     },
     "output_type": "display_data"
    }
   ],
   "source": [
    "# подсчитаем количество заказов для каждого пользователя\n",
    "orders_by_user = orders.groupby(['visitor_id', 'group']).agg(orders=('transaction_id', 'nunique')).reset_index()\n",
    "\n",
    "# построим точечную диаграмму распределения количестве заказов\n",
    "sns.scatterplot(data=orders_by_user['orders'])\\\n",
    ".set(xlabel='Количество пользователей', ylabel='Заказы', \n",
    "     title='Диаграмма рассеяния количества заказов по пользователям')\n",
    "sns.despine(trim=True, offset=5)\n",
    "\n",
    "# выведем значения квантилей\n",
    "orders_by_user['orders'].quantile([.90, .95, .99])"
   ]
  },
  {
   "cell_type": "markdown",
   "metadata": {},
   "source": [
    "Основное количество пользователей сделали по одному заказу, не более 1% — 2 заказа, а наибольшее количество — 3. Последних однозначно можно отсеять, мы потеряем меньше процента пользователей."
   ]
  },
  {
   "cell_type": "code",
   "execution_count": 23,
   "metadata": {},
   "outputs": [
    {
     "data": {
      "text/plain": [
       "0.90    17990.0\n",
       "0.95    26785.0\n",
       "0.99    53904.0\n",
       "Name: revenue, dtype: float64"
      ]
     },
     "execution_count": 23,
     "metadata": {},
     "output_type": "execute_result"
    },
    {
     "data": {
      "image/png": "[encoded data removed]",
      "text/plain": [
       "<Figure size 1080x648 with 1 Axes>"
      ]
     },
     "metadata": {
      "needs_background": "dark"
     },
     "output_type": "display_data"
    }
   ],
   "source": [
    "sns.scatterplot(data=orders['revenue'])\\\n",
    ".set(xlabel='Заказы', ylabel='Стоимость заказа', \n",
    "     title='Диаграмма рассеяния количества заказов по пользователям')\n",
    "sns.despine(trim=True, offset=5)\n",
    "\n",
    "orders['revenue'].quantile([.90, .95, .99])"
   ]
  },
  {
   "cell_type": "markdown",
   "metadata": {},
   "source": [
    "Здесь заметен тот самый сверхдорогой заказ на 1,2 млн. за 19 августа. В данном случае есть смысл отфильтровать данные по 95-му процентилю, тогда мы потеряем не более 5% данных."
   ]
  },
  {
   "cell_type": "markdown",
   "metadata": {},
   "source": [
    "<a id='305'></a>\n",
    "### Проверка статистической значимости различий между группами по «сырым» данным"
   ]
  },
  {
   "cell_type": "markdown",
   "metadata": {},
   "source": [
    "Оценим статистическую значимость различий, которые были обнаружены на графиках — насколько мы им можем доверять. Попробуем сначала на исходных данных, а после сравним их с данными без выбросов. Если судить по диаграммам рассеяния выше, то данные не распределены нормально — поэтому выберем для проверки непараметрический критерий Манна-Уитни.\n",
    "\n",
    "Сформируем выборки для статистического теста, где каждый элемент — число заказов определенного пользователя. Добавим к ним остальных пользователей, которые не сделали заказы, у них будет нулевое количество заказов. Таким образом, количество элементов в каждой выборке будет соответствовать количеству пользователей в каждой группе.\n",
    "Для обеих выборок рассчитаем статистическую значимость различий по критерию Манна-Уитни и относительные изменения конверсии группы B к группе A. Так как конверсия — это отношение количества заказов к количеству пользователей, то для ее расчета будет достаточно взять среднее по выборке."
   ]
  },
  {
   "cell_type": "code",
   "execution_count": 24,
   "metadata": {},
   "outputs": [
    {
     "name": "stdout",
     "output_type": "stream",
     "text": [
      "Уровень значимости U-критерия Манна-Уитни: 0.00551\n",
      "Можем отвергнуть нулевую гипотезу об отсутствии различий между группами.\n",
      "\n",
      "Различие в конверсии между группами по «сырым» данным: 15.98%\n"
     ]
    }
   ],
   "source": [
    "# сформируем выборки по группам\n",
    "sample_a = orders_by_user.query('group == \"A\"')['orders'].append(\n",
    "    pd.Series(0, index=np.arange(work_data.query('group == \"A\"')['visitors'].sum() - \n",
    "                                 len(orders_by_user.query('group == \"A\"')['orders']))))\n",
    "\n",
    "sample_b = orders_by_user.query('group == \"B\"')['orders'].append(\n",
    "    pd.Series(0, index=np.arange(work_data.query('group == \"B\"')['visitors'].sum() - \n",
    "                                 len(orders_by_user.query('group == \"B\"')['orders']))))\n",
    "\n",
    "\n",
    "# проведем тест Манна-Уитни\n",
    "alpha = .05 # пороговый уровень значимости\n",
    "p_value = st.mannwhitneyu(sample_a, sample_b)[1] # тестовый уровень значимости — под индексом 1\n",
    "print('Уровень значимости U-критерия Манна-Уитни: {:.5f}'.format(p_value))\n",
    "\n",
    "if p_value < alpha:\n",
    "    print('Можем отвергнуть нулевую гипотезу об отсутствии различий между группами.')\n",
    "    print()\n",
    "else:\n",
    "    print('Не получилось отвергнуть нулевую гипотезу об отсутствии различий между группами.')\n",
    "    print()\n",
    "\n",
    "print('Различие в конверсии между группами по «сырым» данным: {:.2%}'.format(\n",
    "    sample_b.mean() / sample_a.mean() - 1))"
   ]
  },
  {
   "cell_type": "markdown",
   "metadata": {},
   "source": [
    "Уровень значимости меньше порогового уровня в 0,05, значит мы отвергаем нулевую гипотезу об отсутствии различий в конверсии и можем признать эти различия статистически значимыми: в группе В конверсия повысилась на 16%."
   ]
  },
  {
   "cell_type": "code",
   "execution_count": 25,
   "metadata": {},
   "outputs": [
    {
     "name": "stdout",
     "output_type": "stream",
     "text": [
      "Уровень значимости U-критерия Манна-Уитни: 0.41475\n",
      "Не получилось отвергнуть нулевую гипотезу об отсутствии различий между группами.\n",
      "\n",
      "Различие в среднем чеке между группами по «сырым» данным: 28.66%\n"
     ]
    }
   ],
   "source": [
    "alpha = .05\n",
    "p_value = st.mannwhitneyu(orders.query('group == \"A\"')['revenue'], orders.query('group == \"B\"')['revenue'])[1]\n",
    "print('Уровень значимости U-критерия Манна-Уитни: {:.5f}'.format(p_value))\n",
    "\n",
    "if p_value < alpha:\n",
    "    print('Можем отвергнуть нулевую гипотезу об отсутствии различий между группами.')\n",
    "    print()\n",
    "else:\n",
    "    print('Не получилось отвергнуть нулевую гипотезу об отсутствии различий между группами.')\n",
    "    print()\n",
    "\n",
    "print('Различие в среднем чеке между группами по «сырым» данным: {:.2%}'.format(\n",
    "    orders.query('group == \"B\"')['revenue'].mean() / orders.query('group == \"A\"')['revenue'].mean() - 1))"
   ]
  },
  {
   "cell_type": "markdown",
   "metadata": {},
   "source": [
    "Уровень значимости больше порогового уровня в 0,05, значит мы не можем отвергнуть нулевую гипотезу об отсутствии различий в среднем чеке — судить об этих различиях по существующим данным нельзя."
   ]
  },
  {
   "cell_type": "markdown",
   "metadata": {},
   "source": [
    "<a id='306'></a>\n",
    "### Проверка статистической значимости различий между группами по «очищенным» данным"
   ]
  },
  {
   "cell_type": "markdown",
   "metadata": {},
   "source": [
    "Повторим оценку различий конверсии и среднего чека по «очищенным» данным — это позволит судить о типичном поведении пользователей. Если результаты тестов подтвердятся, то мы в итоге признаем значимой разницу именно с этих данных. \n",
    "\n",
    "Сформируем для начала отдельный список пользователей с выбросами:"
   ]
  },
  {
   "cell_type": "code",
   "execution_count": 26,
   "metadata": {},
   "outputs": [],
   "source": [
    "# таблица с 1% наиболее активных покупателей\n",
    "orders_number_outliers = pd.concat(\n",
    "    [orders_by_user.query('group == \"A\" and orders > @orders_by_user.orders.quantile(.99)')['visitor_id'], \n",
    "     orders_by_user.query('group == \"B\" and orders > @orders_by_user.orders.quantile(.99)')['visitor_id']])\n",
    "\n",
    "# таблица с 5% наиболее дорогих заказов\n",
    "orders_cost_outliers = orders[orders['revenue'] > orders['revenue'].quantile(.95)]['visitor_id']\n",
    "\n",
    "# сбор аномальных пользователей\n",
    "abnormal_users = pd.concat([orders_number_outliers, orders_cost_outliers]).drop_duplicates().sort_values()"
   ]
  },
  {
   "cell_type": "markdown",
   "metadata": {},
   "source": [
    "Построим выборки для конверсий, не включая сюда пользователей с выбросами, и повторим процедуру выше:"
   ]
  },
  {
   "cell_type": "code",
   "execution_count": 27,
   "metadata": {},
   "outputs": [
    {
     "name": "stdout",
     "output_type": "stream",
     "text": [
      "Уровень значимости U-критерия Манна-Уитни: 0.00618\n",
      "Можем отвергнуть нулевую гипотезу об отсутствии различий между группами.\n",
      "\n",
      "Различия в конверсии между группами по «очищенным» данным: 18.19%\n"
     ]
    }
   ],
   "source": [
    "# сформируем выборки по группам из отфильтрованных данных\n",
    "sample_a_filtered = pd.concat(\n",
    "    [orders_by_user.query('group == \"A\" and visitor_id not in @abnormal_users')['orders'], \n",
    "     pd.Series(0, index=np.arange(work_data.query('group == \"A\"')['visitors'].sum() - \n",
    "                                  len(orders_by_user.query('group == \"A\"')['orders'])))])\n",
    "\n",
    "sample_b_filtered = pd.concat(\n",
    "    [orders_by_user.query('group == \"B\" and visitor_id not in @abnormal_users')['orders'], \n",
    "     pd.Series(0, index=np.arange(work_data.query('group == \"B\"')['visitors'].sum() - \n",
    "                                  len(orders_by_user.query('group == \"B\"')['orders'])))])\n",
    "\n",
    "\n",
    "# проведем тест Манна-Уитни\n",
    "alpha = .05\n",
    "p_value = st.mannwhitneyu(sample_a_filtered, sample_b_filtered)[1]\n",
    "print('Уровень значимости U-критерия Манна-Уитни: {:.5f}'.format(p_value))\n",
    "\n",
    "if p_value < alpha:\n",
    "    print('Можем отвергнуть нулевую гипотезу об отсутствии различий между группами.')\n",
    "    print()\n",
    "else:\n",
    "    print('Не получилось отвергнуть нулевую гипотезу об отсутствии различий между группами.')\n",
    "    print()\n",
    "\n",
    "print('Различия в конверсии между группами по «очищенным» данным: {:.2%}'\n",
    "      .format(sample_b_filtered.mean() / sample_a_filtered.mean() - 1))"
   ]
  },
  {
   "cell_type": "markdown",
   "metadata": {},
   "source": [
    "Уровень значимости меньше порогового уровня в 0,05, значит мы отвергаем нулевую гипотезу об отсутствии различий в конверсии и можем признать эти различия статистически значимыми. По данным без аномалий в группе В конверсия повысилась на 18,2%."
   ]
  },
  {
   "cell_type": "code",
   "execution_count": 28,
   "metadata": {
    "scrolled": false
   },
   "outputs": [
    {
     "name": "stdout",
     "output_type": "stream",
     "text": [
      "Уровень значимости U-критерия Манна-Уитни: 0.32295\n",
      "Не получилось отвергнуть нулевую гипотезу об отсутствии различий между группами.\n",
      "\n",
      "Различия в среднем чеке между группами по «очищенным» данным: -4.85%\n"
     ]
    }
   ],
   "source": [
    "alpha = .05\n",
    "p_value = st.mannwhitneyu(orders.query('group == \"A\" and visitor_id not in @abnormal_users')['revenue'], \n",
    "                          orders.query('group == \"B\" and visitor_id not in @abnormal_users')['revenue'])[1]\n",
    "print('Уровень значимости U-критерия Манна-Уитни: {:.5f}'.format(p_value))\n",
    "\n",
    "if p_value < alpha:\n",
    "    print('Можем отвергнуть нулевую гипотезу об отсутствии различий между группами.')\n",
    "    print()\n",
    "else:\n",
    "    print('Не получилось отвергнуть нулевую гипотезу об отсутствии различий между группами.')\n",
    "    print()\n",
    "\n",
    "print('Различия в среднем чеке между группами по «очищенным» данным: {:.2%}'\n",
    "      .format(orders.query('group == \"B\" and visitor_id not in @abnormal_users')['revenue'].mean() / \n",
    "              orders.query('group == \"A\" and visitor_id not in @abnormal_users')['revenue'].mean() - 1))"
   ]
  },
  {
   "cell_type": "markdown",
   "metadata": {},
   "source": [
    "Уровень значимости больше порогового уровня в 0,05, значит мы не можем отвергнуть нулевую гипотезу об отсутствии различий в среднем чеке — с высокой долей вероятности эти различия получены случайно."
   ]
  },
  {
   "cell_type": "markdown",
   "metadata": {},
   "source": [
    "<a id='307'></a>\n",
    "### Выводы из анализа A/B-теста\n",
    "\n",
    "По итогам теста были получены данные за месяц об активности, количестве заказов и выручке с пользователей, разделенных на две группы. Обнаружили, что тест прошел не идеально — 58 пользователей оказались в обеих группах, и данные о них пришлось удалить из анализа, и даже после этого в группах оказалось неодинаковое количество покупателей. Важно предотвратить эти проблемы в будущих тестах. Также в данных были аномалии — несколько очень крупных заказов и пользователи, которые заказывали чаще остальных. Эти данные мы отфильровали, чтобы можно было судить о типичном поведении пользователей.\n",
    "   \n",
    "Исходя из обнаруженных фактов, мы можем заключить следующее:\n",
    "1. Есть статистически значимые различия в **конверсии** — на новой версии сайта она выросла на **18,2%** (по отфильтрованным от аномалий данным). Динамика кумулятивной конверсии показывает, что показатели в обеих группах стабилизировались — следовательно, существующих данных достаточно, чтобы сделать вывод о результатах эксперимента.\n",
    "2. Статистически значимых различий в **среднем чеке** не обнаружено, полученная разница с высокой вероятностью была получена случайно — поэтому на данный момент никаких выводов здесь сделать нельзя. Похоже, что изучаемые нами в ходе A/B-теста изменения на сайте не влияют на средний чек.\n",
    "\n",
    "Таким образом, мы можем остановить тест и признать, что изменения на сайте обеспечивают существенный рост конверсии пользователей в покупателей."
   ]
  }
 ],
 "metadata": {
  "kernelspec": {
   "display_name": "Python 3",
   "language": "python",
   "name": "python3"
  },
  "language_info": {
   "codemirror_mode": {
    "name": "ipython",
    "version": 3
   },
   "file_extension": ".py",
   "mimetype": "text/x-python",
   "name": "python",
   "nbconvert_exporter": "python",
   "pygments_lexer": "ipython3",
   "version": "3.7.6"
  },
  "toc": {
   "base_numbering": 1,
   "nav_menu": {},
   "number_sections": false,
   "sideBar": true,
   "skip_h1_title": false,
   "title_cell": "Table of Contents",
   "title_sidebar": "Contents",
   "toc_cell": false,
   "toc_position": {
    "height": "calc(100% - 180px)",
    "left": "10px",
    "top": "150px",
    "width": "288px"
   },
   "toc_section_display": true,
   "toc_window_display": true
  }
 },
 "nbformat": 4,
 "nbformat_minor": 2
}
